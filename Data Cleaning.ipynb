{
 "cells": [
  {
   "cell_type": "code",
   "execution_count": 138,
   "id": "96a3aff5",
   "metadata": {},
   "outputs": [],
   "source": [
    "import pandas as pd\n",
    "import numpy as np\n",
    "import plotly.express as px\n",
    "import json"
   ]
  },
  {
   "cell_type": "code",
   "execution_count": 139,
   "id": "e064527e",
   "metadata": {},
   "outputs": [
    {
     "name": "stdout",
     "output_type": "stream",
     "text": [
      "(1460, 81)\n"
     ]
    },
    {
     "data": {
      "text/html": [
       "<div>\n",
       "<style scoped>\n",
       "    .dataframe tbody tr th:only-of-type {\n",
       "        vertical-align: middle;\n",
       "    }\n",
       "\n",
       "    .dataframe tbody tr th {\n",
       "        vertical-align: top;\n",
       "    }\n",
       "\n",
       "    .dataframe thead th {\n",
       "        text-align: right;\n",
       "    }\n",
       "</style>\n",
       "<table border=\"1\" class=\"dataframe\">\n",
       "  <thead>\n",
       "    <tr style=\"text-align: right;\">\n",
       "      <th></th>\n",
       "      <th>Id</th>\n",
       "      <th>MSSubClass</th>\n",
       "      <th>MSZoning</th>\n",
       "      <th>LotFrontage</th>\n",
       "      <th>LotArea</th>\n",
       "      <th>Street</th>\n",
       "      <th>Alley</th>\n",
       "      <th>LotShape</th>\n",
       "      <th>LandContour</th>\n",
       "      <th>Utilities</th>\n",
       "      <th>...</th>\n",
       "      <th>PoolArea</th>\n",
       "      <th>PoolQC</th>\n",
       "      <th>Fence</th>\n",
       "      <th>MiscFeature</th>\n",
       "      <th>MiscVal</th>\n",
       "      <th>MoSold</th>\n",
       "      <th>YrSold</th>\n",
       "      <th>SaleType</th>\n",
       "      <th>SaleCondition</th>\n",
       "      <th>SalePrice</th>\n",
       "    </tr>\n",
       "  </thead>\n",
       "  <tbody>\n",
       "    <tr>\n",
       "      <th>0</th>\n",
       "      <td>1</td>\n",
       "      <td>2-STORY 1946 &amp; NEWER</td>\n",
       "      <td>RL</td>\n",
       "      <td>65.0</td>\n",
       "      <td>8450</td>\n",
       "      <td>Pave</td>\n",
       "      <td>Missing</td>\n",
       "      <td>Reg</td>\n",
       "      <td>Lvl</td>\n",
       "      <td>AllPub</td>\n",
       "      <td>...</td>\n",
       "      <td>0</td>\n",
       "      <td>Missing</td>\n",
       "      <td>Missing</td>\n",
       "      <td>Missing</td>\n",
       "      <td>0</td>\n",
       "      <td>2</td>\n",
       "      <td>2008</td>\n",
       "      <td>WD</td>\n",
       "      <td>Normal</td>\n",
       "      <td>208500</td>\n",
       "    </tr>\n",
       "    <tr>\n",
       "      <th>1</th>\n",
       "      <td>2</td>\n",
       "      <td>1-STORY 1946 &amp; NEWER ALL STYLES</td>\n",
       "      <td>RL</td>\n",
       "      <td>80.0</td>\n",
       "      <td>9600</td>\n",
       "      <td>Pave</td>\n",
       "      <td>Missing</td>\n",
       "      <td>Reg</td>\n",
       "      <td>Lvl</td>\n",
       "      <td>AllPub</td>\n",
       "      <td>...</td>\n",
       "      <td>0</td>\n",
       "      <td>Missing</td>\n",
       "      <td>Missing</td>\n",
       "      <td>Missing</td>\n",
       "      <td>0</td>\n",
       "      <td>5</td>\n",
       "      <td>2007</td>\n",
       "      <td>WD</td>\n",
       "      <td>Normal</td>\n",
       "      <td>181500</td>\n",
       "    </tr>\n",
       "    <tr>\n",
       "      <th>2</th>\n",
       "      <td>3</td>\n",
       "      <td>2-STORY 1946 &amp; NEWER</td>\n",
       "      <td>RL</td>\n",
       "      <td>68.0</td>\n",
       "      <td>11250</td>\n",
       "      <td>Pave</td>\n",
       "      <td>Missing</td>\n",
       "      <td>IR1</td>\n",
       "      <td>Lvl</td>\n",
       "      <td>AllPub</td>\n",
       "      <td>...</td>\n",
       "      <td>0</td>\n",
       "      <td>Missing</td>\n",
       "      <td>Missing</td>\n",
       "      <td>Missing</td>\n",
       "      <td>0</td>\n",
       "      <td>9</td>\n",
       "      <td>2008</td>\n",
       "      <td>WD</td>\n",
       "      <td>Normal</td>\n",
       "      <td>223500</td>\n",
       "    </tr>\n",
       "    <tr>\n",
       "      <th>3</th>\n",
       "      <td>4</td>\n",
       "      <td>2-STORY 1945 &amp; OLDER</td>\n",
       "      <td>RL</td>\n",
       "      <td>60.0</td>\n",
       "      <td>9550</td>\n",
       "      <td>Pave</td>\n",
       "      <td>Missing</td>\n",
       "      <td>IR1</td>\n",
       "      <td>Lvl</td>\n",
       "      <td>AllPub</td>\n",
       "      <td>...</td>\n",
       "      <td>0</td>\n",
       "      <td>Missing</td>\n",
       "      <td>Missing</td>\n",
       "      <td>Missing</td>\n",
       "      <td>0</td>\n",
       "      <td>2</td>\n",
       "      <td>2006</td>\n",
       "      <td>WD</td>\n",
       "      <td>Abnorml</td>\n",
       "      <td>140000</td>\n",
       "    </tr>\n",
       "    <tr>\n",
       "      <th>4</th>\n",
       "      <td>5</td>\n",
       "      <td>2-STORY 1946 &amp; NEWER</td>\n",
       "      <td>RL</td>\n",
       "      <td>84.0</td>\n",
       "      <td>14260</td>\n",
       "      <td>Pave</td>\n",
       "      <td>Missing</td>\n",
       "      <td>IR1</td>\n",
       "      <td>Lvl</td>\n",
       "      <td>AllPub</td>\n",
       "      <td>...</td>\n",
       "      <td>0</td>\n",
       "      <td>Missing</td>\n",
       "      <td>Missing</td>\n",
       "      <td>Missing</td>\n",
       "      <td>0</td>\n",
       "      <td>12</td>\n",
       "      <td>2008</td>\n",
       "      <td>WD</td>\n",
       "      <td>Normal</td>\n",
       "      <td>250000</td>\n",
       "    </tr>\n",
       "  </tbody>\n",
       "</table>\n",
       "<p>5 rows × 81 columns</p>\n",
       "</div>"
      ],
      "text/plain": [
       "   Id                       MSSubClass MSZoning  LotFrontage  LotArea Street  \\\n",
       "0   1             2-STORY 1946 & NEWER       RL         65.0     8450   Pave   \n",
       "1   2  1-STORY 1946 & NEWER ALL STYLES       RL         80.0     9600   Pave   \n",
       "2   3             2-STORY 1946 & NEWER       RL         68.0    11250   Pave   \n",
       "3   4             2-STORY 1945 & OLDER       RL         60.0     9550   Pave   \n",
       "4   5             2-STORY 1946 & NEWER       RL         84.0    14260   Pave   \n",
       "\n",
       "     Alley LotShape LandContour Utilities  ... PoolArea   PoolQC    Fence  \\\n",
       "0  Missing      Reg         Lvl    AllPub  ...        0  Missing  Missing   \n",
       "1  Missing      Reg         Lvl    AllPub  ...        0  Missing  Missing   \n",
       "2  Missing      IR1         Lvl    AllPub  ...        0  Missing  Missing   \n",
       "3  Missing      IR1         Lvl    AllPub  ...        0  Missing  Missing   \n",
       "4  Missing      IR1         Lvl    AllPub  ...        0  Missing  Missing   \n",
       "\n",
       "  MiscFeature MiscVal MoSold YrSold  SaleType  SaleCondition  SalePrice  \n",
       "0     Missing       0      2   2008        WD         Normal     208500  \n",
       "1     Missing       0      5   2007        WD         Normal     181500  \n",
       "2     Missing       0      9   2008        WD         Normal     223500  \n",
       "3     Missing       0      2   2006        WD        Abnorml     140000  \n",
       "4     Missing       0     12   2008        WD         Normal     250000  \n",
       "\n",
       "[5 rows x 81 columns]"
      ]
     },
     "execution_count": 139,
     "metadata": {},
     "output_type": "execute_result"
    }
   ],
   "source": [
    "# import dataset\n",
    "df = pd.read_csv(\"Housing_Prices_EDA.csv\")\n",
    "print(df.shape)\n",
    "df.head()"
   ]
  },
  {
   "cell_type": "code",
   "execution_count": 140,
   "id": "728ae36b",
   "metadata": {},
   "outputs": [
    {
     "name": "stdout",
     "output_type": "stream",
     "text": [
      "{'fullList': ['MSSubClass', 'MSZoning', 'LotFrontage', 'LotArea', 'Street', 'Alley', 'LotShape', 'LandContour', 'Utilities', 'LotConfig', 'LandSlope', 'Neighborhood', 'Condition1', 'Condition2', 'BldgType', 'HouseStyle', 'OverallQual', 'OverallCond', 'YearBuilt', 'YearRemodAdd', 'RoofStyle', 'RoofMatl', 'Exterior1st', 'Exterior2nd', 'MasVnrType', 'MasVnrArea', 'ExterQual', 'ExterCond', 'Foundation', 'BsmtQual', 'BsmtCond', 'BsmtExposure', 'BsmtFinType1', 'BsmtFinSF1', 'BsmtFinType2', 'BsmtFinSF2', 'BsmtUnfSF', 'TotalBsmtSF', 'Heating', 'HeatingQC', 'CentralAir', 'Electrical', '1stFlrSF', '2ndFlrSF', 'LowQualFinSF', 'GrLivArea', 'BsmtFullBath', 'BsmtHalfBath', 'FullBath', 'HalfBath', 'BedroomAbvGr', 'KitchenAbvGr', 'KitchenQual', 'TotRmsAbvGrd', 'Functional', 'Fireplaces', 'FireplaceQu', 'GarageType', 'GarageYrBlt', 'GarageFinish', 'GarageCars', 'GarageArea', 'GarageQual', 'GarageCond', 'PavedDrive', 'WoodDeckSF', 'OpenPorchSF', 'EnclosedPorch', '3SsnPorch', 'ScreenPorch', 'PoolArea', 'PoolQC', 'Fence', 'MiscFeature', 'MiscVal', 'MoSold', 'YrSold', 'SaleType', 'SaleCondition', 'SalePrice'], 'missingGroup': {'referenceMissing': ['Alley', 'MasVnrType', 'BsmtQual', 'BsmtCond', 'BsmtExposure', 'BsmtFinType1', 'BsmtFinType2', 'Electrical', 'FireplaceQu', 'GarageType', 'GarageFinish', 'GarageQual', 'GarageCond', 'PoolQC', 'Fence', 'MiscFeature']}, 'removables': ['Street', 'Utilities', 'LandContour', 'LandSlope', 'Condition1', 'Condition2', 'RoofMatl', 'Heating', 'Functional', 'GarageQual', 'GarageCond', 'PoolQC', 'MiscFeature', 'OverallCond', 'MiscVal', 'GarageYrBlt', 'Exterior2nd', 'MSSubClass'], 'qualities': ['OverallQual', 'ExterQual', 'BsmtFinType1', 'BsmtFinType2', 'KitchenQual', 'GarageQual'], 'condistions': ['OverallCond', 'ExterCond', 'BsmtCond', 'GarageCond', 'PoolQC']}\n"
     ]
    }
   ],
   "source": [
    "# import features transfer object\n",
    "transfer_info_json = open(\"feature_lists.json\", 'r')\n",
    "transfer_info = transfer_info_json.read()\n",
    "transfer_info = json.loads(transfer_info)\n",
    "print(transfer_info)"
   ]
  },
  {
   "cell_type": "markdown",
   "id": "99359d9f",
   "metadata": {},
   "source": [
    "Cleaning Ideas from EDA\n",
    "1. create age feature, age of revno\n",
    "\n",
    "2. total bathrooms\n",
    "\n",
    "3. Work out Square footage features, do you need everything? maybe total sqft\n",
    "\n",
    "4. condence porch/deck features\n",
    "\n",
    "5. Only use dummy yes/no has feature, not quality, condition or description of item (simple dummy)\n",
    "\n",
    "6. 1 Exterior feature\n",
    "\n",
    "7. combine conditions/qualities, pick condition or quality feature, not both\n",
    "\n",
    "8. Do you need house subclass?\n",
    "\n",
    "9. how will you deal with outliers? Standardize? natural log?\n",
    "\n",
    "10. If you're modeling \"housing prices\" you should remove non-houses rows in MSZoning. Also Maybe focus on \"Normal\" SaleCondition"
   ]
  },
  {
   "cell_type": "code",
   "execution_count": 141,
   "id": "7e30ccc8",
   "metadata": {},
   "outputs": [],
   "source": [
    "def viz_data(feature_list):\n",
    "    for feature in feature_list:\n",
    "        fig = px.box(df, x=feature)\n",
    "        fig.show()"
   ]
  },
  {
   "cell_type": "code",
   "execution_count": 142,
   "id": "4080a36f",
   "metadata": {},
   "outputs": [
    {
     "data": {
      "application/vnd.plotly.v1+json": {
       "config": {
        "plotlyServerURL": "https://plot.ly"
       },
       "data": [
        {
         "alignmentgroup": "True",
         "hovertemplate": "home_age_at_sale=%{x}<extra></extra>",
         "legendgroup": "",
         "marker": {
          "color": "#636efa"
         },
         "name": "",
         "notched": false,
         "offsetgroup": "",
         "orientation": "h",
         "showlegend": false,
         "type": "box",
         "x": [
          5,
          31,
          7,
          91,
          8,
          16,
          3,
          36,
          77,
          69,
          43,
          1,
          46,
          1,
          48,
          78,
          40,
          39,
          4,
          51,
          1,
          77,
          6,
          31,
          42,
          2,
          59,
          3,
          49,
          81,
          88,
          42,
          1,
          51,
          2,
          2,
          15,
          55,
          57,
          53,
          41,
          48,
          24,
          33,
          47,
          5,
          6,
          1,
          89,
          41,
          10,
          72,
          47,
          25,
          52,
          44,
          10,
          2,
          0,
          36,
          2,
          87,
          1,
          89,
          12,
          3,
          40,
          4,
          65,
          53,
          34,
          25,
          11,
          56,
          95,
          36,
          52,
          60,
          42,
          99,
          41,
          8,
          1,
          47,
          14,
          15,
          4,
          0,
          94,
          13,
          56,
          45,
          88,
          97,
          10,
          16,
          7,
          42,
          90,
          51,
          33,
          25,
          30,
          1,
          76,
          5,
          122,
          60,
          88,
          33,
          52,
          10,
          0,
          54,
          62,
          8,
          47,
          1,
          20,
          1,
          37,
          68,
          50,
          15,
          30,
          71,
          31,
          77,
          40,
          48,
          40,
          9,
          48,
          8,
          38,
          38,
          40,
          18,
          9,
          12,
          39,
          1,
          58,
          10,
          43,
          2,
          78,
          9,
          4,
          70,
          32,
          1,
          35,
          48,
          83,
          84,
          56,
          1,
          6,
          1,
          24,
          5,
          5,
          51,
          81,
          68,
          54,
          0,
          3,
          25,
          66,
          50,
          19,
          47,
          22,
          57,
          19,
          48,
          1,
          84,
          7,
          86,
          50,
          5,
          98,
          114,
          19,
          93,
          30,
          7,
          75,
          35,
          10,
          2,
          36,
          33,
          0,
          88,
          97,
          5,
          7,
          31,
          82,
          4,
          62,
          19,
          45,
          48,
          19,
          44,
          83,
          1,
          0,
          11,
          33,
          49,
          4,
          81,
          69,
          1,
          0,
          7,
          31,
          38,
          6,
          38,
          12,
          38,
          43,
          4,
          51,
          14,
          34,
          34,
          8,
          37,
          6,
          17,
          0,
          65,
          2,
          62,
          106,
          29,
          16,
          18,
          96,
          52,
          4,
          49,
          70,
          1,
          4,
          43,
          53,
          7,
          5,
          3,
          7,
          52,
          47,
          0,
          29,
          81,
          83,
          27,
          9,
          69,
          68,
          31,
          0,
          54,
          11,
          51,
          25,
          84,
          7,
          59,
          1,
          31,
          18,
          0,
          2,
          1,
          15,
          1,
          44,
          35,
          43,
          92,
          0,
          96,
          60,
          29,
          56,
          22,
          57,
          10,
          39,
          59,
          53,
          9,
          5,
          34,
          128,
          3,
          17,
          88,
          69,
          3,
          13,
          61,
          67,
          44,
          81,
          5,
          29,
          1,
          16,
          29,
          0,
          3,
          21,
          51,
          43,
          66,
          15,
          46,
          93,
          89,
          43,
          49,
          6,
          4,
          10,
          43,
          2,
          6,
          22,
          51,
          8,
          59,
          57,
          3,
          34,
          67,
          47,
          49,
          5,
          1,
          0,
          20,
          67,
          82,
          66,
          12,
          17,
          31,
          48,
          8,
          29,
          68,
          6,
          37,
          30,
          89,
          46,
          46,
          56,
          51,
          6,
          49,
          26,
          56,
          4,
          87,
          10,
          3,
          0,
          9,
          86,
          0,
          1,
          81,
          15,
          6,
          96,
          33,
          9,
          1,
          108,
          8,
          48,
          65,
          67,
          54,
          37,
          45,
          87,
          3,
          12,
          1,
          68,
          8,
          12,
          33,
          72,
          93,
          1,
          1,
          51,
          51,
          1,
          83,
          15,
          0,
          28,
          89,
          67,
          42,
          11,
          32,
          54,
          10,
          52,
          63,
          20,
          51,
          0,
          21,
          37,
          88,
          36,
          11,
          36,
          13,
          86,
          83,
          94,
          89,
          1,
          53,
          78,
          1,
          14,
          53,
          44,
          8,
          69,
          59,
          76,
          31,
          11,
          1,
          30,
          34,
          92,
          54,
          83,
          59,
          0,
          73,
          44,
          74,
          31,
          2,
          37,
          65,
          1,
          15,
          25,
          30,
          3,
          1,
          7,
          44,
          11,
          1,
          2,
          70,
          2,
          3,
          94,
          8,
          45,
          59,
          42,
          36,
          106,
          39,
          32,
          65,
          0,
          48,
          71,
          89,
          15,
          83,
          42,
          49,
          34,
          3,
          42,
          51,
          35,
          57,
          13,
          0,
          80,
          50,
          58,
          1,
          48,
          24,
          81,
          0,
          37,
          13,
          9,
          83,
          108,
          50,
          59,
          0,
          11,
          1,
          51,
          0,
          87,
          50,
          20,
          88,
          55,
          61,
          2,
          98,
          10,
          36,
          38,
          9,
          3,
          7,
          11,
          9,
          0,
          18,
          84,
          37,
          53,
          6,
          31,
          51,
          3,
          60,
          5,
          84,
          49,
          86,
          12,
          3,
          53,
          32,
          68,
          90,
          14,
          95,
          3,
          6,
          26,
          27,
          43,
          47,
          0,
          7,
          36,
          61,
          81,
          40,
          1,
          54,
          47,
          1,
          17,
          115,
          74,
          1,
          90,
          27,
          41,
          78,
          4,
          1,
          26,
          6,
          33,
          1,
          96,
          1,
          29,
          28,
          1,
          70,
          14,
          6,
          6,
          44,
          13,
          58,
          73,
          46,
          9,
          29,
          8,
          0,
          38,
          47,
          4,
          54,
          0,
          5,
          94,
          34,
          32,
          7,
          34,
          48,
          47,
          55,
          38,
          44,
          126,
          1,
          32,
          53,
          30,
          93,
          73,
          55,
          98,
          0,
          5,
          6,
          37,
          38,
          0,
          36,
          58,
          55,
          44,
          37,
          1,
          69,
          13,
          102,
          13,
          39,
          49,
          77,
          62,
          45,
          31,
          15,
          41,
          36,
          1,
          6,
          42,
          14,
          50,
          84,
          4,
          84,
          29,
          50,
          43,
          31,
          106,
          85,
          1,
          46,
          30,
          77,
          12,
          5,
          12,
          23,
          0,
          3,
          0,
          2,
          4,
          13,
          17,
          85,
          73,
          19,
          85,
          54,
          45,
          4,
          4,
          37,
          0,
          110,
          6,
          80,
          36,
          3,
          0,
          42,
          73,
          110,
          20,
          36,
          34,
          35,
          117,
          35,
          15,
          37,
          21,
          6,
          39,
          54,
          2,
          39,
          21,
          2,
          51,
          84,
          15,
          4,
          10,
          48,
          39,
          92,
          56,
          1,
          22,
          5,
          97,
          47,
          7,
          46,
          15,
          32,
          9,
          129,
          14,
          64,
          100,
          4,
          9,
          1,
          40,
          10,
          2,
          32,
          9,
          12,
          50,
          85,
          1,
          10,
          11,
          0,
          22,
          68,
          2,
          7,
          27,
          55,
          34,
          49,
          1,
          11,
          1,
          32,
          30,
          29,
          12,
          14,
          8,
          31,
          94,
          42,
          95,
          6,
          54,
          41,
          4,
          31,
          11,
          0,
          14,
          30,
          30,
          55,
          1,
          70,
          11,
          91,
          3,
          1,
          52,
          0,
          39,
          86,
          40,
          111,
          32,
          4,
          58,
          49,
          88,
          12,
          52,
          6,
          39,
          1,
          5,
          56,
          4,
          69,
          0,
          1,
          84,
          8,
          42,
          1,
          51,
          1,
          7,
          45,
          47,
          60,
          59,
          35,
          13,
          62,
          83,
          104,
          42,
          46,
          93,
          32,
          16,
          37,
          100,
          31,
          4,
          3,
          66,
          45,
          51,
          48,
          30,
          15,
          33,
          38,
          89,
          45,
          26,
          50,
          1,
          39,
          1,
          46,
          58,
          17,
          47,
          12,
          55,
          60,
          68,
          0,
          44,
          5,
          49,
          31,
          2,
          17,
          17,
          94,
          42,
          9,
          47,
          53,
          37,
          56,
          58,
          31,
          43,
          54,
          30,
          45,
          70,
          30,
          1,
          45,
          36,
          52,
          3,
          0,
          40,
          56,
          1,
          70,
          23,
          4,
          50,
          32,
          81,
          58,
          0,
          37,
          57,
          53,
          16,
          50,
          13,
          108,
          1,
          15,
          26,
          31,
          4,
          40,
          8,
          9,
          2,
          44,
          1,
          5,
          48,
          80,
          6,
          4,
          0,
          70,
          30,
          10,
          30,
          40,
          51,
          119,
          47,
          5,
          4,
          38,
          57,
          41,
          37,
          39,
          31,
          61,
          29,
          45,
          4,
          11,
          52,
          31,
          31,
          2,
          8,
          2,
          69,
          53,
          99,
          48,
          57,
          6,
          31,
          1,
          99,
          6,
          83,
          1,
          53,
          46,
          47,
          11,
          1,
          6,
          32,
          58,
          96,
          1,
          31,
          0,
          9,
          127,
          43,
          1,
          3,
          60,
          45,
          39,
          84,
          4,
          57,
          87,
          2,
          31,
          4,
          31,
          37,
          39,
          5,
          80,
          60,
          45,
          84,
          99,
          59,
          8,
          13,
          25,
          16,
          1,
          3,
          0,
          77,
          3,
          32,
          35,
          50,
          1,
          66,
          34,
          90,
          89,
          13,
          4,
          69,
          52,
          2,
          7,
          39,
          39,
          49,
          42,
          4,
          18,
          28,
          54,
          1,
          14,
          49,
          64,
          0,
          0,
          43,
          53,
          4,
          32,
          1,
          15,
          1,
          75,
          9,
          73,
          107,
          81,
          43,
          14,
          16,
          44,
          33,
          58,
          51,
          41,
          58,
          32,
          1,
          67,
          70,
          37,
          2,
          13,
          37,
          47,
          5,
          42,
          11,
          18,
          37,
          4,
          2,
          1,
          59,
          9,
          83,
          41,
          54,
          1,
          93,
          21,
          73,
          31,
          89,
          36,
          47,
          47,
          37,
          16,
          17,
          0,
          7,
          5,
          13,
          32,
          49,
          54,
          52,
          0,
          7,
          41,
          50,
          47,
          87,
          1,
          53,
          62,
          15,
          54,
          2,
          3,
          3,
          27,
          81,
          16,
          127,
          14,
          10,
          81,
          58,
          135,
          32,
          87,
          57,
          33,
          1,
          49,
          69,
          78,
          21,
          68,
          82,
          89,
          57,
          47,
          50,
          78,
          43,
          31,
          43,
          2,
          1,
          34,
          32,
          54,
          39,
          39,
          29,
          0,
          2,
          6,
          73,
          11,
          31,
          50,
          2,
          61,
          74,
          15,
          24,
          83,
          88,
          52,
          16,
          0,
          11,
          86,
          44,
          82,
          109,
          12,
          7,
          11,
          46,
          8,
          82,
          10,
          41,
          3,
          0,
          90,
          8,
          43,
          36,
          11,
          84,
          9,
          31,
          19,
          40,
          3,
          46,
          0,
          18,
          22,
          68,
          41,
          44,
          41,
          32,
          0,
          59,
          35,
          42,
          40,
          58,
          55,
          4,
          49,
          1,
          43,
          0,
          48,
          30,
          44,
          45,
          51,
          97,
          92,
          7,
          2,
          1,
          1,
          5,
          0,
          36,
          0,
          77,
          23,
          1,
          34,
          91,
          57,
          42,
          3,
          41,
          33,
          5,
          76,
          14,
          87,
          3,
          39,
          10,
          53,
          52,
          88,
          10,
          7,
          97,
          2,
          73,
          49,
          31,
          41,
          41,
          49,
          97,
          59,
          37,
          42,
          6,
          90,
          7,
          16,
          32,
          39,
          91,
          70,
          47,
          42,
          9,
          0,
          46,
          37,
          117,
          30,
          51,
          38,
          45,
          1,
          0,
          51,
          10,
          67,
          12,
          1,
          2,
          3,
          1,
          15,
          60,
          17,
          51,
          2,
          17,
          11,
          53,
          39,
          1,
          1,
          5,
          53,
          52,
          59,
          18,
          69,
          1,
          86,
          76,
          26,
          88,
          8,
          1,
          30,
          71,
          68,
          39,
          32,
          35,
          65,
          4,
          34,
          36,
          5,
          5,
          81,
          1,
          87,
          38,
          1,
          9,
          136,
          40,
          46,
          72,
          15,
          8,
          38,
          42,
          39,
          10,
          2,
          87,
          4,
          89,
          1,
          1,
          10,
          9,
          29,
          6,
          7,
          89,
          53,
          8,
          6,
          3,
          0,
          78,
          68,
          33,
          2,
          96,
          38,
          86,
          89,
          70,
          88,
          28,
          91,
          3,
          66,
          6,
          42,
          39,
          103,
          0,
          2,
          62,
          87,
          59,
          84,
          79,
          4,
          0,
          0,
          91,
          4,
          37,
          24,
          100,
          22,
          8,
          59,
          60,
          4,
          85,
          2,
          125,
          11,
          45,
          37,
          38,
          33,
          5,
          40,
          49,
          49,
          14,
          63,
          70,
          26,
          1,
          33,
          80,
          8,
          29,
          46,
          36,
          0,
          53,
          28,
          86,
          4,
          1,
          93,
          3,
          41,
          48,
          12,
          97,
          36,
          35,
          1,
          1,
          0,
          5,
          8,
          32,
          69,
          60,
          43
         ],
         "x0": " ",
         "xaxis": "x",
         "y0": " ",
         "yaxis": "y"
        }
       ],
       "layout": {
        "boxmode": "group",
        "legend": {
         "tracegroupgap": 0
        },
        "margin": {
         "t": 60
        },
        "template": {
         "data": {
          "bar": [
           {
            "error_x": {
             "color": "#2a3f5f"
            },
            "error_y": {
             "color": "#2a3f5f"
            },
            "marker": {
             "line": {
              "color": "#E5ECF6",
              "width": 0.5
             },
             "pattern": {
              "fillmode": "overlay",
              "size": 10,
              "solidity": 0.2
             }
            },
            "type": "bar"
           }
          ],
          "barpolar": [
           {
            "marker": {
             "line": {
              "color": "#E5ECF6",
              "width": 0.5
             },
             "pattern": {
              "fillmode": "overlay",
              "size": 10,
              "solidity": 0.2
             }
            },
            "type": "barpolar"
           }
          ],
          "carpet": [
           {
            "aaxis": {
             "endlinecolor": "#2a3f5f",
             "gridcolor": "white",
             "linecolor": "white",
             "minorgridcolor": "white",
             "startlinecolor": "#2a3f5f"
            },
            "baxis": {
             "endlinecolor": "#2a3f5f",
             "gridcolor": "white",
             "linecolor": "white",
             "minorgridcolor": "white",
             "startlinecolor": "#2a3f5f"
            },
            "type": "carpet"
           }
          ],
          "choropleth": [
           {
            "colorbar": {
             "outlinewidth": 0,
             "ticks": ""
            },
            "type": "choropleth"
           }
          ],
          "contour": [
           {
            "colorbar": {
             "outlinewidth": 0,
             "ticks": ""
            },
            "colorscale": [
             [
              0,
              "#0d0887"
             ],
             [
              0.1111111111111111,
              "#46039f"
             ],
             [
              0.2222222222222222,
              "#7201a8"
             ],
             [
              0.3333333333333333,
              "#9c179e"
             ],
             [
              0.4444444444444444,
              "#bd3786"
             ],
             [
              0.5555555555555556,
              "#d8576b"
             ],
             [
              0.6666666666666666,
              "#ed7953"
             ],
             [
              0.7777777777777778,
              "#fb9f3a"
             ],
             [
              0.8888888888888888,
              "#fdca26"
             ],
             [
              1,
              "#f0f921"
             ]
            ],
            "type": "contour"
           }
          ],
          "contourcarpet": [
           {
            "colorbar": {
             "outlinewidth": 0,
             "ticks": ""
            },
            "type": "contourcarpet"
           }
          ],
          "heatmap": [
           {
            "colorbar": {
             "outlinewidth": 0,
             "ticks": ""
            },
            "colorscale": [
             [
              0,
              "#0d0887"
             ],
             [
              0.1111111111111111,
              "#46039f"
             ],
             [
              0.2222222222222222,
              "#7201a8"
             ],
             [
              0.3333333333333333,
              "#9c179e"
             ],
             [
              0.4444444444444444,
              "#bd3786"
             ],
             [
              0.5555555555555556,
              "#d8576b"
             ],
             [
              0.6666666666666666,
              "#ed7953"
             ],
             [
              0.7777777777777778,
              "#fb9f3a"
             ],
             [
              0.8888888888888888,
              "#fdca26"
             ],
             [
              1,
              "#f0f921"
             ]
            ],
            "type": "heatmap"
           }
          ],
          "heatmapgl": [
           {
            "colorbar": {
             "outlinewidth": 0,
             "ticks": ""
            },
            "colorscale": [
             [
              0,
              "#0d0887"
             ],
             [
              0.1111111111111111,
              "#46039f"
             ],
             [
              0.2222222222222222,
              "#7201a8"
             ],
             [
              0.3333333333333333,
              "#9c179e"
             ],
             [
              0.4444444444444444,
              "#bd3786"
             ],
             [
              0.5555555555555556,
              "#d8576b"
             ],
             [
              0.6666666666666666,
              "#ed7953"
             ],
             [
              0.7777777777777778,
              "#fb9f3a"
             ],
             [
              0.8888888888888888,
              "#fdca26"
             ],
             [
              1,
              "#f0f921"
             ]
            ],
            "type": "heatmapgl"
           }
          ],
          "histogram": [
           {
            "marker": {
             "pattern": {
              "fillmode": "overlay",
              "size": 10,
              "solidity": 0.2
             }
            },
            "type": "histogram"
           }
          ],
          "histogram2d": [
           {
            "colorbar": {
             "outlinewidth": 0,
             "ticks": ""
            },
            "colorscale": [
             [
              0,
              "#0d0887"
             ],
             [
              0.1111111111111111,
              "#46039f"
             ],
             [
              0.2222222222222222,
              "#7201a8"
             ],
             [
              0.3333333333333333,
              "#9c179e"
             ],
             [
              0.4444444444444444,
              "#bd3786"
             ],
             [
              0.5555555555555556,
              "#d8576b"
             ],
             [
              0.6666666666666666,
              "#ed7953"
             ],
             [
              0.7777777777777778,
              "#fb9f3a"
             ],
             [
              0.8888888888888888,
              "#fdca26"
             ],
             [
              1,
              "#f0f921"
             ]
            ],
            "type": "histogram2d"
           }
          ],
          "histogram2dcontour": [
           {
            "colorbar": {
             "outlinewidth": 0,
             "ticks": ""
            },
            "colorscale": [
             [
              0,
              "#0d0887"
             ],
             [
              0.1111111111111111,
              "#46039f"
             ],
             [
              0.2222222222222222,
              "#7201a8"
             ],
             [
              0.3333333333333333,
              "#9c179e"
             ],
             [
              0.4444444444444444,
              "#bd3786"
             ],
             [
              0.5555555555555556,
              "#d8576b"
             ],
             [
              0.6666666666666666,
              "#ed7953"
             ],
             [
              0.7777777777777778,
              "#fb9f3a"
             ],
             [
              0.8888888888888888,
              "#fdca26"
             ],
             [
              1,
              "#f0f921"
             ]
            ],
            "type": "histogram2dcontour"
           }
          ],
          "mesh3d": [
           {
            "colorbar": {
             "outlinewidth": 0,
             "ticks": ""
            },
            "type": "mesh3d"
           }
          ],
          "parcoords": [
           {
            "line": {
             "colorbar": {
              "outlinewidth": 0,
              "ticks": ""
             }
            },
            "type": "parcoords"
           }
          ],
          "pie": [
           {
            "automargin": true,
            "type": "pie"
           }
          ],
          "scatter": [
           {
            "marker": {
             "colorbar": {
              "outlinewidth": 0,
              "ticks": ""
             }
            },
            "type": "scatter"
           }
          ],
          "scatter3d": [
           {
            "line": {
             "colorbar": {
              "outlinewidth": 0,
              "ticks": ""
             }
            },
            "marker": {
             "colorbar": {
              "outlinewidth": 0,
              "ticks": ""
             }
            },
            "type": "scatter3d"
           }
          ],
          "scattercarpet": [
           {
            "marker": {
             "colorbar": {
              "outlinewidth": 0,
              "ticks": ""
             }
            },
            "type": "scattercarpet"
           }
          ],
          "scattergeo": [
           {
            "marker": {
             "colorbar": {
              "outlinewidth": 0,
              "ticks": ""
             }
            },
            "type": "scattergeo"
           }
          ],
          "scattergl": [
           {
            "marker": {
             "colorbar": {
              "outlinewidth": 0,
              "ticks": ""
             }
            },
            "type": "scattergl"
           }
          ],
          "scattermapbox": [
           {
            "marker": {
             "colorbar": {
              "outlinewidth": 0,
              "ticks": ""
             }
            },
            "type": "scattermapbox"
           }
          ],
          "scatterpolar": [
           {
            "marker": {
             "colorbar": {
              "outlinewidth": 0,
              "ticks": ""
             }
            },
            "type": "scatterpolar"
           }
          ],
          "scatterpolargl": [
           {
            "marker": {
             "colorbar": {
              "outlinewidth": 0,
              "ticks": ""
             }
            },
            "type": "scatterpolargl"
           }
          ],
          "scatterternary": [
           {
            "marker": {
             "colorbar": {
              "outlinewidth": 0,
              "ticks": ""
             }
            },
            "type": "scatterternary"
           }
          ],
          "surface": [
           {
            "colorbar": {
             "outlinewidth": 0,
             "ticks": ""
            },
            "colorscale": [
             [
              0,
              "#0d0887"
             ],
             [
              0.1111111111111111,
              "#46039f"
             ],
             [
              0.2222222222222222,
              "#7201a8"
             ],
             [
              0.3333333333333333,
              "#9c179e"
             ],
             [
              0.4444444444444444,
              "#bd3786"
             ],
             [
              0.5555555555555556,
              "#d8576b"
             ],
             [
              0.6666666666666666,
              "#ed7953"
             ],
             [
              0.7777777777777778,
              "#fb9f3a"
             ],
             [
              0.8888888888888888,
              "#fdca26"
             ],
             [
              1,
              "#f0f921"
             ]
            ],
            "type": "surface"
           }
          ],
          "table": [
           {
            "cells": {
             "fill": {
              "color": "#EBF0F8"
             },
             "line": {
              "color": "white"
             }
            },
            "header": {
             "fill": {
              "color": "#C8D4E3"
             },
             "line": {
              "color": "white"
             }
            },
            "type": "table"
           }
          ]
         },
         "layout": {
          "annotationdefaults": {
           "arrowcolor": "#2a3f5f",
           "arrowhead": 0,
           "arrowwidth": 1
          },
          "autotypenumbers": "strict",
          "coloraxis": {
           "colorbar": {
            "outlinewidth": 0,
            "ticks": ""
           }
          },
          "colorscale": {
           "diverging": [
            [
             0,
             "#8e0152"
            ],
            [
             0.1,
             "#c51b7d"
            ],
            [
             0.2,
             "#de77ae"
            ],
            [
             0.3,
             "#f1b6da"
            ],
            [
             0.4,
             "#fde0ef"
            ],
            [
             0.5,
             "#f7f7f7"
            ],
            [
             0.6,
             "#e6f5d0"
            ],
            [
             0.7,
             "#b8e186"
            ],
            [
             0.8,
             "#7fbc41"
            ],
            [
             0.9,
             "#4d9221"
            ],
            [
             1,
             "#276419"
            ]
           ],
           "sequential": [
            [
             0,
             "#0d0887"
            ],
            [
             0.1111111111111111,
             "#46039f"
            ],
            [
             0.2222222222222222,
             "#7201a8"
            ],
            [
             0.3333333333333333,
             "#9c179e"
            ],
            [
             0.4444444444444444,
             "#bd3786"
            ],
            [
             0.5555555555555556,
             "#d8576b"
            ],
            [
             0.6666666666666666,
             "#ed7953"
            ],
            [
             0.7777777777777778,
             "#fb9f3a"
            ],
            [
             0.8888888888888888,
             "#fdca26"
            ],
            [
             1,
             "#f0f921"
            ]
           ],
           "sequentialminus": [
            [
             0,
             "#0d0887"
            ],
            [
             0.1111111111111111,
             "#46039f"
            ],
            [
             0.2222222222222222,
             "#7201a8"
            ],
            [
             0.3333333333333333,
             "#9c179e"
            ],
            [
             0.4444444444444444,
             "#bd3786"
            ],
            [
             0.5555555555555556,
             "#d8576b"
            ],
            [
             0.6666666666666666,
             "#ed7953"
            ],
            [
             0.7777777777777778,
             "#fb9f3a"
            ],
            [
             0.8888888888888888,
             "#fdca26"
            ],
            [
             1,
             "#f0f921"
            ]
           ]
          },
          "colorway": [
           "#636efa",
           "#EF553B",
           "#00cc96",
           "#ab63fa",
           "#FFA15A",
           "#19d3f3",
           "#FF6692",
           "#B6E880",
           "#FF97FF",
           "#FECB52"
          ],
          "font": {
           "color": "#2a3f5f"
          },
          "geo": {
           "bgcolor": "white",
           "lakecolor": "white",
           "landcolor": "#E5ECF6",
           "showlakes": true,
           "showland": true,
           "subunitcolor": "white"
          },
          "hoverlabel": {
           "align": "left"
          },
          "hovermode": "closest",
          "mapbox": {
           "style": "light"
          },
          "paper_bgcolor": "white",
          "plot_bgcolor": "#E5ECF6",
          "polar": {
           "angularaxis": {
            "gridcolor": "white",
            "linecolor": "white",
            "ticks": ""
           },
           "bgcolor": "#E5ECF6",
           "radialaxis": {
            "gridcolor": "white",
            "linecolor": "white",
            "ticks": ""
           }
          },
          "scene": {
           "xaxis": {
            "backgroundcolor": "#E5ECF6",
            "gridcolor": "white",
            "gridwidth": 2,
            "linecolor": "white",
            "showbackground": true,
            "ticks": "",
            "zerolinecolor": "white"
           },
           "yaxis": {
            "backgroundcolor": "#E5ECF6",
            "gridcolor": "white",
            "gridwidth": 2,
            "linecolor": "white",
            "showbackground": true,
            "ticks": "",
            "zerolinecolor": "white"
           },
           "zaxis": {
            "backgroundcolor": "#E5ECF6",
            "gridcolor": "white",
            "gridwidth": 2,
            "linecolor": "white",
            "showbackground": true,
            "ticks": "",
            "zerolinecolor": "white"
           }
          },
          "shapedefaults": {
           "line": {
            "color": "#2a3f5f"
           }
          },
          "ternary": {
           "aaxis": {
            "gridcolor": "white",
            "linecolor": "white",
            "ticks": ""
           },
           "baxis": {
            "gridcolor": "white",
            "linecolor": "white",
            "ticks": ""
           },
           "bgcolor": "#E5ECF6",
           "caxis": {
            "gridcolor": "white",
            "linecolor": "white",
            "ticks": ""
           }
          },
          "title": {
           "x": 0.05
          },
          "xaxis": {
           "automargin": true,
           "gridcolor": "white",
           "linecolor": "white",
           "ticks": "",
           "title": {
            "standoff": 15
           },
           "zerolinecolor": "white",
           "zerolinewidth": 2
          },
          "yaxis": {
           "automargin": true,
           "gridcolor": "white",
           "linecolor": "white",
           "ticks": "",
           "title": {
            "standoff": 15
           },
           "zerolinecolor": "white",
           "zerolinewidth": 2
          }
         }
        },
        "xaxis": {
         "anchor": "y",
         "domain": [
          0,
          1
         ],
         "title": {
          "text": "home_age_at_sale"
         }
        },
        "yaxis": {
         "anchor": "x",
         "domain": [
          0,
          1
         ]
        }
       }
      },
      "text/html": [
       "<div>                            <div id=\"f982b074-1e8b-4013-a415-3885f8a11a8c\" class=\"plotly-graph-div\" style=\"height:525px; width:100%;\"></div>            <script type=\"text/javascript\">                require([\"plotly\"], function(Plotly) {                    window.PLOTLYENV=window.PLOTLYENV || {};                                    if (document.getElementById(\"f982b074-1e8b-4013-a415-3885f8a11a8c\")) {                    Plotly.newPlot(                        \"f982b074-1e8b-4013-a415-3885f8a11a8c\",                        [{\"alignmentgroup\":\"True\",\"hovertemplate\":\"home_age_at_sale=%{x}<extra></extra>\",\"legendgroup\":\"\",\"marker\":{\"color\":\"#636efa\"},\"name\":\"\",\"notched\":false,\"offsetgroup\":\"\",\"orientation\":\"h\",\"showlegend\":false,\"type\":\"box\",\"x\":[5,31,7,91,8,16,3,36,77,69,43,1,46,1,48,78,40,39,4,51,1,77,6,31,42,2,59,3,49,81,88,42,1,51,2,2,15,55,57,53,41,48,24,33,47,5,6,1,89,41,10,72,47,25,52,44,10,2,0,36,2,87,1,89,12,3,40,4,65,53,34,25,11,56,95,36,52,60,42,99,41,8,1,47,14,15,4,0,94,13,56,45,88,97,10,16,7,42,90,51,33,25,30,1,76,5,122,60,88,33,52,10,0,54,62,8,47,1,20,1,37,68,50,15,30,71,31,77,40,48,40,9,48,8,38,38,40,18,9,12,39,1,58,10,43,2,78,9,4,70,32,1,35,48,83,84,56,1,6,1,24,5,5,51,81,68,54,0,3,25,66,50,19,47,22,57,19,48,1,84,7,86,50,5,98,114,19,93,30,7,75,35,10,2,36,33,0,88,97,5,7,31,82,4,62,19,45,48,19,44,83,1,0,11,33,49,4,81,69,1,0,7,31,38,6,38,12,38,43,4,51,14,34,34,8,37,6,17,0,65,2,62,106,29,16,18,96,52,4,49,70,1,4,43,53,7,5,3,7,52,47,0,29,81,83,27,9,69,68,31,0,54,11,51,25,84,7,59,1,31,18,0,2,1,15,1,44,35,43,92,0,96,60,29,56,22,57,10,39,59,53,9,5,34,128,3,17,88,69,3,13,61,67,44,81,5,29,1,16,29,0,3,21,51,43,66,15,46,93,89,43,49,6,4,10,43,2,6,22,51,8,59,57,3,34,67,47,49,5,1,0,20,67,82,66,12,17,31,48,8,29,68,6,37,30,89,46,46,56,51,6,49,26,56,4,87,10,3,0,9,86,0,1,81,15,6,96,33,9,1,108,8,48,65,67,54,37,45,87,3,12,1,68,8,12,33,72,93,1,1,51,51,1,83,15,0,28,89,67,42,11,32,54,10,52,63,20,51,0,21,37,88,36,11,36,13,86,83,94,89,1,53,78,1,14,53,44,8,69,59,76,31,11,1,30,34,92,54,83,59,0,73,44,74,31,2,37,65,1,15,25,30,3,1,7,44,11,1,2,70,2,3,94,8,45,59,42,36,106,39,32,65,0,48,71,89,15,83,42,49,34,3,42,51,35,57,13,0,80,50,58,1,48,24,81,0,37,13,9,83,108,50,59,0,11,1,51,0,87,50,20,88,55,61,2,98,10,36,38,9,3,7,11,9,0,18,84,37,53,6,31,51,3,60,5,84,49,86,12,3,53,32,68,90,14,95,3,6,26,27,43,47,0,7,36,61,81,40,1,54,47,1,17,115,74,1,90,27,41,78,4,1,26,6,33,1,96,1,29,28,1,70,14,6,6,44,13,58,73,46,9,29,8,0,38,47,4,54,0,5,94,34,32,7,34,48,47,55,38,44,126,1,32,53,30,93,73,55,98,0,5,6,37,38,0,36,58,55,44,37,1,69,13,102,13,39,49,77,62,45,31,15,41,36,1,6,42,14,50,84,4,84,29,50,43,31,106,85,1,46,30,77,12,5,12,23,0,3,0,2,4,13,17,85,73,19,85,54,45,4,4,37,0,110,6,80,36,3,0,42,73,110,20,36,34,35,117,35,15,37,21,6,39,54,2,39,21,2,51,84,15,4,10,48,39,92,56,1,22,5,97,47,7,46,15,32,9,129,14,64,100,4,9,1,40,10,2,32,9,12,50,85,1,10,11,0,22,68,2,7,27,55,34,49,1,11,1,32,30,29,12,14,8,31,94,42,95,6,54,41,4,31,11,0,14,30,30,55,1,70,11,91,3,1,52,0,39,86,40,111,32,4,58,49,88,12,52,6,39,1,5,56,4,69,0,1,84,8,42,1,51,1,7,45,47,60,59,35,13,62,83,104,42,46,93,32,16,37,100,31,4,3,66,45,51,48,30,15,33,38,89,45,26,50,1,39,1,46,58,17,47,12,55,60,68,0,44,5,49,31,2,17,17,94,42,9,47,53,37,56,58,31,43,54,30,45,70,30,1,45,36,52,3,0,40,56,1,70,23,4,50,32,81,58,0,37,57,53,16,50,13,108,1,15,26,31,4,40,8,9,2,44,1,5,48,80,6,4,0,70,30,10,30,40,51,119,47,5,4,38,57,41,37,39,31,61,29,45,4,11,52,31,31,2,8,2,69,53,99,48,57,6,31,1,99,6,83,1,53,46,47,11,1,6,32,58,96,1,31,0,9,127,43,1,3,60,45,39,84,4,57,87,2,31,4,31,37,39,5,80,60,45,84,99,59,8,13,25,16,1,3,0,77,3,32,35,50,1,66,34,90,89,13,4,69,52,2,7,39,39,49,42,4,18,28,54,1,14,49,64,0,0,43,53,4,32,1,15,1,75,9,73,107,81,43,14,16,44,33,58,51,41,58,32,1,67,70,37,2,13,37,47,5,42,11,18,37,4,2,1,59,9,83,41,54,1,93,21,73,31,89,36,47,47,37,16,17,0,7,5,13,32,49,54,52,0,7,41,50,47,87,1,53,62,15,54,2,3,3,27,81,16,127,14,10,81,58,135,32,87,57,33,1,49,69,78,21,68,82,89,57,47,50,78,43,31,43,2,1,34,32,54,39,39,29,0,2,6,73,11,31,50,2,61,74,15,24,83,88,52,16,0,11,86,44,82,109,12,7,11,46,8,82,10,41,3,0,90,8,43,36,11,84,9,31,19,40,3,46,0,18,22,68,41,44,41,32,0,59,35,42,40,58,55,4,49,1,43,0,48,30,44,45,51,97,92,7,2,1,1,5,0,36,0,77,23,1,34,91,57,42,3,41,33,5,76,14,87,3,39,10,53,52,88,10,7,97,2,73,49,31,41,41,49,97,59,37,42,6,90,7,16,32,39,91,70,47,42,9,0,46,37,117,30,51,38,45,1,0,51,10,67,12,1,2,3,1,15,60,17,51,2,17,11,53,39,1,1,5,53,52,59,18,69,1,86,76,26,88,8,1,30,71,68,39,32,35,65,4,34,36,5,5,81,1,87,38,1,9,136,40,46,72,15,8,38,42,39,10,2,87,4,89,1,1,10,9,29,6,7,89,53,8,6,3,0,78,68,33,2,96,38,86,89,70,88,28,91,3,66,6,42,39,103,0,2,62,87,59,84,79,4,0,0,91,4,37,24,100,22,8,59,60,4,85,2,125,11,45,37,38,33,5,40,49,49,14,63,70,26,1,33,80,8,29,46,36,0,53,28,86,4,1,93,3,41,48,12,97,36,35,1,1,0,5,8,32,69,60,43],\"x0\":\" \",\"xaxis\":\"x\",\"y0\":\" \",\"yaxis\":\"y\"}],                        {\"boxmode\":\"group\",\"legend\":{\"tracegroupgap\":0},\"margin\":{\"t\":60},\"template\":{\"data\":{\"bar\":[{\"error_x\":{\"color\":\"#2a3f5f\"},\"error_y\":{\"color\":\"#2a3f5f\"},\"marker\":{\"line\":{\"color\":\"#E5ECF6\",\"width\":0.5},\"pattern\":{\"fillmode\":\"overlay\",\"size\":10,\"solidity\":0.2}},\"type\":\"bar\"}],\"barpolar\":[{\"marker\":{\"line\":{\"color\":\"#E5ECF6\",\"width\":0.5},\"pattern\":{\"fillmode\":\"overlay\",\"size\":10,\"solidity\":0.2}},\"type\":\"barpolar\"}],\"carpet\":[{\"aaxis\":{\"endlinecolor\":\"#2a3f5f\",\"gridcolor\":\"white\",\"linecolor\":\"white\",\"minorgridcolor\":\"white\",\"startlinecolor\":\"#2a3f5f\"},\"baxis\":{\"endlinecolor\":\"#2a3f5f\",\"gridcolor\":\"white\",\"linecolor\":\"white\",\"minorgridcolor\":\"white\",\"startlinecolor\":\"#2a3f5f\"},\"type\":\"carpet\"}],\"choropleth\":[{\"colorbar\":{\"outlinewidth\":0,\"ticks\":\"\"},\"type\":\"choropleth\"}],\"contour\":[{\"colorbar\":{\"outlinewidth\":0,\"ticks\":\"\"},\"colorscale\":[[0.0,\"#0d0887\"],[0.1111111111111111,\"#46039f\"],[0.2222222222222222,\"#7201a8\"],[0.3333333333333333,\"#9c179e\"],[0.4444444444444444,\"#bd3786\"],[0.5555555555555556,\"#d8576b\"],[0.6666666666666666,\"#ed7953\"],[0.7777777777777778,\"#fb9f3a\"],[0.8888888888888888,\"#fdca26\"],[1.0,\"#f0f921\"]],\"type\":\"contour\"}],\"contourcarpet\":[{\"colorbar\":{\"outlinewidth\":0,\"ticks\":\"\"},\"type\":\"contourcarpet\"}],\"heatmap\":[{\"colorbar\":{\"outlinewidth\":0,\"ticks\":\"\"},\"colorscale\":[[0.0,\"#0d0887\"],[0.1111111111111111,\"#46039f\"],[0.2222222222222222,\"#7201a8\"],[0.3333333333333333,\"#9c179e\"],[0.4444444444444444,\"#bd3786\"],[0.5555555555555556,\"#d8576b\"],[0.6666666666666666,\"#ed7953\"],[0.7777777777777778,\"#fb9f3a\"],[0.8888888888888888,\"#fdca26\"],[1.0,\"#f0f921\"]],\"type\":\"heatmap\"}],\"heatmapgl\":[{\"colorbar\":{\"outlinewidth\":0,\"ticks\":\"\"},\"colorscale\":[[0.0,\"#0d0887\"],[0.1111111111111111,\"#46039f\"],[0.2222222222222222,\"#7201a8\"],[0.3333333333333333,\"#9c179e\"],[0.4444444444444444,\"#bd3786\"],[0.5555555555555556,\"#d8576b\"],[0.6666666666666666,\"#ed7953\"],[0.7777777777777778,\"#fb9f3a\"],[0.8888888888888888,\"#fdca26\"],[1.0,\"#f0f921\"]],\"type\":\"heatmapgl\"}],\"histogram\":[{\"marker\":{\"pattern\":{\"fillmode\":\"overlay\",\"size\":10,\"solidity\":0.2}},\"type\":\"histogram\"}],\"histogram2d\":[{\"colorbar\":{\"outlinewidth\":0,\"ticks\":\"\"},\"colorscale\":[[0.0,\"#0d0887\"],[0.1111111111111111,\"#46039f\"],[0.2222222222222222,\"#7201a8\"],[0.3333333333333333,\"#9c179e\"],[0.4444444444444444,\"#bd3786\"],[0.5555555555555556,\"#d8576b\"],[0.6666666666666666,\"#ed7953\"],[0.7777777777777778,\"#fb9f3a\"],[0.8888888888888888,\"#fdca26\"],[1.0,\"#f0f921\"]],\"type\":\"histogram2d\"}],\"histogram2dcontour\":[{\"colorbar\":{\"outlinewidth\":0,\"ticks\":\"\"},\"colorscale\":[[0.0,\"#0d0887\"],[0.1111111111111111,\"#46039f\"],[0.2222222222222222,\"#7201a8\"],[0.3333333333333333,\"#9c179e\"],[0.4444444444444444,\"#bd3786\"],[0.5555555555555556,\"#d8576b\"],[0.6666666666666666,\"#ed7953\"],[0.7777777777777778,\"#fb9f3a\"],[0.8888888888888888,\"#fdca26\"],[1.0,\"#f0f921\"]],\"type\":\"histogram2dcontour\"}],\"mesh3d\":[{\"colorbar\":{\"outlinewidth\":0,\"ticks\":\"\"},\"type\":\"mesh3d\"}],\"parcoords\":[{\"line\":{\"colorbar\":{\"outlinewidth\":0,\"ticks\":\"\"}},\"type\":\"parcoords\"}],\"pie\":[{\"automargin\":true,\"type\":\"pie\"}],\"scatter\":[{\"marker\":{\"colorbar\":{\"outlinewidth\":0,\"ticks\":\"\"}},\"type\":\"scatter\"}],\"scatter3d\":[{\"line\":{\"colorbar\":{\"outlinewidth\":0,\"ticks\":\"\"}},\"marker\":{\"colorbar\":{\"outlinewidth\":0,\"ticks\":\"\"}},\"type\":\"scatter3d\"}],\"scattercarpet\":[{\"marker\":{\"colorbar\":{\"outlinewidth\":0,\"ticks\":\"\"}},\"type\":\"scattercarpet\"}],\"scattergeo\":[{\"marker\":{\"colorbar\":{\"outlinewidth\":0,\"ticks\":\"\"}},\"type\":\"scattergeo\"}],\"scattergl\":[{\"marker\":{\"colorbar\":{\"outlinewidth\":0,\"ticks\":\"\"}},\"type\":\"scattergl\"}],\"scattermapbox\":[{\"marker\":{\"colorbar\":{\"outlinewidth\":0,\"ticks\":\"\"}},\"type\":\"scattermapbox\"}],\"scatterpolar\":[{\"marker\":{\"colorbar\":{\"outlinewidth\":0,\"ticks\":\"\"}},\"type\":\"scatterpolar\"}],\"scatterpolargl\":[{\"marker\":{\"colorbar\":{\"outlinewidth\":0,\"ticks\":\"\"}},\"type\":\"scatterpolargl\"}],\"scatterternary\":[{\"marker\":{\"colorbar\":{\"outlinewidth\":0,\"ticks\":\"\"}},\"type\":\"scatterternary\"}],\"surface\":[{\"colorbar\":{\"outlinewidth\":0,\"ticks\":\"\"},\"colorscale\":[[0.0,\"#0d0887\"],[0.1111111111111111,\"#46039f\"],[0.2222222222222222,\"#7201a8\"],[0.3333333333333333,\"#9c179e\"],[0.4444444444444444,\"#bd3786\"],[0.5555555555555556,\"#d8576b\"],[0.6666666666666666,\"#ed7953\"],[0.7777777777777778,\"#fb9f3a\"],[0.8888888888888888,\"#fdca26\"],[1.0,\"#f0f921\"]],\"type\":\"surface\"}],\"table\":[{\"cells\":{\"fill\":{\"color\":\"#EBF0F8\"},\"line\":{\"color\":\"white\"}},\"header\":{\"fill\":{\"color\":\"#C8D4E3\"},\"line\":{\"color\":\"white\"}},\"type\":\"table\"}]},\"layout\":{\"annotationdefaults\":{\"arrowcolor\":\"#2a3f5f\",\"arrowhead\":0,\"arrowwidth\":1},\"autotypenumbers\":\"strict\",\"coloraxis\":{\"colorbar\":{\"outlinewidth\":0,\"ticks\":\"\"}},\"colorscale\":{\"diverging\":[[0,\"#8e0152\"],[0.1,\"#c51b7d\"],[0.2,\"#de77ae\"],[0.3,\"#f1b6da\"],[0.4,\"#fde0ef\"],[0.5,\"#f7f7f7\"],[0.6,\"#e6f5d0\"],[0.7,\"#b8e186\"],[0.8,\"#7fbc41\"],[0.9,\"#4d9221\"],[1,\"#276419\"]],\"sequential\":[[0.0,\"#0d0887\"],[0.1111111111111111,\"#46039f\"],[0.2222222222222222,\"#7201a8\"],[0.3333333333333333,\"#9c179e\"],[0.4444444444444444,\"#bd3786\"],[0.5555555555555556,\"#d8576b\"],[0.6666666666666666,\"#ed7953\"],[0.7777777777777778,\"#fb9f3a\"],[0.8888888888888888,\"#fdca26\"],[1.0,\"#f0f921\"]],\"sequentialminus\":[[0.0,\"#0d0887\"],[0.1111111111111111,\"#46039f\"],[0.2222222222222222,\"#7201a8\"],[0.3333333333333333,\"#9c179e\"],[0.4444444444444444,\"#bd3786\"],[0.5555555555555556,\"#d8576b\"],[0.6666666666666666,\"#ed7953\"],[0.7777777777777778,\"#fb9f3a\"],[0.8888888888888888,\"#fdca26\"],[1.0,\"#f0f921\"]]},\"colorway\":[\"#636efa\",\"#EF553B\",\"#00cc96\",\"#ab63fa\",\"#FFA15A\",\"#19d3f3\",\"#FF6692\",\"#B6E880\",\"#FF97FF\",\"#FECB52\"],\"font\":{\"color\":\"#2a3f5f\"},\"geo\":{\"bgcolor\":\"white\",\"lakecolor\":\"white\",\"landcolor\":\"#E5ECF6\",\"showlakes\":true,\"showland\":true,\"subunitcolor\":\"white\"},\"hoverlabel\":{\"align\":\"left\"},\"hovermode\":\"closest\",\"mapbox\":{\"style\":\"light\"},\"paper_bgcolor\":\"white\",\"plot_bgcolor\":\"#E5ECF6\",\"polar\":{\"angularaxis\":{\"gridcolor\":\"white\",\"linecolor\":\"white\",\"ticks\":\"\"},\"bgcolor\":\"#E5ECF6\",\"radialaxis\":{\"gridcolor\":\"white\",\"linecolor\":\"white\",\"ticks\":\"\"}},\"scene\":{\"xaxis\":{\"backgroundcolor\":\"#E5ECF6\",\"gridcolor\":\"white\",\"gridwidth\":2,\"linecolor\":\"white\",\"showbackground\":true,\"ticks\":\"\",\"zerolinecolor\":\"white\"},\"yaxis\":{\"backgroundcolor\":\"#E5ECF6\",\"gridcolor\":\"white\",\"gridwidth\":2,\"linecolor\":\"white\",\"showbackground\":true,\"ticks\":\"\",\"zerolinecolor\":\"white\"},\"zaxis\":{\"backgroundcolor\":\"#E5ECF6\",\"gridcolor\":\"white\",\"gridwidth\":2,\"linecolor\":\"white\",\"showbackground\":true,\"ticks\":\"\",\"zerolinecolor\":\"white\"}},\"shapedefaults\":{\"line\":{\"color\":\"#2a3f5f\"}},\"ternary\":{\"aaxis\":{\"gridcolor\":\"white\",\"linecolor\":\"white\",\"ticks\":\"\"},\"baxis\":{\"gridcolor\":\"white\",\"linecolor\":\"white\",\"ticks\":\"\"},\"bgcolor\":\"#E5ECF6\",\"caxis\":{\"gridcolor\":\"white\",\"linecolor\":\"white\",\"ticks\":\"\"}},\"title\":{\"x\":0.05},\"xaxis\":{\"automargin\":true,\"gridcolor\":\"white\",\"linecolor\":\"white\",\"ticks\":\"\",\"title\":{\"standoff\":15},\"zerolinecolor\":\"white\",\"zerolinewidth\":2},\"yaxis\":{\"automargin\":true,\"gridcolor\":\"white\",\"linecolor\":\"white\",\"ticks\":\"\",\"title\":{\"standoff\":15},\"zerolinecolor\":\"white\",\"zerolinewidth\":2}}},\"xaxis\":{\"anchor\":\"y\",\"domain\":[0.0,1.0],\"title\":{\"text\":\"home_age_at_sale\"}},\"yaxis\":{\"anchor\":\"x\",\"domain\":[0.0,1.0]}},                        {\"responsive\": true}                    ).then(function(){\n",
       "                            \n",
       "var gd = document.getElementById('f982b074-1e8b-4013-a415-3885f8a11a8c');\n",
       "var x = new MutationObserver(function (mutations, observer) {{\n",
       "        var display = window.getComputedStyle(gd).display;\n",
       "        if (!display || display === 'none') {{\n",
       "            console.log([gd, 'removed!']);\n",
       "            Plotly.purge(gd);\n",
       "            observer.disconnect();\n",
       "        }}\n",
       "}});\n",
       "\n",
       "// Listen for the removal of the full notebook cells\n",
       "var notebookContainer = gd.closest('#notebook-container');\n",
       "if (notebookContainer) {{\n",
       "    x.observe(notebookContainer, {childList: true});\n",
       "}}\n",
       "\n",
       "// Listen for the clearing of the current output cell\n",
       "var outputEl = gd.closest('.output');\n",
       "if (outputEl) {{\n",
       "    x.observe(outputEl, {childList: true});\n",
       "}}\n",
       "\n",
       "                        })                };                });            </script>        </div>"
      ]
     },
     "metadata": {},
     "output_type": "display_data"
    },
    {
     "data": {
      "application/vnd.plotly.v1+json": {
       "config": {
        "plotlyServerURL": "https://plot.ly"
       },
       "data": [
        {
         "alignmentgroup": "True",
         "hovertemplate": "remodel_age_at_sale=%{x}<extra></extra>",
         "legendgroup": "",
         "marker": {
          "color": "#636efa"
         },
         "name": "",
         "notched": false,
         "offsetgroup": "",
         "orientation": "h",
         "showlegend": false,
         "type": "box",
         "x": [
          5,
          31,
          6,
          36,
          8,
          14,
          2,
          36,
          58,
          58,
          43,
          0,
          46,
          0,
          48,
          6,
          40,
          39,
          4,
          44,
          0,
          57,
          6,
          31,
          9,
          2,
          10,
          2,
          9,
          58,
          58,
          2,
          1,
          51,
          2,
          1,
          14,
          19,
          3,
          53,
          41,
          48,
          24,
          28,
          47,
          5,
          6,
          1,
          1,
          41,
          10,
          56,
          47,
          19,
          52,
          44,
          9,
          2,
          0,
          36,
          2,
          11,
          1,
          60,
          11,
          2,
          21,
          4,
          60,
          53,
          34,
          1,
          11,
          7,
          60,
          36,
          52,
          7,
          42,
          28,
          41,
          8,
          1,
          47,
          13,
          14,
          4,
          0,
          27,
          12,
          56,
          45,
          3,
          9,
          10,
          16,
          7,
          42,
          60,
          51,
          9,
          25,
          30,
          1,
          57,
          4,
          12,
          58,
          2,
          33,
          34,
          10,
          0,
          54,
          5,
          8,
          47,
          0,
          20,
          0,
          37,
          57,
          50,
          15,
          11,
          24,
          31,
          57,
          40,
          15,
          40,
          9,
          5,
          7,
          13,
          38,
          40,
          17,
          8,
          12,
          39,
          1,
          58,
          10,
          43,
          0,
          16,
          9,
          3,
          56,
          32,
          0,
          35,
          33,
          56,
          58,
          56,
          0,
          5,
          0,
          24,
          4,
          5,
          51,
          3,
          9,
          16,
          0,
          3,
          25,
          57,
          50,
          19,
          47,
          22,
          6,
          18,
          48,
          0,
          1,
          7,
          56,
          1,
          5,
          15,
          13,
          18,
          22,
          30,
          6,
          13,
          3,
          10,
          2,
          36,
          33,
          0,
          16,
          59,
          4,
          6,
          31,
          56,
          4,
          59,
          19,
          45,
          48,
          18,
          44,
          58,
          1,
          0,
          11,
          33,
          10,
          4,
          56,
          2,
          0,
          0,
          7,
          31,
          38,
          6,
          38,
          12,
          38,
          43,
          3,
          51,
          13,
          34,
          34,
          8,
          37,
          6,
          7,
          0,
          60,
          2,
          10,
          56,
          29,
          8,
          18,
          56,
          52,
          4,
          1,
          44,
          0,
          4,
          16,
          53,
          7,
          5,
          3,
          7,
          52,
          47,
          0,
          11,
          9,
          4,
          27,
          9,
          11,
          53,
          31,
          0,
          3,
          3,
          21,
          25,
          2,
          7,
          59,
          0,
          31,
          18,
          0,
          1,
          0,
          15,
          0,
          25,
          35,
          43,
          4,
          0,
          8,
          1,
          12,
          56,
          22,
          57,
          9,
          39,
          5,
          53,
          8,
          4,
          34,
          6,
          2,
          16,
          58,
          59,
          2,
          12,
          7,
          56,
          44,
          16,
          4,
          29,
          1,
          16,
          29,
          0,
          3,
          20,
          1,
          3,
          57,
          15,
          46,
          15,
          59,
          43,
          15,
          5,
          4,
          10,
          43,
          1,
          5,
          8,
          11,
          8,
          59,
          56,
          3,
          34,
          56,
          9,
          49,
          4,
          0,
          0,
          20,
          58,
          7,
          6,
          12,
          17,
          31,
          48,
          8,
          29,
          26,
          6,
          2,
          30,
          12,
          46,
          46,
          56,
          4,
          6,
          49,
          26,
          56,
          3,
          59,
          10,
          2,
          0,
          9,
          60,
          0,
          1,
          59,
          15,
          5,
          10,
          33,
          8,
          0,
          58,
          7,
          48,
          56,
          57,
          54,
          37,
          45,
          57,
          2,
          12,
          1,
          11,
          8,
          11,
          16,
          58,
          32,
          1,
          0,
          51,
          51,
          1,
          60,
          15,
          0,
          28,
          57,
          57,
          42,
          10,
          9,
          54,
          10,
          52,
          17,
          20,
          51,
          0,
          21,
          37,
          10,
          36,
          10,
          36,
          13,
          56,
          5,
          5,
          9,
          1,
          53,
          16,
          0,
          13,
          53,
          8,
          7,
          56,
          5,
          1,
          31,
          10,
          1,
          30,
          34,
          58,
          14,
          12,
          59,
          0,
          2,
          44,
          13,
          31,
          2,
          37,
          12,
          1,
          15,
          25,
          30,
          3,
          0,
          7,
          44,
          10,
          1,
          1,
          7,
          1,
          2,
          4,
          8,
          6,
          2,
          42,
          36,
          36,
          7,
          32,
          56,
          0,
          48,
          13,
          59,
          14,
          58,
          5,
          22,
          34,
          3,
          42,
          13,
          35,
          57,
          12,
          0,
          3,
          50,
          9,
          0,
          48,
          24,
          57,
          0,
          37,
          12,
          9,
          5,
          8,
          50,
          56,
          -1,
          10,
          1,
          7,
          0,
          5,
          32,
          19,
          9,
          3,
          57,
          2,
          17,
          9,
          36,
          38,
          8,
          3,
          7,
          10,
          9,
          0,
          18,
          57,
          37,
          13,
          5,
          31,
          51,
          3,
          6,
          4,
          56,
          49,
          56,
          11,
          2,
          14,
          31,
          39,
          58,
          6,
          60,
          1,
          6,
          0,
          27,
          43,
          47,
          0,
          7,
          2,
          58,
          59,
          40,
          1,
          54,
          20,
          0,
          17,
          8,
          14,
          0,
          8,
          27,
          6,
          48,
          4,
          1,
          5,
          6,
          33,
          0,
          13,
          0,
          29,
          28,
          1,
          57,
          14,
          5,
          6,
          19,
          13,
          4,
          9,
          46,
          9,
          29,
          8,
          0,
          38,
          47,
          3,
          54,
          0,
          5,
          58,
          11,
          32,
          7,
          34,
          48,
          29,
          38,
          38,
          44,
          15,
          1,
          32,
          2,
          30,
          12,
          59,
          55,
          58,
          0,
          4,
          6,
          14,
          38,
          0,
          36,
          58,
          55,
          44,
          37,
          1,
          59,
          13,
          13,
          13,
          39,
          2,
          8,
          60,
          10,
          31,
          4,
          41,
          36,
          0,
          6,
          28,
          10,
          19,
          56,
          4,
          59,
          29,
          3,
          43,
          31,
          56,
          3,
          1,
          46,
          30,
          9,
          11,
          5,
          12,
          23,
          0,
          3,
          0,
          1,
          4,
          12,
          16,
          38,
          59,
          19,
          56,
          54,
          1,
          4,
          4,
          37,
          0,
          14,
          5,
          60,
          5,
          3,
          0,
          42,
          5,
          60,
          19,
          36,
          5,
          35,
          9,
          8,
          14,
          37,
          21,
          6,
          39,
          36,
          1,
          39,
          2,
          2,
          51,
          59,
          14,
          4,
          9,
          26,
          39,
          36,
          56,
          1,
          21,
          5,
          5,
          12,
          6,
          10,
          15,
          12,
          9,
          6,
          14,
          59,
          6,
          4,
          9,
          1,
          4,
          10,
          2,
          32,
          9,
          12,
          50,
          59,
          1,
          10,
          10,
          0,
          22,
          23,
          1,
          7,
          27,
          55,
          34,
          49,
          1,
          11,
          0,
          32,
          30,
          29,
          11,
          14,
          7,
          31,
          7,
          42,
          60,
          6,
          8,
          0,
          3,
          31,
          10,
          0,
          12,
          29,
          30,
          55,
          0,
          57,
          11,
          17,
          3,
          0,
          52,
          0,
          39,
          5,
          40,
          44,
          7,
          4,
          58,
          49,
          56,
          12,
          52,
          6,
          39,
          0,
          5,
          56,
          4,
          59,
          0,
          0,
          58,
          8,
          42,
          1,
          51,
          1,
          7,
          45,
          47,
          15,
          34,
          35,
          2,
          13,
          58,
          6,
          42,
          46,
          58,
          26,
          16,
          37,
          11,
          13,
          4,
          3,
          57,
          45,
          32,
          0,
          30,
          14,
          33,
          22,
          9,
          45,
          25,
          50,
          0,
          39,
          0,
          46,
          56,
          16,
          47,
          12,
          12,
          59,
          59,
          0,
          44,
          4,
          15,
          4,
          1,
          16,
          16,
          56,
          42,
          8,
          1,
          53,
          37,
          56,
          1,
          31,
          3,
          54,
          30,
          45,
          56,
          30,
          0,
          12,
          36,
          9,
          3,
          0,
          40,
          56,
          1,
          19,
          23,
          4,
          50,
          20,
          56,
          57,
          0,
          37,
          56,
          53,
          16,
          6,
          13,
          5,
          0,
          14,
          26,
          31,
          3,
          40,
          8,
          9,
          2,
          44,
          1,
          5,
          1,
          53,
          6,
          4,
          0,
          60,
          30,
          10,
          30,
          40,
          51,
          13,
          47,
          4,
          4,
          4,
          5,
          41,
          6,
          39,
          31,
          57,
          29,
          45,
          4,
          11,
          2,
          13,
          31,
          2,
          7,
          0,
          59,
          53,
          59,
          48,
          56,
          5,
          31,
          0,
          16,
          6,
          48,
          0,
          53,
          46,
          1,
          10,
          1,
          6,
          32,
          58,
          3,
          0,
          31,
          0,
          8,
          23,
          14,
          0,
          2,
          56,
          45,
          39,
          56,
          4,
          57,
          57,
          2,
          31,
          3,
          31,
          37,
          39,
          4,
          56,
          58,
          45,
          11,
          3,
          57,
          8,
          13,
          25,
          15,
          1,
          3,
          0,
          57,
          2,
          32,
          35,
          50,
          0,
          57,
          34,
          11,
          39,
          13,
          4,
          57,
          52,
          1,
          6,
          1,
          39,
          6,
          8,
          4,
          18,
          28,
          54,
          0,
          13,
          3,
          4,
          0,
          0,
          29,
          8,
          4,
          32,
          1,
          15,
          1,
          57,
          9,
          58,
          57,
          26,
          43,
          13,
          15,
          44,
          33,
          4,
          51,
          41,
          56,
          32,
          1,
          23,
          17,
          37,
          2,
          13,
          4,
          47,
          5,
          42,
          10,
          18,
          37,
          3,
          2,
          1,
          59,
          8,
          58,
          8,
          10,
          1,
          1,
          21,
          59,
          31,
          59,
          36,
          5,
          47,
          37,
          15,
          16,
          0,
          7,
          4,
          12,
          32,
          49,
          1,
          6,
          0,
          7,
          5,
          21,
          47,
          57,
          0,
          53,
          1,
          15,
          54,
          2,
          3,
          2,
          27,
          59,
          15,
          57,
          14,
          10,
          57,
          58,
          14,
          32,
          57,
          57,
          33,
          0,
          49,
          60,
          56,
          21,
          59,
          58,
          21,
          57,
          47,
          2,
          1,
          20,
          3,
          9,
          1,
          0,
          34,
          32,
          2,
          39,
          39,
          29,
          0,
          2,
          6,
          22,
          10,
          31,
          50,
          1,
          13,
          56,
          7,
          23,
          5,
          59,
          52,
          15,
          0,
          11,
          56,
          44,
          56,
          39,
          11,
          7,
          11,
          32,
          7,
          13,
          10,
          41,
          3,
          0,
          56,
          8,
          27,
          36,
          11,
          12,
          8,
          31,
          18,
          40,
          3,
          28,
          0,
          18,
          5,
          59,
          5,
          44,
          41,
          32,
          0,
          56,
          35,
          42,
          40,
          57,
          55,
          3,
          49,
          1,
          0,
          0,
          48,
          30,
          44,
          45,
          51,
          58,
          56,
          7,
          1,
          1,
          1,
          5,
          0,
          36,
          0,
          56,
          4,
          0,
          34,
          58,
          57,
          42,
          3,
          41,
          4,
          4,
          57,
          14,
          59,
          3,
          39,
          10,
          53,
          20,
          57,
          9,
          7,
          57,
          1,
          11,
          49,
          31,
          41,
          41,
          2,
          4,
          57,
          37,
          33,
          6,
          60,
          7,
          16,
          1,
          39,
          20,
          59,
          47,
          42,
          9,
          0,
          46,
          37,
          44,
          30,
          16,
          38,
          45,
          0,
          0,
          16,
          10,
          59,
          12,
          1,
          2,
          2,
          0,
          14,
          3,
          17,
          8,
          0,
          17,
          11,
          53,
          39,
          1,
          0,
          4,
          53,
          52,
          58,
          18,
          59,
          0,
          58,
          1,
          0,
          58,
          8,
          1,
          30,
          51,
          11,
          39,
          32,
          35,
          56,
          4,
          34,
          36,
          4,
          5,
          59,
          1,
          57,
          3,
          0,
          9,
          21,
          40,
          46,
          9,
          14,
          8,
          14,
          42,
          2,
          10,
          1,
          10,
          4,
          2,
          0,
          1,
          10,
          9,
          29,
          5,
          7,
          59,
          12,
          8,
          5,
          3,
          0,
          58,
          49,
          33,
          1,
          60,
          38,
          56,
          0,
          59,
          3,
          28,
          57,
          2,
          57,
          6,
          42,
          39,
          8,
          0,
          1,
          60,
          3,
          27,
          19,
          58,
          4,
          0,
          0,
          56,
          3,
          2,
          24,
          60,
          17,
          8,
          4,
          59,
          3,
          8,
          2,
          60,
          11,
          45,
          37,
          38,
          33,
          5,
          40,
          24,
          49,
          14,
          58,
          18,
          26,
          1,
          33,
          0,
          8,
          29,
          3,
          36,
          0,
          14,
          28,
          14,
          4,
          1,
          59,
          3,
          41,
          48,
          11,
          7,
          36,
          35,
          0,
          1,
          0,
          4,
          7,
          22,
          4,
          14,
          43
         ],
         "x0": " ",
         "xaxis": "x",
         "y0": " ",
         "yaxis": "y"
        }
       ],
       "layout": {
        "boxmode": "group",
        "legend": {
         "tracegroupgap": 0
        },
        "margin": {
         "t": 60
        },
        "template": {
         "data": {
          "bar": [
           {
            "error_x": {
             "color": "#2a3f5f"
            },
            "error_y": {
             "color": "#2a3f5f"
            },
            "marker": {
             "line": {
              "color": "#E5ECF6",
              "width": 0.5
             },
             "pattern": {
              "fillmode": "overlay",
              "size": 10,
              "solidity": 0.2
             }
            },
            "type": "bar"
           }
          ],
          "barpolar": [
           {
            "marker": {
             "line": {
              "color": "#E5ECF6",
              "width": 0.5
             },
             "pattern": {
              "fillmode": "overlay",
              "size": 10,
              "solidity": 0.2
             }
            },
            "type": "barpolar"
           }
          ],
          "carpet": [
           {
            "aaxis": {
             "endlinecolor": "#2a3f5f",
             "gridcolor": "white",
             "linecolor": "white",
             "minorgridcolor": "white",
             "startlinecolor": "#2a3f5f"
            },
            "baxis": {
             "endlinecolor": "#2a3f5f",
             "gridcolor": "white",
             "linecolor": "white",
             "minorgridcolor": "white",
             "startlinecolor": "#2a3f5f"
            },
            "type": "carpet"
           }
          ],
          "choropleth": [
           {
            "colorbar": {
             "outlinewidth": 0,
             "ticks": ""
            },
            "type": "choropleth"
           }
          ],
          "contour": [
           {
            "colorbar": {
             "outlinewidth": 0,
             "ticks": ""
            },
            "colorscale": [
             [
              0,
              "#0d0887"
             ],
             [
              0.1111111111111111,
              "#46039f"
             ],
             [
              0.2222222222222222,
              "#7201a8"
             ],
             [
              0.3333333333333333,
              "#9c179e"
             ],
             [
              0.4444444444444444,
              "#bd3786"
             ],
             [
              0.5555555555555556,
              "#d8576b"
             ],
             [
              0.6666666666666666,
              "#ed7953"
             ],
             [
              0.7777777777777778,
              "#fb9f3a"
             ],
             [
              0.8888888888888888,
              "#fdca26"
             ],
             [
              1,
              "#f0f921"
             ]
            ],
            "type": "contour"
           }
          ],
          "contourcarpet": [
           {
            "colorbar": {
             "outlinewidth": 0,
             "ticks": ""
            },
            "type": "contourcarpet"
           }
          ],
          "heatmap": [
           {
            "colorbar": {
             "outlinewidth": 0,
             "ticks": ""
            },
            "colorscale": [
             [
              0,
              "#0d0887"
             ],
             [
              0.1111111111111111,
              "#46039f"
             ],
             [
              0.2222222222222222,
              "#7201a8"
             ],
             [
              0.3333333333333333,
              "#9c179e"
             ],
             [
              0.4444444444444444,
              "#bd3786"
             ],
             [
              0.5555555555555556,
              "#d8576b"
             ],
             [
              0.6666666666666666,
              "#ed7953"
             ],
             [
              0.7777777777777778,
              "#fb9f3a"
             ],
             [
              0.8888888888888888,
              "#fdca26"
             ],
             [
              1,
              "#f0f921"
             ]
            ],
            "type": "heatmap"
           }
          ],
          "heatmapgl": [
           {
            "colorbar": {
             "outlinewidth": 0,
             "ticks": ""
            },
            "colorscale": [
             [
              0,
              "#0d0887"
             ],
             [
              0.1111111111111111,
              "#46039f"
             ],
             [
              0.2222222222222222,
              "#7201a8"
             ],
             [
              0.3333333333333333,
              "#9c179e"
             ],
             [
              0.4444444444444444,
              "#bd3786"
             ],
             [
              0.5555555555555556,
              "#d8576b"
             ],
             [
              0.6666666666666666,
              "#ed7953"
             ],
             [
              0.7777777777777778,
              "#fb9f3a"
             ],
             [
              0.8888888888888888,
              "#fdca26"
             ],
             [
              1,
              "#f0f921"
             ]
            ],
            "type": "heatmapgl"
           }
          ],
          "histogram": [
           {
            "marker": {
             "pattern": {
              "fillmode": "overlay",
              "size": 10,
              "solidity": 0.2
             }
            },
            "type": "histogram"
           }
          ],
          "histogram2d": [
           {
            "colorbar": {
             "outlinewidth": 0,
             "ticks": ""
            },
            "colorscale": [
             [
              0,
              "#0d0887"
             ],
             [
              0.1111111111111111,
              "#46039f"
             ],
             [
              0.2222222222222222,
              "#7201a8"
             ],
             [
              0.3333333333333333,
              "#9c179e"
             ],
             [
              0.4444444444444444,
              "#bd3786"
             ],
             [
              0.5555555555555556,
              "#d8576b"
             ],
             [
              0.6666666666666666,
              "#ed7953"
             ],
             [
              0.7777777777777778,
              "#fb9f3a"
             ],
             [
              0.8888888888888888,
              "#fdca26"
             ],
             [
              1,
              "#f0f921"
             ]
            ],
            "type": "histogram2d"
           }
          ],
          "histogram2dcontour": [
           {
            "colorbar": {
             "outlinewidth": 0,
             "ticks": ""
            },
            "colorscale": [
             [
              0,
              "#0d0887"
             ],
             [
              0.1111111111111111,
              "#46039f"
             ],
             [
              0.2222222222222222,
              "#7201a8"
             ],
             [
              0.3333333333333333,
              "#9c179e"
             ],
             [
              0.4444444444444444,
              "#bd3786"
             ],
             [
              0.5555555555555556,
              "#d8576b"
             ],
             [
              0.6666666666666666,
              "#ed7953"
             ],
             [
              0.7777777777777778,
              "#fb9f3a"
             ],
             [
              0.8888888888888888,
              "#fdca26"
             ],
             [
              1,
              "#f0f921"
             ]
            ],
            "type": "histogram2dcontour"
           }
          ],
          "mesh3d": [
           {
            "colorbar": {
             "outlinewidth": 0,
             "ticks": ""
            },
            "type": "mesh3d"
           }
          ],
          "parcoords": [
           {
            "line": {
             "colorbar": {
              "outlinewidth": 0,
              "ticks": ""
             }
            },
            "type": "parcoords"
           }
          ],
          "pie": [
           {
            "automargin": true,
            "type": "pie"
           }
          ],
          "scatter": [
           {
            "marker": {
             "colorbar": {
              "outlinewidth": 0,
              "ticks": ""
             }
            },
            "type": "scatter"
           }
          ],
          "scatter3d": [
           {
            "line": {
             "colorbar": {
              "outlinewidth": 0,
              "ticks": ""
             }
            },
            "marker": {
             "colorbar": {
              "outlinewidth": 0,
              "ticks": ""
             }
            },
            "type": "scatter3d"
           }
          ],
          "scattercarpet": [
           {
            "marker": {
             "colorbar": {
              "outlinewidth": 0,
              "ticks": ""
             }
            },
            "type": "scattercarpet"
           }
          ],
          "scattergeo": [
           {
            "marker": {
             "colorbar": {
              "outlinewidth": 0,
              "ticks": ""
             }
            },
            "type": "scattergeo"
           }
          ],
          "scattergl": [
           {
            "marker": {
             "colorbar": {
              "outlinewidth": 0,
              "ticks": ""
             }
            },
            "type": "scattergl"
           }
          ],
          "scattermapbox": [
           {
            "marker": {
             "colorbar": {
              "outlinewidth": 0,
              "ticks": ""
             }
            },
            "type": "scattermapbox"
           }
          ],
          "scatterpolar": [
           {
            "marker": {
             "colorbar": {
              "outlinewidth": 0,
              "ticks": ""
             }
            },
            "type": "scatterpolar"
           }
          ],
          "scatterpolargl": [
           {
            "marker": {
             "colorbar": {
              "outlinewidth": 0,
              "ticks": ""
             }
            },
            "type": "scatterpolargl"
           }
          ],
          "scatterternary": [
           {
            "marker": {
             "colorbar": {
              "outlinewidth": 0,
              "ticks": ""
             }
            },
            "type": "scatterternary"
           }
          ],
          "surface": [
           {
            "colorbar": {
             "outlinewidth": 0,
             "ticks": ""
            },
            "colorscale": [
             [
              0,
              "#0d0887"
             ],
             [
              0.1111111111111111,
              "#46039f"
             ],
             [
              0.2222222222222222,
              "#7201a8"
             ],
             [
              0.3333333333333333,
              "#9c179e"
             ],
             [
              0.4444444444444444,
              "#bd3786"
             ],
             [
              0.5555555555555556,
              "#d8576b"
             ],
             [
              0.6666666666666666,
              "#ed7953"
             ],
             [
              0.7777777777777778,
              "#fb9f3a"
             ],
             [
              0.8888888888888888,
              "#fdca26"
             ],
             [
              1,
              "#f0f921"
             ]
            ],
            "type": "surface"
           }
          ],
          "table": [
           {
            "cells": {
             "fill": {
              "color": "#EBF0F8"
             },
             "line": {
              "color": "white"
             }
            },
            "header": {
             "fill": {
              "color": "#C8D4E3"
             },
             "line": {
              "color": "white"
             }
            },
            "type": "table"
           }
          ]
         },
         "layout": {
          "annotationdefaults": {
           "arrowcolor": "#2a3f5f",
           "arrowhead": 0,
           "arrowwidth": 1
          },
          "autotypenumbers": "strict",
          "coloraxis": {
           "colorbar": {
            "outlinewidth": 0,
            "ticks": ""
           }
          },
          "colorscale": {
           "diverging": [
            [
             0,
             "#8e0152"
            ],
            [
             0.1,
             "#c51b7d"
            ],
            [
             0.2,
             "#de77ae"
            ],
            [
             0.3,
             "#f1b6da"
            ],
            [
             0.4,
             "#fde0ef"
            ],
            [
             0.5,
             "#f7f7f7"
            ],
            [
             0.6,
             "#e6f5d0"
            ],
            [
             0.7,
             "#b8e186"
            ],
            [
             0.8,
             "#7fbc41"
            ],
            [
             0.9,
             "#4d9221"
            ],
            [
             1,
             "#276419"
            ]
           ],
           "sequential": [
            [
             0,
             "#0d0887"
            ],
            [
             0.1111111111111111,
             "#46039f"
            ],
            [
             0.2222222222222222,
             "#7201a8"
            ],
            [
             0.3333333333333333,
             "#9c179e"
            ],
            [
             0.4444444444444444,
             "#bd3786"
            ],
            [
             0.5555555555555556,
             "#d8576b"
            ],
            [
             0.6666666666666666,
             "#ed7953"
            ],
            [
             0.7777777777777778,
             "#fb9f3a"
            ],
            [
             0.8888888888888888,
             "#fdca26"
            ],
            [
             1,
             "#f0f921"
            ]
           ],
           "sequentialminus": [
            [
             0,
             "#0d0887"
            ],
            [
             0.1111111111111111,
             "#46039f"
            ],
            [
             0.2222222222222222,
             "#7201a8"
            ],
            [
             0.3333333333333333,
             "#9c179e"
            ],
            [
             0.4444444444444444,
             "#bd3786"
            ],
            [
             0.5555555555555556,
             "#d8576b"
            ],
            [
             0.6666666666666666,
             "#ed7953"
            ],
            [
             0.7777777777777778,
             "#fb9f3a"
            ],
            [
             0.8888888888888888,
             "#fdca26"
            ],
            [
             1,
             "#f0f921"
            ]
           ]
          },
          "colorway": [
           "#636efa",
           "#EF553B",
           "#00cc96",
           "#ab63fa",
           "#FFA15A",
           "#19d3f3",
           "#FF6692",
           "#B6E880",
           "#FF97FF",
           "#FECB52"
          ],
          "font": {
           "color": "#2a3f5f"
          },
          "geo": {
           "bgcolor": "white",
           "lakecolor": "white",
           "landcolor": "#E5ECF6",
           "showlakes": true,
           "showland": true,
           "subunitcolor": "white"
          },
          "hoverlabel": {
           "align": "left"
          },
          "hovermode": "closest",
          "mapbox": {
           "style": "light"
          },
          "paper_bgcolor": "white",
          "plot_bgcolor": "#E5ECF6",
          "polar": {
           "angularaxis": {
            "gridcolor": "white",
            "linecolor": "white",
            "ticks": ""
           },
           "bgcolor": "#E5ECF6",
           "radialaxis": {
            "gridcolor": "white",
            "linecolor": "white",
            "ticks": ""
           }
          },
          "scene": {
           "xaxis": {
            "backgroundcolor": "#E5ECF6",
            "gridcolor": "white",
            "gridwidth": 2,
            "linecolor": "white",
            "showbackground": true,
            "ticks": "",
            "zerolinecolor": "white"
           },
           "yaxis": {
            "backgroundcolor": "#E5ECF6",
            "gridcolor": "white",
            "gridwidth": 2,
            "linecolor": "white",
            "showbackground": true,
            "ticks": "",
            "zerolinecolor": "white"
           },
           "zaxis": {
            "backgroundcolor": "#E5ECF6",
            "gridcolor": "white",
            "gridwidth": 2,
            "linecolor": "white",
            "showbackground": true,
            "ticks": "",
            "zerolinecolor": "white"
           }
          },
          "shapedefaults": {
           "line": {
            "color": "#2a3f5f"
           }
          },
          "ternary": {
           "aaxis": {
            "gridcolor": "white",
            "linecolor": "white",
            "ticks": ""
           },
           "baxis": {
            "gridcolor": "white",
            "linecolor": "white",
            "ticks": ""
           },
           "bgcolor": "#E5ECF6",
           "caxis": {
            "gridcolor": "white",
            "linecolor": "white",
            "ticks": ""
           }
          },
          "title": {
           "x": 0.05
          },
          "xaxis": {
           "automargin": true,
           "gridcolor": "white",
           "linecolor": "white",
           "ticks": "",
           "title": {
            "standoff": 15
           },
           "zerolinecolor": "white",
           "zerolinewidth": 2
          },
          "yaxis": {
           "automargin": true,
           "gridcolor": "white",
           "linecolor": "white",
           "ticks": "",
           "title": {
            "standoff": 15
           },
           "zerolinecolor": "white",
           "zerolinewidth": 2
          }
         }
        },
        "xaxis": {
         "anchor": "y",
         "domain": [
          0,
          1
         ],
         "title": {
          "text": "remodel_age_at_sale"
         }
        },
        "yaxis": {
         "anchor": "x",
         "domain": [
          0,
          1
         ]
        }
       }
      },
      "text/html": [
       "<div>                            <div id=\"861343e5-cb5b-40b0-b727-fd52eac2d567\" class=\"plotly-graph-div\" style=\"height:525px; width:100%;\"></div>            <script type=\"text/javascript\">                require([\"plotly\"], function(Plotly) {                    window.PLOTLYENV=window.PLOTLYENV || {};                                    if (document.getElementById(\"861343e5-cb5b-40b0-b727-fd52eac2d567\")) {                    Plotly.newPlot(                        \"861343e5-cb5b-40b0-b727-fd52eac2d567\",                        [{\"alignmentgroup\":\"True\",\"hovertemplate\":\"remodel_age_at_sale=%{x}<extra></extra>\",\"legendgroup\":\"\",\"marker\":{\"color\":\"#636efa\"},\"name\":\"\",\"notched\":false,\"offsetgroup\":\"\",\"orientation\":\"h\",\"showlegend\":false,\"type\":\"box\",\"x\":[5,31,6,36,8,14,2,36,58,58,43,0,46,0,48,6,40,39,4,44,0,57,6,31,9,2,10,2,9,58,58,2,1,51,2,1,14,19,3,53,41,48,24,28,47,5,6,1,1,41,10,56,47,19,52,44,9,2,0,36,2,11,1,60,11,2,21,4,60,53,34,1,11,7,60,36,52,7,42,28,41,8,1,47,13,14,4,0,27,12,56,45,3,9,10,16,7,42,60,51,9,25,30,1,57,4,12,58,2,33,34,10,0,54,5,8,47,0,20,0,37,57,50,15,11,24,31,57,40,15,40,9,5,7,13,38,40,17,8,12,39,1,58,10,43,0,16,9,3,56,32,0,35,33,56,58,56,0,5,0,24,4,5,51,3,9,16,0,3,25,57,50,19,47,22,6,18,48,0,1,7,56,1,5,15,13,18,22,30,6,13,3,10,2,36,33,0,16,59,4,6,31,56,4,59,19,45,48,18,44,58,1,0,11,33,10,4,56,2,0,0,7,31,38,6,38,12,38,43,3,51,13,34,34,8,37,6,7,0,60,2,10,56,29,8,18,56,52,4,1,44,0,4,16,53,7,5,3,7,52,47,0,11,9,4,27,9,11,53,31,0,3,3,21,25,2,7,59,0,31,18,0,1,0,15,0,25,35,43,4,0,8,1,12,56,22,57,9,39,5,53,8,4,34,6,2,16,58,59,2,12,7,56,44,16,4,29,1,16,29,0,3,20,1,3,57,15,46,15,59,43,15,5,4,10,43,1,5,8,11,8,59,56,3,34,56,9,49,4,0,0,20,58,7,6,12,17,31,48,8,29,26,6,2,30,12,46,46,56,4,6,49,26,56,3,59,10,2,0,9,60,0,1,59,15,5,10,33,8,0,58,7,48,56,57,54,37,45,57,2,12,1,11,8,11,16,58,32,1,0,51,51,1,60,15,0,28,57,57,42,10,9,54,10,52,17,20,51,0,21,37,10,36,10,36,13,56,5,5,9,1,53,16,0,13,53,8,7,56,5,1,31,10,1,30,34,58,14,12,59,0,2,44,13,31,2,37,12,1,15,25,30,3,0,7,44,10,1,1,7,1,2,4,8,6,2,42,36,36,7,32,56,0,48,13,59,14,58,5,22,34,3,42,13,35,57,12,0,3,50,9,0,48,24,57,0,37,12,9,5,8,50,56,-1,10,1,7,0,5,32,19,9,3,57,2,17,9,36,38,8,3,7,10,9,0,18,57,37,13,5,31,51,3,6,4,56,49,56,11,2,14,31,39,58,6,60,1,6,0,27,43,47,0,7,2,58,59,40,1,54,20,0,17,8,14,0,8,27,6,48,4,1,5,6,33,0,13,0,29,28,1,57,14,5,6,19,13,4,9,46,9,29,8,0,38,47,3,54,0,5,58,11,32,7,34,48,29,38,38,44,15,1,32,2,30,12,59,55,58,0,4,6,14,38,0,36,58,55,44,37,1,59,13,13,13,39,2,8,60,10,31,4,41,36,0,6,28,10,19,56,4,59,29,3,43,31,56,3,1,46,30,9,11,5,12,23,0,3,0,1,4,12,16,38,59,19,56,54,1,4,4,37,0,14,5,60,5,3,0,42,5,60,19,36,5,35,9,8,14,37,21,6,39,36,1,39,2,2,51,59,14,4,9,26,39,36,56,1,21,5,5,12,6,10,15,12,9,6,14,59,6,4,9,1,4,10,2,32,9,12,50,59,1,10,10,0,22,23,1,7,27,55,34,49,1,11,0,32,30,29,11,14,7,31,7,42,60,6,8,0,3,31,10,0,12,29,30,55,0,57,11,17,3,0,52,0,39,5,40,44,7,4,58,49,56,12,52,6,39,0,5,56,4,59,0,0,58,8,42,1,51,1,7,45,47,15,34,35,2,13,58,6,42,46,58,26,16,37,11,13,4,3,57,45,32,0,30,14,33,22,9,45,25,50,0,39,0,46,56,16,47,12,12,59,59,0,44,4,15,4,1,16,16,56,42,8,1,53,37,56,1,31,3,54,30,45,56,30,0,12,36,9,3,0,40,56,1,19,23,4,50,20,56,57,0,37,56,53,16,6,13,5,0,14,26,31,3,40,8,9,2,44,1,5,1,53,6,4,0,60,30,10,30,40,51,13,47,4,4,4,5,41,6,39,31,57,29,45,4,11,2,13,31,2,7,0,59,53,59,48,56,5,31,0,16,6,48,0,53,46,1,10,1,6,32,58,3,0,31,0,8,23,14,0,2,56,45,39,56,4,57,57,2,31,3,31,37,39,4,56,58,45,11,3,57,8,13,25,15,1,3,0,57,2,32,35,50,0,57,34,11,39,13,4,57,52,1,6,1,39,6,8,4,18,28,54,0,13,3,4,0,0,29,8,4,32,1,15,1,57,9,58,57,26,43,13,15,44,33,4,51,41,56,32,1,23,17,37,2,13,4,47,5,42,10,18,37,3,2,1,59,8,58,8,10,1,1,21,59,31,59,36,5,47,37,15,16,0,7,4,12,32,49,1,6,0,7,5,21,47,57,0,53,1,15,54,2,3,2,27,59,15,57,14,10,57,58,14,32,57,57,33,0,49,60,56,21,59,58,21,57,47,2,1,20,3,9,1,0,34,32,2,39,39,29,0,2,6,22,10,31,50,1,13,56,7,23,5,59,52,15,0,11,56,44,56,39,11,7,11,32,7,13,10,41,3,0,56,8,27,36,11,12,8,31,18,40,3,28,0,18,5,59,5,44,41,32,0,56,35,42,40,57,55,3,49,1,0,0,48,30,44,45,51,58,56,7,1,1,1,5,0,36,0,56,4,0,34,58,57,42,3,41,4,4,57,14,59,3,39,10,53,20,57,9,7,57,1,11,49,31,41,41,2,4,57,37,33,6,60,7,16,1,39,20,59,47,42,9,0,46,37,44,30,16,38,45,0,0,16,10,59,12,1,2,2,0,14,3,17,8,0,17,11,53,39,1,0,4,53,52,58,18,59,0,58,1,0,58,8,1,30,51,11,39,32,35,56,4,34,36,4,5,59,1,57,3,0,9,21,40,46,9,14,8,14,42,2,10,1,10,4,2,0,1,10,9,29,5,7,59,12,8,5,3,0,58,49,33,1,60,38,56,0,59,3,28,57,2,57,6,42,39,8,0,1,60,3,27,19,58,4,0,0,56,3,2,24,60,17,8,4,59,3,8,2,60,11,45,37,38,33,5,40,24,49,14,58,18,26,1,33,0,8,29,3,36,0,14,28,14,4,1,59,3,41,48,11,7,36,35,0,1,0,4,7,22,4,14,43],\"x0\":\" \",\"xaxis\":\"x\",\"y0\":\" \",\"yaxis\":\"y\"}],                        {\"boxmode\":\"group\",\"legend\":{\"tracegroupgap\":0},\"margin\":{\"t\":60},\"template\":{\"data\":{\"bar\":[{\"error_x\":{\"color\":\"#2a3f5f\"},\"error_y\":{\"color\":\"#2a3f5f\"},\"marker\":{\"line\":{\"color\":\"#E5ECF6\",\"width\":0.5},\"pattern\":{\"fillmode\":\"overlay\",\"size\":10,\"solidity\":0.2}},\"type\":\"bar\"}],\"barpolar\":[{\"marker\":{\"line\":{\"color\":\"#E5ECF6\",\"width\":0.5},\"pattern\":{\"fillmode\":\"overlay\",\"size\":10,\"solidity\":0.2}},\"type\":\"barpolar\"}],\"carpet\":[{\"aaxis\":{\"endlinecolor\":\"#2a3f5f\",\"gridcolor\":\"white\",\"linecolor\":\"white\",\"minorgridcolor\":\"white\",\"startlinecolor\":\"#2a3f5f\"},\"baxis\":{\"endlinecolor\":\"#2a3f5f\",\"gridcolor\":\"white\",\"linecolor\":\"white\",\"minorgridcolor\":\"white\",\"startlinecolor\":\"#2a3f5f\"},\"type\":\"carpet\"}],\"choropleth\":[{\"colorbar\":{\"outlinewidth\":0,\"ticks\":\"\"},\"type\":\"choropleth\"}],\"contour\":[{\"colorbar\":{\"outlinewidth\":0,\"ticks\":\"\"},\"colorscale\":[[0.0,\"#0d0887\"],[0.1111111111111111,\"#46039f\"],[0.2222222222222222,\"#7201a8\"],[0.3333333333333333,\"#9c179e\"],[0.4444444444444444,\"#bd3786\"],[0.5555555555555556,\"#d8576b\"],[0.6666666666666666,\"#ed7953\"],[0.7777777777777778,\"#fb9f3a\"],[0.8888888888888888,\"#fdca26\"],[1.0,\"#f0f921\"]],\"type\":\"contour\"}],\"contourcarpet\":[{\"colorbar\":{\"outlinewidth\":0,\"ticks\":\"\"},\"type\":\"contourcarpet\"}],\"heatmap\":[{\"colorbar\":{\"outlinewidth\":0,\"ticks\":\"\"},\"colorscale\":[[0.0,\"#0d0887\"],[0.1111111111111111,\"#46039f\"],[0.2222222222222222,\"#7201a8\"],[0.3333333333333333,\"#9c179e\"],[0.4444444444444444,\"#bd3786\"],[0.5555555555555556,\"#d8576b\"],[0.6666666666666666,\"#ed7953\"],[0.7777777777777778,\"#fb9f3a\"],[0.8888888888888888,\"#fdca26\"],[1.0,\"#f0f921\"]],\"type\":\"heatmap\"}],\"heatmapgl\":[{\"colorbar\":{\"outlinewidth\":0,\"ticks\":\"\"},\"colorscale\":[[0.0,\"#0d0887\"],[0.1111111111111111,\"#46039f\"],[0.2222222222222222,\"#7201a8\"],[0.3333333333333333,\"#9c179e\"],[0.4444444444444444,\"#bd3786\"],[0.5555555555555556,\"#d8576b\"],[0.6666666666666666,\"#ed7953\"],[0.7777777777777778,\"#fb9f3a\"],[0.8888888888888888,\"#fdca26\"],[1.0,\"#f0f921\"]],\"type\":\"heatmapgl\"}],\"histogram\":[{\"marker\":{\"pattern\":{\"fillmode\":\"overlay\",\"size\":10,\"solidity\":0.2}},\"type\":\"histogram\"}],\"histogram2d\":[{\"colorbar\":{\"outlinewidth\":0,\"ticks\":\"\"},\"colorscale\":[[0.0,\"#0d0887\"],[0.1111111111111111,\"#46039f\"],[0.2222222222222222,\"#7201a8\"],[0.3333333333333333,\"#9c179e\"],[0.4444444444444444,\"#bd3786\"],[0.5555555555555556,\"#d8576b\"],[0.6666666666666666,\"#ed7953\"],[0.7777777777777778,\"#fb9f3a\"],[0.8888888888888888,\"#fdca26\"],[1.0,\"#f0f921\"]],\"type\":\"histogram2d\"}],\"histogram2dcontour\":[{\"colorbar\":{\"outlinewidth\":0,\"ticks\":\"\"},\"colorscale\":[[0.0,\"#0d0887\"],[0.1111111111111111,\"#46039f\"],[0.2222222222222222,\"#7201a8\"],[0.3333333333333333,\"#9c179e\"],[0.4444444444444444,\"#bd3786\"],[0.5555555555555556,\"#d8576b\"],[0.6666666666666666,\"#ed7953\"],[0.7777777777777778,\"#fb9f3a\"],[0.8888888888888888,\"#fdca26\"],[1.0,\"#f0f921\"]],\"type\":\"histogram2dcontour\"}],\"mesh3d\":[{\"colorbar\":{\"outlinewidth\":0,\"ticks\":\"\"},\"type\":\"mesh3d\"}],\"parcoords\":[{\"line\":{\"colorbar\":{\"outlinewidth\":0,\"ticks\":\"\"}},\"type\":\"parcoords\"}],\"pie\":[{\"automargin\":true,\"type\":\"pie\"}],\"scatter\":[{\"marker\":{\"colorbar\":{\"outlinewidth\":0,\"ticks\":\"\"}},\"type\":\"scatter\"}],\"scatter3d\":[{\"line\":{\"colorbar\":{\"outlinewidth\":0,\"ticks\":\"\"}},\"marker\":{\"colorbar\":{\"outlinewidth\":0,\"ticks\":\"\"}},\"type\":\"scatter3d\"}],\"scattercarpet\":[{\"marker\":{\"colorbar\":{\"outlinewidth\":0,\"ticks\":\"\"}},\"type\":\"scattercarpet\"}],\"scattergeo\":[{\"marker\":{\"colorbar\":{\"outlinewidth\":0,\"ticks\":\"\"}},\"type\":\"scattergeo\"}],\"scattergl\":[{\"marker\":{\"colorbar\":{\"outlinewidth\":0,\"ticks\":\"\"}},\"type\":\"scattergl\"}],\"scattermapbox\":[{\"marker\":{\"colorbar\":{\"outlinewidth\":0,\"ticks\":\"\"}},\"type\":\"scattermapbox\"}],\"scatterpolar\":[{\"marker\":{\"colorbar\":{\"outlinewidth\":0,\"ticks\":\"\"}},\"type\":\"scatterpolar\"}],\"scatterpolargl\":[{\"marker\":{\"colorbar\":{\"outlinewidth\":0,\"ticks\":\"\"}},\"type\":\"scatterpolargl\"}],\"scatterternary\":[{\"marker\":{\"colorbar\":{\"outlinewidth\":0,\"ticks\":\"\"}},\"type\":\"scatterternary\"}],\"surface\":[{\"colorbar\":{\"outlinewidth\":0,\"ticks\":\"\"},\"colorscale\":[[0.0,\"#0d0887\"],[0.1111111111111111,\"#46039f\"],[0.2222222222222222,\"#7201a8\"],[0.3333333333333333,\"#9c179e\"],[0.4444444444444444,\"#bd3786\"],[0.5555555555555556,\"#d8576b\"],[0.6666666666666666,\"#ed7953\"],[0.7777777777777778,\"#fb9f3a\"],[0.8888888888888888,\"#fdca26\"],[1.0,\"#f0f921\"]],\"type\":\"surface\"}],\"table\":[{\"cells\":{\"fill\":{\"color\":\"#EBF0F8\"},\"line\":{\"color\":\"white\"}},\"header\":{\"fill\":{\"color\":\"#C8D4E3\"},\"line\":{\"color\":\"white\"}},\"type\":\"table\"}]},\"layout\":{\"annotationdefaults\":{\"arrowcolor\":\"#2a3f5f\",\"arrowhead\":0,\"arrowwidth\":1},\"autotypenumbers\":\"strict\",\"coloraxis\":{\"colorbar\":{\"outlinewidth\":0,\"ticks\":\"\"}},\"colorscale\":{\"diverging\":[[0,\"#8e0152\"],[0.1,\"#c51b7d\"],[0.2,\"#de77ae\"],[0.3,\"#f1b6da\"],[0.4,\"#fde0ef\"],[0.5,\"#f7f7f7\"],[0.6,\"#e6f5d0\"],[0.7,\"#b8e186\"],[0.8,\"#7fbc41\"],[0.9,\"#4d9221\"],[1,\"#276419\"]],\"sequential\":[[0.0,\"#0d0887\"],[0.1111111111111111,\"#46039f\"],[0.2222222222222222,\"#7201a8\"],[0.3333333333333333,\"#9c179e\"],[0.4444444444444444,\"#bd3786\"],[0.5555555555555556,\"#d8576b\"],[0.6666666666666666,\"#ed7953\"],[0.7777777777777778,\"#fb9f3a\"],[0.8888888888888888,\"#fdca26\"],[1.0,\"#f0f921\"]],\"sequentialminus\":[[0.0,\"#0d0887\"],[0.1111111111111111,\"#46039f\"],[0.2222222222222222,\"#7201a8\"],[0.3333333333333333,\"#9c179e\"],[0.4444444444444444,\"#bd3786\"],[0.5555555555555556,\"#d8576b\"],[0.6666666666666666,\"#ed7953\"],[0.7777777777777778,\"#fb9f3a\"],[0.8888888888888888,\"#fdca26\"],[1.0,\"#f0f921\"]]},\"colorway\":[\"#636efa\",\"#EF553B\",\"#00cc96\",\"#ab63fa\",\"#FFA15A\",\"#19d3f3\",\"#FF6692\",\"#B6E880\",\"#FF97FF\",\"#FECB52\"],\"font\":{\"color\":\"#2a3f5f\"},\"geo\":{\"bgcolor\":\"white\",\"lakecolor\":\"white\",\"landcolor\":\"#E5ECF6\",\"showlakes\":true,\"showland\":true,\"subunitcolor\":\"white\"},\"hoverlabel\":{\"align\":\"left\"},\"hovermode\":\"closest\",\"mapbox\":{\"style\":\"light\"},\"paper_bgcolor\":\"white\",\"plot_bgcolor\":\"#E5ECF6\",\"polar\":{\"angularaxis\":{\"gridcolor\":\"white\",\"linecolor\":\"white\",\"ticks\":\"\"},\"bgcolor\":\"#E5ECF6\",\"radialaxis\":{\"gridcolor\":\"white\",\"linecolor\":\"white\",\"ticks\":\"\"}},\"scene\":{\"xaxis\":{\"backgroundcolor\":\"#E5ECF6\",\"gridcolor\":\"white\",\"gridwidth\":2,\"linecolor\":\"white\",\"showbackground\":true,\"ticks\":\"\",\"zerolinecolor\":\"white\"},\"yaxis\":{\"backgroundcolor\":\"#E5ECF6\",\"gridcolor\":\"white\",\"gridwidth\":2,\"linecolor\":\"white\",\"showbackground\":true,\"ticks\":\"\",\"zerolinecolor\":\"white\"},\"zaxis\":{\"backgroundcolor\":\"#E5ECF6\",\"gridcolor\":\"white\",\"gridwidth\":2,\"linecolor\":\"white\",\"showbackground\":true,\"ticks\":\"\",\"zerolinecolor\":\"white\"}},\"shapedefaults\":{\"line\":{\"color\":\"#2a3f5f\"}},\"ternary\":{\"aaxis\":{\"gridcolor\":\"white\",\"linecolor\":\"white\",\"ticks\":\"\"},\"baxis\":{\"gridcolor\":\"white\",\"linecolor\":\"white\",\"ticks\":\"\"},\"bgcolor\":\"#E5ECF6\",\"caxis\":{\"gridcolor\":\"white\",\"linecolor\":\"white\",\"ticks\":\"\"}},\"title\":{\"x\":0.05},\"xaxis\":{\"automargin\":true,\"gridcolor\":\"white\",\"linecolor\":\"white\",\"ticks\":\"\",\"title\":{\"standoff\":15},\"zerolinecolor\":\"white\",\"zerolinewidth\":2},\"yaxis\":{\"automargin\":true,\"gridcolor\":\"white\",\"linecolor\":\"white\",\"ticks\":\"\",\"title\":{\"standoff\":15},\"zerolinecolor\":\"white\",\"zerolinewidth\":2}}},\"xaxis\":{\"anchor\":\"y\",\"domain\":[0.0,1.0],\"title\":{\"text\":\"remodel_age_at_sale\"}},\"yaxis\":{\"anchor\":\"x\",\"domain\":[0.0,1.0]}},                        {\"responsive\": true}                    ).then(function(){\n",
       "                            \n",
       "var gd = document.getElementById('861343e5-cb5b-40b0-b727-fd52eac2d567');\n",
       "var x = new MutationObserver(function (mutations, observer) {{\n",
       "        var display = window.getComputedStyle(gd).display;\n",
       "        if (!display || display === 'none') {{\n",
       "            console.log([gd, 'removed!']);\n",
       "            Plotly.purge(gd);\n",
       "            observer.disconnect();\n",
       "        }}\n",
       "}});\n",
       "\n",
       "// Listen for the removal of the full notebook cells\n",
       "var notebookContainer = gd.closest('#notebook-container');\n",
       "if (notebookContainer) {{\n",
       "    x.observe(notebookContainer, {childList: true});\n",
       "}}\n",
       "\n",
       "// Listen for the clearing of the current output cell\n",
       "var outputEl = gd.closest('.output');\n",
       "if (outputEl) {{\n",
       "    x.observe(outputEl, {childList: true});\n",
       "}}\n",
       "\n",
       "                        })                };                });            </script>        </div>"
      ]
     },
     "metadata": {},
     "output_type": "display_data"
    },
    {
     "data": {
      "application/vnd.plotly.v1+json": {
       "config": {
        "plotlyServerURL": "https://plot.ly"
       },
       "data": [
        {
         "alignmentgroup": "True",
         "hovertemplate": "garage_age_at_sale=%{x}<extra></extra>",
         "legendgroup": "",
         "marker": {
          "color": "#636efa"
         },
         "name": "",
         "notched": false,
         "offsetgroup": "",
         "orientation": "h",
         "showlegend": false,
         "type": "box",
         "x": [
          5,
          31,
          7,
          8,
          8,
          16,
          3,
          36,
          77,
          69,
          43,
          1,
          46,
          1,
          48,
          16,
          40,
          39,
          4,
          51,
          1,
          77,
          6,
          31,
          42,
          2,
          5,
          2,
          49,
          88,
          88,
          42,
          1,
          51,
          2,
          2,
          14,
          55,
          57,
          null,
          41,
          48,
          24,
          31,
          47,
          5,
          6,
          1,
          null,
          41,
          10,
          21,
          47,
          25,
          45,
          44,
          10,
          2,
          0,
          35,
          0,
          72,
          1,
          20,
          11,
          3,
          40,
          4,
          65,
          53,
          34,
          20,
          11,
          21,
          95,
          36,
          52,
          60,
          null,
          43,
          41,
          8,
          1,
          33,
          14,
          15,
          4,
          0,
          null,
          null,
          56,
          45,
          88,
          107,
          10,
          16,
          7,
          42,
          90,
          null,
          33,
          25,
          30,
          1,
          56,
          5,
          53,
          60,
          null,
          33,
          52,
          10,
          0,
          54,
          62,
          8,
          47,
          0,
          20,
          1,
          37,
          28,
          50,
          15,
          30,
          null,
          30,
          null,
          40,
          8,
          40,
          9,
          33,
          8,
          38,
          38,
          40,
          17,
          9,
          12,
          null,
          1,
          10,
          10,
          43,
          2,
          78,
          9,
          null,
          70,
          32,
          1,
          35,
          48,
          83,
          null,
          56,
          1,
          6,
          0,
          24,
          5,
          5,
          null,
          81,
          null,
          54,
          0,
          3,
          25,
          16,
          50,
          19,
          47,
          22,
          57,
          19,
          48,
          0,
          72,
          7,
          86,
          50,
          5,
          20,
          13,
          19,
          93,
          30,
          7,
          75,
          35,
          10,
          2,
          19,
          33,
          0,
          88,
          null,
          5,
          7,
          28,
          82,
          4,
          61,
          19,
          45,
          48,
          19,
          44,
          null,
          1,
          0,
          10,
          33,
          49,
          4,
          66,
          69,
          1,
          0,
          7,
          31,
          20,
          6,
          18,
          12,
          21,
          36,
          4,
          51,
          14,
          34,
          34,
          8,
          37,
          6,
          17,
          0,
          61,
          2,
          null,
          66,
          29,
          16,
          18,
          96,
          52,
          4,
          49,
          null,
          1,
          4,
          43,
          53,
          7,
          5,
          3,
          7,
          52,
          18,
          0,
          28,
          36,
          43,
          27,
          9,
          69,
          42,
          20,
          0,
          54,
          11,
          51,
          25,
          31,
          7,
          59,
          0,
          31,
          18,
          0,
          1,
          1,
          15,
          1,
          44,
          null,
          40,
          4,
          0,
          null,
          60,
          29,
          56,
          22,
          57,
          10,
          39,
          59,
          53,
          9,
          5,
          31,
          5,
          3,
          17,
          null,
          48,
          3,
          13,
          61,
          67,
          44,
          81,
          5,
          26,
          1,
          16,
          29,
          0,
          3,
          20,
          51,
          49,
          66,
          15,
          46,
          79,
          89,
          5,
          49,
          6,
          4,
          10,
          43,
          2,
          6,
          22,
          51,
          8,
          59,
          57,
          3,
          34,
          67,
          47,
          49,
          5,
          0,
          0,
          20,
          67,
          5,
          66,
          12,
          17,
          31,
          48,
          8,
          29,
          68,
          6,
          37,
          30,
          45,
          46,
          46,
          56,
          13,
          6,
          17,
          26,
          56,
          4,
          null,
          8,
          3,
          0,
          9,
          86,
          0,
          1,
          59,
          15,
          6,
          null,
          32,
          9,
          0,
          30,
          8,
          48,
          null,
          67,
          54,
          24,
          45,
          87,
          2,
          12,
          1,
          68,
          8,
          12,
          16,
          72,
          48,
          1,
          0,
          51,
          51,
          1,
          83,
          15,
          0,
          28,
          89,
          67,
          42,
          11,
          32,
          54,
          10,
          52,
          62,
          20,
          44,
          0,
          21,
          37,
          null,
          36,
          11,
          null,
          13,
          16,
          83,
          17,
          4,
          1,
          null,
          78,
          0,
          14,
          53,
          44,
          8,
          69,
          26,
          74,
          31,
          11,
          1,
          30,
          34,
          92,
          54,
          83,
          59,
          0,
          38,
          44,
          69,
          null,
          2,
          37,
          65,
          1,
          15,
          25,
          30,
          3,
          1,
          7,
          11,
          11,
          1,
          2,
          12,
          2,
          3,
          94,
          8,
          44,
          59,
          42,
          36,
          36,
          39,
          32,
          65,
          0,
          44,
          71,
          null,
          15,
          83,
          42,
          49,
          34,
          3,
          42,
          51,
          35,
          57,
          13,
          0,
          80,
          50,
          58,
          1,
          42,
          24,
          81,
          0,
          37,
          13,
          9,
          83,
          null,
          50,
          56,
          0,
          11,
          1,
          51,
          0,
          null,
          32,
          20,
          88,
          43,
          null,
          2,
          null,
          10,
          28,
          38,
          9,
          3,
          7,
          11,
          9,
          0,
          18,
          57,
          20,
          45,
          6,
          31,
          51,
          3,
          7,
          5,
          84,
          49,
          12,
          12,
          3,
          53,
          31,
          null,
          53,
          14,
          90,
          3,
          6,
          26,
          27,
          21,
          47,
          0,
          7,
          36,
          61,
          81,
          40,
          1,
          54,
          47,
          0,
          null,
          20,
          74,
          1,
          47,
          13,
          41,
          20,
          4,
          1,
          23,
          6,
          27,
          1,
          76,
          1,
          29,
          28,
          3,
          28,
          14,
          6,
          6,
          44,
          9,
          58,
          73,
          46,
          9,
          29,
          8,
          null,
          null,
          47,
          4,
          46,
          0,
          5,
          null,
          34,
          23,
          7,
          34,
          48,
          47,
          55,
          38,
          44,
          69,
          1,
          32,
          53,
          30,
          null,
          null,
          55,
          null,
          0,
          5,
          6,
          37,
          38,
          0,
          28,
          58,
          55,
          44,
          null,
          1,
          69,
          13,
          102,
          13,
          39,
          49,
          77,
          62,
          41,
          31,
          15,
          41,
          34,
          1,
          6,
          42,
          14,
          7,
          84,
          4,
          79,
          29,
          50,
          43,
          31,
          86,
          85,
          1,
          44,
          30,
          41,
          12,
          5,
          12,
          23,
          0,
          3,
          0,
          2,
          4,
          13,
          17,
          38,
          14,
          19,
          85,
          54,
          37,
          4,
          4,
          37,
          0,
          11,
          6,
          null,
          36,
          3,
          0,
          42,
          null,
          46,
          20,
          36,
          34,
          35,
          11,
          35,
          15,
          37,
          21,
          6,
          15,
          50,
          2,
          20,
          21,
          2,
          41,
          47,
          15,
          4,
          10,
          48,
          39,
          92,
          57,
          1,
          null,
          5,
          97,
          46,
          7,
          12,
          15,
          14,
          9,
          59,
          14,
          64,
          null,
          4,
          9,
          1,
          40,
          10,
          2,
          32,
          9,
          12,
          1,
          44,
          1,
          10,
          11,
          0,
          22,
          19,
          2,
          7,
          26,
          55,
          34,
          49,
          1,
          11,
          1,
          32,
          30,
          29,
          12,
          14,
          8,
          31,
          null,
          42,
          49,
          6,
          54,
          41,
          4,
          31,
          10,
          0,
          14,
          30,
          30,
          55,
          0,
          68,
          11,
          50,
          3,
          0,
          52,
          0,
          39,
          86,
          40,
          99,
          32,
          4,
          58,
          49,
          51,
          12,
          52,
          6,
          39,
          0,
          5,
          35,
          4,
          69,
          0,
          1,
          null,
          8,
          42,
          1,
          51,
          1,
          7,
          45,
          47,
          14,
          59,
          35,
          9,
          62,
          74,
          25,
          42,
          null,
          59,
          32,
          16,
          37,
          100,
          31,
          4,
          3,
          66,
          45,
          51,
          48,
          27,
          15,
          33,
          38,
          82,
          45,
          24,
          50,
          0,
          36,
          0,
          46,
          27,
          17,
          47,
          12,
          55,
          60,
          68,
          0,
          44,
          5,
          23,
          31,
          2,
          17,
          16,
          9,
          42,
          9,
          1,
          53,
          37,
          56,
          4,
          31,
          43,
          54,
          30,
          45,
          70,
          30,
          1,
          45,
          28,
          41,
          3,
          0,
          40,
          56,
          1,
          70,
          23,
          4,
          50,
          31,
          81,
          58,
          0,
          37,
          48,
          53,
          16,
          18,
          13,
          null,
          1,
          15,
          26,
          31,
          4,
          40,
          8,
          9,
          2,
          44,
          1,
          5,
          48,
          53,
          6,
          4,
          0,
          70,
          30,
          10,
          null,
          40,
          51,
          46,
          47,
          5,
          4,
          38,
          27,
          27,
          35,
          39,
          null,
          61,
          29,
          30,
          4,
          11,
          null,
          31,
          31,
          2,
          8,
          2,
          69,
          53,
          null,
          48,
          null,
          6,
          31,
          1,
          12,
          6,
          null,
          0,
          8,
          46,
          47,
          11,
          1,
          6,
          32,
          58,
          56,
          0,
          31,
          0,
          9,
          84,
          43,
          1,
          1,
          60,
          45,
          39,
          84,
          4,
          53,
          87,
          2,
          31,
          4,
          31,
          37,
          39,
          5,
          null,
          60,
          null,
          84,
          53,
          59,
          8,
          13,
          25,
          16,
          1,
          3,
          0,
          50,
          3,
          32,
          27,
          50,
          0,
          66,
          34,
          null,
          39,
          13,
          4,
          69,
          52,
          1,
          7,
          null,
          39,
          49,
          42,
          4,
          18,
          28,
          54,
          1,
          12,
          49,
          64,
          0,
          0,
          43,
          53,
          4,
          32,
          1,
          15,
          1,
          30,
          9,
          14,
          62,
          30,
          43,
          14,
          16,
          44,
          33,
          22,
          51,
          41,
          52,
          32,
          1,
          67,
          56,
          37,
          2,
          11,
          37,
          47,
          5,
          42,
          11,
          18,
          37,
          4,
          2,
          1,
          22,
          9,
          83,
          29,
          54,
          1,
          null,
          20,
          73,
          31,
          79,
          26,
          47,
          52,
          37,
          16,
          17,
          0,
          7,
          5,
          13,
          32,
          49,
          54,
          51,
          0,
          7,
          41,
          50,
          47,
          87,
          1,
          53,
          null,
          15,
          32,
          2,
          3,
          3,
          27,
          28,
          null,
          77,
          14,
          10,
          81,
          58,
          null,
          32,
          35,
          20,
          33,
          1,
          null,
          69,
          78,
          21,
          68,
          26,
          79,
          57,
          47,
          50,
          6,
          43,
          31,
          43,
          1,
          0,
          34,
          32,
          15,
          39,
          39,
          29,
          0,
          2,
          6,
          73,
          11,
          31,
          50,
          2,
          null,
          74,
          15,
          24,
          83,
          88,
          null,
          16,
          0,
          11,
          36,
          44,
          41,
          89,
          12,
          7,
          11,
          32,
          8,
          82,
          10,
          41,
          3,
          0,
          90,
          8,
          32,
          34,
          11,
          49,
          9,
          31,
          19,
          40,
          3,
          28,
          0,
          18,
          22,
          68,
          41,
          44,
          41,
          32,
          0,
          null,
          null,
          42,
          40,
          58,
          55,
          4,
          49,
          1,
          16,
          0,
          48,
          30,
          44,
          45,
          51,
          null,
          92,
          7,
          2,
          1,
          1,
          5,
          0,
          36,
          0,
          75,
          23,
          1,
          34,
          58,
          57,
          42,
          3,
          41,
          33,
          5,
          29,
          14,
          null,
          3,
          39,
          10,
          53,
          52,
          67,
          10,
          7,
          47,
          1,
          26,
          49,
          31,
          41,
          41,
          49,
          22,
          59,
          37,
          42,
          6,
          30,
          7,
          16,
          32,
          null,
          41,
          70,
          47,
          42,
          9,
          0,
          46,
          37,
          24,
          30,
          49,
          38,
          45,
          1,
          0,
          51,
          10,
          67,
          12,
          1,
          2,
          3,
          1,
          9,
          60,
          17,
          51,
          2,
          17,
          11,
          51,
          39,
          1,
          1,
          5,
          53,
          52,
          53,
          18,
          null,
          0,
          null,
          null,
          26,
          88,
          8,
          1,
          30,
          51,
          55,
          39,
          32,
          35,
          null,
          4,
          34,
          33,
          4,
          5,
          80,
          1,
          10,
          38,
          1,
          9,
          null,
          40,
          46,
          10,
          14,
          8,
          38,
          42,
          39,
          10,
          2,
          10,
          4,
          89,
          0,
          1,
          10,
          9,
          29,
          6,
          7,
          42,
          53,
          8,
          6,
          3,
          0,
          83,
          32,
          33,
          1,
          72,
          38,
          17,
          0,
          70,
          88,
          28,
          91,
          3,
          4,
          6,
          42,
          39,
          5,
          0,
          2,
          44,
          74,
          59,
          84,
          79,
          4,
          0,
          0,
          8,
          4,
          21,
          null,
          44,
          22,
          8,
          59,
          53,
          4,
          86,
          2,
          39,
          11,
          46,
          37,
          38,
          33,
          5,
          40,
          37,
          48,
          14,
          46,
          70,
          26,
          1,
          33,
          79,
          8,
          29,
          46,
          33,
          0,
          53,
          28,
          15,
          4,
          1,
          93,
          3,
          17,
          48,
          12,
          57,
          null,
          null,
          1,
          1,
          null,
          5,
          8,
          32,
          69,
          60,
          43
         ],
         "x0": " ",
         "xaxis": "x",
         "y0": " ",
         "yaxis": "y"
        }
       ],
       "layout": {
        "boxmode": "group",
        "legend": {
         "tracegroupgap": 0
        },
        "margin": {
         "t": 60
        },
        "template": {
         "data": {
          "bar": [
           {
            "error_x": {
             "color": "#2a3f5f"
            },
            "error_y": {
             "color": "#2a3f5f"
            },
            "marker": {
             "line": {
              "color": "#E5ECF6",
              "width": 0.5
             },
             "pattern": {
              "fillmode": "overlay",
              "size": 10,
              "solidity": 0.2
             }
            },
            "type": "bar"
           }
          ],
          "barpolar": [
           {
            "marker": {
             "line": {
              "color": "#E5ECF6",
              "width": 0.5
             },
             "pattern": {
              "fillmode": "overlay",
              "size": 10,
              "solidity": 0.2
             }
            },
            "type": "barpolar"
           }
          ],
          "carpet": [
           {
            "aaxis": {
             "endlinecolor": "#2a3f5f",
             "gridcolor": "white",
             "linecolor": "white",
             "minorgridcolor": "white",
             "startlinecolor": "#2a3f5f"
            },
            "baxis": {
             "endlinecolor": "#2a3f5f",
             "gridcolor": "white",
             "linecolor": "white",
             "minorgridcolor": "white",
             "startlinecolor": "#2a3f5f"
            },
            "type": "carpet"
           }
          ],
          "choropleth": [
           {
            "colorbar": {
             "outlinewidth": 0,
             "ticks": ""
            },
            "type": "choropleth"
           }
          ],
          "contour": [
           {
            "colorbar": {
             "outlinewidth": 0,
             "ticks": ""
            },
            "colorscale": [
             [
              0,
              "#0d0887"
             ],
             [
              0.1111111111111111,
              "#46039f"
             ],
             [
              0.2222222222222222,
              "#7201a8"
             ],
             [
              0.3333333333333333,
              "#9c179e"
             ],
             [
              0.4444444444444444,
              "#bd3786"
             ],
             [
              0.5555555555555556,
              "#d8576b"
             ],
             [
              0.6666666666666666,
              "#ed7953"
             ],
             [
              0.7777777777777778,
              "#fb9f3a"
             ],
             [
              0.8888888888888888,
              "#fdca26"
             ],
             [
              1,
              "#f0f921"
             ]
            ],
            "type": "contour"
           }
          ],
          "contourcarpet": [
           {
            "colorbar": {
             "outlinewidth": 0,
             "ticks": ""
            },
            "type": "contourcarpet"
           }
          ],
          "heatmap": [
           {
            "colorbar": {
             "outlinewidth": 0,
             "ticks": ""
            },
            "colorscale": [
             [
              0,
              "#0d0887"
             ],
             [
              0.1111111111111111,
              "#46039f"
             ],
             [
              0.2222222222222222,
              "#7201a8"
             ],
             [
              0.3333333333333333,
              "#9c179e"
             ],
             [
              0.4444444444444444,
              "#bd3786"
             ],
             [
              0.5555555555555556,
              "#d8576b"
             ],
             [
              0.6666666666666666,
              "#ed7953"
             ],
             [
              0.7777777777777778,
              "#fb9f3a"
             ],
             [
              0.8888888888888888,
              "#fdca26"
             ],
             [
              1,
              "#f0f921"
             ]
            ],
            "type": "heatmap"
           }
          ],
          "heatmapgl": [
           {
            "colorbar": {
             "outlinewidth": 0,
             "ticks": ""
            },
            "colorscale": [
             [
              0,
              "#0d0887"
             ],
             [
              0.1111111111111111,
              "#46039f"
             ],
             [
              0.2222222222222222,
              "#7201a8"
             ],
             [
              0.3333333333333333,
              "#9c179e"
             ],
             [
              0.4444444444444444,
              "#bd3786"
             ],
             [
              0.5555555555555556,
              "#d8576b"
             ],
             [
              0.6666666666666666,
              "#ed7953"
             ],
             [
              0.7777777777777778,
              "#fb9f3a"
             ],
             [
              0.8888888888888888,
              "#fdca26"
             ],
             [
              1,
              "#f0f921"
             ]
            ],
            "type": "heatmapgl"
           }
          ],
          "histogram": [
           {
            "marker": {
             "pattern": {
              "fillmode": "overlay",
              "size": 10,
              "solidity": 0.2
             }
            },
            "type": "histogram"
           }
          ],
          "histogram2d": [
           {
            "colorbar": {
             "outlinewidth": 0,
             "ticks": ""
            },
            "colorscale": [
             [
              0,
              "#0d0887"
             ],
             [
              0.1111111111111111,
              "#46039f"
             ],
             [
              0.2222222222222222,
              "#7201a8"
             ],
             [
              0.3333333333333333,
              "#9c179e"
             ],
             [
              0.4444444444444444,
              "#bd3786"
             ],
             [
              0.5555555555555556,
              "#d8576b"
             ],
             [
              0.6666666666666666,
              "#ed7953"
             ],
             [
              0.7777777777777778,
              "#fb9f3a"
             ],
             [
              0.8888888888888888,
              "#fdca26"
             ],
             [
              1,
              "#f0f921"
             ]
            ],
            "type": "histogram2d"
           }
          ],
          "histogram2dcontour": [
           {
            "colorbar": {
             "outlinewidth": 0,
             "ticks": ""
            },
            "colorscale": [
             [
              0,
              "#0d0887"
             ],
             [
              0.1111111111111111,
              "#46039f"
             ],
             [
              0.2222222222222222,
              "#7201a8"
             ],
             [
              0.3333333333333333,
              "#9c179e"
             ],
             [
              0.4444444444444444,
              "#bd3786"
             ],
             [
              0.5555555555555556,
              "#d8576b"
             ],
             [
              0.6666666666666666,
              "#ed7953"
             ],
             [
              0.7777777777777778,
              "#fb9f3a"
             ],
             [
              0.8888888888888888,
              "#fdca26"
             ],
             [
              1,
              "#f0f921"
             ]
            ],
            "type": "histogram2dcontour"
           }
          ],
          "mesh3d": [
           {
            "colorbar": {
             "outlinewidth": 0,
             "ticks": ""
            },
            "type": "mesh3d"
           }
          ],
          "parcoords": [
           {
            "line": {
             "colorbar": {
              "outlinewidth": 0,
              "ticks": ""
             }
            },
            "type": "parcoords"
           }
          ],
          "pie": [
           {
            "automargin": true,
            "type": "pie"
           }
          ],
          "scatter": [
           {
            "marker": {
             "colorbar": {
              "outlinewidth": 0,
              "ticks": ""
             }
            },
            "type": "scatter"
           }
          ],
          "scatter3d": [
           {
            "line": {
             "colorbar": {
              "outlinewidth": 0,
              "ticks": ""
             }
            },
            "marker": {
             "colorbar": {
              "outlinewidth": 0,
              "ticks": ""
             }
            },
            "type": "scatter3d"
           }
          ],
          "scattercarpet": [
           {
            "marker": {
             "colorbar": {
              "outlinewidth": 0,
              "ticks": ""
             }
            },
            "type": "scattercarpet"
           }
          ],
          "scattergeo": [
           {
            "marker": {
             "colorbar": {
              "outlinewidth": 0,
              "ticks": ""
             }
            },
            "type": "scattergeo"
           }
          ],
          "scattergl": [
           {
            "marker": {
             "colorbar": {
              "outlinewidth": 0,
              "ticks": ""
             }
            },
            "type": "scattergl"
           }
          ],
          "scattermapbox": [
           {
            "marker": {
             "colorbar": {
              "outlinewidth": 0,
              "ticks": ""
             }
            },
            "type": "scattermapbox"
           }
          ],
          "scatterpolar": [
           {
            "marker": {
             "colorbar": {
              "outlinewidth": 0,
              "ticks": ""
             }
            },
            "type": "scatterpolar"
           }
          ],
          "scatterpolargl": [
           {
            "marker": {
             "colorbar": {
              "outlinewidth": 0,
              "ticks": ""
             }
            },
            "type": "scatterpolargl"
           }
          ],
          "scatterternary": [
           {
            "marker": {
             "colorbar": {
              "outlinewidth": 0,
              "ticks": ""
             }
            },
            "type": "scatterternary"
           }
          ],
          "surface": [
           {
            "colorbar": {
             "outlinewidth": 0,
             "ticks": ""
            },
            "colorscale": [
             [
              0,
              "#0d0887"
             ],
             [
              0.1111111111111111,
              "#46039f"
             ],
             [
              0.2222222222222222,
              "#7201a8"
             ],
             [
              0.3333333333333333,
              "#9c179e"
             ],
             [
              0.4444444444444444,
              "#bd3786"
             ],
             [
              0.5555555555555556,
              "#d8576b"
             ],
             [
              0.6666666666666666,
              "#ed7953"
             ],
             [
              0.7777777777777778,
              "#fb9f3a"
             ],
             [
              0.8888888888888888,
              "#fdca26"
             ],
             [
              1,
              "#f0f921"
             ]
            ],
            "type": "surface"
           }
          ],
          "table": [
           {
            "cells": {
             "fill": {
              "color": "#EBF0F8"
             },
             "line": {
              "color": "white"
             }
            },
            "header": {
             "fill": {
              "color": "#C8D4E3"
             },
             "line": {
              "color": "white"
             }
            },
            "type": "table"
           }
          ]
         },
         "layout": {
          "annotationdefaults": {
           "arrowcolor": "#2a3f5f",
           "arrowhead": 0,
           "arrowwidth": 1
          },
          "autotypenumbers": "strict",
          "coloraxis": {
           "colorbar": {
            "outlinewidth": 0,
            "ticks": ""
           }
          },
          "colorscale": {
           "diverging": [
            [
             0,
             "#8e0152"
            ],
            [
             0.1,
             "#c51b7d"
            ],
            [
             0.2,
             "#de77ae"
            ],
            [
             0.3,
             "#f1b6da"
            ],
            [
             0.4,
             "#fde0ef"
            ],
            [
             0.5,
             "#f7f7f7"
            ],
            [
             0.6,
             "#e6f5d0"
            ],
            [
             0.7,
             "#b8e186"
            ],
            [
             0.8,
             "#7fbc41"
            ],
            [
             0.9,
             "#4d9221"
            ],
            [
             1,
             "#276419"
            ]
           ],
           "sequential": [
            [
             0,
             "#0d0887"
            ],
            [
             0.1111111111111111,
             "#46039f"
            ],
            [
             0.2222222222222222,
             "#7201a8"
            ],
            [
             0.3333333333333333,
             "#9c179e"
            ],
            [
             0.4444444444444444,
             "#bd3786"
            ],
            [
             0.5555555555555556,
             "#d8576b"
            ],
            [
             0.6666666666666666,
             "#ed7953"
            ],
            [
             0.7777777777777778,
             "#fb9f3a"
            ],
            [
             0.8888888888888888,
             "#fdca26"
            ],
            [
             1,
             "#f0f921"
            ]
           ],
           "sequentialminus": [
            [
             0,
             "#0d0887"
            ],
            [
             0.1111111111111111,
             "#46039f"
            ],
            [
             0.2222222222222222,
             "#7201a8"
            ],
            [
             0.3333333333333333,
             "#9c179e"
            ],
            [
             0.4444444444444444,
             "#bd3786"
            ],
            [
             0.5555555555555556,
             "#d8576b"
            ],
            [
             0.6666666666666666,
             "#ed7953"
            ],
            [
             0.7777777777777778,
             "#fb9f3a"
            ],
            [
             0.8888888888888888,
             "#fdca26"
            ],
            [
             1,
             "#f0f921"
            ]
           ]
          },
          "colorway": [
           "#636efa",
           "#EF553B",
           "#00cc96",
           "#ab63fa",
           "#FFA15A",
           "#19d3f3",
           "#FF6692",
           "#B6E880",
           "#FF97FF",
           "#FECB52"
          ],
          "font": {
           "color": "#2a3f5f"
          },
          "geo": {
           "bgcolor": "white",
           "lakecolor": "white",
           "landcolor": "#E5ECF6",
           "showlakes": true,
           "showland": true,
           "subunitcolor": "white"
          },
          "hoverlabel": {
           "align": "left"
          },
          "hovermode": "closest",
          "mapbox": {
           "style": "light"
          },
          "paper_bgcolor": "white",
          "plot_bgcolor": "#E5ECF6",
          "polar": {
           "angularaxis": {
            "gridcolor": "white",
            "linecolor": "white",
            "ticks": ""
           },
           "bgcolor": "#E5ECF6",
           "radialaxis": {
            "gridcolor": "white",
            "linecolor": "white",
            "ticks": ""
           }
          },
          "scene": {
           "xaxis": {
            "backgroundcolor": "#E5ECF6",
            "gridcolor": "white",
            "gridwidth": 2,
            "linecolor": "white",
            "showbackground": true,
            "ticks": "",
            "zerolinecolor": "white"
           },
           "yaxis": {
            "backgroundcolor": "#E5ECF6",
            "gridcolor": "white",
            "gridwidth": 2,
            "linecolor": "white",
            "showbackground": true,
            "ticks": "",
            "zerolinecolor": "white"
           },
           "zaxis": {
            "backgroundcolor": "#E5ECF6",
            "gridcolor": "white",
            "gridwidth": 2,
            "linecolor": "white",
            "showbackground": true,
            "ticks": "",
            "zerolinecolor": "white"
           }
          },
          "shapedefaults": {
           "line": {
            "color": "#2a3f5f"
           }
          },
          "ternary": {
           "aaxis": {
            "gridcolor": "white",
            "linecolor": "white",
            "ticks": ""
           },
           "baxis": {
            "gridcolor": "white",
            "linecolor": "white",
            "ticks": ""
           },
           "bgcolor": "#E5ECF6",
           "caxis": {
            "gridcolor": "white",
            "linecolor": "white",
            "ticks": ""
           }
          },
          "title": {
           "x": 0.05
          },
          "xaxis": {
           "automargin": true,
           "gridcolor": "white",
           "linecolor": "white",
           "ticks": "",
           "title": {
            "standoff": 15
           },
           "zerolinecolor": "white",
           "zerolinewidth": 2
          },
          "yaxis": {
           "automargin": true,
           "gridcolor": "white",
           "linecolor": "white",
           "ticks": "",
           "title": {
            "standoff": 15
           },
           "zerolinecolor": "white",
           "zerolinewidth": 2
          }
         }
        },
        "xaxis": {
         "anchor": "y",
         "domain": [
          0,
          1
         ],
         "title": {
          "text": "garage_age_at_sale"
         }
        },
        "yaxis": {
         "anchor": "x",
         "domain": [
          0,
          1
         ]
        }
       }
      },
      "text/html": [
       "<div>                            <div id=\"9c67e6e2-3a85-4e2e-86d3-a3b1bd7c8d38\" class=\"plotly-graph-div\" style=\"height:525px; width:100%;\"></div>            <script type=\"text/javascript\">                require([\"plotly\"], function(Plotly) {                    window.PLOTLYENV=window.PLOTLYENV || {};                                    if (document.getElementById(\"9c67e6e2-3a85-4e2e-86d3-a3b1bd7c8d38\")) {                    Plotly.newPlot(                        \"9c67e6e2-3a85-4e2e-86d3-a3b1bd7c8d38\",                        [{\"alignmentgroup\":\"True\",\"hovertemplate\":\"garage_age_at_sale=%{x}<extra></extra>\",\"legendgroup\":\"\",\"marker\":{\"color\":\"#636efa\"},\"name\":\"\",\"notched\":false,\"offsetgroup\":\"\",\"orientation\":\"h\",\"showlegend\":false,\"type\":\"box\",\"x\":[5.0,31.0,7.0,8.0,8.0,16.0,3.0,36.0,77.0,69.0,43.0,1.0,46.0,1.0,48.0,16.0,40.0,39.0,4.0,51.0,1.0,77.0,6.0,31.0,42.0,2.0,5.0,2.0,49.0,88.0,88.0,42.0,1.0,51.0,2.0,2.0,14.0,55.0,57.0,null,41.0,48.0,24.0,31.0,47.0,5.0,6.0,1.0,null,41.0,10.0,21.0,47.0,25.0,45.0,44.0,10.0,2.0,0.0,35.0,0.0,72.0,1.0,20.0,11.0,3.0,40.0,4.0,65.0,53.0,34.0,20.0,11.0,21.0,95.0,36.0,52.0,60.0,null,43.0,41.0,8.0,1.0,33.0,14.0,15.0,4.0,0.0,null,null,56.0,45.0,88.0,107.0,10.0,16.0,7.0,42.0,90.0,null,33.0,25.0,30.0,1.0,56.0,5.0,53.0,60.0,null,33.0,52.0,10.0,0.0,54.0,62.0,8.0,47.0,0.0,20.0,1.0,37.0,28.0,50.0,15.0,30.0,null,30.0,null,40.0,8.0,40.0,9.0,33.0,8.0,38.0,38.0,40.0,17.0,9.0,12.0,null,1.0,10.0,10.0,43.0,2.0,78.0,9.0,null,70.0,32.0,1.0,35.0,48.0,83.0,null,56.0,1.0,6.0,0.0,24.0,5.0,5.0,null,81.0,null,54.0,0.0,3.0,25.0,16.0,50.0,19.0,47.0,22.0,57.0,19.0,48.0,0.0,72.0,7.0,86.0,50.0,5.0,20.0,13.0,19.0,93.0,30.0,7.0,75.0,35.0,10.0,2.0,19.0,33.0,0.0,88.0,null,5.0,7.0,28.0,82.0,4.0,61.0,19.0,45.0,48.0,19.0,44.0,null,1.0,0.0,10.0,33.0,49.0,4.0,66.0,69.0,1.0,0.0,7.0,31.0,20.0,6.0,18.0,12.0,21.0,36.0,4.0,51.0,14.0,34.0,34.0,8.0,37.0,6.0,17.0,0.0,61.0,2.0,null,66.0,29.0,16.0,18.0,96.0,52.0,4.0,49.0,null,1.0,4.0,43.0,53.0,7.0,5.0,3.0,7.0,52.0,18.0,0.0,28.0,36.0,43.0,27.0,9.0,69.0,42.0,20.0,0.0,54.0,11.0,51.0,25.0,31.0,7.0,59.0,0.0,31.0,18.0,0.0,1.0,1.0,15.0,1.0,44.0,null,40.0,4.0,0.0,null,60.0,29.0,56.0,22.0,57.0,10.0,39.0,59.0,53.0,9.0,5.0,31.0,5.0,3.0,17.0,null,48.0,3.0,13.0,61.0,67.0,44.0,81.0,5.0,26.0,1.0,16.0,29.0,0.0,3.0,20.0,51.0,49.0,66.0,15.0,46.0,79.0,89.0,5.0,49.0,6.0,4.0,10.0,43.0,2.0,6.0,22.0,51.0,8.0,59.0,57.0,3.0,34.0,67.0,47.0,49.0,5.0,0.0,0.0,20.0,67.0,5.0,66.0,12.0,17.0,31.0,48.0,8.0,29.0,68.0,6.0,37.0,30.0,45.0,46.0,46.0,56.0,13.0,6.0,17.0,26.0,56.0,4.0,null,8.0,3.0,0.0,9.0,86.0,0.0,1.0,59.0,15.0,6.0,null,32.0,9.0,0.0,30.0,8.0,48.0,null,67.0,54.0,24.0,45.0,87.0,2.0,12.0,1.0,68.0,8.0,12.0,16.0,72.0,48.0,1.0,0.0,51.0,51.0,1.0,83.0,15.0,0.0,28.0,89.0,67.0,42.0,11.0,32.0,54.0,10.0,52.0,62.0,20.0,44.0,0.0,21.0,37.0,null,36.0,11.0,null,13.0,16.0,83.0,17.0,4.0,1.0,null,78.0,0.0,14.0,53.0,44.0,8.0,69.0,26.0,74.0,31.0,11.0,1.0,30.0,34.0,92.0,54.0,83.0,59.0,0.0,38.0,44.0,69.0,null,2.0,37.0,65.0,1.0,15.0,25.0,30.0,3.0,1.0,7.0,11.0,11.0,1.0,2.0,12.0,2.0,3.0,94.0,8.0,44.0,59.0,42.0,36.0,36.0,39.0,32.0,65.0,0.0,44.0,71.0,null,15.0,83.0,42.0,49.0,34.0,3.0,42.0,51.0,35.0,57.0,13.0,0.0,80.0,50.0,58.0,1.0,42.0,24.0,81.0,0.0,37.0,13.0,9.0,83.0,null,50.0,56.0,0.0,11.0,1.0,51.0,0.0,null,32.0,20.0,88.0,43.0,null,2.0,null,10.0,28.0,38.0,9.0,3.0,7.0,11.0,9.0,0.0,18.0,57.0,20.0,45.0,6.0,31.0,51.0,3.0,7.0,5.0,84.0,49.0,12.0,12.0,3.0,53.0,31.0,null,53.0,14.0,90.0,3.0,6.0,26.0,27.0,21.0,47.0,0.0,7.0,36.0,61.0,81.0,40.0,1.0,54.0,47.0,0.0,null,20.0,74.0,1.0,47.0,13.0,41.0,20.0,4.0,1.0,23.0,6.0,27.0,1.0,76.0,1.0,29.0,28.0,3.0,28.0,14.0,6.0,6.0,44.0,9.0,58.0,73.0,46.0,9.0,29.0,8.0,null,null,47.0,4.0,46.0,0.0,5.0,null,34.0,23.0,7.0,34.0,48.0,47.0,55.0,38.0,44.0,69.0,1.0,32.0,53.0,30.0,null,null,55.0,null,0.0,5.0,6.0,37.0,38.0,0.0,28.0,58.0,55.0,44.0,null,1.0,69.0,13.0,102.0,13.0,39.0,49.0,77.0,62.0,41.0,31.0,15.0,41.0,34.0,1.0,6.0,42.0,14.0,7.0,84.0,4.0,79.0,29.0,50.0,43.0,31.0,86.0,85.0,1.0,44.0,30.0,41.0,12.0,5.0,12.0,23.0,0.0,3.0,0.0,2.0,4.0,13.0,17.0,38.0,14.0,19.0,85.0,54.0,37.0,4.0,4.0,37.0,0.0,11.0,6.0,null,36.0,3.0,0.0,42.0,null,46.0,20.0,36.0,34.0,35.0,11.0,35.0,15.0,37.0,21.0,6.0,15.0,50.0,2.0,20.0,21.0,2.0,41.0,47.0,15.0,4.0,10.0,48.0,39.0,92.0,57.0,1.0,null,5.0,97.0,46.0,7.0,12.0,15.0,14.0,9.0,59.0,14.0,64.0,null,4.0,9.0,1.0,40.0,10.0,2.0,32.0,9.0,12.0,1.0,44.0,1.0,10.0,11.0,0.0,22.0,19.0,2.0,7.0,26.0,55.0,34.0,49.0,1.0,11.0,1.0,32.0,30.0,29.0,12.0,14.0,8.0,31.0,null,42.0,49.0,6.0,54.0,41.0,4.0,31.0,10.0,0.0,14.0,30.0,30.0,55.0,0.0,68.0,11.0,50.0,3.0,0.0,52.0,0.0,39.0,86.0,40.0,99.0,32.0,4.0,58.0,49.0,51.0,12.0,52.0,6.0,39.0,0.0,5.0,35.0,4.0,69.0,0.0,1.0,null,8.0,42.0,1.0,51.0,1.0,7.0,45.0,47.0,14.0,59.0,35.0,9.0,62.0,74.0,25.0,42.0,null,59.0,32.0,16.0,37.0,100.0,31.0,4.0,3.0,66.0,45.0,51.0,48.0,27.0,15.0,33.0,38.0,82.0,45.0,24.0,50.0,0.0,36.0,0.0,46.0,27.0,17.0,47.0,12.0,55.0,60.0,68.0,0.0,44.0,5.0,23.0,31.0,2.0,17.0,16.0,9.0,42.0,9.0,1.0,53.0,37.0,56.0,4.0,31.0,43.0,54.0,30.0,45.0,70.0,30.0,1.0,45.0,28.0,41.0,3.0,0.0,40.0,56.0,1.0,70.0,23.0,4.0,50.0,31.0,81.0,58.0,0.0,37.0,48.0,53.0,16.0,18.0,13.0,null,1.0,15.0,26.0,31.0,4.0,40.0,8.0,9.0,2.0,44.0,1.0,5.0,48.0,53.0,6.0,4.0,0.0,70.0,30.0,10.0,null,40.0,51.0,46.0,47.0,5.0,4.0,38.0,27.0,27.0,35.0,39.0,null,61.0,29.0,30.0,4.0,11.0,null,31.0,31.0,2.0,8.0,2.0,69.0,53.0,null,48.0,null,6.0,31.0,1.0,12.0,6.0,null,0.0,8.0,46.0,47.0,11.0,1.0,6.0,32.0,58.0,56.0,0.0,31.0,0.0,9.0,84.0,43.0,1.0,1.0,60.0,45.0,39.0,84.0,4.0,53.0,87.0,2.0,31.0,4.0,31.0,37.0,39.0,5.0,null,60.0,null,84.0,53.0,59.0,8.0,13.0,25.0,16.0,1.0,3.0,0.0,50.0,3.0,32.0,27.0,50.0,0.0,66.0,34.0,null,39.0,13.0,4.0,69.0,52.0,1.0,7.0,null,39.0,49.0,42.0,4.0,18.0,28.0,54.0,1.0,12.0,49.0,64.0,0.0,0.0,43.0,53.0,4.0,32.0,1.0,15.0,1.0,30.0,9.0,14.0,62.0,30.0,43.0,14.0,16.0,44.0,33.0,22.0,51.0,41.0,52.0,32.0,1.0,67.0,56.0,37.0,2.0,11.0,37.0,47.0,5.0,42.0,11.0,18.0,37.0,4.0,2.0,1.0,22.0,9.0,83.0,29.0,54.0,1.0,null,20.0,73.0,31.0,79.0,26.0,47.0,52.0,37.0,16.0,17.0,0.0,7.0,5.0,13.0,32.0,49.0,54.0,51.0,0.0,7.0,41.0,50.0,47.0,87.0,1.0,53.0,null,15.0,32.0,2.0,3.0,3.0,27.0,28.0,null,77.0,14.0,10.0,81.0,58.0,null,32.0,35.0,20.0,33.0,1.0,null,69.0,78.0,21.0,68.0,26.0,79.0,57.0,47.0,50.0,6.0,43.0,31.0,43.0,1.0,0.0,34.0,32.0,15.0,39.0,39.0,29.0,0.0,2.0,6.0,73.0,11.0,31.0,50.0,2.0,null,74.0,15.0,24.0,83.0,88.0,null,16.0,0.0,11.0,36.0,44.0,41.0,89.0,12.0,7.0,11.0,32.0,8.0,82.0,10.0,41.0,3.0,0.0,90.0,8.0,32.0,34.0,11.0,49.0,9.0,31.0,19.0,40.0,3.0,28.0,0.0,18.0,22.0,68.0,41.0,44.0,41.0,32.0,0.0,null,null,42.0,40.0,58.0,55.0,4.0,49.0,1.0,16.0,0.0,48.0,30.0,44.0,45.0,51.0,null,92.0,7.0,2.0,1.0,1.0,5.0,0.0,36.0,0.0,75.0,23.0,1.0,34.0,58.0,57.0,42.0,3.0,41.0,33.0,5.0,29.0,14.0,null,3.0,39.0,10.0,53.0,52.0,67.0,10.0,7.0,47.0,1.0,26.0,49.0,31.0,41.0,41.0,49.0,22.0,59.0,37.0,42.0,6.0,30.0,7.0,16.0,32.0,null,41.0,70.0,47.0,42.0,9.0,0.0,46.0,37.0,24.0,30.0,49.0,38.0,45.0,1.0,0.0,51.0,10.0,67.0,12.0,1.0,2.0,3.0,1.0,9.0,60.0,17.0,51.0,2.0,17.0,11.0,51.0,39.0,1.0,1.0,5.0,53.0,52.0,53.0,18.0,null,0.0,null,null,26.0,88.0,8.0,1.0,30.0,51.0,55.0,39.0,32.0,35.0,null,4.0,34.0,33.0,4.0,5.0,80.0,1.0,10.0,38.0,1.0,9.0,null,40.0,46.0,10.0,14.0,8.0,38.0,42.0,39.0,10.0,2.0,10.0,4.0,89.0,0.0,1.0,10.0,9.0,29.0,6.0,7.0,42.0,53.0,8.0,6.0,3.0,0.0,83.0,32.0,33.0,1.0,72.0,38.0,17.0,0.0,70.0,88.0,28.0,91.0,3.0,4.0,6.0,42.0,39.0,5.0,0.0,2.0,44.0,74.0,59.0,84.0,79.0,4.0,0.0,0.0,8.0,4.0,21.0,null,44.0,22.0,8.0,59.0,53.0,4.0,86.0,2.0,39.0,11.0,46.0,37.0,38.0,33.0,5.0,40.0,37.0,48.0,14.0,46.0,70.0,26.0,1.0,33.0,79.0,8.0,29.0,46.0,33.0,0.0,53.0,28.0,15.0,4.0,1.0,93.0,3.0,17.0,48.0,12.0,57.0,null,null,1.0,1.0,null,5.0,8.0,32.0,69.0,60.0,43.0],\"x0\":\" \",\"xaxis\":\"x\",\"y0\":\" \",\"yaxis\":\"y\"}],                        {\"boxmode\":\"group\",\"legend\":{\"tracegroupgap\":0},\"margin\":{\"t\":60},\"template\":{\"data\":{\"bar\":[{\"error_x\":{\"color\":\"#2a3f5f\"},\"error_y\":{\"color\":\"#2a3f5f\"},\"marker\":{\"line\":{\"color\":\"#E5ECF6\",\"width\":0.5},\"pattern\":{\"fillmode\":\"overlay\",\"size\":10,\"solidity\":0.2}},\"type\":\"bar\"}],\"barpolar\":[{\"marker\":{\"line\":{\"color\":\"#E5ECF6\",\"width\":0.5},\"pattern\":{\"fillmode\":\"overlay\",\"size\":10,\"solidity\":0.2}},\"type\":\"barpolar\"}],\"carpet\":[{\"aaxis\":{\"endlinecolor\":\"#2a3f5f\",\"gridcolor\":\"white\",\"linecolor\":\"white\",\"minorgridcolor\":\"white\",\"startlinecolor\":\"#2a3f5f\"},\"baxis\":{\"endlinecolor\":\"#2a3f5f\",\"gridcolor\":\"white\",\"linecolor\":\"white\",\"minorgridcolor\":\"white\",\"startlinecolor\":\"#2a3f5f\"},\"type\":\"carpet\"}],\"choropleth\":[{\"colorbar\":{\"outlinewidth\":0,\"ticks\":\"\"},\"type\":\"choropleth\"}],\"contour\":[{\"colorbar\":{\"outlinewidth\":0,\"ticks\":\"\"},\"colorscale\":[[0.0,\"#0d0887\"],[0.1111111111111111,\"#46039f\"],[0.2222222222222222,\"#7201a8\"],[0.3333333333333333,\"#9c179e\"],[0.4444444444444444,\"#bd3786\"],[0.5555555555555556,\"#d8576b\"],[0.6666666666666666,\"#ed7953\"],[0.7777777777777778,\"#fb9f3a\"],[0.8888888888888888,\"#fdca26\"],[1.0,\"#f0f921\"]],\"type\":\"contour\"}],\"contourcarpet\":[{\"colorbar\":{\"outlinewidth\":0,\"ticks\":\"\"},\"type\":\"contourcarpet\"}],\"heatmap\":[{\"colorbar\":{\"outlinewidth\":0,\"ticks\":\"\"},\"colorscale\":[[0.0,\"#0d0887\"],[0.1111111111111111,\"#46039f\"],[0.2222222222222222,\"#7201a8\"],[0.3333333333333333,\"#9c179e\"],[0.4444444444444444,\"#bd3786\"],[0.5555555555555556,\"#d8576b\"],[0.6666666666666666,\"#ed7953\"],[0.7777777777777778,\"#fb9f3a\"],[0.8888888888888888,\"#fdca26\"],[1.0,\"#f0f921\"]],\"type\":\"heatmap\"}],\"heatmapgl\":[{\"colorbar\":{\"outlinewidth\":0,\"ticks\":\"\"},\"colorscale\":[[0.0,\"#0d0887\"],[0.1111111111111111,\"#46039f\"],[0.2222222222222222,\"#7201a8\"],[0.3333333333333333,\"#9c179e\"],[0.4444444444444444,\"#bd3786\"],[0.5555555555555556,\"#d8576b\"],[0.6666666666666666,\"#ed7953\"],[0.7777777777777778,\"#fb9f3a\"],[0.8888888888888888,\"#fdca26\"],[1.0,\"#f0f921\"]],\"type\":\"heatmapgl\"}],\"histogram\":[{\"marker\":{\"pattern\":{\"fillmode\":\"overlay\",\"size\":10,\"solidity\":0.2}},\"type\":\"histogram\"}],\"histogram2d\":[{\"colorbar\":{\"outlinewidth\":0,\"ticks\":\"\"},\"colorscale\":[[0.0,\"#0d0887\"],[0.1111111111111111,\"#46039f\"],[0.2222222222222222,\"#7201a8\"],[0.3333333333333333,\"#9c179e\"],[0.4444444444444444,\"#bd3786\"],[0.5555555555555556,\"#d8576b\"],[0.6666666666666666,\"#ed7953\"],[0.7777777777777778,\"#fb9f3a\"],[0.8888888888888888,\"#fdca26\"],[1.0,\"#f0f921\"]],\"type\":\"histogram2d\"}],\"histogram2dcontour\":[{\"colorbar\":{\"outlinewidth\":0,\"ticks\":\"\"},\"colorscale\":[[0.0,\"#0d0887\"],[0.1111111111111111,\"#46039f\"],[0.2222222222222222,\"#7201a8\"],[0.3333333333333333,\"#9c179e\"],[0.4444444444444444,\"#bd3786\"],[0.5555555555555556,\"#d8576b\"],[0.6666666666666666,\"#ed7953\"],[0.7777777777777778,\"#fb9f3a\"],[0.8888888888888888,\"#fdca26\"],[1.0,\"#f0f921\"]],\"type\":\"histogram2dcontour\"}],\"mesh3d\":[{\"colorbar\":{\"outlinewidth\":0,\"ticks\":\"\"},\"type\":\"mesh3d\"}],\"parcoords\":[{\"line\":{\"colorbar\":{\"outlinewidth\":0,\"ticks\":\"\"}},\"type\":\"parcoords\"}],\"pie\":[{\"automargin\":true,\"type\":\"pie\"}],\"scatter\":[{\"marker\":{\"colorbar\":{\"outlinewidth\":0,\"ticks\":\"\"}},\"type\":\"scatter\"}],\"scatter3d\":[{\"line\":{\"colorbar\":{\"outlinewidth\":0,\"ticks\":\"\"}},\"marker\":{\"colorbar\":{\"outlinewidth\":0,\"ticks\":\"\"}},\"type\":\"scatter3d\"}],\"scattercarpet\":[{\"marker\":{\"colorbar\":{\"outlinewidth\":0,\"ticks\":\"\"}},\"type\":\"scattercarpet\"}],\"scattergeo\":[{\"marker\":{\"colorbar\":{\"outlinewidth\":0,\"ticks\":\"\"}},\"type\":\"scattergeo\"}],\"scattergl\":[{\"marker\":{\"colorbar\":{\"outlinewidth\":0,\"ticks\":\"\"}},\"type\":\"scattergl\"}],\"scattermapbox\":[{\"marker\":{\"colorbar\":{\"outlinewidth\":0,\"ticks\":\"\"}},\"type\":\"scattermapbox\"}],\"scatterpolar\":[{\"marker\":{\"colorbar\":{\"outlinewidth\":0,\"ticks\":\"\"}},\"type\":\"scatterpolar\"}],\"scatterpolargl\":[{\"marker\":{\"colorbar\":{\"outlinewidth\":0,\"ticks\":\"\"}},\"type\":\"scatterpolargl\"}],\"scatterternary\":[{\"marker\":{\"colorbar\":{\"outlinewidth\":0,\"ticks\":\"\"}},\"type\":\"scatterternary\"}],\"surface\":[{\"colorbar\":{\"outlinewidth\":0,\"ticks\":\"\"},\"colorscale\":[[0.0,\"#0d0887\"],[0.1111111111111111,\"#46039f\"],[0.2222222222222222,\"#7201a8\"],[0.3333333333333333,\"#9c179e\"],[0.4444444444444444,\"#bd3786\"],[0.5555555555555556,\"#d8576b\"],[0.6666666666666666,\"#ed7953\"],[0.7777777777777778,\"#fb9f3a\"],[0.8888888888888888,\"#fdca26\"],[1.0,\"#f0f921\"]],\"type\":\"surface\"}],\"table\":[{\"cells\":{\"fill\":{\"color\":\"#EBF0F8\"},\"line\":{\"color\":\"white\"}},\"header\":{\"fill\":{\"color\":\"#C8D4E3\"},\"line\":{\"color\":\"white\"}},\"type\":\"table\"}]},\"layout\":{\"annotationdefaults\":{\"arrowcolor\":\"#2a3f5f\",\"arrowhead\":0,\"arrowwidth\":1},\"autotypenumbers\":\"strict\",\"coloraxis\":{\"colorbar\":{\"outlinewidth\":0,\"ticks\":\"\"}},\"colorscale\":{\"diverging\":[[0,\"#8e0152\"],[0.1,\"#c51b7d\"],[0.2,\"#de77ae\"],[0.3,\"#f1b6da\"],[0.4,\"#fde0ef\"],[0.5,\"#f7f7f7\"],[0.6,\"#e6f5d0\"],[0.7,\"#b8e186\"],[0.8,\"#7fbc41\"],[0.9,\"#4d9221\"],[1,\"#276419\"]],\"sequential\":[[0.0,\"#0d0887\"],[0.1111111111111111,\"#46039f\"],[0.2222222222222222,\"#7201a8\"],[0.3333333333333333,\"#9c179e\"],[0.4444444444444444,\"#bd3786\"],[0.5555555555555556,\"#d8576b\"],[0.6666666666666666,\"#ed7953\"],[0.7777777777777778,\"#fb9f3a\"],[0.8888888888888888,\"#fdca26\"],[1.0,\"#f0f921\"]],\"sequentialminus\":[[0.0,\"#0d0887\"],[0.1111111111111111,\"#46039f\"],[0.2222222222222222,\"#7201a8\"],[0.3333333333333333,\"#9c179e\"],[0.4444444444444444,\"#bd3786\"],[0.5555555555555556,\"#d8576b\"],[0.6666666666666666,\"#ed7953\"],[0.7777777777777778,\"#fb9f3a\"],[0.8888888888888888,\"#fdca26\"],[1.0,\"#f0f921\"]]},\"colorway\":[\"#636efa\",\"#EF553B\",\"#00cc96\",\"#ab63fa\",\"#FFA15A\",\"#19d3f3\",\"#FF6692\",\"#B6E880\",\"#FF97FF\",\"#FECB52\"],\"font\":{\"color\":\"#2a3f5f\"},\"geo\":{\"bgcolor\":\"white\",\"lakecolor\":\"white\",\"landcolor\":\"#E5ECF6\",\"showlakes\":true,\"showland\":true,\"subunitcolor\":\"white\"},\"hoverlabel\":{\"align\":\"left\"},\"hovermode\":\"closest\",\"mapbox\":{\"style\":\"light\"},\"paper_bgcolor\":\"white\",\"plot_bgcolor\":\"#E5ECF6\",\"polar\":{\"angularaxis\":{\"gridcolor\":\"white\",\"linecolor\":\"white\",\"ticks\":\"\"},\"bgcolor\":\"#E5ECF6\",\"radialaxis\":{\"gridcolor\":\"white\",\"linecolor\":\"white\",\"ticks\":\"\"}},\"scene\":{\"xaxis\":{\"backgroundcolor\":\"#E5ECF6\",\"gridcolor\":\"white\",\"gridwidth\":2,\"linecolor\":\"white\",\"showbackground\":true,\"ticks\":\"\",\"zerolinecolor\":\"white\"},\"yaxis\":{\"backgroundcolor\":\"#E5ECF6\",\"gridcolor\":\"white\",\"gridwidth\":2,\"linecolor\":\"white\",\"showbackground\":true,\"ticks\":\"\",\"zerolinecolor\":\"white\"},\"zaxis\":{\"backgroundcolor\":\"#E5ECF6\",\"gridcolor\":\"white\",\"gridwidth\":2,\"linecolor\":\"white\",\"showbackground\":true,\"ticks\":\"\",\"zerolinecolor\":\"white\"}},\"shapedefaults\":{\"line\":{\"color\":\"#2a3f5f\"}},\"ternary\":{\"aaxis\":{\"gridcolor\":\"white\",\"linecolor\":\"white\",\"ticks\":\"\"},\"baxis\":{\"gridcolor\":\"white\",\"linecolor\":\"white\",\"ticks\":\"\"},\"bgcolor\":\"#E5ECF6\",\"caxis\":{\"gridcolor\":\"white\",\"linecolor\":\"white\",\"ticks\":\"\"}},\"title\":{\"x\":0.05},\"xaxis\":{\"automargin\":true,\"gridcolor\":\"white\",\"linecolor\":\"white\",\"ticks\":\"\",\"title\":{\"standoff\":15},\"zerolinecolor\":\"white\",\"zerolinewidth\":2},\"yaxis\":{\"automargin\":true,\"gridcolor\":\"white\",\"linecolor\":\"white\",\"ticks\":\"\",\"title\":{\"standoff\":15},\"zerolinecolor\":\"white\",\"zerolinewidth\":2}}},\"xaxis\":{\"anchor\":\"y\",\"domain\":[0.0,1.0],\"title\":{\"text\":\"garage_age_at_sale\"}},\"yaxis\":{\"anchor\":\"x\",\"domain\":[0.0,1.0]}},                        {\"responsive\": true}                    ).then(function(){\n",
       "                            \n",
       "var gd = document.getElementById('9c67e6e2-3a85-4e2e-86d3-a3b1bd7c8d38');\n",
       "var x = new MutationObserver(function (mutations, observer) {{\n",
       "        var display = window.getComputedStyle(gd).display;\n",
       "        if (!display || display === 'none') {{\n",
       "            console.log([gd, 'removed!']);\n",
       "            Plotly.purge(gd);\n",
       "            observer.disconnect();\n",
       "        }}\n",
       "}});\n",
       "\n",
       "// Listen for the removal of the full notebook cells\n",
       "var notebookContainer = gd.closest('#notebook-container');\n",
       "if (notebookContainer) {{\n",
       "    x.observe(notebookContainer, {childList: true});\n",
       "}}\n",
       "\n",
       "// Listen for the clearing of the current output cell\n",
       "var outputEl = gd.closest('.output');\n",
       "if (outputEl) {{\n",
       "    x.observe(outputEl, {childList: true});\n",
       "}}\n",
       "\n",
       "                        })                };                });            </script>        </div>"
      ]
     },
     "metadata": {},
     "output_type": "display_data"
    }
   ],
   "source": [
    "# create age features\n",
    "df['home_age_at_sale'] = df['YrSold'] - df['YearBuilt']\n",
    "df['remodel_age_at_sale'] = df['YrSold'] - df['YearRemodAdd']\n",
    "df['garage_age_at_sale'] = df['YrSold'] - df['GarageYrBlt']\n",
    "\n",
    "# create comparing lists\n",
    "age_ref_features = ['YearBuilt', 'YearRemodAdd', 'GarageYrBlt']\n",
    "age_features = ['home_age_at_sale', 'remodel_age_at_sale', 'garage_age_at_sale']\n",
    "\n",
    "# adding new groups to features list\n",
    "transfer_info[\"ageGroup\"] = {\n",
    "    \"newAge\": age_features,\n",
    "    \"referenceAge\": age_ref_features,\n",
    "}\n",
    "\n",
    "# visualize new features\n",
    "viz_data(age_features)"
   ]
  },
  {
   "cell_type": "code",
   "execution_count": 143,
   "id": "99e5ee03",
   "metadata": {},
   "outputs": [
    {
     "data": {
      "application/vnd.plotly.v1+json": {
       "config": {
        "plotlyServerURL": "https://plot.ly"
       },
       "data": [
        {
         "alignmentgroup": "True",
         "hovertemplate": "total_full_bathrooms=%{x}<extra></extra>",
         "legendgroup": "",
         "marker": {
          "color": "#636efa"
         },
         "name": "",
         "notched": false,
         "offsetgroup": "",
         "orientation": "h",
         "showlegend": false,
         "type": "box",
         "x": [
          3,
          2,
          3,
          2,
          3,
          2,
          3,
          3,
          2,
          2,
          2,
          4,
          2,
          2,
          2,
          1,
          2,
          2,
          2,
          1,
          3,
          1,
          2,
          2,
          2,
          2,
          1,
          3,
          2,
          1,
          1,
          1,
          2,
          1,
          3,
          3,
          1,
          1,
          2,
          2,
          2,
          1,
          2,
          2,
          2,
          3,
          2,
          2,
          2,
          2,
          2,
          1,
          2,
          2,
          1,
          2,
          3,
          2,
          3,
          1,
          2,
          1,
          2,
          2,
          3,
          2,
          3,
          3,
          1,
          2,
          3,
          2,
          2,
          2,
          2,
          2,
          1,
          2,
          2,
          1,
          2,
          3,
          2,
          1,
          2,
          2,
          2,
          2,
          1,
          2,
          1,
          1,
          2,
          2,
          3,
          2,
          2,
          2,
          1,
          2,
          3,
          2,
          2,
          2,
          1,
          2,
          1,
          1,
          2,
          2,
          2,
          2,
          3,
          3,
          3,
          2,
          1,
          1,
          4,
          2,
          2,
          1,
          1,
          2,
          2,
          2,
          2,
          1,
          1,
          1,
          2,
          3,
          2,
          3,
          2,
          2,
          2,
          3,
          2,
          3,
          1,
          3,
          2,
          3,
          3,
          2,
          2,
          2,
          2,
          1,
          1,
          3,
          2,
          2,
          1,
          1,
          1,
          2,
          2,
          3,
          2,
          3,
          2,
          1,
          2,
          3,
          2,
          2,
          2,
          2,
          1,
          2,
          3,
          2,
          3,
          3,
          2,
          3,
          3,
          1,
          2,
          1,
          1,
          2,
          1,
          2,
          3,
          2,
          2,
          2,
          2,
          2,
          3,
          2,
          1,
          2,
          3,
          3,
          1,
          3,
          2,
          2,
          2,
          2,
          1,
          2,
          1,
          2,
          3,
          2,
          2,
          2,
          3,
          1,
          1,
          1,
          3,
          1,
          1,
          2,
          2,
          2,
          3,
          1,
          2,
          2,
          2,
          1,
          1,
          2,
          2,
          3,
          1,
          2,
          3,
          1,
          2,
          2,
          2,
          1,
          3,
          1,
          1,
          1,
          3,
          2,
          2,
          1,
          2,
          2,
          1,
          3,
          2,
          2,
          2,
          2,
          2,
          3,
          2,
          1,
          2,
          2,
          2,
          2,
          1,
          2,
          3,
          2,
          1,
          2,
          2,
          2,
          2,
          3,
          1,
          2,
          2,
          1,
          2,
          2,
          2,
          2,
          3,
          2,
          3,
          2,
          1,
          1,
          1,
          1,
          2,
          3,
          1,
          3,
          2,
          2,
          1,
          2,
          1,
          1,
          2,
          2,
          2,
          2,
          3,
          3,
          3,
          1,
          1,
          3,
          2,
          2,
          2,
          4,
          1,
          3,
          3,
          2,
          3,
          3,
          3,
          3,
          3,
          2,
          2,
          1,
          3,
          1,
          2,
          1,
          2,
          2,
          3,
          3,
          3,
          4,
          3,
          3,
          3,
          1,
          2,
          1,
          2,
          2,
          1,
          1,
          1,
          3,
          3,
          3,
          2,
          2,
          1,
          1,
          1,
          3,
          3,
          2,
          1,
          3,
          2,
          2,
          3,
          1,
          3,
          1,
          2,
          1,
          1,
          2,
          2,
          2,
          2,
          2,
          2,
          1,
          1,
          3,
          2,
          2,
          2,
          3,
          2,
          1,
          3,
          2,
          1,
          2,
          2,
          3,
          2,
          3,
          1,
          1,
          1,
          2,
          1,
          2,
          1,
          3,
          2,
          2,
          1,
          2,
          2,
          3,
          1,
          2,
          2,
          3,
          1,
          2,
          3,
          1,
          2,
          2,
          1,
          3,
          2,
          2,
          4,
          2,
          1,
          3,
          2,
          1,
          3,
          1,
          3,
          3,
          1,
          1,
          2,
          2,
          2,
          3,
          1,
          1,
          1,
          1,
          3,
          2,
          2,
          2,
          3,
          1,
          2,
          2,
          2,
          1,
          1,
          3,
          3,
          2,
          4,
          1,
          1,
          2,
          1,
          2,
          3,
          2,
          1,
          1,
          2,
          2,
          2,
          1,
          2,
          2,
          2,
          2,
          2,
          3,
          3,
          2,
          3,
          2,
          3,
          1,
          3,
          3,
          2,
          3,
          2,
          1,
          2,
          2,
          2,
          2,
          1,
          2,
          2,
          1,
          1,
          1,
          4,
          3,
          1,
          1,
          1,
          2,
          2,
          3,
          2,
          2,
          2,
          2,
          2,
          2,
          2,
          2,
          2,
          1,
          1,
          3,
          2,
          2,
          3,
          1,
          2,
          1,
          2,
          4,
          3,
          2,
          1,
          3,
          2,
          4,
          3,
          2,
          1,
          1,
          2,
          2,
          2,
          1,
          1,
          3,
          3,
          2,
          3,
          2,
          3,
          2,
          1,
          2,
          2,
          2,
          2,
          1,
          2,
          2,
          3,
          1,
          2,
          1,
          2,
          2,
          2,
          2,
          2,
          2,
          3,
          2,
          2,
          2,
          2,
          2,
          2,
          2,
          2,
          2,
          1,
          1,
          2,
          2,
          2,
          2,
          1,
          2,
          2,
          3,
          1,
          3,
          2,
          2,
          3,
          1,
          2,
          3,
          2,
          2,
          1,
          3,
          1,
          0,
          3,
          3,
          3,
          1,
          3,
          2,
          3,
          2,
          2,
          4,
          2,
          2,
          3,
          2,
          3,
          1,
          2,
          2,
          3,
          1,
          2,
          3,
          2,
          2,
          1,
          2,
          2,
          1,
          1,
          2,
          1,
          2,
          1,
          2,
          2,
          1,
          2,
          2,
          1,
          2,
          1,
          3,
          1,
          3,
          3,
          2,
          3,
          2,
          1,
          1,
          1,
          2,
          2,
          2,
          2,
          1,
          3,
          1,
          2,
          1,
          1,
          2,
          2,
          3,
          2,
          3,
          2,
          2,
          2,
          3,
          2,
          1,
          3,
          3,
          2,
          3,
          2,
          2,
          3,
          1,
          2,
          2,
          2,
          1,
          2,
          3,
          2,
          3,
          3,
          2,
          3,
          2,
          2,
          3,
          3,
          1,
          1,
          3,
          1,
          1,
          2,
          2,
          3,
          1,
          2,
          2,
          3,
          2,
          3,
          3,
          2,
          1,
          1,
          1,
          3,
          2,
          2,
          2,
          1,
          1,
          3,
          1,
          3,
          2,
          1,
          2,
          3,
          1,
          3,
          3,
          3,
          1,
          3,
          3,
          2,
          2,
          1,
          1,
          2,
          2,
          6,
          2,
          2,
          2,
          2,
          2,
          3,
          3,
          2,
          1,
          3,
          2,
          1,
          2,
          3,
          2,
          2,
          2,
          2,
          2,
          2,
          2,
          1,
          1,
          2,
          3,
          2,
          2,
          2,
          3,
          2,
          4,
          2,
          1,
          2,
          1,
          2,
          3,
          2,
          2,
          2,
          2,
          2,
          2,
          2,
          2,
          2,
          2,
          3,
          3,
          1,
          2,
          2,
          2,
          3,
          2,
          2,
          2,
          1,
          1,
          3,
          2,
          3,
          2,
          3,
          3,
          1,
          2,
          2,
          3,
          2,
          2,
          2,
          2,
          1,
          1,
          1,
          2,
          1,
          3,
          2,
          3,
          2,
          1,
          2,
          2,
          2,
          3,
          2,
          2,
          2,
          2,
          2,
          2,
          3,
          1,
          2,
          2,
          2,
          2,
          1,
          1,
          2,
          2,
          2,
          2,
          1,
          3,
          3,
          2,
          3,
          2,
          2,
          2,
          2,
          1,
          2,
          2,
          2,
          2,
          2,
          3,
          1,
          2,
          2,
          2,
          2,
          2,
          2,
          2,
          2,
          3,
          1,
          2,
          1,
          1,
          1,
          2,
          2,
          3,
          2,
          2,
          2,
          2,
          2,
          2,
          1,
          3,
          2,
          1,
          3,
          2,
          1,
          2,
          1,
          2,
          2,
          2,
          1,
          2,
          3,
          1,
          1,
          2,
          2,
          2,
          1,
          2,
          3,
          1,
          2,
          2,
          2,
          1,
          1,
          2,
          2,
          1,
          1,
          1,
          3,
          2,
          2,
          4,
          2,
          3,
          3,
          2,
          2,
          2,
          2,
          2,
          2,
          1,
          2,
          2,
          3,
          1,
          3,
          2,
          2,
          2,
          2,
          3,
          4,
          2,
          1,
          1,
          2,
          3,
          2,
          2,
          2,
          2,
          1,
          2,
          2,
          2,
          1,
          1,
          3,
          3,
          2,
          3,
          3,
          2,
          3,
          2,
          2,
          2,
          1,
          2,
          1,
          2,
          2,
          2,
          1,
          3,
          1,
          2,
          1,
          2,
          2,
          3,
          2,
          2,
          2,
          2,
          1,
          3,
          2,
          2,
          3,
          1,
          2,
          2,
          3,
          2,
          2,
          2,
          1,
          3,
          1,
          1,
          2,
          2,
          2,
          2,
          2,
          1,
          2,
          2,
          2,
          2,
          1,
          2,
          1,
          3,
          3,
          2,
          2,
          2,
          2,
          3,
          1,
          2,
          3,
          2,
          2,
          3,
          2,
          1,
          2,
          3,
          3,
          3,
          1,
          1,
          3,
          2,
          1,
          2,
          3,
          1,
          3,
          3,
          3,
          2,
          3,
          1,
          1,
          1,
          2,
          2,
          1,
          1,
          3,
          2,
          3,
          2,
          3,
          1,
          3,
          1,
          2,
          1,
          1,
          3,
          2,
          2,
          3,
          1,
          2,
          1,
          2,
          1,
          2,
          1,
          2,
          2,
          2,
          1,
          2,
          2,
          2,
          2,
          2,
          2,
          1,
          2,
          2,
          2,
          2,
          3,
          2,
          2,
          2,
          2,
          1,
          1,
          1,
          2,
          1,
          1,
          1,
          1,
          2,
          3,
          3,
          2,
          2,
          3,
          3,
          2,
          2,
          2,
          1,
          3,
          3,
          2,
          1,
          1,
          1,
          2,
          1,
          1,
          2,
          1,
          2,
          3,
          2,
          2,
          3,
          1,
          2,
          2,
          2,
          1,
          1,
          1,
          3,
          1,
          2,
          3,
          4,
          1,
          2,
          1,
          3,
          1,
          1,
          1,
          1,
          1,
          1,
          1,
          1,
          3,
          2,
          3,
          2,
          2,
          2,
          2,
          1,
          2,
          2,
          2,
          2,
          3,
          2,
          4,
          2,
          2,
          2,
          3,
          2,
          2,
          2,
          1,
          1,
          1,
          2,
          3,
          4,
          2,
          2,
          2,
          3,
          3,
          2,
          2,
          2,
          2,
          1,
          3,
          1,
          2,
          2,
          1,
          2,
          1,
          1,
          2,
          2,
          2,
          2,
          2,
          2,
          3,
          2,
          3,
          2,
          2,
          2,
          1,
          2,
          1,
          2,
          3,
          1,
          1,
          1,
          1,
          2,
          2,
          3,
          1,
          2,
          2,
          2,
          2,
          2,
          2,
          2,
          2,
          1,
          1,
          2,
          2,
          1,
          2,
          3,
          2,
          3,
          3,
          1,
          3,
          2,
          2,
          1,
          1,
          3,
          2,
          2,
          3,
          2,
          1,
          3,
          1,
          3,
          2,
          2,
          1,
          2,
          1,
          3,
          3,
          1,
          2,
          3,
          1,
          2,
          2,
          2,
          2,
          2,
          2,
          1,
          2,
          3,
          1,
          3,
          3,
          2,
          2,
          2,
          1,
          2,
          2,
          3,
          2,
          2,
          2,
          2,
          2,
          2,
          2,
          3,
          3,
          4,
          2,
          2,
          1,
          3,
          2,
          2,
          3,
          2,
          2,
          2,
          3,
          3,
          3,
          2,
          2,
          2,
          2,
          3,
          2,
          2,
          1,
          2,
          1,
          3,
          1,
          2,
          1,
          1,
          1,
          2,
          2,
          2,
          1,
          2,
          1,
          1,
          2,
          2,
          1,
          3,
          1,
          1,
          2,
          2,
          1,
          2,
          1,
          2,
          3,
          3,
          2,
          3,
          1,
          1,
          3,
          3,
          3,
          1,
          2,
          2,
          3,
          3,
          3,
          2,
          2,
          2,
          3,
          3,
          2,
          2,
          3,
          1,
          2,
          3,
          3,
          2,
          2,
          1,
          2,
          1,
          2,
          2,
          2,
          2,
          2,
          1,
          2,
          4,
          2,
          3,
          1,
          3,
          2,
          2,
          2,
          3,
          2,
          2,
          1,
          2,
          2,
          1,
          3,
          2,
          3,
          1,
          3,
          2,
          2,
          1,
          2,
          3,
          1,
          2,
          3,
          1,
          2,
          2,
          3,
          2,
          3,
          2,
          2,
          2,
          2,
          2,
          1,
          3,
          2,
          2,
          2,
          2,
          2,
          2,
          3,
          3,
          2,
          1,
          3,
          2,
          2,
          2,
          2,
          3,
          1,
          2,
          2,
          1,
          3,
          1,
          2,
          2,
          2,
          2,
          1,
          3,
          2,
          3,
          2,
          2,
          2
         ],
         "x0": " ",
         "xaxis": "x",
         "y0": " ",
         "yaxis": "y"
        }
       ],
       "layout": {
        "boxmode": "group",
        "legend": {
         "tracegroupgap": 0
        },
        "margin": {
         "t": 60
        },
        "template": {
         "data": {
          "bar": [
           {
            "error_x": {
             "color": "#2a3f5f"
            },
            "error_y": {
             "color": "#2a3f5f"
            },
            "marker": {
             "line": {
              "color": "#E5ECF6",
              "width": 0.5
             },
             "pattern": {
              "fillmode": "overlay",
              "size": 10,
              "solidity": 0.2
             }
            },
            "type": "bar"
           }
          ],
          "barpolar": [
           {
            "marker": {
             "line": {
              "color": "#E5ECF6",
              "width": 0.5
             },
             "pattern": {
              "fillmode": "overlay",
              "size": 10,
              "solidity": 0.2
             }
            },
            "type": "barpolar"
           }
          ],
          "carpet": [
           {
            "aaxis": {
             "endlinecolor": "#2a3f5f",
             "gridcolor": "white",
             "linecolor": "white",
             "minorgridcolor": "white",
             "startlinecolor": "#2a3f5f"
            },
            "baxis": {
             "endlinecolor": "#2a3f5f",
             "gridcolor": "white",
             "linecolor": "white",
             "minorgridcolor": "white",
             "startlinecolor": "#2a3f5f"
            },
            "type": "carpet"
           }
          ],
          "choropleth": [
           {
            "colorbar": {
             "outlinewidth": 0,
             "ticks": ""
            },
            "type": "choropleth"
           }
          ],
          "contour": [
           {
            "colorbar": {
             "outlinewidth": 0,
             "ticks": ""
            },
            "colorscale": [
             [
              0,
              "#0d0887"
             ],
             [
              0.1111111111111111,
              "#46039f"
             ],
             [
              0.2222222222222222,
              "#7201a8"
             ],
             [
              0.3333333333333333,
              "#9c179e"
             ],
             [
              0.4444444444444444,
              "#bd3786"
             ],
             [
              0.5555555555555556,
              "#d8576b"
             ],
             [
              0.6666666666666666,
              "#ed7953"
             ],
             [
              0.7777777777777778,
              "#fb9f3a"
             ],
             [
              0.8888888888888888,
              "#fdca26"
             ],
             [
              1,
              "#f0f921"
             ]
            ],
            "type": "contour"
           }
          ],
          "contourcarpet": [
           {
            "colorbar": {
             "outlinewidth": 0,
             "ticks": ""
            },
            "type": "contourcarpet"
           }
          ],
          "heatmap": [
           {
            "colorbar": {
             "outlinewidth": 0,
             "ticks": ""
            },
            "colorscale": [
             [
              0,
              "#0d0887"
             ],
             [
              0.1111111111111111,
              "#46039f"
             ],
             [
              0.2222222222222222,
              "#7201a8"
             ],
             [
              0.3333333333333333,
              "#9c179e"
             ],
             [
              0.4444444444444444,
              "#bd3786"
             ],
             [
              0.5555555555555556,
              "#d8576b"
             ],
             [
              0.6666666666666666,
              "#ed7953"
             ],
             [
              0.7777777777777778,
              "#fb9f3a"
             ],
             [
              0.8888888888888888,
              "#fdca26"
             ],
             [
              1,
              "#f0f921"
             ]
            ],
            "type": "heatmap"
           }
          ],
          "heatmapgl": [
           {
            "colorbar": {
             "outlinewidth": 0,
             "ticks": ""
            },
            "colorscale": [
             [
              0,
              "#0d0887"
             ],
             [
              0.1111111111111111,
              "#46039f"
             ],
             [
              0.2222222222222222,
              "#7201a8"
             ],
             [
              0.3333333333333333,
              "#9c179e"
             ],
             [
              0.4444444444444444,
              "#bd3786"
             ],
             [
              0.5555555555555556,
              "#d8576b"
             ],
             [
              0.6666666666666666,
              "#ed7953"
             ],
             [
              0.7777777777777778,
              "#fb9f3a"
             ],
             [
              0.8888888888888888,
              "#fdca26"
             ],
             [
              1,
              "#f0f921"
             ]
            ],
            "type": "heatmapgl"
           }
          ],
          "histogram": [
           {
            "marker": {
             "pattern": {
              "fillmode": "overlay",
              "size": 10,
              "solidity": 0.2
             }
            },
            "type": "histogram"
           }
          ],
          "histogram2d": [
           {
            "colorbar": {
             "outlinewidth": 0,
             "ticks": ""
            },
            "colorscale": [
             [
              0,
              "#0d0887"
             ],
             [
              0.1111111111111111,
              "#46039f"
             ],
             [
              0.2222222222222222,
              "#7201a8"
             ],
             [
              0.3333333333333333,
              "#9c179e"
             ],
             [
              0.4444444444444444,
              "#bd3786"
             ],
             [
              0.5555555555555556,
              "#d8576b"
             ],
             [
              0.6666666666666666,
              "#ed7953"
             ],
             [
              0.7777777777777778,
              "#fb9f3a"
             ],
             [
              0.8888888888888888,
              "#fdca26"
             ],
             [
              1,
              "#f0f921"
             ]
            ],
            "type": "histogram2d"
           }
          ],
          "histogram2dcontour": [
           {
            "colorbar": {
             "outlinewidth": 0,
             "ticks": ""
            },
            "colorscale": [
             [
              0,
              "#0d0887"
             ],
             [
              0.1111111111111111,
              "#46039f"
             ],
             [
              0.2222222222222222,
              "#7201a8"
             ],
             [
              0.3333333333333333,
              "#9c179e"
             ],
             [
              0.4444444444444444,
              "#bd3786"
             ],
             [
              0.5555555555555556,
              "#d8576b"
             ],
             [
              0.6666666666666666,
              "#ed7953"
             ],
             [
              0.7777777777777778,
              "#fb9f3a"
             ],
             [
              0.8888888888888888,
              "#fdca26"
             ],
             [
              1,
              "#f0f921"
             ]
            ],
            "type": "histogram2dcontour"
           }
          ],
          "mesh3d": [
           {
            "colorbar": {
             "outlinewidth": 0,
             "ticks": ""
            },
            "type": "mesh3d"
           }
          ],
          "parcoords": [
           {
            "line": {
             "colorbar": {
              "outlinewidth": 0,
              "ticks": ""
             }
            },
            "type": "parcoords"
           }
          ],
          "pie": [
           {
            "automargin": true,
            "type": "pie"
           }
          ],
          "scatter": [
           {
            "marker": {
             "colorbar": {
              "outlinewidth": 0,
              "ticks": ""
             }
            },
            "type": "scatter"
           }
          ],
          "scatter3d": [
           {
            "line": {
             "colorbar": {
              "outlinewidth": 0,
              "ticks": ""
             }
            },
            "marker": {
             "colorbar": {
              "outlinewidth": 0,
              "ticks": ""
             }
            },
            "type": "scatter3d"
           }
          ],
          "scattercarpet": [
           {
            "marker": {
             "colorbar": {
              "outlinewidth": 0,
              "ticks": ""
             }
            },
            "type": "scattercarpet"
           }
          ],
          "scattergeo": [
           {
            "marker": {
             "colorbar": {
              "outlinewidth": 0,
              "ticks": ""
             }
            },
            "type": "scattergeo"
           }
          ],
          "scattergl": [
           {
            "marker": {
             "colorbar": {
              "outlinewidth": 0,
              "ticks": ""
             }
            },
            "type": "scattergl"
           }
          ],
          "scattermapbox": [
           {
            "marker": {
             "colorbar": {
              "outlinewidth": 0,
              "ticks": ""
             }
            },
            "type": "scattermapbox"
           }
          ],
          "scatterpolar": [
           {
            "marker": {
             "colorbar": {
              "outlinewidth": 0,
              "ticks": ""
             }
            },
            "type": "scatterpolar"
           }
          ],
          "scatterpolargl": [
           {
            "marker": {
             "colorbar": {
              "outlinewidth": 0,
              "ticks": ""
             }
            },
            "type": "scatterpolargl"
           }
          ],
          "scatterternary": [
           {
            "marker": {
             "colorbar": {
              "outlinewidth": 0,
              "ticks": ""
             }
            },
            "type": "scatterternary"
           }
          ],
          "surface": [
           {
            "colorbar": {
             "outlinewidth": 0,
             "ticks": ""
            },
            "colorscale": [
             [
              0,
              "#0d0887"
             ],
             [
              0.1111111111111111,
              "#46039f"
             ],
             [
              0.2222222222222222,
              "#7201a8"
             ],
             [
              0.3333333333333333,
              "#9c179e"
             ],
             [
              0.4444444444444444,
              "#bd3786"
             ],
             [
              0.5555555555555556,
              "#d8576b"
             ],
             [
              0.6666666666666666,
              "#ed7953"
             ],
             [
              0.7777777777777778,
              "#fb9f3a"
             ],
             [
              0.8888888888888888,
              "#fdca26"
             ],
             [
              1,
              "#f0f921"
             ]
            ],
            "type": "surface"
           }
          ],
          "table": [
           {
            "cells": {
             "fill": {
              "color": "#EBF0F8"
             },
             "line": {
              "color": "white"
             }
            },
            "header": {
             "fill": {
              "color": "#C8D4E3"
             },
             "line": {
              "color": "white"
             }
            },
            "type": "table"
           }
          ]
         },
         "layout": {
          "annotationdefaults": {
           "arrowcolor": "#2a3f5f",
           "arrowhead": 0,
           "arrowwidth": 1
          },
          "autotypenumbers": "strict",
          "coloraxis": {
           "colorbar": {
            "outlinewidth": 0,
            "ticks": ""
           }
          },
          "colorscale": {
           "diverging": [
            [
             0,
             "#8e0152"
            ],
            [
             0.1,
             "#c51b7d"
            ],
            [
             0.2,
             "#de77ae"
            ],
            [
             0.3,
             "#f1b6da"
            ],
            [
             0.4,
             "#fde0ef"
            ],
            [
             0.5,
             "#f7f7f7"
            ],
            [
             0.6,
             "#e6f5d0"
            ],
            [
             0.7,
             "#b8e186"
            ],
            [
             0.8,
             "#7fbc41"
            ],
            [
             0.9,
             "#4d9221"
            ],
            [
             1,
             "#276419"
            ]
           ],
           "sequential": [
            [
             0,
             "#0d0887"
            ],
            [
             0.1111111111111111,
             "#46039f"
            ],
            [
             0.2222222222222222,
             "#7201a8"
            ],
            [
             0.3333333333333333,
             "#9c179e"
            ],
            [
             0.4444444444444444,
             "#bd3786"
            ],
            [
             0.5555555555555556,
             "#d8576b"
            ],
            [
             0.6666666666666666,
             "#ed7953"
            ],
            [
             0.7777777777777778,
             "#fb9f3a"
            ],
            [
             0.8888888888888888,
             "#fdca26"
            ],
            [
             1,
             "#f0f921"
            ]
           ],
           "sequentialminus": [
            [
             0,
             "#0d0887"
            ],
            [
             0.1111111111111111,
             "#46039f"
            ],
            [
             0.2222222222222222,
             "#7201a8"
            ],
            [
             0.3333333333333333,
             "#9c179e"
            ],
            [
             0.4444444444444444,
             "#bd3786"
            ],
            [
             0.5555555555555556,
             "#d8576b"
            ],
            [
             0.6666666666666666,
             "#ed7953"
            ],
            [
             0.7777777777777778,
             "#fb9f3a"
            ],
            [
             0.8888888888888888,
             "#fdca26"
            ],
            [
             1,
             "#f0f921"
            ]
           ]
          },
          "colorway": [
           "#636efa",
           "#EF553B",
           "#00cc96",
           "#ab63fa",
           "#FFA15A",
           "#19d3f3",
           "#FF6692",
           "#B6E880",
           "#FF97FF",
           "#FECB52"
          ],
          "font": {
           "color": "#2a3f5f"
          },
          "geo": {
           "bgcolor": "white",
           "lakecolor": "white",
           "landcolor": "#E5ECF6",
           "showlakes": true,
           "showland": true,
           "subunitcolor": "white"
          },
          "hoverlabel": {
           "align": "left"
          },
          "hovermode": "closest",
          "mapbox": {
           "style": "light"
          },
          "paper_bgcolor": "white",
          "plot_bgcolor": "#E5ECF6",
          "polar": {
           "angularaxis": {
            "gridcolor": "white",
            "linecolor": "white",
            "ticks": ""
           },
           "bgcolor": "#E5ECF6",
           "radialaxis": {
            "gridcolor": "white",
            "linecolor": "white",
            "ticks": ""
           }
          },
          "scene": {
           "xaxis": {
            "backgroundcolor": "#E5ECF6",
            "gridcolor": "white",
            "gridwidth": 2,
            "linecolor": "white",
            "showbackground": true,
            "ticks": "",
            "zerolinecolor": "white"
           },
           "yaxis": {
            "backgroundcolor": "#E5ECF6",
            "gridcolor": "white",
            "gridwidth": 2,
            "linecolor": "white",
            "showbackground": true,
            "ticks": "",
            "zerolinecolor": "white"
           },
           "zaxis": {
            "backgroundcolor": "#E5ECF6",
            "gridcolor": "white",
            "gridwidth": 2,
            "linecolor": "white",
            "showbackground": true,
            "ticks": "",
            "zerolinecolor": "white"
           }
          },
          "shapedefaults": {
           "line": {
            "color": "#2a3f5f"
           }
          },
          "ternary": {
           "aaxis": {
            "gridcolor": "white",
            "linecolor": "white",
            "ticks": ""
           },
           "baxis": {
            "gridcolor": "white",
            "linecolor": "white",
            "ticks": ""
           },
           "bgcolor": "#E5ECF6",
           "caxis": {
            "gridcolor": "white",
            "linecolor": "white",
            "ticks": ""
           }
          },
          "title": {
           "x": 0.05
          },
          "xaxis": {
           "automargin": true,
           "gridcolor": "white",
           "linecolor": "white",
           "ticks": "",
           "title": {
            "standoff": 15
           },
           "zerolinecolor": "white",
           "zerolinewidth": 2
          },
          "yaxis": {
           "automargin": true,
           "gridcolor": "white",
           "linecolor": "white",
           "ticks": "",
           "title": {
            "standoff": 15
           },
           "zerolinecolor": "white",
           "zerolinewidth": 2
          }
         }
        },
        "xaxis": {
         "anchor": "y",
         "domain": [
          0,
          1
         ],
         "title": {
          "text": "total_full_bathrooms"
         }
        },
        "yaxis": {
         "anchor": "x",
         "domain": [
          0,
          1
         ]
        }
       }
      },
      "text/html": [
       "<div>                            <div id=\"3c1c65b7-ad2a-4465-b6d4-9dee4a714137\" class=\"plotly-graph-div\" style=\"height:525px; width:100%;\"></div>            <script type=\"text/javascript\">                require([\"plotly\"], function(Plotly) {                    window.PLOTLYENV=window.PLOTLYENV || {};                                    if (document.getElementById(\"3c1c65b7-ad2a-4465-b6d4-9dee4a714137\")) {                    Plotly.newPlot(                        \"3c1c65b7-ad2a-4465-b6d4-9dee4a714137\",                        [{\"alignmentgroup\":\"True\",\"hovertemplate\":\"total_full_bathrooms=%{x}<extra></extra>\",\"legendgroup\":\"\",\"marker\":{\"color\":\"#636efa\"},\"name\":\"\",\"notched\":false,\"offsetgroup\":\"\",\"orientation\":\"h\",\"showlegend\":false,\"type\":\"box\",\"x\":[3,2,3,2,3,2,3,3,2,2,2,4,2,2,2,1,2,2,2,1,3,1,2,2,2,2,1,3,2,1,1,1,2,1,3,3,1,1,2,2,2,1,2,2,2,3,2,2,2,2,2,1,2,2,1,2,3,2,3,1,2,1,2,2,3,2,3,3,1,2,3,2,2,2,2,2,1,2,2,1,2,3,2,1,2,2,2,2,1,2,1,1,2,2,3,2,2,2,1,2,3,2,2,2,1,2,1,1,2,2,2,2,3,3,3,2,1,1,4,2,2,1,1,2,2,2,2,1,1,1,2,3,2,3,2,2,2,3,2,3,1,3,2,3,3,2,2,2,2,1,1,3,2,2,1,1,1,2,2,3,2,3,2,1,2,3,2,2,2,2,1,2,3,2,3,3,2,3,3,1,2,1,1,2,1,2,3,2,2,2,2,2,3,2,1,2,3,3,1,3,2,2,2,2,1,2,1,2,3,2,2,2,3,1,1,1,3,1,1,2,2,2,3,1,2,2,2,1,1,2,2,3,1,2,3,1,2,2,2,1,3,1,1,1,3,2,2,1,2,2,1,3,2,2,2,2,2,3,2,1,2,2,2,2,1,2,3,2,1,2,2,2,2,3,1,2,2,1,2,2,2,2,3,2,3,2,1,1,1,1,2,3,1,3,2,2,1,2,1,1,2,2,2,2,3,3,3,1,1,3,2,2,2,4,1,3,3,2,3,3,3,3,3,2,2,1,3,1,2,1,2,2,3,3,3,4,3,3,3,1,2,1,2,2,1,1,1,3,3,3,2,2,1,1,1,3,3,2,1,3,2,2,3,1,3,1,2,1,1,2,2,2,2,2,2,1,1,3,2,2,2,3,2,1,3,2,1,2,2,3,2,3,1,1,1,2,1,2,1,3,2,2,1,2,2,3,1,2,2,3,1,2,3,1,2,2,1,3,2,2,4,2,1,3,2,1,3,1,3,3,1,1,2,2,2,3,1,1,1,1,3,2,2,2,3,1,2,2,2,1,1,3,3,2,4,1,1,2,1,2,3,2,1,1,2,2,2,1,2,2,2,2,2,3,3,2,3,2,3,1,3,3,2,3,2,1,2,2,2,2,1,2,2,1,1,1,4,3,1,1,1,2,2,3,2,2,2,2,2,2,2,2,2,1,1,3,2,2,3,1,2,1,2,4,3,2,1,3,2,4,3,2,1,1,2,2,2,1,1,3,3,2,3,2,3,2,1,2,2,2,2,1,2,2,3,1,2,1,2,2,2,2,2,2,3,2,2,2,2,2,2,2,2,2,1,1,2,2,2,2,1,2,2,3,1,3,2,2,3,1,2,3,2,2,1,3,1,0,3,3,3,1,3,2,3,2,2,4,2,2,3,2,3,1,2,2,3,1,2,3,2,2,1,2,2,1,1,2,1,2,1,2,2,1,2,2,1,2,1,3,1,3,3,2,3,2,1,1,1,2,2,2,2,1,3,1,2,1,1,2,2,3,2,3,2,2,2,3,2,1,3,3,2,3,2,2,3,1,2,2,2,1,2,3,2,3,3,2,3,2,2,3,3,1,1,3,1,1,2,2,3,1,2,2,3,2,3,3,2,1,1,1,3,2,2,2,1,1,3,1,3,2,1,2,3,1,3,3,3,1,3,3,2,2,1,1,2,2,6,2,2,2,2,2,3,3,2,1,3,2,1,2,3,2,2,2,2,2,2,2,1,1,2,3,2,2,2,3,2,4,2,1,2,1,2,3,2,2,2,2,2,2,2,2,2,2,3,3,1,2,2,2,3,2,2,2,1,1,3,2,3,2,3,3,1,2,2,3,2,2,2,2,1,1,1,2,1,3,2,3,2,1,2,2,2,3,2,2,2,2,2,2,3,1,2,2,2,2,1,1,2,2,2,2,1,3,3,2,3,2,2,2,2,1,2,2,2,2,2,3,1,2,2,2,2,2,2,2,2,3,1,2,1,1,1,2,2,3,2,2,2,2,2,2,1,3,2,1,3,2,1,2,1,2,2,2,1,2,3,1,1,2,2,2,1,2,3,1,2,2,2,1,1,2,2,1,1,1,3,2,2,4,2,3,3,2,2,2,2,2,2,1,2,2,3,1,3,2,2,2,2,3,4,2,1,1,2,3,2,2,2,2,1,2,2,2,1,1,3,3,2,3,3,2,3,2,2,2,1,2,1,2,2,2,1,3,1,2,1,2,2,3,2,2,2,2,1,3,2,2,3,1,2,2,3,2,2,2,1,3,1,1,2,2,2,2,2,1,2,2,2,2,1,2,1,3,3,2,2,2,2,3,1,2,3,2,2,3,2,1,2,3,3,3,1,1,3,2,1,2,3,1,3,3,3,2,3,1,1,1,2,2,1,1,3,2,3,2,3,1,3,1,2,1,1,3,2,2,3,1,2,1,2,1,2,1,2,2,2,1,2,2,2,2,2,2,1,2,2,2,2,3,2,2,2,2,1,1,1,2,1,1,1,1,2,3,3,2,2,3,3,2,2,2,1,3,3,2,1,1,1,2,1,1,2,1,2,3,2,2,3,1,2,2,2,1,1,1,3,1,2,3,4,1,2,1,3,1,1,1,1,1,1,1,1,3,2,3,2,2,2,2,1,2,2,2,2,3,2,4,2,2,2,3,2,2,2,1,1,1,2,3,4,2,2,2,3,3,2,2,2,2,1,3,1,2,2,1,2,1,1,2,2,2,2,2,2,3,2,3,2,2,2,1,2,1,2,3,1,1,1,1,2,2,3,1,2,2,2,2,2,2,2,2,1,1,2,2,1,2,3,2,3,3,1,3,2,2,1,1,3,2,2,3,2,1,3,1,3,2,2,1,2,1,3,3,1,2,3,1,2,2,2,2,2,2,1,2,3,1,3,3,2,2,2,1,2,2,3,2,2,2,2,2,2,2,3,3,4,2,2,1,3,2,2,3,2,2,2,3,3,3,2,2,2,2,3,2,2,1,2,1,3,1,2,1,1,1,2,2,2,1,2,1,1,2,2,1,3,1,1,2,2,1,2,1,2,3,3,2,3,1,1,3,3,3,1,2,2,3,3,3,2,2,2,3,3,2,2,3,1,2,3,3,2,2,1,2,1,2,2,2,2,2,1,2,4,2,3,1,3,2,2,2,3,2,2,1,2,2,1,3,2,3,1,3,2,2,1,2,3,1,2,3,1,2,2,3,2,3,2,2,2,2,2,1,3,2,2,2,2,2,2,3,3,2,1,3,2,2,2,2,3,1,2,2,1,3,1,2,2,2,2,1,3,2,3,2,2,2],\"x0\":\" \",\"xaxis\":\"x\",\"y0\":\" \",\"yaxis\":\"y\"}],                        {\"boxmode\":\"group\",\"legend\":{\"tracegroupgap\":0},\"margin\":{\"t\":60},\"template\":{\"data\":{\"bar\":[{\"error_x\":{\"color\":\"#2a3f5f\"},\"error_y\":{\"color\":\"#2a3f5f\"},\"marker\":{\"line\":{\"color\":\"#E5ECF6\",\"width\":0.5},\"pattern\":{\"fillmode\":\"overlay\",\"size\":10,\"solidity\":0.2}},\"type\":\"bar\"}],\"barpolar\":[{\"marker\":{\"line\":{\"color\":\"#E5ECF6\",\"width\":0.5},\"pattern\":{\"fillmode\":\"overlay\",\"size\":10,\"solidity\":0.2}},\"type\":\"barpolar\"}],\"carpet\":[{\"aaxis\":{\"endlinecolor\":\"#2a3f5f\",\"gridcolor\":\"white\",\"linecolor\":\"white\",\"minorgridcolor\":\"white\",\"startlinecolor\":\"#2a3f5f\"},\"baxis\":{\"endlinecolor\":\"#2a3f5f\",\"gridcolor\":\"white\",\"linecolor\":\"white\",\"minorgridcolor\":\"white\",\"startlinecolor\":\"#2a3f5f\"},\"type\":\"carpet\"}],\"choropleth\":[{\"colorbar\":{\"outlinewidth\":0,\"ticks\":\"\"},\"type\":\"choropleth\"}],\"contour\":[{\"colorbar\":{\"outlinewidth\":0,\"ticks\":\"\"},\"colorscale\":[[0.0,\"#0d0887\"],[0.1111111111111111,\"#46039f\"],[0.2222222222222222,\"#7201a8\"],[0.3333333333333333,\"#9c179e\"],[0.4444444444444444,\"#bd3786\"],[0.5555555555555556,\"#d8576b\"],[0.6666666666666666,\"#ed7953\"],[0.7777777777777778,\"#fb9f3a\"],[0.8888888888888888,\"#fdca26\"],[1.0,\"#f0f921\"]],\"type\":\"contour\"}],\"contourcarpet\":[{\"colorbar\":{\"outlinewidth\":0,\"ticks\":\"\"},\"type\":\"contourcarpet\"}],\"heatmap\":[{\"colorbar\":{\"outlinewidth\":0,\"ticks\":\"\"},\"colorscale\":[[0.0,\"#0d0887\"],[0.1111111111111111,\"#46039f\"],[0.2222222222222222,\"#7201a8\"],[0.3333333333333333,\"#9c179e\"],[0.4444444444444444,\"#bd3786\"],[0.5555555555555556,\"#d8576b\"],[0.6666666666666666,\"#ed7953\"],[0.7777777777777778,\"#fb9f3a\"],[0.8888888888888888,\"#fdca26\"],[1.0,\"#f0f921\"]],\"type\":\"heatmap\"}],\"heatmapgl\":[{\"colorbar\":{\"outlinewidth\":0,\"ticks\":\"\"},\"colorscale\":[[0.0,\"#0d0887\"],[0.1111111111111111,\"#46039f\"],[0.2222222222222222,\"#7201a8\"],[0.3333333333333333,\"#9c179e\"],[0.4444444444444444,\"#bd3786\"],[0.5555555555555556,\"#d8576b\"],[0.6666666666666666,\"#ed7953\"],[0.7777777777777778,\"#fb9f3a\"],[0.8888888888888888,\"#fdca26\"],[1.0,\"#f0f921\"]],\"type\":\"heatmapgl\"}],\"histogram\":[{\"marker\":{\"pattern\":{\"fillmode\":\"overlay\",\"size\":10,\"solidity\":0.2}},\"type\":\"histogram\"}],\"histogram2d\":[{\"colorbar\":{\"outlinewidth\":0,\"ticks\":\"\"},\"colorscale\":[[0.0,\"#0d0887\"],[0.1111111111111111,\"#46039f\"],[0.2222222222222222,\"#7201a8\"],[0.3333333333333333,\"#9c179e\"],[0.4444444444444444,\"#bd3786\"],[0.5555555555555556,\"#d8576b\"],[0.6666666666666666,\"#ed7953\"],[0.7777777777777778,\"#fb9f3a\"],[0.8888888888888888,\"#fdca26\"],[1.0,\"#f0f921\"]],\"type\":\"histogram2d\"}],\"histogram2dcontour\":[{\"colorbar\":{\"outlinewidth\":0,\"ticks\":\"\"},\"colorscale\":[[0.0,\"#0d0887\"],[0.1111111111111111,\"#46039f\"],[0.2222222222222222,\"#7201a8\"],[0.3333333333333333,\"#9c179e\"],[0.4444444444444444,\"#bd3786\"],[0.5555555555555556,\"#d8576b\"],[0.6666666666666666,\"#ed7953\"],[0.7777777777777778,\"#fb9f3a\"],[0.8888888888888888,\"#fdca26\"],[1.0,\"#f0f921\"]],\"type\":\"histogram2dcontour\"}],\"mesh3d\":[{\"colorbar\":{\"outlinewidth\":0,\"ticks\":\"\"},\"type\":\"mesh3d\"}],\"parcoords\":[{\"line\":{\"colorbar\":{\"outlinewidth\":0,\"ticks\":\"\"}},\"type\":\"parcoords\"}],\"pie\":[{\"automargin\":true,\"type\":\"pie\"}],\"scatter\":[{\"marker\":{\"colorbar\":{\"outlinewidth\":0,\"ticks\":\"\"}},\"type\":\"scatter\"}],\"scatter3d\":[{\"line\":{\"colorbar\":{\"outlinewidth\":0,\"ticks\":\"\"}},\"marker\":{\"colorbar\":{\"outlinewidth\":0,\"ticks\":\"\"}},\"type\":\"scatter3d\"}],\"scattercarpet\":[{\"marker\":{\"colorbar\":{\"outlinewidth\":0,\"ticks\":\"\"}},\"type\":\"scattercarpet\"}],\"scattergeo\":[{\"marker\":{\"colorbar\":{\"outlinewidth\":0,\"ticks\":\"\"}},\"type\":\"scattergeo\"}],\"scattergl\":[{\"marker\":{\"colorbar\":{\"outlinewidth\":0,\"ticks\":\"\"}},\"type\":\"scattergl\"}],\"scattermapbox\":[{\"marker\":{\"colorbar\":{\"outlinewidth\":0,\"ticks\":\"\"}},\"type\":\"scattermapbox\"}],\"scatterpolar\":[{\"marker\":{\"colorbar\":{\"outlinewidth\":0,\"ticks\":\"\"}},\"type\":\"scatterpolar\"}],\"scatterpolargl\":[{\"marker\":{\"colorbar\":{\"outlinewidth\":0,\"ticks\":\"\"}},\"type\":\"scatterpolargl\"}],\"scatterternary\":[{\"marker\":{\"colorbar\":{\"outlinewidth\":0,\"ticks\":\"\"}},\"type\":\"scatterternary\"}],\"surface\":[{\"colorbar\":{\"outlinewidth\":0,\"ticks\":\"\"},\"colorscale\":[[0.0,\"#0d0887\"],[0.1111111111111111,\"#46039f\"],[0.2222222222222222,\"#7201a8\"],[0.3333333333333333,\"#9c179e\"],[0.4444444444444444,\"#bd3786\"],[0.5555555555555556,\"#d8576b\"],[0.6666666666666666,\"#ed7953\"],[0.7777777777777778,\"#fb9f3a\"],[0.8888888888888888,\"#fdca26\"],[1.0,\"#f0f921\"]],\"type\":\"surface\"}],\"table\":[{\"cells\":{\"fill\":{\"color\":\"#EBF0F8\"},\"line\":{\"color\":\"white\"}},\"header\":{\"fill\":{\"color\":\"#C8D4E3\"},\"line\":{\"color\":\"white\"}},\"type\":\"table\"}]},\"layout\":{\"annotationdefaults\":{\"arrowcolor\":\"#2a3f5f\",\"arrowhead\":0,\"arrowwidth\":1},\"autotypenumbers\":\"strict\",\"coloraxis\":{\"colorbar\":{\"outlinewidth\":0,\"ticks\":\"\"}},\"colorscale\":{\"diverging\":[[0,\"#8e0152\"],[0.1,\"#c51b7d\"],[0.2,\"#de77ae\"],[0.3,\"#f1b6da\"],[0.4,\"#fde0ef\"],[0.5,\"#f7f7f7\"],[0.6,\"#e6f5d0\"],[0.7,\"#b8e186\"],[0.8,\"#7fbc41\"],[0.9,\"#4d9221\"],[1,\"#276419\"]],\"sequential\":[[0.0,\"#0d0887\"],[0.1111111111111111,\"#46039f\"],[0.2222222222222222,\"#7201a8\"],[0.3333333333333333,\"#9c179e\"],[0.4444444444444444,\"#bd3786\"],[0.5555555555555556,\"#d8576b\"],[0.6666666666666666,\"#ed7953\"],[0.7777777777777778,\"#fb9f3a\"],[0.8888888888888888,\"#fdca26\"],[1.0,\"#f0f921\"]],\"sequentialminus\":[[0.0,\"#0d0887\"],[0.1111111111111111,\"#46039f\"],[0.2222222222222222,\"#7201a8\"],[0.3333333333333333,\"#9c179e\"],[0.4444444444444444,\"#bd3786\"],[0.5555555555555556,\"#d8576b\"],[0.6666666666666666,\"#ed7953\"],[0.7777777777777778,\"#fb9f3a\"],[0.8888888888888888,\"#fdca26\"],[1.0,\"#f0f921\"]]},\"colorway\":[\"#636efa\",\"#EF553B\",\"#00cc96\",\"#ab63fa\",\"#FFA15A\",\"#19d3f3\",\"#FF6692\",\"#B6E880\",\"#FF97FF\",\"#FECB52\"],\"font\":{\"color\":\"#2a3f5f\"},\"geo\":{\"bgcolor\":\"white\",\"lakecolor\":\"white\",\"landcolor\":\"#E5ECF6\",\"showlakes\":true,\"showland\":true,\"subunitcolor\":\"white\"},\"hoverlabel\":{\"align\":\"left\"},\"hovermode\":\"closest\",\"mapbox\":{\"style\":\"light\"},\"paper_bgcolor\":\"white\",\"plot_bgcolor\":\"#E5ECF6\",\"polar\":{\"angularaxis\":{\"gridcolor\":\"white\",\"linecolor\":\"white\",\"ticks\":\"\"},\"bgcolor\":\"#E5ECF6\",\"radialaxis\":{\"gridcolor\":\"white\",\"linecolor\":\"white\",\"ticks\":\"\"}},\"scene\":{\"xaxis\":{\"backgroundcolor\":\"#E5ECF6\",\"gridcolor\":\"white\",\"gridwidth\":2,\"linecolor\":\"white\",\"showbackground\":true,\"ticks\":\"\",\"zerolinecolor\":\"white\"},\"yaxis\":{\"backgroundcolor\":\"#E5ECF6\",\"gridcolor\":\"white\",\"gridwidth\":2,\"linecolor\":\"white\",\"showbackground\":true,\"ticks\":\"\",\"zerolinecolor\":\"white\"},\"zaxis\":{\"backgroundcolor\":\"#E5ECF6\",\"gridcolor\":\"white\",\"gridwidth\":2,\"linecolor\":\"white\",\"showbackground\":true,\"ticks\":\"\",\"zerolinecolor\":\"white\"}},\"shapedefaults\":{\"line\":{\"color\":\"#2a3f5f\"}},\"ternary\":{\"aaxis\":{\"gridcolor\":\"white\",\"linecolor\":\"white\",\"ticks\":\"\"},\"baxis\":{\"gridcolor\":\"white\",\"linecolor\":\"white\",\"ticks\":\"\"},\"bgcolor\":\"#E5ECF6\",\"caxis\":{\"gridcolor\":\"white\",\"linecolor\":\"white\",\"ticks\":\"\"}},\"title\":{\"x\":0.05},\"xaxis\":{\"automargin\":true,\"gridcolor\":\"white\",\"linecolor\":\"white\",\"ticks\":\"\",\"title\":{\"standoff\":15},\"zerolinecolor\":\"white\",\"zerolinewidth\":2},\"yaxis\":{\"automargin\":true,\"gridcolor\":\"white\",\"linecolor\":\"white\",\"ticks\":\"\",\"title\":{\"standoff\":15},\"zerolinecolor\":\"white\",\"zerolinewidth\":2}}},\"xaxis\":{\"anchor\":\"y\",\"domain\":[0.0,1.0],\"title\":{\"text\":\"total_full_bathrooms\"}},\"yaxis\":{\"anchor\":\"x\",\"domain\":[0.0,1.0]}},                        {\"responsive\": true}                    ).then(function(){\n",
       "                            \n",
       "var gd = document.getElementById('3c1c65b7-ad2a-4465-b6d4-9dee4a714137');\n",
       "var x = new MutationObserver(function (mutations, observer) {{\n",
       "        var display = window.getComputedStyle(gd).display;\n",
       "        if (!display || display === 'none') {{\n",
       "            console.log([gd, 'removed!']);\n",
       "            Plotly.purge(gd);\n",
       "            observer.disconnect();\n",
       "        }}\n",
       "}});\n",
       "\n",
       "// Listen for the removal of the full notebook cells\n",
       "var notebookContainer = gd.closest('#notebook-container');\n",
       "if (notebookContainer) {{\n",
       "    x.observe(notebookContainer, {childList: true});\n",
       "}}\n",
       "\n",
       "// Listen for the clearing of the current output cell\n",
       "var outputEl = gd.closest('.output');\n",
       "if (outputEl) {{\n",
       "    x.observe(outputEl, {childList: true});\n",
       "}}\n",
       "\n",
       "                        })                };                });            </script>        </div>"
      ]
     },
     "metadata": {},
     "output_type": "display_data"
    },
    {
     "data": {
      "application/vnd.plotly.v1+json": {
       "config": {
        "plotlyServerURL": "https://plot.ly"
       },
       "data": [
        {
         "alignmentgroup": "True",
         "hovertemplate": "total_half_bathrooms=%{x}<extra></extra>",
         "legendgroup": "",
         "marker": {
          "color": "#636efa"
         },
         "name": "",
         "notched": false,
         "offsetgroup": "",
         "orientation": "h",
         "showlegend": false,
         "type": "box",
         "x": [
          1,
          0,
          1,
          0,
          1,
          1,
          0,
          1,
          0,
          0,
          0,
          0,
          0,
          0,
          1,
          0,
          0,
          0,
          1,
          0,
          1,
          0,
          0,
          0,
          0,
          0,
          0,
          0,
          0,
          0,
          0,
          1,
          0,
          1,
          0,
          1,
          1,
          0,
          0,
          0,
          0,
          1,
          0,
          0,
          0,
          0,
          1,
          0,
          0,
          0,
          0,
          0,
          0,
          1,
          0,
          0,
          1,
          1,
          1,
          0,
          1,
          0,
          0,
          0,
          1,
          1,
          0,
          0,
          0,
          0,
          0,
          0,
          1,
          0,
          0,
          0,
          0,
          0,
          0,
          1,
          1,
          0,
          0,
          1,
          1,
          1,
          1,
          1,
          0,
          0,
          0,
          0,
          0,
          0,
          1,
          1,
          0,
          0,
          0,
          1,
          0,
          1,
          0,
          0,
          1,
          1,
          0,
          0,
          0,
          0,
          0,
          1,
          1,
          0,
          1,
          1,
          0,
          1,
          0,
          1,
          0,
          0,
          0,
          0,
          0,
          0,
          0,
          0,
          1,
          1,
          1,
          1,
          0,
          0,
          1,
          0,
          0,
          0,
          1,
          1,
          0,
          0,
          0,
          0,
          0,
          0,
          0,
          1,
          0,
          0,
          1,
          0,
          1,
          0,
          0,
          0,
          0,
          1,
          1,
          1,
          0,
          1,
          0,
          0,
          0,
          0,
          0,
          1,
          1,
          1,
          1,
          0,
          0,
          1,
          0,
          0,
          1,
          0,
          0,
          0,
          1,
          1,
          0,
          1,
          0,
          1,
          0,
          1,
          2,
          1,
          1,
          1,
          0,
          0,
          0,
          1,
          0,
          0,
          0,
          0,
          0,
          0,
          0,
          0,
          1,
          0,
          1,
          0,
          1,
          0,
          0,
          0,
          1,
          0,
          1,
          0,
          0,
          0,
          1,
          0,
          0,
          1,
          1,
          0,
          0,
          1,
          1,
          1,
          0,
          0,
          0,
          1,
          1,
          0,
          1,
          1,
          0,
          1,
          0,
          1,
          0,
          0,
          0,
          1,
          1,
          0,
          0,
          0,
          1,
          0,
          0,
          0,
          1,
          0,
          0,
          1,
          1,
          1,
          1,
          0,
          0,
          1,
          0,
          0,
          0,
          0,
          1,
          1,
          0,
          1,
          1,
          0,
          1,
          0,
          0,
          1,
          0,
          0,
          1,
          1,
          1,
          0,
          0,
          0,
          0,
          1,
          1,
          0,
          0,
          0,
          1,
          0,
          1,
          1,
          0,
          0,
          1,
          1,
          2,
          0,
          0,
          1,
          0,
          0,
          0,
          0,
          1,
          0,
          0,
          0,
          1,
          0,
          0,
          0,
          1,
          1,
          1,
          1,
          1,
          0,
          1,
          1,
          1,
          0,
          1,
          0,
          1,
          1,
          0,
          0,
          0,
          0,
          0,
          0,
          1,
          0,
          0,
          0,
          0,
          0,
          1,
          0,
          0,
          0,
          1,
          0,
          0,
          0,
          1,
          1,
          0,
          1,
          0,
          0,
          0,
          0,
          0,
          1,
          0,
          1,
          0,
          0,
          0,
          1,
          1,
          0,
          1,
          0,
          0,
          0,
          1,
          0,
          0,
          0,
          1,
          1,
          0,
          0,
          1,
          1,
          0,
          0,
          1,
          0,
          1,
          0,
          0,
          0,
          0,
          1,
          0,
          1,
          0,
          0,
          0,
          0,
          0,
          0,
          0,
          0,
          1,
          0,
          0,
          1,
          1,
          0,
          0,
          0,
          1,
          1,
          0,
          0,
          1,
          0,
          1,
          0,
          1,
          1,
          1,
          0,
          0,
          0,
          0,
          1,
          0,
          1,
          0,
          0,
          0,
          0,
          1,
          0,
          1,
          1,
          0,
          1,
          0,
          0,
          0,
          0,
          0,
          0,
          0,
          0,
          1,
          0,
          1,
          1,
          0,
          1,
          0,
          0,
          1,
          1,
          0,
          1,
          0,
          0,
          0,
          0,
          1,
          0,
          0,
          1,
          0,
          0,
          0,
          1,
          0,
          1,
          1,
          1,
          0,
          0,
          0,
          0,
          0,
          1,
          0,
          0,
          0,
          0,
          1,
          0,
          0,
          0,
          1,
          0,
          0,
          0,
          1,
          0,
          1,
          1,
          0,
          0,
          0,
          0,
          0,
          0,
          1,
          1,
          0,
          0,
          1,
          0,
          1,
          0,
          0,
          0,
          0,
          0,
          0,
          1,
          0,
          1,
          1,
          1,
          1,
          1,
          0,
          1,
          0,
          1,
          1,
          0,
          0,
          1,
          0,
          0,
          0,
          0,
          0,
          0,
          1,
          0,
          1,
          0,
          1,
          0,
          0,
          1,
          0,
          0,
          1,
          1,
          1,
          0,
          0,
          1,
          0,
          0,
          0,
          0,
          1,
          0,
          0,
          1,
          1,
          0,
          1,
          0,
          0,
          0,
          1,
          1,
          1,
          0,
          1,
          0,
          0,
          0,
          1,
          1,
          0,
          0,
          0,
          0,
          0,
          0,
          0,
          1,
          0,
          1,
          0,
          0,
          0,
          0,
          0,
          0,
          1,
          1,
          0,
          0,
          0,
          0,
          0,
          2,
          0,
          1,
          1,
          1,
          1,
          1,
          0,
          1,
          0,
          0,
          1,
          0,
          1,
          0,
          1,
          0,
          0,
          0,
          1,
          0,
          0,
          1,
          0,
          1,
          0,
          1,
          2,
          1,
          0,
          0,
          2,
          1,
          0,
          0,
          0,
          0,
          0,
          0,
          0,
          0,
          0,
          0,
          1,
          1,
          1,
          1,
          1,
          1,
          0,
          0,
          1,
          0,
          1,
          0,
          1,
          0,
          1,
          1,
          1,
          1,
          0,
          0,
          1,
          1,
          0,
          0,
          1,
          1,
          1,
          0,
          1,
          0,
          1,
          0,
          1,
          0,
          0,
          1,
          0,
          0,
          1,
          0,
          0,
          0,
          0,
          0,
          1,
          0,
          0,
          1,
          0,
          0,
          0,
          1,
          1,
          0,
          1,
          0,
          0,
          0,
          0,
          0,
          0,
          1,
          1,
          0,
          0,
          0,
          0,
          0,
          1,
          0,
          0,
          0,
          0,
          0,
          1,
          0,
          1,
          1,
          1,
          1,
          0,
          0,
          0,
          0,
          0,
          0,
          0,
          0,
          0,
          0,
          0,
          0,
          1,
          0,
          0,
          1,
          0,
          1,
          0,
          1,
          0,
          0,
          0,
          0,
          0,
          1,
          1,
          1,
          0,
          0,
          0,
          1,
          0,
          1,
          0,
          1,
          1,
          1,
          1,
          1,
          0,
          0,
          1,
          1,
          1,
          0,
          1,
          0,
          0,
          1,
          0,
          0,
          0,
          0,
          0,
          0,
          0,
          0,
          0,
          0,
          0,
          1,
          0,
          0,
          0,
          0,
          0,
          1,
          0,
          1,
          0,
          0,
          1,
          0,
          1,
          1,
          1,
          0,
          1,
          1,
          1,
          0,
          1,
          1,
          0,
          0,
          0,
          1,
          0,
          0,
          1,
          0,
          0,
          1,
          1,
          0,
          0,
          0,
          0,
          0,
          1,
          0,
          1,
          0,
          0,
          0,
          0,
          0,
          1,
          1,
          1,
          1,
          1,
          1,
          0,
          0,
          0,
          1,
          1,
          0,
          0,
          0,
          1,
          0,
          1,
          0,
          1,
          0,
          0,
          1,
          0,
          0,
          0,
          1,
          1,
          1,
          0,
          1,
          0,
          1,
          1,
          1,
          0,
          0,
          0,
          0,
          0,
          1,
          0,
          1,
          0,
          1,
          0,
          0,
          1,
          1,
          0,
          1,
          0,
          0,
          1,
          1,
          1,
          0,
          0,
          0,
          0,
          1,
          0,
          0,
          0,
          1,
          0,
          0,
          0,
          1,
          0,
          0,
          1,
          0,
          0,
          0,
          1,
          0,
          0,
          0,
          0,
          1,
          0,
          1,
          0,
          1,
          0,
          0,
          1,
          1,
          0,
          0,
          1,
          0,
          1,
          2,
          0,
          0,
          0,
          0,
          1,
          1,
          0,
          1,
          0,
          0,
          0,
          0,
          0,
          0,
          0,
          1,
          1,
          0,
          0,
          1,
          0,
          0,
          0,
          0,
          0,
          0,
          1,
          1,
          0,
          0,
          0,
          1,
          0,
          0,
          1,
          0,
          0,
          1,
          0,
          1,
          1,
          0,
          1,
          1,
          1,
          0,
          0,
          0,
          1,
          0,
          0,
          0,
          0,
          1,
          0,
          1,
          0,
          0,
          0,
          1,
          0,
          1,
          0,
          0,
          0,
          1,
          1,
          1,
          1,
          1,
          1,
          1,
          0,
          1,
          0,
          0,
          0,
          0,
          0,
          0,
          0,
          0,
          0,
          0,
          0,
          1,
          0,
          0,
          0,
          0,
          1,
          0,
          0,
          1,
          0,
          0,
          1,
          0,
          1,
          0,
          0,
          0,
          0,
          0,
          0,
          0,
          0,
          1,
          0,
          1,
          1,
          0,
          0,
          0,
          0,
          1,
          1,
          0,
          0,
          1,
          0,
          1,
          1,
          0,
          1,
          0,
          0,
          0,
          0,
          0,
          1,
          0,
          1,
          0,
          0,
          1,
          1,
          1,
          0,
          0,
          0,
          0,
          1,
          1,
          1,
          1,
          1,
          0,
          0,
          1,
          0,
          1,
          0,
          1,
          0,
          0,
          0,
          0,
          0,
          1,
          0,
          0,
          1,
          0,
          1,
          1,
          0,
          1,
          0,
          1,
          0,
          1,
          0,
          0,
          1,
          1,
          0,
          0,
          0,
          0,
          0,
          0,
          1,
          1,
          0,
          1,
          1,
          0,
          1,
          1,
          0,
          0,
          0,
          0,
          1,
          0,
          0,
          0,
          0,
          0,
          0,
          0,
          1,
          0,
          0,
          0,
          1,
          0,
          0,
          0,
          0,
          1,
          1,
          0,
          0,
          0,
          0,
          0,
          0,
          1,
          0,
          0,
          0,
          0,
          0,
          1,
          0,
          0,
          0,
          1,
          0,
          0,
          2,
          0,
          0,
          0,
          0,
          1,
          1,
          0,
          0,
          2,
          1,
          0,
          0,
          1,
          0,
          1,
          0,
          0,
          1,
          0,
          1,
          1,
          0,
          0,
          1,
          0,
          1,
          0,
          1,
          0,
          1,
          0,
          0,
          0,
          1,
          1,
          0,
          1,
          0,
          0,
          1,
          1,
          1,
          0,
          0,
          1,
          0,
          1,
          0,
          0,
          1,
          0,
          0,
          0,
          0,
          0,
          1,
          0,
          0,
          0,
          0,
          0,
          0,
          0,
          0,
          1,
          0,
          0,
          0,
          0,
          1,
          0,
          1,
          0,
          1,
          0,
          2,
          0,
          0,
          0,
          1,
          1,
          1,
          1,
          1,
          0,
          1,
          0,
          0,
          1,
          0,
          1,
          1,
          0,
          1,
          0,
          1,
          0,
          0,
          1,
          1,
          0,
          0,
          0,
          0,
          1,
          1,
          0,
          0,
          0,
          0,
          1,
          1,
          0,
          1,
          1,
          1,
          0,
          0,
          0,
          0,
          0,
          1,
          1,
          1,
          0,
          0,
          0,
          0,
          2,
          0,
          0,
          1,
          0,
          0,
          1,
          0,
          1,
          0,
          1,
          0,
          1,
          0,
          0,
          1,
          1,
          1,
          0,
          1,
          0,
          0,
          0,
          0,
          0,
          0,
          0,
          0,
          0,
          1,
          1,
          0,
          1,
          0,
          0,
          0,
          0,
          1,
          0,
          1,
          0,
          0,
          0,
          0,
          0,
          0,
          1,
          0,
          0,
          0,
          1,
          1,
          0,
          0,
          0,
          1,
          0,
          0,
          0,
          1,
          1,
          1,
          0,
          0,
          0,
          0,
          0,
          2,
          1,
          0,
          1,
          1,
          0,
          0,
          1,
          1,
          0,
          1,
          0,
          0,
          1,
          1,
          1,
          1,
          0,
          0,
          0,
          0,
          0,
          1,
          1,
          1,
          0,
          0,
          0,
          1,
          1,
          0,
          1,
          1,
          0,
          0,
          0,
          1,
          0,
          0,
          0,
          0,
          0,
          0,
          0,
          0,
          1,
          0,
          1,
          1,
          1,
          0,
          1,
          0,
          0,
          0,
          0,
          0,
          0,
          0,
          1,
          1,
          1,
          0,
          0,
          1,
          0,
          0,
          1,
          1,
          0,
          1,
          0,
          0,
          0,
          0,
          0,
          1,
          1,
          0,
          0,
          1,
          0,
          0,
          1,
          0,
          1,
          0,
          0,
          0,
          1,
          0,
          0,
          1,
          0,
          0,
          0,
          0,
          1,
          1,
          0,
          2,
          0,
          0,
          0,
          0,
          1,
          0,
          0,
          0,
          1
         ],
         "x0": " ",
         "xaxis": "x",
         "y0": " ",
         "yaxis": "y"
        }
       ],
       "layout": {
        "boxmode": "group",
        "legend": {
         "tracegroupgap": 0
        },
        "margin": {
         "t": 60
        },
        "template": {
         "data": {
          "bar": [
           {
            "error_x": {
             "color": "#2a3f5f"
            },
            "error_y": {
             "color": "#2a3f5f"
            },
            "marker": {
             "line": {
              "color": "#E5ECF6",
              "width": 0.5
             },
             "pattern": {
              "fillmode": "overlay",
              "size": 10,
              "solidity": 0.2
             }
            },
            "type": "bar"
           }
          ],
          "barpolar": [
           {
            "marker": {
             "line": {
              "color": "#E5ECF6",
              "width": 0.5
             },
             "pattern": {
              "fillmode": "overlay",
              "size": 10,
              "solidity": 0.2
             }
            },
            "type": "barpolar"
           }
          ],
          "carpet": [
           {
            "aaxis": {
             "endlinecolor": "#2a3f5f",
             "gridcolor": "white",
             "linecolor": "white",
             "minorgridcolor": "white",
             "startlinecolor": "#2a3f5f"
            },
            "baxis": {
             "endlinecolor": "#2a3f5f",
             "gridcolor": "white",
             "linecolor": "white",
             "minorgridcolor": "white",
             "startlinecolor": "#2a3f5f"
            },
            "type": "carpet"
           }
          ],
          "choropleth": [
           {
            "colorbar": {
             "outlinewidth": 0,
             "ticks": ""
            },
            "type": "choropleth"
           }
          ],
          "contour": [
           {
            "colorbar": {
             "outlinewidth": 0,
             "ticks": ""
            },
            "colorscale": [
             [
              0,
              "#0d0887"
             ],
             [
              0.1111111111111111,
              "#46039f"
             ],
             [
              0.2222222222222222,
              "#7201a8"
             ],
             [
              0.3333333333333333,
              "#9c179e"
             ],
             [
              0.4444444444444444,
              "#bd3786"
             ],
             [
              0.5555555555555556,
              "#d8576b"
             ],
             [
              0.6666666666666666,
              "#ed7953"
             ],
             [
              0.7777777777777778,
              "#fb9f3a"
             ],
             [
              0.8888888888888888,
              "#fdca26"
             ],
             [
              1,
              "#f0f921"
             ]
            ],
            "type": "contour"
           }
          ],
          "contourcarpet": [
           {
            "colorbar": {
             "outlinewidth": 0,
             "ticks": ""
            },
            "type": "contourcarpet"
           }
          ],
          "heatmap": [
           {
            "colorbar": {
             "outlinewidth": 0,
             "ticks": ""
            },
            "colorscale": [
             [
              0,
              "#0d0887"
             ],
             [
              0.1111111111111111,
              "#46039f"
             ],
             [
              0.2222222222222222,
              "#7201a8"
             ],
             [
              0.3333333333333333,
              "#9c179e"
             ],
             [
              0.4444444444444444,
              "#bd3786"
             ],
             [
              0.5555555555555556,
              "#d8576b"
             ],
             [
              0.6666666666666666,
              "#ed7953"
             ],
             [
              0.7777777777777778,
              "#fb9f3a"
             ],
             [
              0.8888888888888888,
              "#fdca26"
             ],
             [
              1,
              "#f0f921"
             ]
            ],
            "type": "heatmap"
           }
          ],
          "heatmapgl": [
           {
            "colorbar": {
             "outlinewidth": 0,
             "ticks": ""
            },
            "colorscale": [
             [
              0,
              "#0d0887"
             ],
             [
              0.1111111111111111,
              "#46039f"
             ],
             [
              0.2222222222222222,
              "#7201a8"
             ],
             [
              0.3333333333333333,
              "#9c179e"
             ],
             [
              0.4444444444444444,
              "#bd3786"
             ],
             [
              0.5555555555555556,
              "#d8576b"
             ],
             [
              0.6666666666666666,
              "#ed7953"
             ],
             [
              0.7777777777777778,
              "#fb9f3a"
             ],
             [
              0.8888888888888888,
              "#fdca26"
             ],
             [
              1,
              "#f0f921"
             ]
            ],
            "type": "heatmapgl"
           }
          ],
          "histogram": [
           {
            "marker": {
             "pattern": {
              "fillmode": "overlay",
              "size": 10,
              "solidity": 0.2
             }
            },
            "type": "histogram"
           }
          ],
          "histogram2d": [
           {
            "colorbar": {
             "outlinewidth": 0,
             "ticks": ""
            },
            "colorscale": [
             [
              0,
              "#0d0887"
             ],
             [
              0.1111111111111111,
              "#46039f"
             ],
             [
              0.2222222222222222,
              "#7201a8"
             ],
             [
              0.3333333333333333,
              "#9c179e"
             ],
             [
              0.4444444444444444,
              "#bd3786"
             ],
             [
              0.5555555555555556,
              "#d8576b"
             ],
             [
              0.6666666666666666,
              "#ed7953"
             ],
             [
              0.7777777777777778,
              "#fb9f3a"
             ],
             [
              0.8888888888888888,
              "#fdca26"
             ],
             [
              1,
              "#f0f921"
             ]
            ],
            "type": "histogram2d"
           }
          ],
          "histogram2dcontour": [
           {
            "colorbar": {
             "outlinewidth": 0,
             "ticks": ""
            },
            "colorscale": [
             [
              0,
              "#0d0887"
             ],
             [
              0.1111111111111111,
              "#46039f"
             ],
             [
              0.2222222222222222,
              "#7201a8"
             ],
             [
              0.3333333333333333,
              "#9c179e"
             ],
             [
              0.4444444444444444,
              "#bd3786"
             ],
             [
              0.5555555555555556,
              "#d8576b"
             ],
             [
              0.6666666666666666,
              "#ed7953"
             ],
             [
              0.7777777777777778,
              "#fb9f3a"
             ],
             [
              0.8888888888888888,
              "#fdca26"
             ],
             [
              1,
              "#f0f921"
             ]
            ],
            "type": "histogram2dcontour"
           }
          ],
          "mesh3d": [
           {
            "colorbar": {
             "outlinewidth": 0,
             "ticks": ""
            },
            "type": "mesh3d"
           }
          ],
          "parcoords": [
           {
            "line": {
             "colorbar": {
              "outlinewidth": 0,
              "ticks": ""
             }
            },
            "type": "parcoords"
           }
          ],
          "pie": [
           {
            "automargin": true,
            "type": "pie"
           }
          ],
          "scatter": [
           {
            "marker": {
             "colorbar": {
              "outlinewidth": 0,
              "ticks": ""
             }
            },
            "type": "scatter"
           }
          ],
          "scatter3d": [
           {
            "line": {
             "colorbar": {
              "outlinewidth": 0,
              "ticks": ""
             }
            },
            "marker": {
             "colorbar": {
              "outlinewidth": 0,
              "ticks": ""
             }
            },
            "type": "scatter3d"
           }
          ],
          "scattercarpet": [
           {
            "marker": {
             "colorbar": {
              "outlinewidth": 0,
              "ticks": ""
             }
            },
            "type": "scattercarpet"
           }
          ],
          "scattergeo": [
           {
            "marker": {
             "colorbar": {
              "outlinewidth": 0,
              "ticks": ""
             }
            },
            "type": "scattergeo"
           }
          ],
          "scattergl": [
           {
            "marker": {
             "colorbar": {
              "outlinewidth": 0,
              "ticks": ""
             }
            },
            "type": "scattergl"
           }
          ],
          "scattermapbox": [
           {
            "marker": {
             "colorbar": {
              "outlinewidth": 0,
              "ticks": ""
             }
            },
            "type": "scattermapbox"
           }
          ],
          "scatterpolar": [
           {
            "marker": {
             "colorbar": {
              "outlinewidth": 0,
              "ticks": ""
             }
            },
            "type": "scatterpolar"
           }
          ],
          "scatterpolargl": [
           {
            "marker": {
             "colorbar": {
              "outlinewidth": 0,
              "ticks": ""
             }
            },
            "type": "scatterpolargl"
           }
          ],
          "scatterternary": [
           {
            "marker": {
             "colorbar": {
              "outlinewidth": 0,
              "ticks": ""
             }
            },
            "type": "scatterternary"
           }
          ],
          "surface": [
           {
            "colorbar": {
             "outlinewidth": 0,
             "ticks": ""
            },
            "colorscale": [
             [
              0,
              "#0d0887"
             ],
             [
              0.1111111111111111,
              "#46039f"
             ],
             [
              0.2222222222222222,
              "#7201a8"
             ],
             [
              0.3333333333333333,
              "#9c179e"
             ],
             [
              0.4444444444444444,
              "#bd3786"
             ],
             [
              0.5555555555555556,
              "#d8576b"
             ],
             [
              0.6666666666666666,
              "#ed7953"
             ],
             [
              0.7777777777777778,
              "#fb9f3a"
             ],
             [
              0.8888888888888888,
              "#fdca26"
             ],
             [
              1,
              "#f0f921"
             ]
            ],
            "type": "surface"
           }
          ],
          "table": [
           {
            "cells": {
             "fill": {
              "color": "#EBF0F8"
             },
             "line": {
              "color": "white"
             }
            },
            "header": {
             "fill": {
              "color": "#C8D4E3"
             },
             "line": {
              "color": "white"
             }
            },
            "type": "table"
           }
          ]
         },
         "layout": {
          "annotationdefaults": {
           "arrowcolor": "#2a3f5f",
           "arrowhead": 0,
           "arrowwidth": 1
          },
          "autotypenumbers": "strict",
          "coloraxis": {
           "colorbar": {
            "outlinewidth": 0,
            "ticks": ""
           }
          },
          "colorscale": {
           "diverging": [
            [
             0,
             "#8e0152"
            ],
            [
             0.1,
             "#c51b7d"
            ],
            [
             0.2,
             "#de77ae"
            ],
            [
             0.3,
             "#f1b6da"
            ],
            [
             0.4,
             "#fde0ef"
            ],
            [
             0.5,
             "#f7f7f7"
            ],
            [
             0.6,
             "#e6f5d0"
            ],
            [
             0.7,
             "#b8e186"
            ],
            [
             0.8,
             "#7fbc41"
            ],
            [
             0.9,
             "#4d9221"
            ],
            [
             1,
             "#276419"
            ]
           ],
           "sequential": [
            [
             0,
             "#0d0887"
            ],
            [
             0.1111111111111111,
             "#46039f"
            ],
            [
             0.2222222222222222,
             "#7201a8"
            ],
            [
             0.3333333333333333,
             "#9c179e"
            ],
            [
             0.4444444444444444,
             "#bd3786"
            ],
            [
             0.5555555555555556,
             "#d8576b"
            ],
            [
             0.6666666666666666,
             "#ed7953"
            ],
            [
             0.7777777777777778,
             "#fb9f3a"
            ],
            [
             0.8888888888888888,
             "#fdca26"
            ],
            [
             1,
             "#f0f921"
            ]
           ],
           "sequentialminus": [
            [
             0,
             "#0d0887"
            ],
            [
             0.1111111111111111,
             "#46039f"
            ],
            [
             0.2222222222222222,
             "#7201a8"
            ],
            [
             0.3333333333333333,
             "#9c179e"
            ],
            [
             0.4444444444444444,
             "#bd3786"
            ],
            [
             0.5555555555555556,
             "#d8576b"
            ],
            [
             0.6666666666666666,
             "#ed7953"
            ],
            [
             0.7777777777777778,
             "#fb9f3a"
            ],
            [
             0.8888888888888888,
             "#fdca26"
            ],
            [
             1,
             "#f0f921"
            ]
           ]
          },
          "colorway": [
           "#636efa",
           "#EF553B",
           "#00cc96",
           "#ab63fa",
           "#FFA15A",
           "#19d3f3",
           "#FF6692",
           "#B6E880",
           "#FF97FF",
           "#FECB52"
          ],
          "font": {
           "color": "#2a3f5f"
          },
          "geo": {
           "bgcolor": "white",
           "lakecolor": "white",
           "landcolor": "#E5ECF6",
           "showlakes": true,
           "showland": true,
           "subunitcolor": "white"
          },
          "hoverlabel": {
           "align": "left"
          },
          "hovermode": "closest",
          "mapbox": {
           "style": "light"
          },
          "paper_bgcolor": "white",
          "plot_bgcolor": "#E5ECF6",
          "polar": {
           "angularaxis": {
            "gridcolor": "white",
            "linecolor": "white",
            "ticks": ""
           },
           "bgcolor": "#E5ECF6",
           "radialaxis": {
            "gridcolor": "white",
            "linecolor": "white",
            "ticks": ""
           }
          },
          "scene": {
           "xaxis": {
            "backgroundcolor": "#E5ECF6",
            "gridcolor": "white",
            "gridwidth": 2,
            "linecolor": "white",
            "showbackground": true,
            "ticks": "",
            "zerolinecolor": "white"
           },
           "yaxis": {
            "backgroundcolor": "#E5ECF6",
            "gridcolor": "white",
            "gridwidth": 2,
            "linecolor": "white",
            "showbackground": true,
            "ticks": "",
            "zerolinecolor": "white"
           },
           "zaxis": {
            "backgroundcolor": "#E5ECF6",
            "gridcolor": "white",
            "gridwidth": 2,
            "linecolor": "white",
            "showbackground": true,
            "ticks": "",
            "zerolinecolor": "white"
           }
          },
          "shapedefaults": {
           "line": {
            "color": "#2a3f5f"
           }
          },
          "ternary": {
           "aaxis": {
            "gridcolor": "white",
            "linecolor": "white",
            "ticks": ""
           },
           "baxis": {
            "gridcolor": "white",
            "linecolor": "white",
            "ticks": ""
           },
           "bgcolor": "#E5ECF6",
           "caxis": {
            "gridcolor": "white",
            "linecolor": "white",
            "ticks": ""
           }
          },
          "title": {
           "x": 0.05
          },
          "xaxis": {
           "automargin": true,
           "gridcolor": "white",
           "linecolor": "white",
           "ticks": "",
           "title": {
            "standoff": 15
           },
           "zerolinecolor": "white",
           "zerolinewidth": 2
          },
          "yaxis": {
           "automargin": true,
           "gridcolor": "white",
           "linecolor": "white",
           "ticks": "",
           "title": {
            "standoff": 15
           },
           "zerolinecolor": "white",
           "zerolinewidth": 2
          }
         }
        },
        "xaxis": {
         "anchor": "y",
         "domain": [
          0,
          1
         ],
         "title": {
          "text": "total_half_bathrooms"
         }
        },
        "yaxis": {
         "anchor": "x",
         "domain": [
          0,
          1
         ]
        }
       }
      },
      "text/html": [
       "<div>                            <div id=\"ea8f7faa-46de-432b-aaa4-61ced9da4c76\" class=\"plotly-graph-div\" style=\"height:525px; width:100%;\"></div>            <script type=\"text/javascript\">                require([\"plotly\"], function(Plotly) {                    window.PLOTLYENV=window.PLOTLYENV || {};                                    if (document.getElementById(\"ea8f7faa-46de-432b-aaa4-61ced9da4c76\")) {                    Plotly.newPlot(                        \"ea8f7faa-46de-432b-aaa4-61ced9da4c76\",                        [{\"alignmentgroup\":\"True\",\"hovertemplate\":\"total_half_bathrooms=%{x}<extra></extra>\",\"legendgroup\":\"\",\"marker\":{\"color\":\"#636efa\"},\"name\":\"\",\"notched\":false,\"offsetgroup\":\"\",\"orientation\":\"h\",\"showlegend\":false,\"type\":\"box\",\"x\":[1,0,1,0,1,1,0,1,0,0,0,0,0,0,1,0,0,0,1,0,1,0,0,0,0,0,0,0,0,0,0,1,0,1,0,1,1,0,0,0,0,1,0,0,0,0,1,0,0,0,0,0,0,1,0,0,1,1,1,0,1,0,0,0,1,1,0,0,0,0,0,0,1,0,0,0,0,0,0,1,1,0,0,1,1,1,1,1,0,0,0,0,0,0,1,1,0,0,0,1,0,1,0,0,1,1,0,0,0,0,0,1,1,0,1,1,0,1,0,1,0,0,0,0,0,0,0,0,1,1,1,1,0,0,1,0,0,0,1,1,0,0,0,0,0,0,0,1,0,0,1,0,1,0,0,0,0,1,1,1,0,1,0,0,0,0,0,1,1,1,1,0,0,1,0,0,1,0,0,0,1,1,0,1,0,1,0,1,2,1,1,1,0,0,0,1,0,0,0,0,0,0,0,0,1,0,1,0,1,0,0,0,1,0,1,0,0,0,1,0,0,1,1,0,0,1,1,1,0,0,0,1,1,0,1,1,0,1,0,1,0,0,0,1,1,0,0,0,1,0,0,0,1,0,0,1,1,1,1,0,0,1,0,0,0,0,1,1,0,1,1,0,1,0,0,1,0,0,1,1,1,0,0,0,0,1,1,0,0,0,1,0,1,1,0,0,1,1,2,0,0,1,0,0,0,0,1,0,0,0,1,0,0,0,1,1,1,1,1,0,1,1,1,0,1,0,1,1,0,0,0,0,0,0,1,0,0,0,0,0,1,0,0,0,1,0,0,0,1,1,0,1,0,0,0,0,0,1,0,1,0,0,0,1,1,0,1,0,0,0,1,0,0,0,1,1,0,0,1,1,0,0,1,0,1,0,0,0,0,1,0,1,0,0,0,0,0,0,0,0,1,0,0,1,1,0,0,0,1,1,0,0,1,0,1,0,1,1,1,0,0,0,0,1,0,1,0,0,0,0,1,0,1,1,0,1,0,0,0,0,0,0,0,0,1,0,1,1,0,1,0,0,1,1,0,1,0,0,0,0,1,0,0,1,0,0,0,1,0,1,1,1,0,0,0,0,0,1,0,0,0,0,1,0,0,0,1,0,0,0,1,0,1,1,0,0,0,0,0,0,1,1,0,0,1,0,1,0,0,0,0,0,0,1,0,1,1,1,1,1,0,1,0,1,1,0,0,1,0,0,0,0,0,0,1,0,1,0,1,0,0,1,0,0,1,1,1,0,0,1,0,0,0,0,1,0,0,1,1,0,1,0,0,0,1,1,1,0,1,0,0,0,1,1,0,0,0,0,0,0,0,1,0,1,0,0,0,0,0,0,1,1,0,0,0,0,0,2,0,1,1,1,1,1,0,1,0,0,1,0,1,0,1,0,0,0,1,0,0,1,0,1,0,1,2,1,0,0,2,1,0,0,0,0,0,0,0,0,0,0,1,1,1,1,1,1,0,0,1,0,1,0,1,0,1,1,1,1,0,0,1,1,0,0,1,1,1,0,1,0,1,0,1,0,0,1,0,0,1,0,0,0,0,0,1,0,0,1,0,0,0,1,1,0,1,0,0,0,0,0,0,1,1,0,0,0,0,0,1,0,0,0,0,0,1,0,1,1,1,1,0,0,0,0,0,0,0,0,0,0,0,0,1,0,0,1,0,1,0,1,0,0,0,0,0,1,1,1,0,0,0,1,0,1,0,1,1,1,1,1,0,0,1,1,1,0,1,0,0,1,0,0,0,0,0,0,0,0,0,0,0,1,0,0,0,0,0,1,0,1,0,0,1,0,1,1,1,0,1,1,1,0,1,1,0,0,0,1,0,0,1,0,0,1,1,0,0,0,0,0,1,0,1,0,0,0,0,0,1,1,1,1,1,1,0,0,0,1,1,0,0,0,1,0,1,0,1,0,0,1,0,0,0,1,1,1,0,1,0,1,1,1,0,0,0,0,0,1,0,1,0,1,0,0,1,1,0,1,0,0,1,1,1,0,0,0,0,1,0,0,0,1,0,0,0,1,0,0,1,0,0,0,1,0,0,0,0,1,0,1,0,1,0,0,1,1,0,0,1,0,1,2,0,0,0,0,1,1,0,1,0,0,0,0,0,0,0,1,1,0,0,1,0,0,0,0,0,0,1,1,0,0,0,1,0,0,1,0,0,1,0,1,1,0,1,1,1,0,0,0,1,0,0,0,0,1,0,1,0,0,0,1,0,1,0,0,0,1,1,1,1,1,1,1,0,1,0,0,0,0,0,0,0,0,0,0,0,1,0,0,0,0,1,0,0,1,0,0,1,0,1,0,0,0,0,0,0,0,0,1,0,1,1,0,0,0,0,1,1,0,0,1,0,1,1,0,1,0,0,0,0,0,1,0,1,0,0,1,1,1,0,0,0,0,1,1,1,1,1,0,0,1,0,1,0,1,0,0,0,0,0,1,0,0,1,0,1,1,0,1,0,1,0,1,0,0,1,1,0,0,0,0,0,0,1,1,0,1,1,0,1,1,0,0,0,0,1,0,0,0,0,0,0,0,1,0,0,0,1,0,0,0,0,1,1,0,0,0,0,0,0,1,0,0,0,0,0,1,0,0,0,1,0,0,2,0,0,0,0,1,1,0,0,2,1,0,0,1,0,1,0,0,1,0,1,1,0,0,1,0,1,0,1,0,1,0,0,0,1,1,0,1,0,0,1,1,1,0,0,1,0,1,0,0,1,0,0,0,0,0,1,0,0,0,0,0,0,0,0,1,0,0,0,0,1,0,1,0,1,0,2,0,0,0,1,1,1,1,1,0,1,0,0,1,0,1,1,0,1,0,1,0,0,1,1,0,0,0,0,1,1,0,0,0,0,1,1,0,1,1,1,0,0,0,0,0,1,1,1,0,0,0,0,2,0,0,1,0,0,1,0,1,0,1,0,1,0,0,1,1,1,0,1,0,0,0,0,0,0,0,0,0,1,1,0,1,0,0,0,0,1,0,1,0,0,0,0,0,0,1,0,0,0,1,1,0,0,0,1,0,0,0,1,1,1,0,0,0,0,0,2,1,0,1,1,0,0,1,1,0,1,0,0,1,1,1,1,0,0,0,0,0,1,1,1,0,0,0,1,1,0,1,1,0,0,0,1,0,0,0,0,0,0,0,0,1,0,1,1,1,0,1,0,0,0,0,0,0,0,1,1,1,0,0,1,0,0,1,1,0,1,0,0,0,0,0,1,1,0,0,1,0,0,1,0,1,0,0,0,1,0,0,1,0,0,0,0,1,1,0,2,0,0,0,0,1,0,0,0,1],\"x0\":\" \",\"xaxis\":\"x\",\"y0\":\" \",\"yaxis\":\"y\"}],                        {\"boxmode\":\"group\",\"legend\":{\"tracegroupgap\":0},\"margin\":{\"t\":60},\"template\":{\"data\":{\"bar\":[{\"error_x\":{\"color\":\"#2a3f5f\"},\"error_y\":{\"color\":\"#2a3f5f\"},\"marker\":{\"line\":{\"color\":\"#E5ECF6\",\"width\":0.5},\"pattern\":{\"fillmode\":\"overlay\",\"size\":10,\"solidity\":0.2}},\"type\":\"bar\"}],\"barpolar\":[{\"marker\":{\"line\":{\"color\":\"#E5ECF6\",\"width\":0.5},\"pattern\":{\"fillmode\":\"overlay\",\"size\":10,\"solidity\":0.2}},\"type\":\"barpolar\"}],\"carpet\":[{\"aaxis\":{\"endlinecolor\":\"#2a3f5f\",\"gridcolor\":\"white\",\"linecolor\":\"white\",\"minorgridcolor\":\"white\",\"startlinecolor\":\"#2a3f5f\"},\"baxis\":{\"endlinecolor\":\"#2a3f5f\",\"gridcolor\":\"white\",\"linecolor\":\"white\",\"minorgridcolor\":\"white\",\"startlinecolor\":\"#2a3f5f\"},\"type\":\"carpet\"}],\"choropleth\":[{\"colorbar\":{\"outlinewidth\":0,\"ticks\":\"\"},\"type\":\"choropleth\"}],\"contour\":[{\"colorbar\":{\"outlinewidth\":0,\"ticks\":\"\"},\"colorscale\":[[0.0,\"#0d0887\"],[0.1111111111111111,\"#46039f\"],[0.2222222222222222,\"#7201a8\"],[0.3333333333333333,\"#9c179e\"],[0.4444444444444444,\"#bd3786\"],[0.5555555555555556,\"#d8576b\"],[0.6666666666666666,\"#ed7953\"],[0.7777777777777778,\"#fb9f3a\"],[0.8888888888888888,\"#fdca26\"],[1.0,\"#f0f921\"]],\"type\":\"contour\"}],\"contourcarpet\":[{\"colorbar\":{\"outlinewidth\":0,\"ticks\":\"\"},\"type\":\"contourcarpet\"}],\"heatmap\":[{\"colorbar\":{\"outlinewidth\":0,\"ticks\":\"\"},\"colorscale\":[[0.0,\"#0d0887\"],[0.1111111111111111,\"#46039f\"],[0.2222222222222222,\"#7201a8\"],[0.3333333333333333,\"#9c179e\"],[0.4444444444444444,\"#bd3786\"],[0.5555555555555556,\"#d8576b\"],[0.6666666666666666,\"#ed7953\"],[0.7777777777777778,\"#fb9f3a\"],[0.8888888888888888,\"#fdca26\"],[1.0,\"#f0f921\"]],\"type\":\"heatmap\"}],\"heatmapgl\":[{\"colorbar\":{\"outlinewidth\":0,\"ticks\":\"\"},\"colorscale\":[[0.0,\"#0d0887\"],[0.1111111111111111,\"#46039f\"],[0.2222222222222222,\"#7201a8\"],[0.3333333333333333,\"#9c179e\"],[0.4444444444444444,\"#bd3786\"],[0.5555555555555556,\"#d8576b\"],[0.6666666666666666,\"#ed7953\"],[0.7777777777777778,\"#fb9f3a\"],[0.8888888888888888,\"#fdca26\"],[1.0,\"#f0f921\"]],\"type\":\"heatmapgl\"}],\"histogram\":[{\"marker\":{\"pattern\":{\"fillmode\":\"overlay\",\"size\":10,\"solidity\":0.2}},\"type\":\"histogram\"}],\"histogram2d\":[{\"colorbar\":{\"outlinewidth\":0,\"ticks\":\"\"},\"colorscale\":[[0.0,\"#0d0887\"],[0.1111111111111111,\"#46039f\"],[0.2222222222222222,\"#7201a8\"],[0.3333333333333333,\"#9c179e\"],[0.4444444444444444,\"#bd3786\"],[0.5555555555555556,\"#d8576b\"],[0.6666666666666666,\"#ed7953\"],[0.7777777777777778,\"#fb9f3a\"],[0.8888888888888888,\"#fdca26\"],[1.0,\"#f0f921\"]],\"type\":\"histogram2d\"}],\"histogram2dcontour\":[{\"colorbar\":{\"outlinewidth\":0,\"ticks\":\"\"},\"colorscale\":[[0.0,\"#0d0887\"],[0.1111111111111111,\"#46039f\"],[0.2222222222222222,\"#7201a8\"],[0.3333333333333333,\"#9c179e\"],[0.4444444444444444,\"#bd3786\"],[0.5555555555555556,\"#d8576b\"],[0.6666666666666666,\"#ed7953\"],[0.7777777777777778,\"#fb9f3a\"],[0.8888888888888888,\"#fdca26\"],[1.0,\"#f0f921\"]],\"type\":\"histogram2dcontour\"}],\"mesh3d\":[{\"colorbar\":{\"outlinewidth\":0,\"ticks\":\"\"},\"type\":\"mesh3d\"}],\"parcoords\":[{\"line\":{\"colorbar\":{\"outlinewidth\":0,\"ticks\":\"\"}},\"type\":\"parcoords\"}],\"pie\":[{\"automargin\":true,\"type\":\"pie\"}],\"scatter\":[{\"marker\":{\"colorbar\":{\"outlinewidth\":0,\"ticks\":\"\"}},\"type\":\"scatter\"}],\"scatter3d\":[{\"line\":{\"colorbar\":{\"outlinewidth\":0,\"ticks\":\"\"}},\"marker\":{\"colorbar\":{\"outlinewidth\":0,\"ticks\":\"\"}},\"type\":\"scatter3d\"}],\"scattercarpet\":[{\"marker\":{\"colorbar\":{\"outlinewidth\":0,\"ticks\":\"\"}},\"type\":\"scattercarpet\"}],\"scattergeo\":[{\"marker\":{\"colorbar\":{\"outlinewidth\":0,\"ticks\":\"\"}},\"type\":\"scattergeo\"}],\"scattergl\":[{\"marker\":{\"colorbar\":{\"outlinewidth\":0,\"ticks\":\"\"}},\"type\":\"scattergl\"}],\"scattermapbox\":[{\"marker\":{\"colorbar\":{\"outlinewidth\":0,\"ticks\":\"\"}},\"type\":\"scattermapbox\"}],\"scatterpolar\":[{\"marker\":{\"colorbar\":{\"outlinewidth\":0,\"ticks\":\"\"}},\"type\":\"scatterpolar\"}],\"scatterpolargl\":[{\"marker\":{\"colorbar\":{\"outlinewidth\":0,\"ticks\":\"\"}},\"type\":\"scatterpolargl\"}],\"scatterternary\":[{\"marker\":{\"colorbar\":{\"outlinewidth\":0,\"ticks\":\"\"}},\"type\":\"scatterternary\"}],\"surface\":[{\"colorbar\":{\"outlinewidth\":0,\"ticks\":\"\"},\"colorscale\":[[0.0,\"#0d0887\"],[0.1111111111111111,\"#46039f\"],[0.2222222222222222,\"#7201a8\"],[0.3333333333333333,\"#9c179e\"],[0.4444444444444444,\"#bd3786\"],[0.5555555555555556,\"#d8576b\"],[0.6666666666666666,\"#ed7953\"],[0.7777777777777778,\"#fb9f3a\"],[0.8888888888888888,\"#fdca26\"],[1.0,\"#f0f921\"]],\"type\":\"surface\"}],\"table\":[{\"cells\":{\"fill\":{\"color\":\"#EBF0F8\"},\"line\":{\"color\":\"white\"}},\"header\":{\"fill\":{\"color\":\"#C8D4E3\"},\"line\":{\"color\":\"white\"}},\"type\":\"table\"}]},\"layout\":{\"annotationdefaults\":{\"arrowcolor\":\"#2a3f5f\",\"arrowhead\":0,\"arrowwidth\":1},\"autotypenumbers\":\"strict\",\"coloraxis\":{\"colorbar\":{\"outlinewidth\":0,\"ticks\":\"\"}},\"colorscale\":{\"diverging\":[[0,\"#8e0152\"],[0.1,\"#c51b7d\"],[0.2,\"#de77ae\"],[0.3,\"#f1b6da\"],[0.4,\"#fde0ef\"],[0.5,\"#f7f7f7\"],[0.6,\"#e6f5d0\"],[0.7,\"#b8e186\"],[0.8,\"#7fbc41\"],[0.9,\"#4d9221\"],[1,\"#276419\"]],\"sequential\":[[0.0,\"#0d0887\"],[0.1111111111111111,\"#46039f\"],[0.2222222222222222,\"#7201a8\"],[0.3333333333333333,\"#9c179e\"],[0.4444444444444444,\"#bd3786\"],[0.5555555555555556,\"#d8576b\"],[0.6666666666666666,\"#ed7953\"],[0.7777777777777778,\"#fb9f3a\"],[0.8888888888888888,\"#fdca26\"],[1.0,\"#f0f921\"]],\"sequentialminus\":[[0.0,\"#0d0887\"],[0.1111111111111111,\"#46039f\"],[0.2222222222222222,\"#7201a8\"],[0.3333333333333333,\"#9c179e\"],[0.4444444444444444,\"#bd3786\"],[0.5555555555555556,\"#d8576b\"],[0.6666666666666666,\"#ed7953\"],[0.7777777777777778,\"#fb9f3a\"],[0.8888888888888888,\"#fdca26\"],[1.0,\"#f0f921\"]]},\"colorway\":[\"#636efa\",\"#EF553B\",\"#00cc96\",\"#ab63fa\",\"#FFA15A\",\"#19d3f3\",\"#FF6692\",\"#B6E880\",\"#FF97FF\",\"#FECB52\"],\"font\":{\"color\":\"#2a3f5f\"},\"geo\":{\"bgcolor\":\"white\",\"lakecolor\":\"white\",\"landcolor\":\"#E5ECF6\",\"showlakes\":true,\"showland\":true,\"subunitcolor\":\"white\"},\"hoverlabel\":{\"align\":\"left\"},\"hovermode\":\"closest\",\"mapbox\":{\"style\":\"light\"},\"paper_bgcolor\":\"white\",\"plot_bgcolor\":\"#E5ECF6\",\"polar\":{\"angularaxis\":{\"gridcolor\":\"white\",\"linecolor\":\"white\",\"ticks\":\"\"},\"bgcolor\":\"#E5ECF6\",\"radialaxis\":{\"gridcolor\":\"white\",\"linecolor\":\"white\",\"ticks\":\"\"}},\"scene\":{\"xaxis\":{\"backgroundcolor\":\"#E5ECF6\",\"gridcolor\":\"white\",\"gridwidth\":2,\"linecolor\":\"white\",\"showbackground\":true,\"ticks\":\"\",\"zerolinecolor\":\"white\"},\"yaxis\":{\"backgroundcolor\":\"#E5ECF6\",\"gridcolor\":\"white\",\"gridwidth\":2,\"linecolor\":\"white\",\"showbackground\":true,\"ticks\":\"\",\"zerolinecolor\":\"white\"},\"zaxis\":{\"backgroundcolor\":\"#E5ECF6\",\"gridcolor\":\"white\",\"gridwidth\":2,\"linecolor\":\"white\",\"showbackground\":true,\"ticks\":\"\",\"zerolinecolor\":\"white\"}},\"shapedefaults\":{\"line\":{\"color\":\"#2a3f5f\"}},\"ternary\":{\"aaxis\":{\"gridcolor\":\"white\",\"linecolor\":\"white\",\"ticks\":\"\"},\"baxis\":{\"gridcolor\":\"white\",\"linecolor\":\"white\",\"ticks\":\"\"},\"bgcolor\":\"#E5ECF6\",\"caxis\":{\"gridcolor\":\"white\",\"linecolor\":\"white\",\"ticks\":\"\"}},\"title\":{\"x\":0.05},\"xaxis\":{\"automargin\":true,\"gridcolor\":\"white\",\"linecolor\":\"white\",\"ticks\":\"\",\"title\":{\"standoff\":15},\"zerolinecolor\":\"white\",\"zerolinewidth\":2},\"yaxis\":{\"automargin\":true,\"gridcolor\":\"white\",\"linecolor\":\"white\",\"ticks\":\"\",\"title\":{\"standoff\":15},\"zerolinecolor\":\"white\",\"zerolinewidth\":2}}},\"xaxis\":{\"anchor\":\"y\",\"domain\":[0.0,1.0],\"title\":{\"text\":\"total_half_bathrooms\"}},\"yaxis\":{\"anchor\":\"x\",\"domain\":[0.0,1.0]}},                        {\"responsive\": true}                    ).then(function(){\n",
       "                            \n",
       "var gd = document.getElementById('ea8f7faa-46de-432b-aaa4-61ced9da4c76');\n",
       "var x = new MutationObserver(function (mutations, observer) {{\n",
       "        var display = window.getComputedStyle(gd).display;\n",
       "        if (!display || display === 'none') {{\n",
       "            console.log([gd, 'removed!']);\n",
       "            Plotly.purge(gd);\n",
       "            observer.disconnect();\n",
       "        }}\n",
       "}});\n",
       "\n",
       "// Listen for the removal of the full notebook cells\n",
       "var notebookContainer = gd.closest('#notebook-container');\n",
       "if (notebookContainer) {{\n",
       "    x.observe(notebookContainer, {childList: true});\n",
       "}}\n",
       "\n",
       "// Listen for the clearing of the current output cell\n",
       "var outputEl = gd.closest('.output');\n",
       "if (outputEl) {{\n",
       "    x.observe(outputEl, {childList: true});\n",
       "}}\n",
       "\n",
       "                        })                };                });            </script>        </div>"
      ]
     },
     "metadata": {},
     "output_type": "display_data"
    }
   ],
   "source": [
    "# total bathrooms\n",
    "df['total_full_bathrooms'] = df['BsmtFullBath'] + df['FullBath']\n",
    "df['total_half_bathrooms'] = df['BsmtHalfBath'] = df['HalfBath']\n",
    "\n",
    "\n",
    "bath_ref_features = ['BsmtFullBath', 'FullBath', 'BsmtHalfBath', 'HalfBath']\n",
    "bath_features = ['total_full_bathrooms', 'total_half_bathrooms']\n",
    "\n",
    "transfer_info[\"bathGroup\"] = {\n",
    "    \"newBaths\": bath_features,\n",
    "    \"referenceBaths\": bath_ref_features,\n",
    "}\n",
    "\n",
    "viz_data(bath_features)"
   ]
  },
  {
   "cell_type": "code",
   "execution_count": 144,
   "id": "10667f50",
   "metadata": {},
   "outputs": [
    {
     "data": {
      "application/vnd.plotly.v1+json": {
       "config": {
        "plotlyServerURL": "https://plot.ly"
       },
       "data": [
        {
         "alignmentgroup": "True",
         "hovertemplate": "total_finished_basement_sqft=%{x}<extra></extra>",
         "legendgroup": "",
         "marker": {
          "color": "#636efa"
         },
         "name": "",
         "notched": false,
         "offsetgroup": "",
         "orientation": "h",
         "showlegend": false,
         "type": "box",
         "x": [
          706,
          978,
          486,
          216,
          655,
          732,
          1369,
          891,
          0,
          851,
          906,
          998,
          737,
          0,
          733,
          0,
          578,
          0,
          646,
          504,
          0,
          0,
          0,
          840,
          856,
          0,
          720,
          1218,
          1277,
          0,
          0,
          0,
          0,
          1018,
          1153,
          0,
          0,
          1213,
          731,
          0,
          643,
          967,
          840,
          771,
          685,
          456,
          1351,
          24,
          0,
          763,
          182,
          0,
          816,
          1810,
          384,
          490,
          649,
          0,
          0,
          632,
          941,
          0,
          24,
          0,
          739,
          0,
          912,
          1013,
          0,
          603,
          1880,
          565,
          0,
          682,
          0,
          462,
          228,
          377,
          0,
          0,
          448,
          1201,
          33,
          0,
          0,
          0,
          0,
          0,
          0,
          588,
          0,
          600,
          713,
          1046,
          648,
          310,
          1162,
          520,
          108,
          569,
          1200,
          0,
          0,
          0,
          224,
          0,
          0,
          273,
          0,
          705,
          444,
          250,
          984,
          904,
          924,
          419,
          840,
          0,
          1470,
          0,
          938,
          0,
          570,
          300,
          0,
          490,
          120,
          116,
          512,
          595,
          445,
          695,
          405,
          1005,
          570,
          0,
          695,
          0,
          668,
          821,
          432,
          1300,
          507,
          679,
          1332,
          0,
          209,
          0,
          680,
          0,
          716,
          1400,
          416,
          1509,
          0,
          0,
          0,
          0,
          222,
          57,
          660,
          1016,
          1201,
          0,
          370,
          532,
          1147,
          1288,
          0,
          0,
          360,
          639,
          710,
          662,
          1606,
          477,
          831,
          498,
          1904,
          0,
          436,
          352,
          0,
          0,
          0,
          0,
          611,
          0,
          1086,
          1153,
          297,
          626,
          560,
          0,
          390,
          566,
          1126,
          1220,
          0,
          1088,
          0,
          920,
          617,
          662,
          312,
          0,
          0,
          725,
          1065,
          787,
          468,
          36,
          822,
          716,
          378,
          360,
          946,
          0,
          341,
          16,
          0,
          0,
          550,
          704,
          56,
          0,
          565,
          321,
          842,
          16,
          0,
          689,
          0,
          894,
          625,
          358,
          24,
          402,
          0,
          94,
          1078,
          329,
          0,
          0,
          695,
          929,
          0,
          0,
          0,
          697,
          0,
          1573,
          0,
          850,
          922,
          0,
          503,
          1334,
          361,
          0,
          1362,
          0,
          506,
          926,
          0,
          816,
          714,
          378,
          528,
          751,
          0,
          1289,
          524,
          1240,
          546,
          0,
          0,
          120,
          0,
          392,
          421,
          905,
          904,
          0,
          430,
          0,
          600,
          614,
          450,
          0,
          0,
          210,
          292,
          795,
          1285,
          819,
          420,
          649,
          559,
          0,
          841,
          281,
          0,
          894,
          0,
          1464,
          700,
          0,
          262,
          1274,
          518,
          680,
          507,
          2056,
          16,
          425,
          692,
          0,
          987,
          1036,
          0,
          970,
          1502,
          256,
          0,
          116,
          1619,
          565,
          0,
          0,
          304,
          846,
          1603,
          720,
          828,
          1396,
          1249,
          810,
          213,
          585,
          0,
          0,
          0,
          28,
          361,
          0,
          498,
          1270,
          573,
          1410,
          0,
          1082,
          616,
          0,
          388,
          878,
          560,
          874,
          594,
          956,
          773,
          399,
          0,
          162,
          712,
          456,
          609,
          371,
          540,
          330,
          0,
          0,
          744,
          608,
          0,
          350,
          298,
          0,
          1445,
          0,
          218,
          0,
          0,
          0,
          985,
          24,
          0,
          631,
          0,
          1280,
          632,
          690,
          0,
          266,
          0,
          739,
          777,
          540,
          0,
          812,
          786,
          24,
          0,
          0,
          0,
          1116,
          0,
          0,
          0,
          789,
          0,
          1056,
          578,
          0,
          581,
          24,
          209,
          1128,
          312,
          775,
          1309,
          1246,
          0,
          986,
          616,
          0,
          1518,
          288,
          664,
          1005,
          387,
          0,
          471,
          0,
          495,
          729,
          0,
          0,
          365,
          0,
          2306,
          133,
          0,
          0,
          642,
          0,
          960,
          0,
          0,
          331,
          0,
          655,
          742,
          0,
          1606,
          916,
          0,
          1116,
          0,
          185,
          544,
          560,
          864,
          326,
          616,
          0,
          778,
          386,
          0,
          426,
          1488,
          0,
          459,
          1350,
          1196,
          630,
          994,
          0,
          1288,
          168,
          1261,
          1567,
          299,
          897,
          588,
          607,
          836,
          998,
          664,
          515,
          0,
          568,
          0,
          906,
          0,
          495,
          1231,
          329,
          450,
          390,
          356,
          400,
          794,
          1247,
          752,
          0,
          380,
          27,
          141,
          991,
          830,
          0,
          695,
          336,
          0,
          1436,
          0,
          0,
          706,
          0,
          0,
          777,
          399,
          2260,
          719,
          0,
          377,
          1330,
          348,
          1219,
          783,
          0,
          0,
          0,
          0,
          969,
          0,
          600,
          673,
          1358,
          1260,
          0,
          1271,
          723,
          554,
          1204,
          300,
          619,
          825,
          0,
          559,
          308,
          0,
          0,
          866,
          0,
          895,
          637,
          604,
          0,
          1302,
          1194,
          290,
          0,
          728,
          0,
          0,
          2,
          1441,
          943,
          231,
          414,
          0,
          0,
          349,
          442,
          0,
          879,
          0,
          0,
          813,
          0,
          816,
          0,
          0,
          1460,
          816,
          672,
          1324,
          0,
          490,
          1338,
          816,
          685,
          0,
          1422,
          0,
          0,
          1430,
          693,
          546,
          0,
          789,
          0,
          922,
          454,
          732,
          603,
          428,
          903,
          904,
          605,
          990,
          206,
          630,
          763,
          457,
          0,
          48,
          871,
          41,
          1138,
          560,
          420,
          247,
          0,
          0,
          806,
          650,
          960,
          0,
          24,
          822,
          948,
          1056,
          256,
          0,
          0,
          0,
          1154,
          1218,
          738,
          1410,
          780,
          1121,
          317,
          0,
          500,
          0,
          630,
          0,
          0,
          0,
          0,
          1696,
          0,
          806,
          0,
          0,
          637,
          0,
          1541,
          0,
          1100,
          1721,
          0,
          910,
          1138,
          988,
          0,
          193,
          551,
          767,
          1186,
          892,
          311,
          0,
          0,
          0,
          827,
          662,
          182,
          1003,
          1059,
          0,
          1010,
          0,
          239,
          945,
          20,
          697,
          1455,
          965,
          0,
          0,
          1020,
          616,
          761,
          670,
          16,
          1274,
          0,
          0,
          0,
          712,
          0,
          1219,
          863,
          0,
          0,
          0,
          0,
          767,
          789,
          533,
          0,
          0,
          1084,
          1173,
          523,
          1148,
          662,
          191,
          0,
          1234,
          614,
          808,
          724,
          0,
          152,
          1180,
          786,
          252,
          594,
          0,
          390,
          0,
          0,
          1200,
          0,
          0,
          832,
          0,
          444,
          733,
          655,
          300,
          0,
          919,
          0,
          0,
          0,
          1200,
          0,
          911,
          381,
          20,
          438,
          549,
          120,
          612,
          405,
          24,
          1163,
          1494,
          0,
          394,
          660,
          24,
          1416,
          685,
          836,
          549,
          456,
          0,
          866,
          20,
          762,
          0,
          975,
          0,
          387,
          0,
          1097,
          0,
          881,
          686,
          656,
          0,
          568,
          16,
          539,
          862,
          0,
          0,
          0,
          0,
          570,
          0,
          569,
          462,
          197,
          648,
          0,
          812,
          0,
          880,
          1309,
          644,
          0,
          1040,
          662,
          0,
          608,
          0,
          0,
          486,
          1218,
          504,
          733,
          0,
          0,
          0,
          0,
          0,
          1636,
          784,
          20,
          1013,
          0,
          1040,
          0,
          483,
          541,
          572,
          442,
          338,
          330,
          0,
          352,
          156,
          0,
          851,
          0,
          0,
          1390,
          513,
          460,
          0,
          0,
          659,
          0,
          364,
          564,
          1391,
          659,
          940,
          0,
          0,
          619,
          0,
          841,
          338,
          1148,
          0,
          828,
          0,
          932,
          0,
          750,
          0,
          505,
          0,
          375,
          0,
          64,
          633,
          1170,
          899,
          646,
          980,
          902,
          0,
          0,
          432,
          1238,
          528,
          0,
          1174,
          1024,
          0,
          726,
          663,
          1064,
          0,
          400,
          285,
          0,
          2188,
          465,
          322,
          860,
          0,
          0,
          599,
          644,
          63,
          223,
          625,
          0,
          443,
          196,
          489,
          284,
          294,
          0,
          50,
          1059,
          682,
          939,
          814,
          1084,
          28,
          1006,
          1686,
          860,
          0,
          552,
          0,
          0,
          16,
          804,
          0,
          20,
          425,
          0,
          833,
          341,
          464,
          0,
          1332,
          772,
          1440,
          0,
          465,
          1088,
          1042,
          1300,
          0,
          982,
          547,
          641,
          660,
          755,
          945,
          484,
          285,
          417,
          699,
          604,
          696,
          896,
          556,
          0,
          624,
          0,
          428,
          902,
          0,
          513,
          0,
          567,
          0,
          0,
          0,
          641,
          0,
          1106,
          552,
          651,
          867,
          854,
          0,
          0,
          0,
          1040,
          0,
          1646,
          156,
          0,
          1074,
          216,
          653,
          0,
          1172,
          384,
          915,
          0,
          0,
          686,
          0,
          0,
          24,
          0,
          16,
          595,
          1237,
          546,
          0,
          0,
          0,
          0,
          0,
          712,
          336,
          643,
          690,
          1036,
          0,
          16,
          1024,
          684,
          324,
          16,
          1565,
          606,
          697,
          1513,
          409,
          317,
          0,
          523,
          1012,
          986,
          0,
          0,
          1022,
          0,
          0,
          509,
          850,
          464,
          900,
          1085,
          1104,
          0,
          240,
          686,
          0,
          0,
          0,
          0,
          442,
          383,
          932,
          644,
          659,
          595,
          936,
          854,
          616,
          0,
          0,
          397,
          970,
          1201,
          0,
          780,
          837,
          220,
          586,
          298,
          0,
          535,
          0,
          410,
          626,
          866,
          662,
          495,
          656,
          824,
          0,
          553,
          592,
          747,
          334,
          0,
          0,
          1039,
          0,
          510,
          423,
          661,
          488,
          24,
          0,
          0,
          672,
          704,
          290,
          699,
          588,
          655,
          0,
          1032,
          738,
          0,
          0,
          1039,
          219,
          403,
          708,
          643,
          415,
          1004,
          353,
          702,
          0,
          369,
          0,
          24,
          0,
          0,
          0,
          0,
          0,
          1300,
          0,
          936,
          622,
          212,
          0,
          584,
          0,
          0,
          280,
          0,
          1567,
          645,
          852,
          381,
          1150,
          288,
          348,
          0,
          1258,
          275,
          0,
          624,
          0,
          176,
          843,
          538,
          454,
          1157,
          633,
          904,
          0,
          442,
          311,
          728,
          492,
          1198,
          1071,
          0,
          0,
          786,
          626,
          1387,
          522,
          662,
          0,
          621,
          503,
          700,
          658,
          468,
          0,
          0,
          1216,
          1480,
          2096,
          821,
          1159,
          392,
          440,
          1456,
          0,
          0,
          1159,
          0,
          0,
          883,
          371,
          0,
          0,
          0,
          0,
          547,
          0,
          0,
          0,
          0,
          788,
          662,
          1056,
          340,
          612,
          1220,
          0,
          427,
          344,
          648,
          784,
          554,
          0,
          936,
          0,
          0,
          912,
          742,
          196,
          756,
          724,
          507,
          0,
          595,
          1540,
          666,
          709,
          803,
          0,
          1000,
          0,
          0,
          0,
          0,
          0,
          428,
          550,
          0,
          1053,
          1386,
          0,
          0,
          0,
          539,
          319,
          630,
          1065,
          0,
          510,
          1156,
          0,
          425,
          1314,
          0,
          655,
          1040,
          0,
          504,
          0,
          0,
          266,
          450,
          0,
          0,
          192,
          460,
          1258,
          0,
          935,
          719,
          0,
          220,
          593,
          528,
          804,
          0,
          788,
          1053,
          676,
          0,
          0,
          0,
          650,
          812,
          1158,
          0,
          1014,
          231,
          0,
          194,
          167,
          1016,
          776,
          547,
          5644,
          1246,
          694,
          547,
          740,
          0,
          0,
          1572,
          0,
          746,
          752,
          1200,
          1406,
          925,
          482,
          0,
          732,
          776,
          0,
          0,
          0,
          492,
          850,
          0,
          674,
          280,
          0,
          0,
          544,
          641,
          493,
          0,
          0,
          483,
          690,
          0,
          765,
          686,
          0,
          0,
          700,
          360,
          0,
          814,
          0,
          0,
          0,
          250,
          365,
          80,
          1443,
          259,
          500,
          319,
          0,
          816,
          735,
          0,
          340,
          734,
          378,
          1447,
          0,
          1274,
          0,
          0,
          0,
          533,
          633,
          721,
          685,
          1342,
          420,
          831,
          975,
          1282,
          0,
          0,
          384,
          828,
          309,
          0,
          203,
          865,
          0,
          0,
          204,
          735,
          1259,
          714,
          1320,
          375,
          1400,
          0,
          769,
          0,
          1070,
          0,
          687,
          0,
          532,
          264,
          0,
          759,
          0,
          929,
          0,
          1373,
          656,
          625,
          0,
          0,
          666,
          120,
          0,
          976,
          0,
          988,
          0,
          781,
          897,
          1110,
          404,
          360,
          686,
          0,
          831,
          0,
          1000,
          580,
          510,
          678,
          0,
          958,
          0,
          0,
          936,
          0,
          616,
          1336,
          600,
          425,
          0,
          697,
          765,
          0,
          0,
          814,
          593,
          1079,
          0,
          553,
          0,
          0,
          547,
          0,
          410,
          0,
          953,
          275,
          1078,
          1120
         ],
         "x0": " ",
         "xaxis": "x",
         "y0": " ",
         "yaxis": "y"
        }
       ],
       "layout": {
        "boxmode": "group",
        "legend": {
         "tracegroupgap": 0
        },
        "margin": {
         "t": 60
        },
        "template": {
         "data": {
          "bar": [
           {
            "error_x": {
             "color": "#2a3f5f"
            },
            "error_y": {
             "color": "#2a3f5f"
            },
            "marker": {
             "line": {
              "color": "#E5ECF6",
              "width": 0.5
             },
             "pattern": {
              "fillmode": "overlay",
              "size": 10,
              "solidity": 0.2
             }
            },
            "type": "bar"
           }
          ],
          "barpolar": [
           {
            "marker": {
             "line": {
              "color": "#E5ECF6",
              "width": 0.5
             },
             "pattern": {
              "fillmode": "overlay",
              "size": 10,
              "solidity": 0.2
             }
            },
            "type": "barpolar"
           }
          ],
          "carpet": [
           {
            "aaxis": {
             "endlinecolor": "#2a3f5f",
             "gridcolor": "white",
             "linecolor": "white",
             "minorgridcolor": "white",
             "startlinecolor": "#2a3f5f"
            },
            "baxis": {
             "endlinecolor": "#2a3f5f",
             "gridcolor": "white",
             "linecolor": "white",
             "minorgridcolor": "white",
             "startlinecolor": "#2a3f5f"
            },
            "type": "carpet"
           }
          ],
          "choropleth": [
           {
            "colorbar": {
             "outlinewidth": 0,
             "ticks": ""
            },
            "type": "choropleth"
           }
          ],
          "contour": [
           {
            "colorbar": {
             "outlinewidth": 0,
             "ticks": ""
            },
            "colorscale": [
             [
              0,
              "#0d0887"
             ],
             [
              0.1111111111111111,
              "#46039f"
             ],
             [
              0.2222222222222222,
              "#7201a8"
             ],
             [
              0.3333333333333333,
              "#9c179e"
             ],
             [
              0.4444444444444444,
              "#bd3786"
             ],
             [
              0.5555555555555556,
              "#d8576b"
             ],
             [
              0.6666666666666666,
              "#ed7953"
             ],
             [
              0.7777777777777778,
              "#fb9f3a"
             ],
             [
              0.8888888888888888,
              "#fdca26"
             ],
             [
              1,
              "#f0f921"
             ]
            ],
            "type": "contour"
           }
          ],
          "contourcarpet": [
           {
            "colorbar": {
             "outlinewidth": 0,
             "ticks": ""
            },
            "type": "contourcarpet"
           }
          ],
          "heatmap": [
           {
            "colorbar": {
             "outlinewidth": 0,
             "ticks": ""
            },
            "colorscale": [
             [
              0,
              "#0d0887"
             ],
             [
              0.1111111111111111,
              "#46039f"
             ],
             [
              0.2222222222222222,
              "#7201a8"
             ],
             [
              0.3333333333333333,
              "#9c179e"
             ],
             [
              0.4444444444444444,
              "#bd3786"
             ],
             [
              0.5555555555555556,
              "#d8576b"
             ],
             [
              0.6666666666666666,
              "#ed7953"
             ],
             [
              0.7777777777777778,
              "#fb9f3a"
             ],
             [
              0.8888888888888888,
              "#fdca26"
             ],
             [
              1,
              "#f0f921"
             ]
            ],
            "type": "heatmap"
           }
          ],
          "heatmapgl": [
           {
            "colorbar": {
             "outlinewidth": 0,
             "ticks": ""
            },
            "colorscale": [
             [
              0,
              "#0d0887"
             ],
             [
              0.1111111111111111,
              "#46039f"
             ],
             [
              0.2222222222222222,
              "#7201a8"
             ],
             [
              0.3333333333333333,
              "#9c179e"
             ],
             [
              0.4444444444444444,
              "#bd3786"
             ],
             [
              0.5555555555555556,
              "#d8576b"
             ],
             [
              0.6666666666666666,
              "#ed7953"
             ],
             [
              0.7777777777777778,
              "#fb9f3a"
             ],
             [
              0.8888888888888888,
              "#fdca26"
             ],
             [
              1,
              "#f0f921"
             ]
            ],
            "type": "heatmapgl"
           }
          ],
          "histogram": [
           {
            "marker": {
             "pattern": {
              "fillmode": "overlay",
              "size": 10,
              "solidity": 0.2
             }
            },
            "type": "histogram"
           }
          ],
          "histogram2d": [
           {
            "colorbar": {
             "outlinewidth": 0,
             "ticks": ""
            },
            "colorscale": [
             [
              0,
              "#0d0887"
             ],
             [
              0.1111111111111111,
              "#46039f"
             ],
             [
              0.2222222222222222,
              "#7201a8"
             ],
             [
              0.3333333333333333,
              "#9c179e"
             ],
             [
              0.4444444444444444,
              "#bd3786"
             ],
             [
              0.5555555555555556,
              "#d8576b"
             ],
             [
              0.6666666666666666,
              "#ed7953"
             ],
             [
              0.7777777777777778,
              "#fb9f3a"
             ],
             [
              0.8888888888888888,
              "#fdca26"
             ],
             [
              1,
              "#f0f921"
             ]
            ],
            "type": "histogram2d"
           }
          ],
          "histogram2dcontour": [
           {
            "colorbar": {
             "outlinewidth": 0,
             "ticks": ""
            },
            "colorscale": [
             [
              0,
              "#0d0887"
             ],
             [
              0.1111111111111111,
              "#46039f"
             ],
             [
              0.2222222222222222,
              "#7201a8"
             ],
             [
              0.3333333333333333,
              "#9c179e"
             ],
             [
              0.4444444444444444,
              "#bd3786"
             ],
             [
              0.5555555555555556,
              "#d8576b"
             ],
             [
              0.6666666666666666,
              "#ed7953"
             ],
             [
              0.7777777777777778,
              "#fb9f3a"
             ],
             [
              0.8888888888888888,
              "#fdca26"
             ],
             [
              1,
              "#f0f921"
             ]
            ],
            "type": "histogram2dcontour"
           }
          ],
          "mesh3d": [
           {
            "colorbar": {
             "outlinewidth": 0,
             "ticks": ""
            },
            "type": "mesh3d"
           }
          ],
          "parcoords": [
           {
            "line": {
             "colorbar": {
              "outlinewidth": 0,
              "ticks": ""
             }
            },
            "type": "parcoords"
           }
          ],
          "pie": [
           {
            "automargin": true,
            "type": "pie"
           }
          ],
          "scatter": [
           {
            "marker": {
             "colorbar": {
              "outlinewidth": 0,
              "ticks": ""
             }
            },
            "type": "scatter"
           }
          ],
          "scatter3d": [
           {
            "line": {
             "colorbar": {
              "outlinewidth": 0,
              "ticks": ""
             }
            },
            "marker": {
             "colorbar": {
              "outlinewidth": 0,
              "ticks": ""
             }
            },
            "type": "scatter3d"
           }
          ],
          "scattercarpet": [
           {
            "marker": {
             "colorbar": {
              "outlinewidth": 0,
              "ticks": ""
             }
            },
            "type": "scattercarpet"
           }
          ],
          "scattergeo": [
           {
            "marker": {
             "colorbar": {
              "outlinewidth": 0,
              "ticks": ""
             }
            },
            "type": "scattergeo"
           }
          ],
          "scattergl": [
           {
            "marker": {
             "colorbar": {
              "outlinewidth": 0,
              "ticks": ""
             }
            },
            "type": "scattergl"
           }
          ],
          "scattermapbox": [
           {
            "marker": {
             "colorbar": {
              "outlinewidth": 0,
              "ticks": ""
             }
            },
            "type": "scattermapbox"
           }
          ],
          "scatterpolar": [
           {
            "marker": {
             "colorbar": {
              "outlinewidth": 0,
              "ticks": ""
             }
            },
            "type": "scatterpolar"
           }
          ],
          "scatterpolargl": [
           {
            "marker": {
             "colorbar": {
              "outlinewidth": 0,
              "ticks": ""
             }
            },
            "type": "scatterpolargl"
           }
          ],
          "scatterternary": [
           {
            "marker": {
             "colorbar": {
              "outlinewidth": 0,
              "ticks": ""
             }
            },
            "type": "scatterternary"
           }
          ],
          "surface": [
           {
            "colorbar": {
             "outlinewidth": 0,
             "ticks": ""
            },
            "colorscale": [
             [
              0,
              "#0d0887"
             ],
             [
              0.1111111111111111,
              "#46039f"
             ],
             [
              0.2222222222222222,
              "#7201a8"
             ],
             [
              0.3333333333333333,
              "#9c179e"
             ],
             [
              0.4444444444444444,
              "#bd3786"
             ],
             [
              0.5555555555555556,
              "#d8576b"
             ],
             [
              0.6666666666666666,
              "#ed7953"
             ],
             [
              0.7777777777777778,
              "#fb9f3a"
             ],
             [
              0.8888888888888888,
              "#fdca26"
             ],
             [
              1,
              "#f0f921"
             ]
            ],
            "type": "surface"
           }
          ],
          "table": [
           {
            "cells": {
             "fill": {
              "color": "#EBF0F8"
             },
             "line": {
              "color": "white"
             }
            },
            "header": {
             "fill": {
              "color": "#C8D4E3"
             },
             "line": {
              "color": "white"
             }
            },
            "type": "table"
           }
          ]
         },
         "layout": {
          "annotationdefaults": {
           "arrowcolor": "#2a3f5f",
           "arrowhead": 0,
           "arrowwidth": 1
          },
          "autotypenumbers": "strict",
          "coloraxis": {
           "colorbar": {
            "outlinewidth": 0,
            "ticks": ""
           }
          },
          "colorscale": {
           "diverging": [
            [
             0,
             "#8e0152"
            ],
            [
             0.1,
             "#c51b7d"
            ],
            [
             0.2,
             "#de77ae"
            ],
            [
             0.3,
             "#f1b6da"
            ],
            [
             0.4,
             "#fde0ef"
            ],
            [
             0.5,
             "#f7f7f7"
            ],
            [
             0.6,
             "#e6f5d0"
            ],
            [
             0.7,
             "#b8e186"
            ],
            [
             0.8,
             "#7fbc41"
            ],
            [
             0.9,
             "#4d9221"
            ],
            [
             1,
             "#276419"
            ]
           ],
           "sequential": [
            [
             0,
             "#0d0887"
            ],
            [
             0.1111111111111111,
             "#46039f"
            ],
            [
             0.2222222222222222,
             "#7201a8"
            ],
            [
             0.3333333333333333,
             "#9c179e"
            ],
            [
             0.4444444444444444,
             "#bd3786"
            ],
            [
             0.5555555555555556,
             "#d8576b"
            ],
            [
             0.6666666666666666,
             "#ed7953"
            ],
            [
             0.7777777777777778,
             "#fb9f3a"
            ],
            [
             0.8888888888888888,
             "#fdca26"
            ],
            [
             1,
             "#f0f921"
            ]
           ],
           "sequentialminus": [
            [
             0,
             "#0d0887"
            ],
            [
             0.1111111111111111,
             "#46039f"
            ],
            [
             0.2222222222222222,
             "#7201a8"
            ],
            [
             0.3333333333333333,
             "#9c179e"
            ],
            [
             0.4444444444444444,
             "#bd3786"
            ],
            [
             0.5555555555555556,
             "#d8576b"
            ],
            [
             0.6666666666666666,
             "#ed7953"
            ],
            [
             0.7777777777777778,
             "#fb9f3a"
            ],
            [
             0.8888888888888888,
             "#fdca26"
            ],
            [
             1,
             "#f0f921"
            ]
           ]
          },
          "colorway": [
           "#636efa",
           "#EF553B",
           "#00cc96",
           "#ab63fa",
           "#FFA15A",
           "#19d3f3",
           "#FF6692",
           "#B6E880",
           "#FF97FF",
           "#FECB52"
          ],
          "font": {
           "color": "#2a3f5f"
          },
          "geo": {
           "bgcolor": "white",
           "lakecolor": "white",
           "landcolor": "#E5ECF6",
           "showlakes": true,
           "showland": true,
           "subunitcolor": "white"
          },
          "hoverlabel": {
           "align": "left"
          },
          "hovermode": "closest",
          "mapbox": {
           "style": "light"
          },
          "paper_bgcolor": "white",
          "plot_bgcolor": "#E5ECF6",
          "polar": {
           "angularaxis": {
            "gridcolor": "white",
            "linecolor": "white",
            "ticks": ""
           },
           "bgcolor": "#E5ECF6",
           "radialaxis": {
            "gridcolor": "white",
            "linecolor": "white",
            "ticks": ""
           }
          },
          "scene": {
           "xaxis": {
            "backgroundcolor": "#E5ECF6",
            "gridcolor": "white",
            "gridwidth": 2,
            "linecolor": "white",
            "showbackground": true,
            "ticks": "",
            "zerolinecolor": "white"
           },
           "yaxis": {
            "backgroundcolor": "#E5ECF6",
            "gridcolor": "white",
            "gridwidth": 2,
            "linecolor": "white",
            "showbackground": true,
            "ticks": "",
            "zerolinecolor": "white"
           },
           "zaxis": {
            "backgroundcolor": "#E5ECF6",
            "gridcolor": "white",
            "gridwidth": 2,
            "linecolor": "white",
            "showbackground": true,
            "ticks": "",
            "zerolinecolor": "white"
           }
          },
          "shapedefaults": {
           "line": {
            "color": "#2a3f5f"
           }
          },
          "ternary": {
           "aaxis": {
            "gridcolor": "white",
            "linecolor": "white",
            "ticks": ""
           },
           "baxis": {
            "gridcolor": "white",
            "linecolor": "white",
            "ticks": ""
           },
           "bgcolor": "#E5ECF6",
           "caxis": {
            "gridcolor": "white",
            "linecolor": "white",
            "ticks": ""
           }
          },
          "title": {
           "x": 0.05
          },
          "xaxis": {
           "automargin": true,
           "gridcolor": "white",
           "linecolor": "white",
           "ticks": "",
           "title": {
            "standoff": 15
           },
           "zerolinecolor": "white",
           "zerolinewidth": 2
          },
          "yaxis": {
           "automargin": true,
           "gridcolor": "white",
           "linecolor": "white",
           "ticks": "",
           "title": {
            "standoff": 15
           },
           "zerolinecolor": "white",
           "zerolinewidth": 2
          }
         }
        },
        "xaxis": {
         "anchor": "y",
         "domain": [
          0,
          1
         ],
         "title": {
          "text": "total_finished_basement_sqft"
         }
        },
        "yaxis": {
         "anchor": "x",
         "domain": [
          0,
          1
         ]
        }
       }
      },
      "text/html": [
       "<div>                            <div id=\"7e21e62e-5b2c-40aa-8a7e-979c66b10d59\" class=\"plotly-graph-div\" style=\"height:525px; width:100%;\"></div>            <script type=\"text/javascript\">                require([\"plotly\"], function(Plotly) {                    window.PLOTLYENV=window.PLOTLYENV || {};                                    if (document.getElementById(\"7e21e62e-5b2c-40aa-8a7e-979c66b10d59\")) {                    Plotly.newPlot(                        \"7e21e62e-5b2c-40aa-8a7e-979c66b10d59\",                        [{\"alignmentgroup\":\"True\",\"hovertemplate\":\"total_finished_basement_sqft=%{x}<extra></extra>\",\"legendgroup\":\"\",\"marker\":{\"color\":\"#636efa\"},\"name\":\"\",\"notched\":false,\"offsetgroup\":\"\",\"orientation\":\"h\",\"showlegend\":false,\"type\":\"box\",\"x\":[706,978,486,216,655,732,1369,891,0,851,906,998,737,0,733,0,578,0,646,504,0,0,0,840,856,0,720,1218,1277,0,0,0,0,1018,1153,0,0,1213,731,0,643,967,840,771,685,456,1351,24,0,763,182,0,816,1810,384,490,649,0,0,632,941,0,24,0,739,0,912,1013,0,603,1880,565,0,682,0,462,228,377,0,0,448,1201,33,0,0,0,0,0,0,588,0,600,713,1046,648,310,1162,520,108,569,1200,0,0,0,224,0,0,273,0,705,444,250,984,904,924,419,840,0,1470,0,938,0,570,300,0,490,120,116,512,595,445,695,405,1005,570,0,695,0,668,821,432,1300,507,679,1332,0,209,0,680,0,716,1400,416,1509,0,0,0,0,222,57,660,1016,1201,0,370,532,1147,1288,0,0,360,639,710,662,1606,477,831,498,1904,0,436,352,0,0,0,0,611,0,1086,1153,297,626,560,0,390,566,1126,1220,0,1088,0,920,617,662,312,0,0,725,1065,787,468,36,822,716,378,360,946,0,341,16,0,0,550,704,56,0,565,321,842,16,0,689,0,894,625,358,24,402,0,94,1078,329,0,0,695,929,0,0,0,697,0,1573,0,850,922,0,503,1334,361,0,1362,0,506,926,0,816,714,378,528,751,0,1289,524,1240,546,0,0,120,0,392,421,905,904,0,430,0,600,614,450,0,0,210,292,795,1285,819,420,649,559,0,841,281,0,894,0,1464,700,0,262,1274,518,680,507,2056,16,425,692,0,987,1036,0,970,1502,256,0,116,1619,565,0,0,304,846,1603,720,828,1396,1249,810,213,585,0,0,0,28,361,0,498,1270,573,1410,0,1082,616,0,388,878,560,874,594,956,773,399,0,162,712,456,609,371,540,330,0,0,744,608,0,350,298,0,1445,0,218,0,0,0,985,24,0,631,0,1280,632,690,0,266,0,739,777,540,0,812,786,24,0,0,0,1116,0,0,0,789,0,1056,578,0,581,24,209,1128,312,775,1309,1246,0,986,616,0,1518,288,664,1005,387,0,471,0,495,729,0,0,365,0,2306,133,0,0,642,0,960,0,0,331,0,655,742,0,1606,916,0,1116,0,185,544,560,864,326,616,0,778,386,0,426,1488,0,459,1350,1196,630,994,0,1288,168,1261,1567,299,897,588,607,836,998,664,515,0,568,0,906,0,495,1231,329,450,390,356,400,794,1247,752,0,380,27,141,991,830,0,695,336,0,1436,0,0,706,0,0,777,399,2260,719,0,377,1330,348,1219,783,0,0,0,0,969,0,600,673,1358,1260,0,1271,723,554,1204,300,619,825,0,559,308,0,0,866,0,895,637,604,0,1302,1194,290,0,728,0,0,2,1441,943,231,414,0,0,349,442,0,879,0,0,813,0,816,0,0,1460,816,672,1324,0,490,1338,816,685,0,1422,0,0,1430,693,546,0,789,0,922,454,732,603,428,903,904,605,990,206,630,763,457,0,48,871,41,1138,560,420,247,0,0,806,650,960,0,24,822,948,1056,256,0,0,0,1154,1218,738,1410,780,1121,317,0,500,0,630,0,0,0,0,1696,0,806,0,0,637,0,1541,0,1100,1721,0,910,1138,988,0,193,551,767,1186,892,311,0,0,0,827,662,182,1003,1059,0,1010,0,239,945,20,697,1455,965,0,0,1020,616,761,670,16,1274,0,0,0,712,0,1219,863,0,0,0,0,767,789,533,0,0,1084,1173,523,1148,662,191,0,1234,614,808,724,0,152,1180,786,252,594,0,390,0,0,1200,0,0,832,0,444,733,655,300,0,919,0,0,0,1200,0,911,381,20,438,549,120,612,405,24,1163,1494,0,394,660,24,1416,685,836,549,456,0,866,20,762,0,975,0,387,0,1097,0,881,686,656,0,568,16,539,862,0,0,0,0,570,0,569,462,197,648,0,812,0,880,1309,644,0,1040,662,0,608,0,0,486,1218,504,733,0,0,0,0,0,1636,784,20,1013,0,1040,0,483,541,572,442,338,330,0,352,156,0,851,0,0,1390,513,460,0,0,659,0,364,564,1391,659,940,0,0,619,0,841,338,1148,0,828,0,932,0,750,0,505,0,375,0,64,633,1170,899,646,980,902,0,0,432,1238,528,0,1174,1024,0,726,663,1064,0,400,285,0,2188,465,322,860,0,0,599,644,63,223,625,0,443,196,489,284,294,0,50,1059,682,939,814,1084,28,1006,1686,860,0,552,0,0,16,804,0,20,425,0,833,341,464,0,1332,772,1440,0,465,1088,1042,1300,0,982,547,641,660,755,945,484,285,417,699,604,696,896,556,0,624,0,428,902,0,513,0,567,0,0,0,641,0,1106,552,651,867,854,0,0,0,1040,0,1646,156,0,1074,216,653,0,1172,384,915,0,0,686,0,0,24,0,16,595,1237,546,0,0,0,0,0,712,336,643,690,1036,0,16,1024,684,324,16,1565,606,697,1513,409,317,0,523,1012,986,0,0,1022,0,0,509,850,464,900,1085,1104,0,240,686,0,0,0,0,442,383,932,644,659,595,936,854,616,0,0,397,970,1201,0,780,837,220,586,298,0,535,0,410,626,866,662,495,656,824,0,553,592,747,334,0,0,1039,0,510,423,661,488,24,0,0,672,704,290,699,588,655,0,1032,738,0,0,1039,219,403,708,643,415,1004,353,702,0,369,0,24,0,0,0,0,0,1300,0,936,622,212,0,584,0,0,280,0,1567,645,852,381,1150,288,348,0,1258,275,0,624,0,176,843,538,454,1157,633,904,0,442,311,728,492,1198,1071,0,0,786,626,1387,522,662,0,621,503,700,658,468,0,0,1216,1480,2096,821,1159,392,440,1456,0,0,1159,0,0,883,371,0,0,0,0,547,0,0,0,0,788,662,1056,340,612,1220,0,427,344,648,784,554,0,936,0,0,912,742,196,756,724,507,0,595,1540,666,709,803,0,1000,0,0,0,0,0,428,550,0,1053,1386,0,0,0,539,319,630,1065,0,510,1156,0,425,1314,0,655,1040,0,504,0,0,266,450,0,0,192,460,1258,0,935,719,0,220,593,528,804,0,788,1053,676,0,0,0,650,812,1158,0,1014,231,0,194,167,1016,776,547,5644,1246,694,547,740,0,0,1572,0,746,752,1200,1406,925,482,0,732,776,0,0,0,492,850,0,674,280,0,0,544,641,493,0,0,483,690,0,765,686,0,0,700,360,0,814,0,0,0,250,365,80,1443,259,500,319,0,816,735,0,340,734,378,1447,0,1274,0,0,0,533,633,721,685,1342,420,831,975,1282,0,0,384,828,309,0,203,865,0,0,204,735,1259,714,1320,375,1400,0,769,0,1070,0,687,0,532,264,0,759,0,929,0,1373,656,625,0,0,666,120,0,976,0,988,0,781,897,1110,404,360,686,0,831,0,1000,580,510,678,0,958,0,0,936,0,616,1336,600,425,0,697,765,0,0,814,593,1079,0,553,0,0,547,0,410,0,953,275,1078,1120],\"x0\":\" \",\"xaxis\":\"x\",\"y0\":\" \",\"yaxis\":\"y\"}],                        {\"boxmode\":\"group\",\"legend\":{\"tracegroupgap\":0},\"margin\":{\"t\":60},\"template\":{\"data\":{\"bar\":[{\"error_x\":{\"color\":\"#2a3f5f\"},\"error_y\":{\"color\":\"#2a3f5f\"},\"marker\":{\"line\":{\"color\":\"#E5ECF6\",\"width\":0.5},\"pattern\":{\"fillmode\":\"overlay\",\"size\":10,\"solidity\":0.2}},\"type\":\"bar\"}],\"barpolar\":[{\"marker\":{\"line\":{\"color\":\"#E5ECF6\",\"width\":0.5},\"pattern\":{\"fillmode\":\"overlay\",\"size\":10,\"solidity\":0.2}},\"type\":\"barpolar\"}],\"carpet\":[{\"aaxis\":{\"endlinecolor\":\"#2a3f5f\",\"gridcolor\":\"white\",\"linecolor\":\"white\",\"minorgridcolor\":\"white\",\"startlinecolor\":\"#2a3f5f\"},\"baxis\":{\"endlinecolor\":\"#2a3f5f\",\"gridcolor\":\"white\",\"linecolor\":\"white\",\"minorgridcolor\":\"white\",\"startlinecolor\":\"#2a3f5f\"},\"type\":\"carpet\"}],\"choropleth\":[{\"colorbar\":{\"outlinewidth\":0,\"ticks\":\"\"},\"type\":\"choropleth\"}],\"contour\":[{\"colorbar\":{\"outlinewidth\":0,\"ticks\":\"\"},\"colorscale\":[[0.0,\"#0d0887\"],[0.1111111111111111,\"#46039f\"],[0.2222222222222222,\"#7201a8\"],[0.3333333333333333,\"#9c179e\"],[0.4444444444444444,\"#bd3786\"],[0.5555555555555556,\"#d8576b\"],[0.6666666666666666,\"#ed7953\"],[0.7777777777777778,\"#fb9f3a\"],[0.8888888888888888,\"#fdca26\"],[1.0,\"#f0f921\"]],\"type\":\"contour\"}],\"contourcarpet\":[{\"colorbar\":{\"outlinewidth\":0,\"ticks\":\"\"},\"type\":\"contourcarpet\"}],\"heatmap\":[{\"colorbar\":{\"outlinewidth\":0,\"ticks\":\"\"},\"colorscale\":[[0.0,\"#0d0887\"],[0.1111111111111111,\"#46039f\"],[0.2222222222222222,\"#7201a8\"],[0.3333333333333333,\"#9c179e\"],[0.4444444444444444,\"#bd3786\"],[0.5555555555555556,\"#d8576b\"],[0.6666666666666666,\"#ed7953\"],[0.7777777777777778,\"#fb9f3a\"],[0.8888888888888888,\"#fdca26\"],[1.0,\"#f0f921\"]],\"type\":\"heatmap\"}],\"heatmapgl\":[{\"colorbar\":{\"outlinewidth\":0,\"ticks\":\"\"},\"colorscale\":[[0.0,\"#0d0887\"],[0.1111111111111111,\"#46039f\"],[0.2222222222222222,\"#7201a8\"],[0.3333333333333333,\"#9c179e\"],[0.4444444444444444,\"#bd3786\"],[0.5555555555555556,\"#d8576b\"],[0.6666666666666666,\"#ed7953\"],[0.7777777777777778,\"#fb9f3a\"],[0.8888888888888888,\"#fdca26\"],[1.0,\"#f0f921\"]],\"type\":\"heatmapgl\"}],\"histogram\":[{\"marker\":{\"pattern\":{\"fillmode\":\"overlay\",\"size\":10,\"solidity\":0.2}},\"type\":\"histogram\"}],\"histogram2d\":[{\"colorbar\":{\"outlinewidth\":0,\"ticks\":\"\"},\"colorscale\":[[0.0,\"#0d0887\"],[0.1111111111111111,\"#46039f\"],[0.2222222222222222,\"#7201a8\"],[0.3333333333333333,\"#9c179e\"],[0.4444444444444444,\"#bd3786\"],[0.5555555555555556,\"#d8576b\"],[0.6666666666666666,\"#ed7953\"],[0.7777777777777778,\"#fb9f3a\"],[0.8888888888888888,\"#fdca26\"],[1.0,\"#f0f921\"]],\"type\":\"histogram2d\"}],\"histogram2dcontour\":[{\"colorbar\":{\"outlinewidth\":0,\"ticks\":\"\"},\"colorscale\":[[0.0,\"#0d0887\"],[0.1111111111111111,\"#46039f\"],[0.2222222222222222,\"#7201a8\"],[0.3333333333333333,\"#9c179e\"],[0.4444444444444444,\"#bd3786\"],[0.5555555555555556,\"#d8576b\"],[0.6666666666666666,\"#ed7953\"],[0.7777777777777778,\"#fb9f3a\"],[0.8888888888888888,\"#fdca26\"],[1.0,\"#f0f921\"]],\"type\":\"histogram2dcontour\"}],\"mesh3d\":[{\"colorbar\":{\"outlinewidth\":0,\"ticks\":\"\"},\"type\":\"mesh3d\"}],\"parcoords\":[{\"line\":{\"colorbar\":{\"outlinewidth\":0,\"ticks\":\"\"}},\"type\":\"parcoords\"}],\"pie\":[{\"automargin\":true,\"type\":\"pie\"}],\"scatter\":[{\"marker\":{\"colorbar\":{\"outlinewidth\":0,\"ticks\":\"\"}},\"type\":\"scatter\"}],\"scatter3d\":[{\"line\":{\"colorbar\":{\"outlinewidth\":0,\"ticks\":\"\"}},\"marker\":{\"colorbar\":{\"outlinewidth\":0,\"ticks\":\"\"}},\"type\":\"scatter3d\"}],\"scattercarpet\":[{\"marker\":{\"colorbar\":{\"outlinewidth\":0,\"ticks\":\"\"}},\"type\":\"scattercarpet\"}],\"scattergeo\":[{\"marker\":{\"colorbar\":{\"outlinewidth\":0,\"ticks\":\"\"}},\"type\":\"scattergeo\"}],\"scattergl\":[{\"marker\":{\"colorbar\":{\"outlinewidth\":0,\"ticks\":\"\"}},\"type\":\"scattergl\"}],\"scattermapbox\":[{\"marker\":{\"colorbar\":{\"outlinewidth\":0,\"ticks\":\"\"}},\"type\":\"scattermapbox\"}],\"scatterpolar\":[{\"marker\":{\"colorbar\":{\"outlinewidth\":0,\"ticks\":\"\"}},\"type\":\"scatterpolar\"}],\"scatterpolargl\":[{\"marker\":{\"colorbar\":{\"outlinewidth\":0,\"ticks\":\"\"}},\"type\":\"scatterpolargl\"}],\"scatterternary\":[{\"marker\":{\"colorbar\":{\"outlinewidth\":0,\"ticks\":\"\"}},\"type\":\"scatterternary\"}],\"surface\":[{\"colorbar\":{\"outlinewidth\":0,\"ticks\":\"\"},\"colorscale\":[[0.0,\"#0d0887\"],[0.1111111111111111,\"#46039f\"],[0.2222222222222222,\"#7201a8\"],[0.3333333333333333,\"#9c179e\"],[0.4444444444444444,\"#bd3786\"],[0.5555555555555556,\"#d8576b\"],[0.6666666666666666,\"#ed7953\"],[0.7777777777777778,\"#fb9f3a\"],[0.8888888888888888,\"#fdca26\"],[1.0,\"#f0f921\"]],\"type\":\"surface\"}],\"table\":[{\"cells\":{\"fill\":{\"color\":\"#EBF0F8\"},\"line\":{\"color\":\"white\"}},\"header\":{\"fill\":{\"color\":\"#C8D4E3\"},\"line\":{\"color\":\"white\"}},\"type\":\"table\"}]},\"layout\":{\"annotationdefaults\":{\"arrowcolor\":\"#2a3f5f\",\"arrowhead\":0,\"arrowwidth\":1},\"autotypenumbers\":\"strict\",\"coloraxis\":{\"colorbar\":{\"outlinewidth\":0,\"ticks\":\"\"}},\"colorscale\":{\"diverging\":[[0,\"#8e0152\"],[0.1,\"#c51b7d\"],[0.2,\"#de77ae\"],[0.3,\"#f1b6da\"],[0.4,\"#fde0ef\"],[0.5,\"#f7f7f7\"],[0.6,\"#e6f5d0\"],[0.7,\"#b8e186\"],[0.8,\"#7fbc41\"],[0.9,\"#4d9221\"],[1,\"#276419\"]],\"sequential\":[[0.0,\"#0d0887\"],[0.1111111111111111,\"#46039f\"],[0.2222222222222222,\"#7201a8\"],[0.3333333333333333,\"#9c179e\"],[0.4444444444444444,\"#bd3786\"],[0.5555555555555556,\"#d8576b\"],[0.6666666666666666,\"#ed7953\"],[0.7777777777777778,\"#fb9f3a\"],[0.8888888888888888,\"#fdca26\"],[1.0,\"#f0f921\"]],\"sequentialminus\":[[0.0,\"#0d0887\"],[0.1111111111111111,\"#46039f\"],[0.2222222222222222,\"#7201a8\"],[0.3333333333333333,\"#9c179e\"],[0.4444444444444444,\"#bd3786\"],[0.5555555555555556,\"#d8576b\"],[0.6666666666666666,\"#ed7953\"],[0.7777777777777778,\"#fb9f3a\"],[0.8888888888888888,\"#fdca26\"],[1.0,\"#f0f921\"]]},\"colorway\":[\"#636efa\",\"#EF553B\",\"#00cc96\",\"#ab63fa\",\"#FFA15A\",\"#19d3f3\",\"#FF6692\",\"#B6E880\",\"#FF97FF\",\"#FECB52\"],\"font\":{\"color\":\"#2a3f5f\"},\"geo\":{\"bgcolor\":\"white\",\"lakecolor\":\"white\",\"landcolor\":\"#E5ECF6\",\"showlakes\":true,\"showland\":true,\"subunitcolor\":\"white\"},\"hoverlabel\":{\"align\":\"left\"},\"hovermode\":\"closest\",\"mapbox\":{\"style\":\"light\"},\"paper_bgcolor\":\"white\",\"plot_bgcolor\":\"#E5ECF6\",\"polar\":{\"angularaxis\":{\"gridcolor\":\"white\",\"linecolor\":\"white\",\"ticks\":\"\"},\"bgcolor\":\"#E5ECF6\",\"radialaxis\":{\"gridcolor\":\"white\",\"linecolor\":\"white\",\"ticks\":\"\"}},\"scene\":{\"xaxis\":{\"backgroundcolor\":\"#E5ECF6\",\"gridcolor\":\"white\",\"gridwidth\":2,\"linecolor\":\"white\",\"showbackground\":true,\"ticks\":\"\",\"zerolinecolor\":\"white\"},\"yaxis\":{\"backgroundcolor\":\"#E5ECF6\",\"gridcolor\":\"white\",\"gridwidth\":2,\"linecolor\":\"white\",\"showbackground\":true,\"ticks\":\"\",\"zerolinecolor\":\"white\"},\"zaxis\":{\"backgroundcolor\":\"#E5ECF6\",\"gridcolor\":\"white\",\"gridwidth\":2,\"linecolor\":\"white\",\"showbackground\":true,\"ticks\":\"\",\"zerolinecolor\":\"white\"}},\"shapedefaults\":{\"line\":{\"color\":\"#2a3f5f\"}},\"ternary\":{\"aaxis\":{\"gridcolor\":\"white\",\"linecolor\":\"white\",\"ticks\":\"\"},\"baxis\":{\"gridcolor\":\"white\",\"linecolor\":\"white\",\"ticks\":\"\"},\"bgcolor\":\"#E5ECF6\",\"caxis\":{\"gridcolor\":\"white\",\"linecolor\":\"white\",\"ticks\":\"\"}},\"title\":{\"x\":0.05},\"xaxis\":{\"automargin\":true,\"gridcolor\":\"white\",\"linecolor\":\"white\",\"ticks\":\"\",\"title\":{\"standoff\":15},\"zerolinecolor\":\"white\",\"zerolinewidth\":2},\"yaxis\":{\"automargin\":true,\"gridcolor\":\"white\",\"linecolor\":\"white\",\"ticks\":\"\",\"title\":{\"standoff\":15},\"zerolinecolor\":\"white\",\"zerolinewidth\":2}}},\"xaxis\":{\"anchor\":\"y\",\"domain\":[0.0,1.0],\"title\":{\"text\":\"total_finished_basement_sqft\"}},\"yaxis\":{\"anchor\":\"x\",\"domain\":[0.0,1.0]}},                        {\"responsive\": true}                    ).then(function(){\n",
       "                            \n",
       "var gd = document.getElementById('7e21e62e-5b2c-40aa-8a7e-979c66b10d59');\n",
       "var x = new MutationObserver(function (mutations, observer) {{\n",
       "        var display = window.getComputedStyle(gd).display;\n",
       "        if (!display || display === 'none') {{\n",
       "            console.log([gd, 'removed!']);\n",
       "            Plotly.purge(gd);\n",
       "            observer.disconnect();\n",
       "        }}\n",
       "}});\n",
       "\n",
       "// Listen for the removal of the full notebook cells\n",
       "var notebookContainer = gd.closest('#notebook-container');\n",
       "if (notebookContainer) {{\n",
       "    x.observe(notebookContainer, {childList: true});\n",
       "}}\n",
       "\n",
       "// Listen for the clearing of the current output cell\n",
       "var outputEl = gd.closest('.output');\n",
       "if (outputEl) {{\n",
       "    x.observe(outputEl, {childList: true});\n",
       "}}\n",
       "\n",
       "                        })                };                });            </script>        </div>"
      ]
     },
     "metadata": {},
     "output_type": "display_data"
    },
    {
     "data": {
      "application/vnd.plotly.v1+json": {
       "config": {
        "plotlyServerURL": "https://plot.ly"
       },
       "data": [
        {
         "alignmentgroup": "True",
         "hovertemplate": "total_living_sqft=%{x}<extra></extra>",
         "legendgroup": "",
         "marker": {
          "color": "#636efa"
         },
         "name": "",
         "notched": false,
         "offsetgroup": "",
         "orientation": "h",
         "showlegend": false,
         "type": "box",
         "x": [
          2416,
          2240,
          2272,
          1933,
          2853,
          2094,
          3063,
          2981,
          1774,
          1928,
          1946,
          3322,
          1649,
          1494,
          1986,
          854,
          1582,
          1296,
          1760,
          1843,
          2376,
          1108,
          1795,
          1900,
          1916,
          1600,
          1620,
          2922,
          2877,
          520,
          1317,
          1228,
          1234,
          2718,
          2714,
          2452,
          1097,
          2510,
          1788,
          1152,
          1967,
          2295,
          1724,
          1709,
          1835,
          2208,
          3500,
          1680,
          1452,
          1718,
          1652,
          1176,
          1632,
          3652,
          1744,
          1915,
          2388,
          1720,
          2945,
          1412,
          2099,
          1111,
          1394,
          1710,
          2773,
          2473,
          3119,
          2492,
          747,
          2890,
          4103,
          1410,
          1718,
          1768,
          1605,
          1450,
          1180,
          1662,
          1768,
          1230,
          2590,
          2538,
          1596,
          1065,
          1474,
          2417,
          1560,
          1224,
          1526,
          1578,
          1040,
          1835,
          1677,
          3337,
          2434,
          1780,
          2750,
          1480,
          943,
          1794,
          2810,
          1732,
          1535,
          1226,
          2042,
          1992,
          1047,
          1062,
          1517,
          2549,
          2299,
          1680,
          3680,
          3163,
          3244,
          1877,
          1932,
          1125,
          4692,
          1456,
          1926,
          1123,
          1650,
          1499,
          1586,
          1244,
          1078,
          956,
          1860,
          1648,
          2602,
          2749,
          1732,
          2301,
          2291,
          1682,
          1909,
          1959,
          2520,
          2585,
          1296,
          3034,
          1892,
          2180,
          3060,
          1709,
          1084,
          2035,
          1760,
          1344,
          1685,
          3110,
          2409,
          2761,
          1200,
          1096,
          1040,
          1968,
          2169,
          2519,
          1892,
          3684,
          2742,
          882,
          1986,
          1887,
          3014,
          3449,
          1720,
          1707,
          1742,
          2295,
          2477,
          2024,
          3257,
          2635,
          2891,
          2418,
          4138,
          968,
          1961,
          2154,
          1340,
          2082,
          1252,
          3608,
          1828,
          1656,
          2310,
          2746,
          3024,
          2105,
          1991,
          1709,
          1254,
          2022,
          2852,
          4332,
          2229,
          2801,
          1121,
          2199,
          1927,
          1510,
          1596,
          1442,
          1696,
          1825,
          3127,
          1879,
          1332,
          1248,
          2674,
          1706,
          1770,
          1596,
          2382,
          1328,
          2295,
          1264,
          1498,
          2267,
          2102,
          1568,
          2448,
          1302,
          3085,
          1308,
          1754,
          1571,
          1194,
          3483,
          987,
          1788,
          2585,
          1345,
          1438,
          2146,
          1694,
          1581,
          2644,
          1195,
          1440,
          1217,
          2805,
          2801,
          1928,
          1375,
          1668,
          2841,
          1306,
          3198,
          1640,
          2152,
          2236,
          2291,
          2231,
          2938,
          2153,
          882,
          2744,
          2574,
          1718,
          2242,
          764,
          2238,
          2225,
          2570,
          1306,
          1864,
          1939,
          2652,
          2794,
          2872,
          1362,
          1548,
          1560,
          984,
          2121,
          2414,
          2403,
          2167,
          2218,
          1468,
          2005,
          1250,
          2334,
          1472,
          1350,
          1396,
          1919,
          1926,
          2008,
          3058,
          2929,
          1822,
          1978,
          2599,
          2302,
          1152,
          2177,
          2733,
          1541,
          1788,
          3493,
          3464,
          2943,
          1406,
          1123,
          3218,
          2019,
          1652,
          1625,
          4092,
          1657,
          1857,
          3045,
          1959,
          3633,
          2508,
          2596,
          3438,
          4232,
          1419,
          2978,
          919,
          3338,
          1948,
          2134,
          1192,
          2032,
          1902,
          3232,
          2078,
          2466,
          3182,
          3171,
          2346,
          1834,
          1800,
          1908,
          841,
          1040,
          1712,
          1473,
          1577,
          1456,
          2748,
          2199,
          4138,
          1869,
          2535,
          1727,
          720,
          1983,
          2078,
          1727,
          2016,
          1946,
          2880,
          1685,
          1904,
          1922,
          1149,
          2286,
          1800,
          2003,
          1802,
          1808,
          1617,
          1664,
          1588,
          1496,
          1927,
          1928,
          1254,
          1212,
          2466,
          3301,
          1800,
          1909,
          1301,
          1797,
          784,
          2938,
          1293,
          1184,
          1756,
          1479,
          3612,
          1999,
          2651,
          882,
          1054,
          1034,
          1883,
          1671,
          2352,
          1077,
          2362,
          2074,
          1334,
          672,
          2263,
          1572,
          2736,
          1639,
          1680,
          2172,
          2867,
          1276,
          2112,
          2056,
          1028,
          2678,
          1364,
          1609,
          3752,
          1446,
          1831,
          2653,
          2848,
          988,
          3616,
          1812,
          1389,
          3162,
          1195,
          1872,
          2417,
          1374,
          1198,
          1836,
          1604,
          1125,
          2390,
          1118,
          904,
          1059,
          1196,
          4708,
          1573,
          1573,
          1258,
          2550,
          1689,
          2848,
          1886,
          1376,
          1514,
          813,
          2188,
          2498,
          1590,
          3334,
          2158,
          1344,
          2779,
          1666,
          1388,
          2479,
          1695,
          1728,
          1986,
          1656,
          1414,
          2055,
          2030,
          1634,
          2136,
          2990,
          1969,
          1531,
          3326,
          2848,
          1600,
          2487,
          2643,
          3006,
          1299,
          3111,
          3359,
          2125,
          2113,
          1587,
          1720,
          1909,
          2482,
          3078,
          1145,
          1304,
          2146,
          1456,
          2175,
          886,
          1215,
          4459,
          2149,
          1349,
          1302,
          1574,
          2168,
          2008,
          3048,
          2074,
          1960,
          2291,
          1245,
          1519,
          2032,
          2193,
          1368,
          1559,
          1416,
          789,
          3456,
          2119,
          2344,
          2502,
          2080,
          1294,
          2021,
          2063,
          6936,
          3117,
          1266,
          1305,
          4043,
          953,
          3734,
          2292,
          1362,
          827,
          334,
          1414,
          2316,
          1724,
          1464,
          1832,
          2959,
          3098,
          2285,
          2951,
          1490,
          2050,
          3387,
          1935,
          1387,
          1650,
          2094,
          1628,
          1236,
          1717,
          1126,
          2912,
          1048,
          1987,
          1973,
          2050,
          1557,
          2694,
          2583,
          1286,
          1674,
          3023,
          1647,
          2504,
          1537,
          3573,
          1886,
          1959,
          1278,
          1692,
          1430,
          1458,
          1658,
          1477,
          2199,
          1392,
          1795,
          2242,
          2042,
          1632,
          2775,
          1573,
          3488,
          1654,
          1532,
          2797,
          935,
          2072,
          3634,
          1632,
          1533,
          924,
          3248,
          1368,
          1402,
          3077,
          2249,
          2450,
          1375,
          2704,
          1200,
          2416,
          2440,
          1772,
          2611,
          3622,
          1932,
          3057,
          1637,
          2862,
          1326,
          1260,
          1817,
          1966,
          832,
          1876,
          3133,
          905,
          3752,
          1540,
          1932,
          2037,
          1116,
          1422,
          2326,
          2730,
          2310,
          1750,
          1578,
          2233,
          2004,
          2112,
          3651,
          800,
          1387,
          796,
          2721,
          2736,
          2667,
          4114,
          2400,
          2887,
          1298,
          1048,
          1594,
          1839,
          1260,
          1665,
          1510,
          1716,
          1469,
          3809,
          1092,
          1859,
          1502,
          1458,
          2123,
          1935,
          3989,
          1392,
          2281,
          3818,
          1936,
          3290,
          2817,
          2425,
          1180,
          1669,
          1920,
          1975,
          3025,
          2028,
          1752,
          1774,
          792,
          2046,
          1815,
          1585,
          1702,
          2294,
          2727,
          1839,
          3100,
          1761,
          1341,
          2364,
          1382,
          1545,
          5771,
          3484,
          1073,
          1539,
          2157,
          1232,
          1909,
          1564,
          1407,
          3074,
          1164,
          2576,
          1812,
          2196,
          1092,
          3043,
          2187,
          1456,
          904,
          729,
          1178,
          1995,
          1749,
          2012,
          1350,
          2554,
          2262,
          3591,
          1494,
          2890,
          1510,
          1055,
          1470,
          2932,
          1478,
          2488,
          1956,
          1776,
          1360,
          2796,
          1932,
          2283,
          1738,
          948,
          2158,
          1040,
          1801,
          2400,
          1728,
          1432,
          1744,
          1349,
          1908,
          2070,
          3370,
          2556,
          2640,
          2639,
          1529,
          1140,
          1320,
          2694,
          2098,
          1937,
          1852,
          1788,
          1824,
          2050,
          2651,
          1476,
          1706,
          1571,
          3528,
          2988,
          1506,
          2108,
          2410,
          1860,
          4695,
          1543,
          2056,
          1666,
          1368,
          1973,
          2070,
          1634,
          1656,
          2020,
          1979,
          1253,
          1990,
          1430,
          2207,
          1484,
          2223,
          2338,
          2740,
          901,
          2655,
          1161,
          1601,
          2875,
          1496,
          1895,
          1564,
          1285,
          1343,
          3140,
          2337,
          2150,
          1393,
          2104,
          2822,
          1940,
          1428,
          1860,
          2885,
          1730,
          2138,
          2349,
          1510,
          1044,
          2050,
          1250,
          1661,
          1494,
          2907,
          1556,
          2091,
          1640,
          936,
          1733,
          1489,
          1489,
          3720,
          1568,
          1454,
          3139,
          1223,
          2432,
          1200,
          2312,
          2057,
          1716,
          1509,
          1897,
          1317,
          1099,
          1552,
          1638,
          1539,
          2016,
          1800,
          1416,
          3091,
          2288,
          1324,
          2358,
          1855,
          1507,
          1456,
          2010,
          2009,
          3170,
          1699,
          1966,
          1481,
          1370,
          3273,
          1426,
          1880,
          1435,
          2296,
          1372,
          1830,
          1646,
          2052,
          2320,
          2699,
          894,
          2187,
          910,
          1643,
          1131,
          2674,
          1673,
          3394,
          2054,
          1510,
          2070,
          2619,
          1593,
          2230,
          1324,
          2947,
          2240,
          1393,
          3391,
          2529,
          924,
          2409,
          1731,
          2447,
          1535,
          2196,
          1236,
          2240,
          4552,
          1701,
          1180,
          2166,
          1509,
          1670,
          1501,
          1707,
          1699,
          2280,
          1527,
          1484,
          2717,
          1464,
          1504,
          2286,
          1518,
          1092,
          530,
          2288,
          2809,
          2353,
          2535,
          3284,
          1344,
          2623,
          3372,
          1986,
          2374,
          2530,
          1788,
          2236,
          1482,
          1729,
          1905,
          1520,
          2494,
          747,
          2033,
          2312,
          2426,
          2403,
          3060,
          2832,
          2880,
          1632,
          1809,
          2957,
          2186,
          2929,
          1776,
          2363,
          1411,
          1606,
          1428,
          2723,
          1925,
          2442,
          1514,
          1474,
          2036,
          2020,
          1554,
          3768,
          2104,
          1800,
          2518,
          1484,
          1736,
          2000,
          968,
          1608,
          1192,
          2193,
          918,
          1428,
          2019,
          2023,
          869,
          2347,
          1446,
          1772,
          1866,
          3466,
          1266,
          2290,
          1734,
          2204,
          1635,
          3586,
          2186,
          1576,
          3466,
          1958,
          2504,
          1500,
          2890,
          1614,
          1965,
          1442,
          1077,
          1894,
          944,
          691,
          1598,
          1680,
          1520,
          1580,
          2894,
          1638,
          1710,
          1522,
          1271,
          1664,
          1502,
          1734,
          1418,
          2308,
          2194,
          2396,
          1472,
          1522,
          2156,
          1904,
          1572,
          1520,
          4463,
          1488,
          1961,
          3159,
          1785,
          1535,
          1928,
          3605,
          3532,
          2640,
          954,
          845,
          2642,
          2263,
          1344,
          1139,
          2653,
          2096,
          2206,
          3414,
          3628,
          1733,
          3108,
          1676,
          1771,
          930,
          1302,
          1316,
          2419,
          1909,
          2921,
          2167,
          2023,
          2445,
          3120,
          2845,
          1954,
          894,
          2337,
          1500,
          2124,
          3461,
          1571,
          2391,
          3358,
          1113,
          1634,
          1854,
          1456,
          1961,
          1240,
          2150,
          2092,
          1962,
          1510,
          1485,
          1914,
          1864,
          1459,
          1804,
          2090,
          1743,
          1426,
          1953,
          1709,
          2286,
          1040,
          1762,
          2117,
          1861,
          1424,
          1338,
          1355,
          1088,
          1996,
          2305,
          728,
          1649,
          1722,
          1849,
          1302,
          3654,
          2180,
          2021,
          1690,
          2875,
          1877,
          2367,
          1524,
          1651,
          1248,
          2738,
          1772,
          1596,
          1601,
          1409,
          1012,
          1576,
          960,
          698,
          1482,
          1005,
          1555,
          2830,
          1959,
          1872,
          2603,
          1186,
          2210,
          2604,
          1600,
          986,
          1532,
          1020,
          3134,
          1812,
          1804,
          2249,
          3978,
          1294,
          1272,
          1576,
          2556,
          1839,
          1111,
          2106,
          932,
          1642,
          2654,
          1354,
          2274,
          2594,
          1898,
          2218,
          1580,
          2318,
          1767,
          2368,
          1386,
          2456,
          2503,
          1502,
          1694,
          2457,
          2734,
          5014,
          1640,
          1923,
          1250,
          3707,
          2848,
          3572,
          1581,
          1692,
          1343,
          1124,
          3730,
          3132,
          6572,
          1951,
          2731,
          1613,
          2139,
          3080,
          1660,
          1804,
          2781,
          1441,
          1472,
          2107,
          1723,
          1456,
          1863,
          1690,
          1212,
          1929,
          864,
          1779,
          1348,
          1630,
          1862,
          2858,
          2112,
          2040,
          1895,
          2880,
          1845,
          2179,
          1016,
          1608,
          1783,
          1448,
          1902,
          2250,
          912,
          1218,
          1824,
          1953,
          2042,
          2892,
          2214,
          1645,
          1933,
          1507,
          3242,
          2173,
          3329,
          1993,
          1224,
          2188,
          1964,
          1784,
          1626,
          1948,
          1141,
          1912,
          2318,
          1689,
          2226,
          3462,
          1517,
          1868,
          1553,
          1573,
          2377,
          1618,
          3175,
          1405,
          1384,
          3323,
          1656,
          1792,
          3301,
          864,
          1821,
          2094,
          1675,
          1554,
          1788,
          1824,
          1603,
          1902,
          1889,
          2018,
          3639,
          1984,
          2782,
          1489,
          1870,
          2076,
          1250,
          2140,
          1988,
          2252,
          2835,
          1128,
          2361,
          2392,
          1716,
          1824,
          2447,
          1412,
          1978,
          2394,
          2817,
          1970,
          2166,
          1533,
          2372,
          1858,
          1031,
          2068,
          1904,
          1619,
          11286,
          2492,
          2677,
          2041,
          3266,
          1616,
          1708,
          3224,
          1368,
          1736,
          1874,
          2494,
          3308,
          2199,
          3292,
          2599,
          1680,
          2888,
          1630,
          1352,
          1787,
          1440,
          2328,
          720,
          2597,
          988,
          1795,
          796,
          1318,
          1457,
          3285,
          1632,
          1588,
          1437,
          1506,
          1360,
          2130,
          2020,
          1656,
          693,
          2561,
          1224,
          872,
          1928,
          2169,
          1913,
          1456,
          1210,
          2521,
          1856,
          2937,
          2617,
          3134,
          2035,
          1176,
          4054,
          2600,
          1920,
          1232,
          1812,
          1951,
          3427,
          2601,
          2804,
          1738,
          1412,
          1200,
          2207,
          2423,
          2196,
          1533,
          3010,
          1794,
          2492,
          3072,
          3915,
          1958,
          1571,
          1174,
          2432,
          1296,
          1394,
          1067,
          2982,
          1762,
          1416,
          1462,
          1889,
          4043,
          3240,
          3066,
          1593,
          2925,
          1584,
          1669,
          1912,
          2570,
          2482,
          2374,
          1513,
          2436,
          1872,
          1158,
          2352,
          1294,
          2393,
          1214,
          3019,
          1424,
          1458,
          1363,
          2093,
          2506,
          1788,
          1040,
          2820,
          1848,
          2557,
          2290,
          3231,
          2041,
          2954,
          1820,
          1429,
          1534,
          2201,
          2175,
          1252,
          3127,
          2138,
          1314,
          2118,
          1838,
          1916,
          968,
          1792,
          2062,
          1537,
          1480,
          3268,
          1836,
          2150,
          2555,
          1545,
          2772,
          952,
          1422,
          1727,
          1781,
          3169,
          1346,
          1183,
          1792,
          1578,
          1619,
          1140,
          1631,
          1647,
          3026,
          2615,
          2156,
          2376
         ],
         "x0": " ",
         "xaxis": "x",
         "y0": " ",
         "yaxis": "y"
        }
       ],
       "layout": {
        "boxmode": "group",
        "legend": {
         "tracegroupgap": 0
        },
        "margin": {
         "t": 60
        },
        "template": {
         "data": {
          "bar": [
           {
            "error_x": {
             "color": "#2a3f5f"
            },
            "error_y": {
             "color": "#2a3f5f"
            },
            "marker": {
             "line": {
              "color": "#E5ECF6",
              "width": 0.5
             },
             "pattern": {
              "fillmode": "overlay",
              "size": 10,
              "solidity": 0.2
             }
            },
            "type": "bar"
           }
          ],
          "barpolar": [
           {
            "marker": {
             "line": {
              "color": "#E5ECF6",
              "width": 0.5
             },
             "pattern": {
              "fillmode": "overlay",
              "size": 10,
              "solidity": 0.2
             }
            },
            "type": "barpolar"
           }
          ],
          "carpet": [
           {
            "aaxis": {
             "endlinecolor": "#2a3f5f",
             "gridcolor": "white",
             "linecolor": "white",
             "minorgridcolor": "white",
             "startlinecolor": "#2a3f5f"
            },
            "baxis": {
             "endlinecolor": "#2a3f5f",
             "gridcolor": "white",
             "linecolor": "white",
             "minorgridcolor": "white",
             "startlinecolor": "#2a3f5f"
            },
            "type": "carpet"
           }
          ],
          "choropleth": [
           {
            "colorbar": {
             "outlinewidth": 0,
             "ticks": ""
            },
            "type": "choropleth"
           }
          ],
          "contour": [
           {
            "colorbar": {
             "outlinewidth": 0,
             "ticks": ""
            },
            "colorscale": [
             [
              0,
              "#0d0887"
             ],
             [
              0.1111111111111111,
              "#46039f"
             ],
             [
              0.2222222222222222,
              "#7201a8"
             ],
             [
              0.3333333333333333,
              "#9c179e"
             ],
             [
              0.4444444444444444,
              "#bd3786"
             ],
             [
              0.5555555555555556,
              "#d8576b"
             ],
             [
              0.6666666666666666,
              "#ed7953"
             ],
             [
              0.7777777777777778,
              "#fb9f3a"
             ],
             [
              0.8888888888888888,
              "#fdca26"
             ],
             [
              1,
              "#f0f921"
             ]
            ],
            "type": "contour"
           }
          ],
          "contourcarpet": [
           {
            "colorbar": {
             "outlinewidth": 0,
             "ticks": ""
            },
            "type": "contourcarpet"
           }
          ],
          "heatmap": [
           {
            "colorbar": {
             "outlinewidth": 0,
             "ticks": ""
            },
            "colorscale": [
             [
              0,
              "#0d0887"
             ],
             [
              0.1111111111111111,
              "#46039f"
             ],
             [
              0.2222222222222222,
              "#7201a8"
             ],
             [
              0.3333333333333333,
              "#9c179e"
             ],
             [
              0.4444444444444444,
              "#bd3786"
             ],
             [
              0.5555555555555556,
              "#d8576b"
             ],
             [
              0.6666666666666666,
              "#ed7953"
             ],
             [
              0.7777777777777778,
              "#fb9f3a"
             ],
             [
              0.8888888888888888,
              "#fdca26"
             ],
             [
              1,
              "#f0f921"
             ]
            ],
            "type": "heatmap"
           }
          ],
          "heatmapgl": [
           {
            "colorbar": {
             "outlinewidth": 0,
             "ticks": ""
            },
            "colorscale": [
             [
              0,
              "#0d0887"
             ],
             [
              0.1111111111111111,
              "#46039f"
             ],
             [
              0.2222222222222222,
              "#7201a8"
             ],
             [
              0.3333333333333333,
              "#9c179e"
             ],
             [
              0.4444444444444444,
              "#bd3786"
             ],
             [
              0.5555555555555556,
              "#d8576b"
             ],
             [
              0.6666666666666666,
              "#ed7953"
             ],
             [
              0.7777777777777778,
              "#fb9f3a"
             ],
             [
              0.8888888888888888,
              "#fdca26"
             ],
             [
              1,
              "#f0f921"
             ]
            ],
            "type": "heatmapgl"
           }
          ],
          "histogram": [
           {
            "marker": {
             "pattern": {
              "fillmode": "overlay",
              "size": 10,
              "solidity": 0.2
             }
            },
            "type": "histogram"
           }
          ],
          "histogram2d": [
           {
            "colorbar": {
             "outlinewidth": 0,
             "ticks": ""
            },
            "colorscale": [
             [
              0,
              "#0d0887"
             ],
             [
              0.1111111111111111,
              "#46039f"
             ],
             [
              0.2222222222222222,
              "#7201a8"
             ],
             [
              0.3333333333333333,
              "#9c179e"
             ],
             [
              0.4444444444444444,
              "#bd3786"
             ],
             [
              0.5555555555555556,
              "#d8576b"
             ],
             [
              0.6666666666666666,
              "#ed7953"
             ],
             [
              0.7777777777777778,
              "#fb9f3a"
             ],
             [
              0.8888888888888888,
              "#fdca26"
             ],
             [
              1,
              "#f0f921"
             ]
            ],
            "type": "histogram2d"
           }
          ],
          "histogram2dcontour": [
           {
            "colorbar": {
             "outlinewidth": 0,
             "ticks": ""
            },
            "colorscale": [
             [
              0,
              "#0d0887"
             ],
             [
              0.1111111111111111,
              "#46039f"
             ],
             [
              0.2222222222222222,
              "#7201a8"
             ],
             [
              0.3333333333333333,
              "#9c179e"
             ],
             [
              0.4444444444444444,
              "#bd3786"
             ],
             [
              0.5555555555555556,
              "#d8576b"
             ],
             [
              0.6666666666666666,
              "#ed7953"
             ],
             [
              0.7777777777777778,
              "#fb9f3a"
             ],
             [
              0.8888888888888888,
              "#fdca26"
             ],
             [
              1,
              "#f0f921"
             ]
            ],
            "type": "histogram2dcontour"
           }
          ],
          "mesh3d": [
           {
            "colorbar": {
             "outlinewidth": 0,
             "ticks": ""
            },
            "type": "mesh3d"
           }
          ],
          "parcoords": [
           {
            "line": {
             "colorbar": {
              "outlinewidth": 0,
              "ticks": ""
             }
            },
            "type": "parcoords"
           }
          ],
          "pie": [
           {
            "automargin": true,
            "type": "pie"
           }
          ],
          "scatter": [
           {
            "marker": {
             "colorbar": {
              "outlinewidth": 0,
              "ticks": ""
             }
            },
            "type": "scatter"
           }
          ],
          "scatter3d": [
           {
            "line": {
             "colorbar": {
              "outlinewidth": 0,
              "ticks": ""
             }
            },
            "marker": {
             "colorbar": {
              "outlinewidth": 0,
              "ticks": ""
             }
            },
            "type": "scatter3d"
           }
          ],
          "scattercarpet": [
           {
            "marker": {
             "colorbar": {
              "outlinewidth": 0,
              "ticks": ""
             }
            },
            "type": "scattercarpet"
           }
          ],
          "scattergeo": [
           {
            "marker": {
             "colorbar": {
              "outlinewidth": 0,
              "ticks": ""
             }
            },
            "type": "scattergeo"
           }
          ],
          "scattergl": [
           {
            "marker": {
             "colorbar": {
              "outlinewidth": 0,
              "ticks": ""
             }
            },
            "type": "scattergl"
           }
          ],
          "scattermapbox": [
           {
            "marker": {
             "colorbar": {
              "outlinewidth": 0,
              "ticks": ""
             }
            },
            "type": "scattermapbox"
           }
          ],
          "scatterpolar": [
           {
            "marker": {
             "colorbar": {
              "outlinewidth": 0,
              "ticks": ""
             }
            },
            "type": "scatterpolar"
           }
          ],
          "scatterpolargl": [
           {
            "marker": {
             "colorbar": {
              "outlinewidth": 0,
              "ticks": ""
             }
            },
            "type": "scatterpolargl"
           }
          ],
          "scatterternary": [
           {
            "marker": {
             "colorbar": {
              "outlinewidth": 0,
              "ticks": ""
             }
            },
            "type": "scatterternary"
           }
          ],
          "surface": [
           {
            "colorbar": {
             "outlinewidth": 0,
             "ticks": ""
            },
            "colorscale": [
             [
              0,
              "#0d0887"
             ],
             [
              0.1111111111111111,
              "#46039f"
             ],
             [
              0.2222222222222222,
              "#7201a8"
             ],
             [
              0.3333333333333333,
              "#9c179e"
             ],
             [
              0.4444444444444444,
              "#bd3786"
             ],
             [
              0.5555555555555556,
              "#d8576b"
             ],
             [
              0.6666666666666666,
              "#ed7953"
             ],
             [
              0.7777777777777778,
              "#fb9f3a"
             ],
             [
              0.8888888888888888,
              "#fdca26"
             ],
             [
              1,
              "#f0f921"
             ]
            ],
            "type": "surface"
           }
          ],
          "table": [
           {
            "cells": {
             "fill": {
              "color": "#EBF0F8"
             },
             "line": {
              "color": "white"
             }
            },
            "header": {
             "fill": {
              "color": "#C8D4E3"
             },
             "line": {
              "color": "white"
             }
            },
            "type": "table"
           }
          ]
         },
         "layout": {
          "annotationdefaults": {
           "arrowcolor": "#2a3f5f",
           "arrowhead": 0,
           "arrowwidth": 1
          },
          "autotypenumbers": "strict",
          "coloraxis": {
           "colorbar": {
            "outlinewidth": 0,
            "ticks": ""
           }
          },
          "colorscale": {
           "diverging": [
            [
             0,
             "#8e0152"
            ],
            [
             0.1,
             "#c51b7d"
            ],
            [
             0.2,
             "#de77ae"
            ],
            [
             0.3,
             "#f1b6da"
            ],
            [
             0.4,
             "#fde0ef"
            ],
            [
             0.5,
             "#f7f7f7"
            ],
            [
             0.6,
             "#e6f5d0"
            ],
            [
             0.7,
             "#b8e186"
            ],
            [
             0.8,
             "#7fbc41"
            ],
            [
             0.9,
             "#4d9221"
            ],
            [
             1,
             "#276419"
            ]
           ],
           "sequential": [
            [
             0,
             "#0d0887"
            ],
            [
             0.1111111111111111,
             "#46039f"
            ],
            [
             0.2222222222222222,
             "#7201a8"
            ],
            [
             0.3333333333333333,
             "#9c179e"
            ],
            [
             0.4444444444444444,
             "#bd3786"
            ],
            [
             0.5555555555555556,
             "#d8576b"
            ],
            [
             0.6666666666666666,
             "#ed7953"
            ],
            [
             0.7777777777777778,
             "#fb9f3a"
            ],
            [
             0.8888888888888888,
             "#fdca26"
            ],
            [
             1,
             "#f0f921"
            ]
           ],
           "sequentialminus": [
            [
             0,
             "#0d0887"
            ],
            [
             0.1111111111111111,
             "#46039f"
            ],
            [
             0.2222222222222222,
             "#7201a8"
            ],
            [
             0.3333333333333333,
             "#9c179e"
            ],
            [
             0.4444444444444444,
             "#bd3786"
            ],
            [
             0.5555555555555556,
             "#d8576b"
            ],
            [
             0.6666666666666666,
             "#ed7953"
            ],
            [
             0.7777777777777778,
             "#fb9f3a"
            ],
            [
             0.8888888888888888,
             "#fdca26"
            ],
            [
             1,
             "#f0f921"
            ]
           ]
          },
          "colorway": [
           "#636efa",
           "#EF553B",
           "#00cc96",
           "#ab63fa",
           "#FFA15A",
           "#19d3f3",
           "#FF6692",
           "#B6E880",
           "#FF97FF",
           "#FECB52"
          ],
          "font": {
           "color": "#2a3f5f"
          },
          "geo": {
           "bgcolor": "white",
           "lakecolor": "white",
           "landcolor": "#E5ECF6",
           "showlakes": true,
           "showland": true,
           "subunitcolor": "white"
          },
          "hoverlabel": {
           "align": "left"
          },
          "hovermode": "closest",
          "mapbox": {
           "style": "light"
          },
          "paper_bgcolor": "white",
          "plot_bgcolor": "#E5ECF6",
          "polar": {
           "angularaxis": {
            "gridcolor": "white",
            "linecolor": "white",
            "ticks": ""
           },
           "bgcolor": "#E5ECF6",
           "radialaxis": {
            "gridcolor": "white",
            "linecolor": "white",
            "ticks": ""
           }
          },
          "scene": {
           "xaxis": {
            "backgroundcolor": "#E5ECF6",
            "gridcolor": "white",
            "gridwidth": 2,
            "linecolor": "white",
            "showbackground": true,
            "ticks": "",
            "zerolinecolor": "white"
           },
           "yaxis": {
            "backgroundcolor": "#E5ECF6",
            "gridcolor": "white",
            "gridwidth": 2,
            "linecolor": "white",
            "showbackground": true,
            "ticks": "",
            "zerolinecolor": "white"
           },
           "zaxis": {
            "backgroundcolor": "#E5ECF6",
            "gridcolor": "white",
            "gridwidth": 2,
            "linecolor": "white",
            "showbackground": true,
            "ticks": "",
            "zerolinecolor": "white"
           }
          },
          "shapedefaults": {
           "line": {
            "color": "#2a3f5f"
           }
          },
          "ternary": {
           "aaxis": {
            "gridcolor": "white",
            "linecolor": "white",
            "ticks": ""
           },
           "baxis": {
            "gridcolor": "white",
            "linecolor": "white",
            "ticks": ""
           },
           "bgcolor": "#E5ECF6",
           "caxis": {
            "gridcolor": "white",
            "linecolor": "white",
            "ticks": ""
           }
          },
          "title": {
           "x": 0.05
          },
          "xaxis": {
           "automargin": true,
           "gridcolor": "white",
           "linecolor": "white",
           "ticks": "",
           "title": {
            "standoff": 15
           },
           "zerolinecolor": "white",
           "zerolinewidth": 2
          },
          "yaxis": {
           "automargin": true,
           "gridcolor": "white",
           "linecolor": "white",
           "ticks": "",
           "title": {
            "standoff": 15
           },
           "zerolinecolor": "white",
           "zerolinewidth": 2
          }
         }
        },
        "xaxis": {
         "anchor": "y",
         "domain": [
          0,
          1
         ],
         "title": {
          "text": "total_living_sqft"
         }
        },
        "yaxis": {
         "anchor": "x",
         "domain": [
          0,
          1
         ]
        }
       }
      },
      "text/html": [
       "<div>                            <div id=\"b7254073-ce29-488b-94e7-a4441396c5f6\" class=\"plotly-graph-div\" style=\"height:525px; width:100%;\"></div>            <script type=\"text/javascript\">                require([\"plotly\"], function(Plotly) {                    window.PLOTLYENV=window.PLOTLYENV || {};                                    if (document.getElementById(\"b7254073-ce29-488b-94e7-a4441396c5f6\")) {                    Plotly.newPlot(                        \"b7254073-ce29-488b-94e7-a4441396c5f6\",                        [{\"alignmentgroup\":\"True\",\"hovertemplate\":\"total_living_sqft=%{x}<extra></extra>\",\"legendgroup\":\"\",\"marker\":{\"color\":\"#636efa\"},\"name\":\"\",\"notched\":false,\"offsetgroup\":\"\",\"orientation\":\"h\",\"showlegend\":false,\"type\":\"box\",\"x\":[2416,2240,2272,1933,2853,2094,3063,2981,1774,1928,1946,3322,1649,1494,1986,854,1582,1296,1760,1843,2376,1108,1795,1900,1916,1600,1620,2922,2877,520,1317,1228,1234,2718,2714,2452,1097,2510,1788,1152,1967,2295,1724,1709,1835,2208,3500,1680,1452,1718,1652,1176,1632,3652,1744,1915,2388,1720,2945,1412,2099,1111,1394,1710,2773,2473,3119,2492,747,2890,4103,1410,1718,1768,1605,1450,1180,1662,1768,1230,2590,2538,1596,1065,1474,2417,1560,1224,1526,1578,1040,1835,1677,3337,2434,1780,2750,1480,943,1794,2810,1732,1535,1226,2042,1992,1047,1062,1517,2549,2299,1680,3680,3163,3244,1877,1932,1125,4692,1456,1926,1123,1650,1499,1586,1244,1078,956,1860,1648,2602,2749,1732,2301,2291,1682,1909,1959,2520,2585,1296,3034,1892,2180,3060,1709,1084,2035,1760,1344,1685,3110,2409,2761,1200,1096,1040,1968,2169,2519,1892,3684,2742,882,1986,1887,3014,3449,1720,1707,1742,2295,2477,2024,3257,2635,2891,2418,4138,968,1961,2154,1340,2082,1252,3608,1828,1656,2310,2746,3024,2105,1991,1709,1254,2022,2852,4332,2229,2801,1121,2199,1927,1510,1596,1442,1696,1825,3127,1879,1332,1248,2674,1706,1770,1596,2382,1328,2295,1264,1498,2267,2102,1568,2448,1302,3085,1308,1754,1571,1194,3483,987,1788,2585,1345,1438,2146,1694,1581,2644,1195,1440,1217,2805,2801,1928,1375,1668,2841,1306,3198,1640,2152,2236,2291,2231,2938,2153,882,2744,2574,1718,2242,764,2238,2225,2570,1306,1864,1939,2652,2794,2872,1362,1548,1560,984,2121,2414,2403,2167,2218,1468,2005,1250,2334,1472,1350,1396,1919,1926,2008,3058,2929,1822,1978,2599,2302,1152,2177,2733,1541,1788,3493,3464,2943,1406,1123,3218,2019,1652,1625,4092,1657,1857,3045,1959,3633,2508,2596,3438,4232,1419,2978,919,3338,1948,2134,1192,2032,1902,3232,2078,2466,3182,3171,2346,1834,1800,1908,841,1040,1712,1473,1577,1456,2748,2199,4138,1869,2535,1727,720,1983,2078,1727,2016,1946,2880,1685,1904,1922,1149,2286,1800,2003,1802,1808,1617,1664,1588,1496,1927,1928,1254,1212,2466,3301,1800,1909,1301,1797,784,2938,1293,1184,1756,1479,3612,1999,2651,882,1054,1034,1883,1671,2352,1077,2362,2074,1334,672,2263,1572,2736,1639,1680,2172,2867,1276,2112,2056,1028,2678,1364,1609,3752,1446,1831,2653,2848,988,3616,1812,1389,3162,1195,1872,2417,1374,1198,1836,1604,1125,2390,1118,904,1059,1196,4708,1573,1573,1258,2550,1689,2848,1886,1376,1514,813,2188,2498,1590,3334,2158,1344,2779,1666,1388,2479,1695,1728,1986,1656,1414,2055,2030,1634,2136,2990,1969,1531,3326,2848,1600,2487,2643,3006,1299,3111,3359,2125,2113,1587,1720,1909,2482,3078,1145,1304,2146,1456,2175,886,1215,4459,2149,1349,1302,1574,2168,2008,3048,2074,1960,2291,1245,1519,2032,2193,1368,1559,1416,789,3456,2119,2344,2502,2080,1294,2021,2063,6936,3117,1266,1305,4043,953,3734,2292,1362,827,334,1414,2316,1724,1464,1832,2959,3098,2285,2951,1490,2050,3387,1935,1387,1650,2094,1628,1236,1717,1126,2912,1048,1987,1973,2050,1557,2694,2583,1286,1674,3023,1647,2504,1537,3573,1886,1959,1278,1692,1430,1458,1658,1477,2199,1392,1795,2242,2042,1632,2775,1573,3488,1654,1532,2797,935,2072,3634,1632,1533,924,3248,1368,1402,3077,2249,2450,1375,2704,1200,2416,2440,1772,2611,3622,1932,3057,1637,2862,1326,1260,1817,1966,832,1876,3133,905,3752,1540,1932,2037,1116,1422,2326,2730,2310,1750,1578,2233,2004,2112,3651,800,1387,796,2721,2736,2667,4114,2400,2887,1298,1048,1594,1839,1260,1665,1510,1716,1469,3809,1092,1859,1502,1458,2123,1935,3989,1392,2281,3818,1936,3290,2817,2425,1180,1669,1920,1975,3025,2028,1752,1774,792,2046,1815,1585,1702,2294,2727,1839,3100,1761,1341,2364,1382,1545,5771,3484,1073,1539,2157,1232,1909,1564,1407,3074,1164,2576,1812,2196,1092,3043,2187,1456,904,729,1178,1995,1749,2012,1350,2554,2262,3591,1494,2890,1510,1055,1470,2932,1478,2488,1956,1776,1360,2796,1932,2283,1738,948,2158,1040,1801,2400,1728,1432,1744,1349,1908,2070,3370,2556,2640,2639,1529,1140,1320,2694,2098,1937,1852,1788,1824,2050,2651,1476,1706,1571,3528,2988,1506,2108,2410,1860,4695,1543,2056,1666,1368,1973,2070,1634,1656,2020,1979,1253,1990,1430,2207,1484,2223,2338,2740,901,2655,1161,1601,2875,1496,1895,1564,1285,1343,3140,2337,2150,1393,2104,2822,1940,1428,1860,2885,1730,2138,2349,1510,1044,2050,1250,1661,1494,2907,1556,2091,1640,936,1733,1489,1489,3720,1568,1454,3139,1223,2432,1200,2312,2057,1716,1509,1897,1317,1099,1552,1638,1539,2016,1800,1416,3091,2288,1324,2358,1855,1507,1456,2010,2009,3170,1699,1966,1481,1370,3273,1426,1880,1435,2296,1372,1830,1646,2052,2320,2699,894,2187,910,1643,1131,2674,1673,3394,2054,1510,2070,2619,1593,2230,1324,2947,2240,1393,3391,2529,924,2409,1731,2447,1535,2196,1236,2240,4552,1701,1180,2166,1509,1670,1501,1707,1699,2280,1527,1484,2717,1464,1504,2286,1518,1092,530,2288,2809,2353,2535,3284,1344,2623,3372,1986,2374,2530,1788,2236,1482,1729,1905,1520,2494,747,2033,2312,2426,2403,3060,2832,2880,1632,1809,2957,2186,2929,1776,2363,1411,1606,1428,2723,1925,2442,1514,1474,2036,2020,1554,3768,2104,1800,2518,1484,1736,2000,968,1608,1192,2193,918,1428,2019,2023,869,2347,1446,1772,1866,3466,1266,2290,1734,2204,1635,3586,2186,1576,3466,1958,2504,1500,2890,1614,1965,1442,1077,1894,944,691,1598,1680,1520,1580,2894,1638,1710,1522,1271,1664,1502,1734,1418,2308,2194,2396,1472,1522,2156,1904,1572,1520,4463,1488,1961,3159,1785,1535,1928,3605,3532,2640,954,845,2642,2263,1344,1139,2653,2096,2206,3414,3628,1733,3108,1676,1771,930,1302,1316,2419,1909,2921,2167,2023,2445,3120,2845,1954,894,2337,1500,2124,3461,1571,2391,3358,1113,1634,1854,1456,1961,1240,2150,2092,1962,1510,1485,1914,1864,1459,1804,2090,1743,1426,1953,1709,2286,1040,1762,2117,1861,1424,1338,1355,1088,1996,2305,728,1649,1722,1849,1302,3654,2180,2021,1690,2875,1877,2367,1524,1651,1248,2738,1772,1596,1601,1409,1012,1576,960,698,1482,1005,1555,2830,1959,1872,2603,1186,2210,2604,1600,986,1532,1020,3134,1812,1804,2249,3978,1294,1272,1576,2556,1839,1111,2106,932,1642,2654,1354,2274,2594,1898,2218,1580,2318,1767,2368,1386,2456,2503,1502,1694,2457,2734,5014,1640,1923,1250,3707,2848,3572,1581,1692,1343,1124,3730,3132,6572,1951,2731,1613,2139,3080,1660,1804,2781,1441,1472,2107,1723,1456,1863,1690,1212,1929,864,1779,1348,1630,1862,2858,2112,2040,1895,2880,1845,2179,1016,1608,1783,1448,1902,2250,912,1218,1824,1953,2042,2892,2214,1645,1933,1507,3242,2173,3329,1993,1224,2188,1964,1784,1626,1948,1141,1912,2318,1689,2226,3462,1517,1868,1553,1573,2377,1618,3175,1405,1384,3323,1656,1792,3301,864,1821,2094,1675,1554,1788,1824,1603,1902,1889,2018,3639,1984,2782,1489,1870,2076,1250,2140,1988,2252,2835,1128,2361,2392,1716,1824,2447,1412,1978,2394,2817,1970,2166,1533,2372,1858,1031,2068,1904,1619,11286,2492,2677,2041,3266,1616,1708,3224,1368,1736,1874,2494,3308,2199,3292,2599,1680,2888,1630,1352,1787,1440,2328,720,2597,988,1795,796,1318,1457,3285,1632,1588,1437,1506,1360,2130,2020,1656,693,2561,1224,872,1928,2169,1913,1456,1210,2521,1856,2937,2617,3134,2035,1176,4054,2600,1920,1232,1812,1951,3427,2601,2804,1738,1412,1200,2207,2423,2196,1533,3010,1794,2492,3072,3915,1958,1571,1174,2432,1296,1394,1067,2982,1762,1416,1462,1889,4043,3240,3066,1593,2925,1584,1669,1912,2570,2482,2374,1513,2436,1872,1158,2352,1294,2393,1214,3019,1424,1458,1363,2093,2506,1788,1040,2820,1848,2557,2290,3231,2041,2954,1820,1429,1534,2201,2175,1252,3127,2138,1314,2118,1838,1916,968,1792,2062,1537,1480,3268,1836,2150,2555,1545,2772,952,1422,1727,1781,3169,1346,1183,1792,1578,1619,1140,1631,1647,3026,2615,2156,2376],\"x0\":\" \",\"xaxis\":\"x\",\"y0\":\" \",\"yaxis\":\"y\"}],                        {\"boxmode\":\"group\",\"legend\":{\"tracegroupgap\":0},\"margin\":{\"t\":60},\"template\":{\"data\":{\"bar\":[{\"error_x\":{\"color\":\"#2a3f5f\"},\"error_y\":{\"color\":\"#2a3f5f\"},\"marker\":{\"line\":{\"color\":\"#E5ECF6\",\"width\":0.5},\"pattern\":{\"fillmode\":\"overlay\",\"size\":10,\"solidity\":0.2}},\"type\":\"bar\"}],\"barpolar\":[{\"marker\":{\"line\":{\"color\":\"#E5ECF6\",\"width\":0.5},\"pattern\":{\"fillmode\":\"overlay\",\"size\":10,\"solidity\":0.2}},\"type\":\"barpolar\"}],\"carpet\":[{\"aaxis\":{\"endlinecolor\":\"#2a3f5f\",\"gridcolor\":\"white\",\"linecolor\":\"white\",\"minorgridcolor\":\"white\",\"startlinecolor\":\"#2a3f5f\"},\"baxis\":{\"endlinecolor\":\"#2a3f5f\",\"gridcolor\":\"white\",\"linecolor\":\"white\",\"minorgridcolor\":\"white\",\"startlinecolor\":\"#2a3f5f\"},\"type\":\"carpet\"}],\"choropleth\":[{\"colorbar\":{\"outlinewidth\":0,\"ticks\":\"\"},\"type\":\"choropleth\"}],\"contour\":[{\"colorbar\":{\"outlinewidth\":0,\"ticks\":\"\"},\"colorscale\":[[0.0,\"#0d0887\"],[0.1111111111111111,\"#46039f\"],[0.2222222222222222,\"#7201a8\"],[0.3333333333333333,\"#9c179e\"],[0.4444444444444444,\"#bd3786\"],[0.5555555555555556,\"#d8576b\"],[0.6666666666666666,\"#ed7953\"],[0.7777777777777778,\"#fb9f3a\"],[0.8888888888888888,\"#fdca26\"],[1.0,\"#f0f921\"]],\"type\":\"contour\"}],\"contourcarpet\":[{\"colorbar\":{\"outlinewidth\":0,\"ticks\":\"\"},\"type\":\"contourcarpet\"}],\"heatmap\":[{\"colorbar\":{\"outlinewidth\":0,\"ticks\":\"\"},\"colorscale\":[[0.0,\"#0d0887\"],[0.1111111111111111,\"#46039f\"],[0.2222222222222222,\"#7201a8\"],[0.3333333333333333,\"#9c179e\"],[0.4444444444444444,\"#bd3786\"],[0.5555555555555556,\"#d8576b\"],[0.6666666666666666,\"#ed7953\"],[0.7777777777777778,\"#fb9f3a\"],[0.8888888888888888,\"#fdca26\"],[1.0,\"#f0f921\"]],\"type\":\"heatmap\"}],\"heatmapgl\":[{\"colorbar\":{\"outlinewidth\":0,\"ticks\":\"\"},\"colorscale\":[[0.0,\"#0d0887\"],[0.1111111111111111,\"#46039f\"],[0.2222222222222222,\"#7201a8\"],[0.3333333333333333,\"#9c179e\"],[0.4444444444444444,\"#bd3786\"],[0.5555555555555556,\"#d8576b\"],[0.6666666666666666,\"#ed7953\"],[0.7777777777777778,\"#fb9f3a\"],[0.8888888888888888,\"#fdca26\"],[1.0,\"#f0f921\"]],\"type\":\"heatmapgl\"}],\"histogram\":[{\"marker\":{\"pattern\":{\"fillmode\":\"overlay\",\"size\":10,\"solidity\":0.2}},\"type\":\"histogram\"}],\"histogram2d\":[{\"colorbar\":{\"outlinewidth\":0,\"ticks\":\"\"},\"colorscale\":[[0.0,\"#0d0887\"],[0.1111111111111111,\"#46039f\"],[0.2222222222222222,\"#7201a8\"],[0.3333333333333333,\"#9c179e\"],[0.4444444444444444,\"#bd3786\"],[0.5555555555555556,\"#d8576b\"],[0.6666666666666666,\"#ed7953\"],[0.7777777777777778,\"#fb9f3a\"],[0.8888888888888888,\"#fdca26\"],[1.0,\"#f0f921\"]],\"type\":\"histogram2d\"}],\"histogram2dcontour\":[{\"colorbar\":{\"outlinewidth\":0,\"ticks\":\"\"},\"colorscale\":[[0.0,\"#0d0887\"],[0.1111111111111111,\"#46039f\"],[0.2222222222222222,\"#7201a8\"],[0.3333333333333333,\"#9c179e\"],[0.4444444444444444,\"#bd3786\"],[0.5555555555555556,\"#d8576b\"],[0.6666666666666666,\"#ed7953\"],[0.7777777777777778,\"#fb9f3a\"],[0.8888888888888888,\"#fdca26\"],[1.0,\"#f0f921\"]],\"type\":\"histogram2dcontour\"}],\"mesh3d\":[{\"colorbar\":{\"outlinewidth\":0,\"ticks\":\"\"},\"type\":\"mesh3d\"}],\"parcoords\":[{\"line\":{\"colorbar\":{\"outlinewidth\":0,\"ticks\":\"\"}},\"type\":\"parcoords\"}],\"pie\":[{\"automargin\":true,\"type\":\"pie\"}],\"scatter\":[{\"marker\":{\"colorbar\":{\"outlinewidth\":0,\"ticks\":\"\"}},\"type\":\"scatter\"}],\"scatter3d\":[{\"line\":{\"colorbar\":{\"outlinewidth\":0,\"ticks\":\"\"}},\"marker\":{\"colorbar\":{\"outlinewidth\":0,\"ticks\":\"\"}},\"type\":\"scatter3d\"}],\"scattercarpet\":[{\"marker\":{\"colorbar\":{\"outlinewidth\":0,\"ticks\":\"\"}},\"type\":\"scattercarpet\"}],\"scattergeo\":[{\"marker\":{\"colorbar\":{\"outlinewidth\":0,\"ticks\":\"\"}},\"type\":\"scattergeo\"}],\"scattergl\":[{\"marker\":{\"colorbar\":{\"outlinewidth\":0,\"ticks\":\"\"}},\"type\":\"scattergl\"}],\"scattermapbox\":[{\"marker\":{\"colorbar\":{\"outlinewidth\":0,\"ticks\":\"\"}},\"type\":\"scattermapbox\"}],\"scatterpolar\":[{\"marker\":{\"colorbar\":{\"outlinewidth\":0,\"ticks\":\"\"}},\"type\":\"scatterpolar\"}],\"scatterpolargl\":[{\"marker\":{\"colorbar\":{\"outlinewidth\":0,\"ticks\":\"\"}},\"type\":\"scatterpolargl\"}],\"scatterternary\":[{\"marker\":{\"colorbar\":{\"outlinewidth\":0,\"ticks\":\"\"}},\"type\":\"scatterternary\"}],\"surface\":[{\"colorbar\":{\"outlinewidth\":0,\"ticks\":\"\"},\"colorscale\":[[0.0,\"#0d0887\"],[0.1111111111111111,\"#46039f\"],[0.2222222222222222,\"#7201a8\"],[0.3333333333333333,\"#9c179e\"],[0.4444444444444444,\"#bd3786\"],[0.5555555555555556,\"#d8576b\"],[0.6666666666666666,\"#ed7953\"],[0.7777777777777778,\"#fb9f3a\"],[0.8888888888888888,\"#fdca26\"],[1.0,\"#f0f921\"]],\"type\":\"surface\"}],\"table\":[{\"cells\":{\"fill\":{\"color\":\"#EBF0F8\"},\"line\":{\"color\":\"white\"}},\"header\":{\"fill\":{\"color\":\"#C8D4E3\"},\"line\":{\"color\":\"white\"}},\"type\":\"table\"}]},\"layout\":{\"annotationdefaults\":{\"arrowcolor\":\"#2a3f5f\",\"arrowhead\":0,\"arrowwidth\":1},\"autotypenumbers\":\"strict\",\"coloraxis\":{\"colorbar\":{\"outlinewidth\":0,\"ticks\":\"\"}},\"colorscale\":{\"diverging\":[[0,\"#8e0152\"],[0.1,\"#c51b7d\"],[0.2,\"#de77ae\"],[0.3,\"#f1b6da\"],[0.4,\"#fde0ef\"],[0.5,\"#f7f7f7\"],[0.6,\"#e6f5d0\"],[0.7,\"#b8e186\"],[0.8,\"#7fbc41\"],[0.9,\"#4d9221\"],[1,\"#276419\"]],\"sequential\":[[0.0,\"#0d0887\"],[0.1111111111111111,\"#46039f\"],[0.2222222222222222,\"#7201a8\"],[0.3333333333333333,\"#9c179e\"],[0.4444444444444444,\"#bd3786\"],[0.5555555555555556,\"#d8576b\"],[0.6666666666666666,\"#ed7953\"],[0.7777777777777778,\"#fb9f3a\"],[0.8888888888888888,\"#fdca26\"],[1.0,\"#f0f921\"]],\"sequentialminus\":[[0.0,\"#0d0887\"],[0.1111111111111111,\"#46039f\"],[0.2222222222222222,\"#7201a8\"],[0.3333333333333333,\"#9c179e\"],[0.4444444444444444,\"#bd3786\"],[0.5555555555555556,\"#d8576b\"],[0.6666666666666666,\"#ed7953\"],[0.7777777777777778,\"#fb9f3a\"],[0.8888888888888888,\"#fdca26\"],[1.0,\"#f0f921\"]]},\"colorway\":[\"#636efa\",\"#EF553B\",\"#00cc96\",\"#ab63fa\",\"#FFA15A\",\"#19d3f3\",\"#FF6692\",\"#B6E880\",\"#FF97FF\",\"#FECB52\"],\"font\":{\"color\":\"#2a3f5f\"},\"geo\":{\"bgcolor\":\"white\",\"lakecolor\":\"white\",\"landcolor\":\"#E5ECF6\",\"showlakes\":true,\"showland\":true,\"subunitcolor\":\"white\"},\"hoverlabel\":{\"align\":\"left\"},\"hovermode\":\"closest\",\"mapbox\":{\"style\":\"light\"},\"paper_bgcolor\":\"white\",\"plot_bgcolor\":\"#E5ECF6\",\"polar\":{\"angularaxis\":{\"gridcolor\":\"white\",\"linecolor\":\"white\",\"ticks\":\"\"},\"bgcolor\":\"#E5ECF6\",\"radialaxis\":{\"gridcolor\":\"white\",\"linecolor\":\"white\",\"ticks\":\"\"}},\"scene\":{\"xaxis\":{\"backgroundcolor\":\"#E5ECF6\",\"gridcolor\":\"white\",\"gridwidth\":2,\"linecolor\":\"white\",\"showbackground\":true,\"ticks\":\"\",\"zerolinecolor\":\"white\"},\"yaxis\":{\"backgroundcolor\":\"#E5ECF6\",\"gridcolor\":\"white\",\"gridwidth\":2,\"linecolor\":\"white\",\"showbackground\":true,\"ticks\":\"\",\"zerolinecolor\":\"white\"},\"zaxis\":{\"backgroundcolor\":\"#E5ECF6\",\"gridcolor\":\"white\",\"gridwidth\":2,\"linecolor\":\"white\",\"showbackground\":true,\"ticks\":\"\",\"zerolinecolor\":\"white\"}},\"shapedefaults\":{\"line\":{\"color\":\"#2a3f5f\"}},\"ternary\":{\"aaxis\":{\"gridcolor\":\"white\",\"linecolor\":\"white\",\"ticks\":\"\"},\"baxis\":{\"gridcolor\":\"white\",\"linecolor\":\"white\",\"ticks\":\"\"},\"bgcolor\":\"#E5ECF6\",\"caxis\":{\"gridcolor\":\"white\",\"linecolor\":\"white\",\"ticks\":\"\"}},\"title\":{\"x\":0.05},\"xaxis\":{\"automargin\":true,\"gridcolor\":\"white\",\"linecolor\":\"white\",\"ticks\":\"\",\"title\":{\"standoff\":15},\"zerolinecolor\":\"white\",\"zerolinewidth\":2},\"yaxis\":{\"automargin\":true,\"gridcolor\":\"white\",\"linecolor\":\"white\",\"ticks\":\"\",\"title\":{\"standoff\":15},\"zerolinecolor\":\"white\",\"zerolinewidth\":2}}},\"xaxis\":{\"anchor\":\"y\",\"domain\":[0.0,1.0],\"title\":{\"text\":\"total_living_sqft\"}},\"yaxis\":{\"anchor\":\"x\",\"domain\":[0.0,1.0]}},                        {\"responsive\": true}                    ).then(function(){\n",
       "                            \n",
       "var gd = document.getElementById('b7254073-ce29-488b-94e7-a4441396c5f6');\n",
       "var x = new MutationObserver(function (mutations, observer) {{\n",
       "        var display = window.getComputedStyle(gd).display;\n",
       "        if (!display || display === 'none') {{\n",
       "            console.log([gd, 'removed!']);\n",
       "            Plotly.purge(gd);\n",
       "            observer.disconnect();\n",
       "        }}\n",
       "}});\n",
       "\n",
       "// Listen for the removal of the full notebook cells\n",
       "var notebookContainer = gd.closest('#notebook-container');\n",
       "if (notebookContainer) {{\n",
       "    x.observe(notebookContainer, {childList: true});\n",
       "}}\n",
       "\n",
       "// Listen for the clearing of the current output cell\n",
       "var outputEl = gd.closest('.output');\n",
       "if (outputEl) {{\n",
       "    x.observe(outputEl, {childList: true});\n",
       "}}\n",
       "\n",
       "                        })                };                });            </script>        </div>"
      ]
     },
     "metadata": {},
     "output_type": "display_data"
    },
    {
     "data": {
      "application/vnd.plotly.v1+json": {
       "config": {
        "plotlyServerURL": "https://plot.ly"
       },
       "data": [
        {
         "alignmentgroup": "True",
         "hovertemplate": "total_sqft=%{x}<extra></extra>",
         "legendgroup": "",
         "marker": {
          "color": "#636efa"
         },
         "name": "",
         "notched": false,
         "offsetgroup": "",
         "orientation": "h",
         "showlegend": false,
         "type": "box",
         "x": [
          2566,
          2524,
          2706,
          2473,
          3343,
          2158,
          3380,
          3197,
          2726,
          2068,
          2080,
          3499,
          1824,
          2988,
          2506,
          1686,
          2008,
          1296,
          2228,
          2368,
          3534,
          1745,
          3572,
          2100,
          2120,
          3166,
          1800,
          3408,
          3084,
          1040,
          1966,
          2456,
          2468,
          3098,
          3122,
          3569,
          2194,
          2594,
          2114,
          1152,
          2412,
          2678,
          1724,
          1876,
          2300,
          3504,
          3583,
          3312,
          2188,
          1910,
          2264,
          1632,
          1632,
          3684,
          1744,
          2850,
          2709,
          2580,
          4355,
          1560,
          2316,
          1641,
          2740,
          2286,
          3091,
          3616,
          4154,
          2932,
          1494,
          3591,
          4446,
          1690,
          2550,
          2172,
          2445,
          1450,
          1904,
          1957,
          3536,
          1670,
          3038,
          2574,
          3126,
          2130,
          1858,
          3705,
          2244,
          1836,
          2026,
          1980,
          1040,
          2470,
          1840,
          3505,
          2610,
          2150,
          3176,
          1920,
          1293,
          2175,
          3220,
          2473,
          1535,
          2452,
          2858,
          3045,
          1688,
          1578,
          2310,
          3688,
          2849,
          1814,
          3960,
          4068,
          3348,
          2187,
          2184,
          2250,
          4895,
          2184,
          1926,
          1855,
          2160,
          2398,
          2948,
          1040,
          2036,
          1512,
          2008,
          2061,
          3081,
          3046,
          2390,
          2563,
          3182,
          2986,
          2428,
          3866,
          2856,
          2692,
          1728,
          3468,
          2295,
          2991,
          3456,
          2679,
          1590,
          2919,
          2160,
          2240,
          1938,
          3420,
          2818,
          2854,
          2400,
          1668,
          1040,
          2742,
          2938,
          3854,
          2464,
          4240,
          3082,
          1764,
          2765,
          1999,
          3484,
          3743,
          2560,
          3393,
          1574,
          2736,
          2831,
          2724,
          3257,
          3360,
          3211,
          2972,
          4450,
          1936,
          2281,
          2595,
          1340,
          3444,
          1756,
          4143,
          2405,
          2172,
          2310,
          3186,
          3580,
          2204,
          2862,
          2679,
          1728,
          2311,
          3452,
          4080,
          2613,
          3426,
          2242,
          2475,
          1927,
          1696,
          2004,
          2866,
          2836,
          2200,
          3219,
          2184,
          1728,
          2424,
          2752,
          1980,
          2081,
          2306,
          2872,
          2014,
          2752,
          2496,
          2996,
          3277,
          2265,
          1728,
          4784,
          1932,
          3723,
          1470,
          1824,
          2928,
          2388,
          4256,
          1470,
          1788,
          2820,
          1470,
          2828,
          2740,
          3388,
          2222,
          3132,
          1552,
          1980,
          1843,
          3058,
          3717,
          2948,
          2742,
          2508,
          3588,
          2034,
          3198,
          2438,
          2604,
          2628,
          3266,
          2592,
          3208,
          2755,
          882,
          2744,
          4056,
          1718,
          1852,
          1444,
          2844,
          2313,
          2492,
          1518,
          2256,
          3034,
          2748,
          3422,
          2872,
          1632,
          2500,
          3120,
          1728,
          4242,
          3182,
          2789,
          2524,
          2628,
          2936,
          3150,
          1875,
          2646,
          1716,
          1782,
          2094,
          2998,
          2496,
          2484,
          3058,
          3060,
          2006,
          2468,
          2925,
          2445,
          2244,
          2501,
          3480,
          3082,
          1788,
          4963,
          4000,
          2943,
          1725,
          1722,
          3840,
          2198,
          1944,
          1911,
          4172,
          2369,
          2148,
          3198,
          3047,
          3993,
          2844,
          3845,
          3604,
          4232,
          2325,
          3688,
          1523,
          3438,
          2766,
          2978,
          1788,
          3456,
          2112,
          4835,
          2716,
          2581,
          3285,
          3844,
          3072,
          2829,
          2430,
          2875,
          1562,
          1040,
          3368,
          1648,
          2549,
          1916,
          2956,
          2390,
          4576,
          3738,
          2906,
          1727,
          1344,
          2535,
          2400,
          2325,
          2284,
          2414,
          3010,
          1800,
          2388,
          1922,
          1470,
          2370,
          2016,
          2788,
          2530,
          2536,
          2350,
          2617,
          1588,
          1496,
          1927,
          2775,
          1587,
          1784,
          4046,
          3712,
          2782,
          2717,
          2594,
          2736,
          1568,
          3533,
          2525,
          1842,
          2166,
          2947,
          4014,
          2228,
          2765,
          882,
          1576,
          1769,
          2288,
          1788,
          2676,
          2038,
          2642,
          2548,
          2620,
          1344,
          3404,
          2378,
          2901,
          2230,
          2520,
          3235,
          3112,
          2552,
          2112,
          2948,
          2036,
          3177,
          2680,
          2072,
          3994,
          1890,
          2112,
          2688,
          3204,
          1976,
          4100,
          2392,
          2040,
          3162,
          1814,
          2416,
          2804,
          1470,
          2099,
          2130,
          2530,
          1260,
          2460,
          1766,
          1788,
          1134,
          1880,
          5496,
          2880,
          2651,
          2516,
          2823,
          3125,
          3405,
          2816,
          2156,
          1832,
          1626,
          3066,
          2628,
          2358,
          3456,
          2484,
          1968,
          3027,
          2254,
          1912,
          2767,
          1695,
          1728,
          2375,
          2080,
          2789,
          2554,
          2372,
          3260,
          2542,
          2990,
          2777,
          1619,
          3952,
          3146,
          1940,
          2971,
          4796,
          3423,
          2038,
          3683,
          3584,
          2736,
          2432,
          1998,
          2226,
          2146,
          2968,
          3368,
          1260,
          1568,
          2384,
          2184,
          2538,
          1076,
          1440,
          6428,
          2846,
          1763,
          1824,
          1890,
          2634,
          2428,
          3302,
          2177,
          2920,
          2688,
          2436,
          2067,
          2082,
          2371,
          2736,
          1728,
          2164,
          1557,
          4026,
          2808,
          3608,
          2590,
          3356,
          1294,
          2488,
          2668,
          7814,
          3777,
          2523,
          1856,
          4165,
          1133,
          4550,
          2970,
          1973,
          827,
          334,
          2121,
          2464,
          2604,
          1728,
          2210,
          3182,
          3676,
          3254,
          3330,
          1490,
          2150,
          3387,
          2700,
          1536,
          1650,
          3006,
          2138,
          1856,
          3426,
          1126,
          3044,
          2041,
          2184,
          1973,
          2175,
          2931,
          2784,
          2778,
          1992,
          2837,
          3390,
          2453,
          3626,
          3052,
          3628,
          1886,
          3456,
          1728,
          2538,
          1814,
          1481,
          2048,
          2338,
          2484,
          2081,
          2845,
          2573,
          4084,
          1632,
          4012,
          2457,
          3896,
          1654,
          1700,
          2910,
          1521,
          2352,
          4018,
          1632,
          1696,
          1848,
          3640,
          2052,
          2660,
          3077,
          2272,
          2962,
          2155,
          2823,
          1800,
          2988,
          2754,
          2080,
          2904,
          4159,
          2058,
          3593,
          2064,
          3171,
          2240,
          1260,
          1990,
          2292,
          1664,
          3650,
          3744,
          1728,
          4136,
          1960,
          2268,
          2522,
          2232,
          2400,
          2676,
          3120,
          2598,
          2386,
          3108,
          2797,
          2112,
          2112,
          4320,
          1064,
          2198,
          1592,
          3087,
          3036,
          2986,
          4656,
          2400,
          3532,
          1962,
          1048,
          2188,
          2595,
          1260,
          2478,
          2265,
          2596,
          2225,
          4222,
          1617,
          2106,
          2278,
          2370,
          2972,
          2728,
          4077,
          2784,
          2319,
          4174,
          3342,
          3401,
          3087,
          2625,
          1880,
          2214,
          2041,
          2416,
          3316,
          2272,
          2296,
          2869,
          1560,
          4092,
          1976,
          1846,
          2313,
          2582,
          3294,
          3034,
          3280,
          2635,
          1653,
          2838,
          2724,
          1696,
          6760,
          3729,
          2146,
          2466,
          2249,
          1232,
          2128,
          1788,
          2782,
          3600,
          2328,
          3810,
          2172,
          2957,
          1092,
          3467,
          2648,
          2184,
          1780,
          999,
          2037,
          2456,
          1920,
          2204,
          2414,
          3272,
          2354,
          3729,
          1942,
          3484,
          1696,
          1728,
          2411,
          3396,
          1728,
          2560,
          2464,
          3360,
          1628,
          3211,
          2014,
          3184,
          2008,
          1896,
          2648,
          1040,
          2694,
          2400,
          2592,
          1696,
          1824,
          2698,
          1984,
          2674,
          3857,
          3208,
          3880,
          3440,
          1529,
          1716,
          1980,
          2973,
          3128,
          2052,
          2200,
          2634,
          2058,
          2245,
          3849,
          1728,
          2446,
          2303,
          3617,
          2988,
          3004,
          2694,
          2733,
          3696,
          4929,
          1716,
          2056,
          2146,
          1824,
          3908,
          2408,
          3228,
          1758,
          2020,
          1979,
          2490,
          2364,
          2843,
          2207,
          2226,
          2714,
          2338,
          3040,
          1802,
          2919,
          2290,
          2091,
          3130,
          2992,
          2607,
          2214,
          1945,
          1546,
          5066,
          2499,
          2304,
          2392,
          2184,
          4556,
          2064,
          2845,
          1960,
          2900,
          2110,
          2987,
          2349,
          1696,
          1584,
          2884,
          1936,
          3310,
          2016,
          3257,
          2062,
          2716,
          2438,
          1872,
          2580,
          2267,
          2978,
          4162,
          1568,
          2888,
          3139,
          1743,
          2784,
          1720,
          2770,
          3032,
          2288,
          2134,
          3118,
          1470,
          2198,
          1968,
          2154,
          2189,
          2292,
          3600,
          2292,
          3091,
          2515,
          1728,
          3265,
          2383,
          1696,
          2729,
          2564,
          2572,
          3542,
          2080,
          1966,
          2183,
          2460,
          3708,
          2338,
          2078,
          2137,
          2296,
          2744,
          2004,
          3284,
          2160,
          2267,
          2999,
          1788,
          2486,
          1015,
          1868,
          1807,
          3794,
          2104,
          3686,
          2264,
          1728,
          2180,
          2873,
          2401,
          2544,
          1784,
          3407,
          3338,
          2209,
          4434,
          3010,
          1596,
          2601,
          2127,
          2766,
          1535,
          2576,
          1902,
          2240,
          4694,
          2148,
          1716,
          2298,
          2292,
          3340,
          1778,
          2119,
          3259,
          3074,
          1766,
          2226,
          3379,
          2536,
          1783,
          3003,
          1836,
          1638,
          960,
          2363,
          3231,
          2598,
          2649,
          3472,
          2632,
          3221,
          3372,
          2252,
          3555,
          2810,
          3541,
          3200,
          2932,
          1850,
          3810,
          3000,
          2654,
          1347,
          2376,
          3084,
          3353,
          3435,
          3456,
          3052,
          2880,
          3264,
          2163,
          2837,
          2288,
          3245,
          2712,
          2542,
          1728,
          1793,
          1536,
          2752,
          1925,
          2937,
          1790,
          2114,
          2674,
          2112,
          1716,
          4202,
          2352,
          3600,
          2711,
          2267,
          2036,
          2196,
          1568,
          1683,
          1912,
          2390,
          1836,
          2856,
          2747,
          2055,
          1309,
          2482,
          1788,
          2242,
          1943,
          3837,
          2532,
          3418,
          1734,
          2328,
          2120,
          3870,
          2878,
          2346,
          3788,
          2658,
          2673,
          2250,
          3418,
          1977,
          2100,
          2884,
          2084,
          2395,
          944,
          1382,
          3148,
          3360,
          2850,
          1970,
          3314,
          1638,
          3420,
          2016,
          1991,
          1664,
          2104,
          2044,
          2164,
          2475,
          3008,
          2580,
          1856,
          2868,
          2264,
          2419,
          2160,
          2850,
          4463,
          1764,
          2532,
          3284,
          2144,
          1890,
          2614,
          3509,
          3858,
          3308,
          1874,
          845,
          3240,
          3318,
          1890,
          1260,
          2937,
          2432,
          2612,
          3804,
          5048,
          1733,
          4860,
          1980,
          1771,
          930,
          2604,
          2632,
          2793,
          2742,
          3054,
          2716,
          2728,
          2823,
          3288,
          2845,
          2676,
          1788,
          2999,
          2206,
          2308,
          3566,
          2370,
          2391,
          3463,
          1738,
          2096,
          2283,
          2266,
          2116,
          2480,
          2540,
          2262,
          2192,
          1696,
          1980,
          2516,
          2080,
          2918,
          2502,
          2189,
          1932,
          1638,
          3035,
          2679,
          2494,
          1040,
          1852,
          2875,
          2064,
          1872,
          2628,
          2039,
          2162,
          1996,
          2872,
          728,
          1900,
          2144,
          1849,
          1932,
          4085,
          2352,
          2889,
          2614,
          3672,
          2431,
          2767,
          1632,
          2016,
          1666,
          3468,
          1827,
          1788,
          2134,
          2080,
          2024,
          3104,
          1632,
          1396,
          1866,
          2010,
          2928,
          3060,
          2806,
          1872,
          3103,
          1948,
          3218,
          3148,
          2516,
          1946,
          2284,
          1800,
          3134,
          2082,
          1904,
          2648,
          4294,
          2012,
          1596,
          2618,
          2596,
          2268,
          1683,
          2132,
          1864,
          2932,
          2884,
          1632,
          2684,
          2874,
          2484,
          2628,
          3160,
          2777,
          2311,
          2936,
          1788,
          2456,
          2792,
          3004,
          3388,
          2630,
          3235,
          5557,
          2214,
          2522,
          1875,
          4205,
          3297,
          4555,
          1799,
          2042,
          2074,
          1124,
          3730,
          3252,
          6872,
          2250,
          3144,
          2005,
          2677,
          3248,
          2491,
          2798,
          2871,
          2217,
          2174,
          2448,
          2015,
          2184,
          2742,
          2505,
          2424,
          2433,
          1728,
          2645,
          2232,
          3260,
          2130,
          4354,
          2112,
          3382,
          2214,
          3320,
          2900,
          2311,
          1344,
          1608,
          1924,
          1788,
          1902,
          2614,
          912,
          1890,
          1824,
          2163,
          2886,
          4272,
          2278,
          1726,
          2827,
          1824,
          3404,
          2582,
          3981,
          2296,
          1224,
          2376,
          2904,
          2531,
          2390,
          2795,
          2282,
          2960,
          2652,
          3378,
          2226,
          4152,
          2309,
          2453,
          2309,
          2046,
          2793,
          1864,
          4220,
          2810,
          1738,
          3359,
          2402,
          2251,
          3973,
          1728,
          2022,
          2108,
          2516,
          2100,
          2892,
          2588,
          2742,
          2143,
          2814,
          4020,
          4175,
          2398,
          2856,
          2978,
          1870,
          2376,
          1911,
          2848,
          2118,
          3404,
          3159,
          1826,
          3146,
          2648,
          2080,
          2736,
          3251,
          2192,
          2656,
          3206,
          3160,
          3055,
          2304,
          1932,
          3366,
          2496,
          1728,
          2104,
          2248,
          1619,
          11752,
          2492,
          2961,
          2265,
          3691,
          3232,
          2684,
          3304,
          2736,
          1980,
          2046,
          2572,
          3804,
          2548,
          4263,
          3992,
          1896,
          3064,
          3252,
          2704,
          3540,
          1812,
          2956,
          720,
          2673,
          1128,
          3590,
          1592,
          1318,
          1632,
          4302,
          2567,
          3176,
          1865,
          1632,
          2163,
          2130,
          2684,
          3312,
          1386,
          2777,
          1728,
          1730,
          2228,
          3453,
          2809,
          2184,
          1920,
          3724,
          3508,
          2976,
          2837,
          3882,
          2574,
          1874,
          5271,
          2857,
          2490,
          1756,
          2156,
          2329,
          3960,
          3213,
          3060,
          2453,
          2028,
          1720,
          2488,
          2663,
          2232,
          1696,
          3325,
          2214,
          2653,
          3205,
          5266,
          2984,
          3142,
          1558,
          2588,
          1470,
          1778,
          1728,
          3322,
          2358,
          2232,
          1818,
          1950,
          4176,
          3240,
          3492,
          1953,
          3050,
          3168,
          1764,
          2394,
          2856,
          3576,
          2434,
          2452,
          3112,
          2584,
          2020,
          2432,
          2580,
          2949,
          1886,
          3240,
          1536,
          1666,
          1985,
          2884,
          2784,
          2524,
          1040,
          3688,
          2681,
          2955,
          3067,
          3734,
          2288,
          3688,
          2124,
          2138,
          1696,
          2898,
          2368,
          2504,
          3350,
          2471,
          1592,
          2880,
          2570,
          1916,
          1624,
          2728,
          2252,
          2856,
          1728,
          3864,
          2148,
          2264,
          2759,
          1696,
          3024,
          1904,
          2844,
          1727,
          2376,
          3310,
          1906,
          1260,
          2688,
          3151,
          1619,
          2280,
          2442,
          2600,
          3615,
          3492,
          2156,
          2512
         ],
         "x0": " ",
         "xaxis": "x",
         "y0": " ",
         "yaxis": "y"
        }
       ],
       "layout": {
        "boxmode": "group",
        "legend": {
         "tracegroupgap": 0
        },
        "margin": {
         "t": 60
        },
        "template": {
         "data": {
          "bar": [
           {
            "error_x": {
             "color": "#2a3f5f"
            },
            "error_y": {
             "color": "#2a3f5f"
            },
            "marker": {
             "line": {
              "color": "#E5ECF6",
              "width": 0.5
             },
             "pattern": {
              "fillmode": "overlay",
              "size": 10,
              "solidity": 0.2
             }
            },
            "type": "bar"
           }
          ],
          "barpolar": [
           {
            "marker": {
             "line": {
              "color": "#E5ECF6",
              "width": 0.5
             },
             "pattern": {
              "fillmode": "overlay",
              "size": 10,
              "solidity": 0.2
             }
            },
            "type": "barpolar"
           }
          ],
          "carpet": [
           {
            "aaxis": {
             "endlinecolor": "#2a3f5f",
             "gridcolor": "white",
             "linecolor": "white",
             "minorgridcolor": "white",
             "startlinecolor": "#2a3f5f"
            },
            "baxis": {
             "endlinecolor": "#2a3f5f",
             "gridcolor": "white",
             "linecolor": "white",
             "minorgridcolor": "white",
             "startlinecolor": "#2a3f5f"
            },
            "type": "carpet"
           }
          ],
          "choropleth": [
           {
            "colorbar": {
             "outlinewidth": 0,
             "ticks": ""
            },
            "type": "choropleth"
           }
          ],
          "contour": [
           {
            "colorbar": {
             "outlinewidth": 0,
             "ticks": ""
            },
            "colorscale": [
             [
              0,
              "#0d0887"
             ],
             [
              0.1111111111111111,
              "#46039f"
             ],
             [
              0.2222222222222222,
              "#7201a8"
             ],
             [
              0.3333333333333333,
              "#9c179e"
             ],
             [
              0.4444444444444444,
              "#bd3786"
             ],
             [
              0.5555555555555556,
              "#d8576b"
             ],
             [
              0.6666666666666666,
              "#ed7953"
             ],
             [
              0.7777777777777778,
              "#fb9f3a"
             ],
             [
              0.8888888888888888,
              "#fdca26"
             ],
             [
              1,
              "#f0f921"
             ]
            ],
            "type": "contour"
           }
          ],
          "contourcarpet": [
           {
            "colorbar": {
             "outlinewidth": 0,
             "ticks": ""
            },
            "type": "contourcarpet"
           }
          ],
          "heatmap": [
           {
            "colorbar": {
             "outlinewidth": 0,
             "ticks": ""
            },
            "colorscale": [
             [
              0,
              "#0d0887"
             ],
             [
              0.1111111111111111,
              "#46039f"
             ],
             [
              0.2222222222222222,
              "#7201a8"
             ],
             [
              0.3333333333333333,
              "#9c179e"
             ],
             [
              0.4444444444444444,
              "#bd3786"
             ],
             [
              0.5555555555555556,
              "#d8576b"
             ],
             [
              0.6666666666666666,
              "#ed7953"
             ],
             [
              0.7777777777777778,
              "#fb9f3a"
             ],
             [
              0.8888888888888888,
              "#fdca26"
             ],
             [
              1,
              "#f0f921"
             ]
            ],
            "type": "heatmap"
           }
          ],
          "heatmapgl": [
           {
            "colorbar": {
             "outlinewidth": 0,
             "ticks": ""
            },
            "colorscale": [
             [
              0,
              "#0d0887"
             ],
             [
              0.1111111111111111,
              "#46039f"
             ],
             [
              0.2222222222222222,
              "#7201a8"
             ],
             [
              0.3333333333333333,
              "#9c179e"
             ],
             [
              0.4444444444444444,
              "#bd3786"
             ],
             [
              0.5555555555555556,
              "#d8576b"
             ],
             [
              0.6666666666666666,
              "#ed7953"
             ],
             [
              0.7777777777777778,
              "#fb9f3a"
             ],
             [
              0.8888888888888888,
              "#fdca26"
             ],
             [
              1,
              "#f0f921"
             ]
            ],
            "type": "heatmapgl"
           }
          ],
          "histogram": [
           {
            "marker": {
             "pattern": {
              "fillmode": "overlay",
              "size": 10,
              "solidity": 0.2
             }
            },
            "type": "histogram"
           }
          ],
          "histogram2d": [
           {
            "colorbar": {
             "outlinewidth": 0,
             "ticks": ""
            },
            "colorscale": [
             [
              0,
              "#0d0887"
             ],
             [
              0.1111111111111111,
              "#46039f"
             ],
             [
              0.2222222222222222,
              "#7201a8"
             ],
             [
              0.3333333333333333,
              "#9c179e"
             ],
             [
              0.4444444444444444,
              "#bd3786"
             ],
             [
              0.5555555555555556,
              "#d8576b"
             ],
             [
              0.6666666666666666,
              "#ed7953"
             ],
             [
              0.7777777777777778,
              "#fb9f3a"
             ],
             [
              0.8888888888888888,
              "#fdca26"
             ],
             [
              1,
              "#f0f921"
             ]
            ],
            "type": "histogram2d"
           }
          ],
          "histogram2dcontour": [
           {
            "colorbar": {
             "outlinewidth": 0,
             "ticks": ""
            },
            "colorscale": [
             [
              0,
              "#0d0887"
             ],
             [
              0.1111111111111111,
              "#46039f"
             ],
             [
              0.2222222222222222,
              "#7201a8"
             ],
             [
              0.3333333333333333,
              "#9c179e"
             ],
             [
              0.4444444444444444,
              "#bd3786"
             ],
             [
              0.5555555555555556,
              "#d8576b"
             ],
             [
              0.6666666666666666,
              "#ed7953"
             ],
             [
              0.7777777777777778,
              "#fb9f3a"
             ],
             [
              0.8888888888888888,
              "#fdca26"
             ],
             [
              1,
              "#f0f921"
             ]
            ],
            "type": "histogram2dcontour"
           }
          ],
          "mesh3d": [
           {
            "colorbar": {
             "outlinewidth": 0,
             "ticks": ""
            },
            "type": "mesh3d"
           }
          ],
          "parcoords": [
           {
            "line": {
             "colorbar": {
              "outlinewidth": 0,
              "ticks": ""
             }
            },
            "type": "parcoords"
           }
          ],
          "pie": [
           {
            "automargin": true,
            "type": "pie"
           }
          ],
          "scatter": [
           {
            "marker": {
             "colorbar": {
              "outlinewidth": 0,
              "ticks": ""
             }
            },
            "type": "scatter"
           }
          ],
          "scatter3d": [
           {
            "line": {
             "colorbar": {
              "outlinewidth": 0,
              "ticks": ""
             }
            },
            "marker": {
             "colorbar": {
              "outlinewidth": 0,
              "ticks": ""
             }
            },
            "type": "scatter3d"
           }
          ],
          "scattercarpet": [
           {
            "marker": {
             "colorbar": {
              "outlinewidth": 0,
              "ticks": ""
             }
            },
            "type": "scattercarpet"
           }
          ],
          "scattergeo": [
           {
            "marker": {
             "colorbar": {
              "outlinewidth": 0,
              "ticks": ""
             }
            },
            "type": "scattergeo"
           }
          ],
          "scattergl": [
           {
            "marker": {
             "colorbar": {
              "outlinewidth": 0,
              "ticks": ""
             }
            },
            "type": "scattergl"
           }
          ],
          "scattermapbox": [
           {
            "marker": {
             "colorbar": {
              "outlinewidth": 0,
              "ticks": ""
             }
            },
            "type": "scattermapbox"
           }
          ],
          "scatterpolar": [
           {
            "marker": {
             "colorbar": {
              "outlinewidth": 0,
              "ticks": ""
             }
            },
            "type": "scatterpolar"
           }
          ],
          "scatterpolargl": [
           {
            "marker": {
             "colorbar": {
              "outlinewidth": 0,
              "ticks": ""
             }
            },
            "type": "scatterpolargl"
           }
          ],
          "scatterternary": [
           {
            "marker": {
             "colorbar": {
              "outlinewidth": 0,
              "ticks": ""
             }
            },
            "type": "scatterternary"
           }
          ],
          "surface": [
           {
            "colorbar": {
             "outlinewidth": 0,
             "ticks": ""
            },
            "colorscale": [
             [
              0,
              "#0d0887"
             ],
             [
              0.1111111111111111,
              "#46039f"
             ],
             [
              0.2222222222222222,
              "#7201a8"
             ],
             [
              0.3333333333333333,
              "#9c179e"
             ],
             [
              0.4444444444444444,
              "#bd3786"
             ],
             [
              0.5555555555555556,
              "#d8576b"
             ],
             [
              0.6666666666666666,
              "#ed7953"
             ],
             [
              0.7777777777777778,
              "#fb9f3a"
             ],
             [
              0.8888888888888888,
              "#fdca26"
             ],
             [
              1,
              "#f0f921"
             ]
            ],
            "type": "surface"
           }
          ],
          "table": [
           {
            "cells": {
             "fill": {
              "color": "#EBF0F8"
             },
             "line": {
              "color": "white"
             }
            },
            "header": {
             "fill": {
              "color": "#C8D4E3"
             },
             "line": {
              "color": "white"
             }
            },
            "type": "table"
           }
          ]
         },
         "layout": {
          "annotationdefaults": {
           "arrowcolor": "#2a3f5f",
           "arrowhead": 0,
           "arrowwidth": 1
          },
          "autotypenumbers": "strict",
          "coloraxis": {
           "colorbar": {
            "outlinewidth": 0,
            "ticks": ""
           }
          },
          "colorscale": {
           "diverging": [
            [
             0,
             "#8e0152"
            ],
            [
             0.1,
             "#c51b7d"
            ],
            [
             0.2,
             "#de77ae"
            ],
            [
             0.3,
             "#f1b6da"
            ],
            [
             0.4,
             "#fde0ef"
            ],
            [
             0.5,
             "#f7f7f7"
            ],
            [
             0.6,
             "#e6f5d0"
            ],
            [
             0.7,
             "#b8e186"
            ],
            [
             0.8,
             "#7fbc41"
            ],
            [
             0.9,
             "#4d9221"
            ],
            [
             1,
             "#276419"
            ]
           ],
           "sequential": [
            [
             0,
             "#0d0887"
            ],
            [
             0.1111111111111111,
             "#46039f"
            ],
            [
             0.2222222222222222,
             "#7201a8"
            ],
            [
             0.3333333333333333,
             "#9c179e"
            ],
            [
             0.4444444444444444,
             "#bd3786"
            ],
            [
             0.5555555555555556,
             "#d8576b"
            ],
            [
             0.6666666666666666,
             "#ed7953"
            ],
            [
             0.7777777777777778,
             "#fb9f3a"
            ],
            [
             0.8888888888888888,
             "#fdca26"
            ],
            [
             1,
             "#f0f921"
            ]
           ],
           "sequentialminus": [
            [
             0,
             "#0d0887"
            ],
            [
             0.1111111111111111,
             "#46039f"
            ],
            [
             0.2222222222222222,
             "#7201a8"
            ],
            [
             0.3333333333333333,
             "#9c179e"
            ],
            [
             0.4444444444444444,
             "#bd3786"
            ],
            [
             0.5555555555555556,
             "#d8576b"
            ],
            [
             0.6666666666666666,
             "#ed7953"
            ],
            [
             0.7777777777777778,
             "#fb9f3a"
            ],
            [
             0.8888888888888888,
             "#fdca26"
            ],
            [
             1,
             "#f0f921"
            ]
           ]
          },
          "colorway": [
           "#636efa",
           "#EF553B",
           "#00cc96",
           "#ab63fa",
           "#FFA15A",
           "#19d3f3",
           "#FF6692",
           "#B6E880",
           "#FF97FF",
           "#FECB52"
          ],
          "font": {
           "color": "#2a3f5f"
          },
          "geo": {
           "bgcolor": "white",
           "lakecolor": "white",
           "landcolor": "#E5ECF6",
           "showlakes": true,
           "showland": true,
           "subunitcolor": "white"
          },
          "hoverlabel": {
           "align": "left"
          },
          "hovermode": "closest",
          "mapbox": {
           "style": "light"
          },
          "paper_bgcolor": "white",
          "plot_bgcolor": "#E5ECF6",
          "polar": {
           "angularaxis": {
            "gridcolor": "white",
            "linecolor": "white",
            "ticks": ""
           },
           "bgcolor": "#E5ECF6",
           "radialaxis": {
            "gridcolor": "white",
            "linecolor": "white",
            "ticks": ""
           }
          },
          "scene": {
           "xaxis": {
            "backgroundcolor": "#E5ECF6",
            "gridcolor": "white",
            "gridwidth": 2,
            "linecolor": "white",
            "showbackground": true,
            "ticks": "",
            "zerolinecolor": "white"
           },
           "yaxis": {
            "backgroundcolor": "#E5ECF6",
            "gridcolor": "white",
            "gridwidth": 2,
            "linecolor": "white",
            "showbackground": true,
            "ticks": "",
            "zerolinecolor": "white"
           },
           "zaxis": {
            "backgroundcolor": "#E5ECF6",
            "gridcolor": "white",
            "gridwidth": 2,
            "linecolor": "white",
            "showbackground": true,
            "ticks": "",
            "zerolinecolor": "white"
           }
          },
          "shapedefaults": {
           "line": {
            "color": "#2a3f5f"
           }
          },
          "ternary": {
           "aaxis": {
            "gridcolor": "white",
            "linecolor": "white",
            "ticks": ""
           },
           "baxis": {
            "gridcolor": "white",
            "linecolor": "white",
            "ticks": ""
           },
           "bgcolor": "#E5ECF6",
           "caxis": {
            "gridcolor": "white",
            "linecolor": "white",
            "ticks": ""
           }
          },
          "title": {
           "x": 0.05
          },
          "xaxis": {
           "automargin": true,
           "gridcolor": "white",
           "linecolor": "white",
           "ticks": "",
           "title": {
            "standoff": 15
           },
           "zerolinecolor": "white",
           "zerolinewidth": 2
          },
          "yaxis": {
           "automargin": true,
           "gridcolor": "white",
           "linecolor": "white",
           "ticks": "",
           "title": {
            "standoff": 15
           },
           "zerolinecolor": "white",
           "zerolinewidth": 2
          }
         }
        },
        "xaxis": {
         "anchor": "y",
         "domain": [
          0,
          1
         ],
         "title": {
          "text": "total_sqft"
         }
        },
        "yaxis": {
         "anchor": "x",
         "domain": [
          0,
          1
         ]
        }
       }
      },
      "text/html": [
       "<div>                            <div id=\"7538ca2a-88bd-49cf-8a17-be3cadeba4d8\" class=\"plotly-graph-div\" style=\"height:525px; width:100%;\"></div>            <script type=\"text/javascript\">                require([\"plotly\"], function(Plotly) {                    window.PLOTLYENV=window.PLOTLYENV || {};                                    if (document.getElementById(\"7538ca2a-88bd-49cf-8a17-be3cadeba4d8\")) {                    Plotly.newPlot(                        \"7538ca2a-88bd-49cf-8a17-be3cadeba4d8\",                        [{\"alignmentgroup\":\"True\",\"hovertemplate\":\"total_sqft=%{x}<extra></extra>\",\"legendgroup\":\"\",\"marker\":{\"color\":\"#636efa\"},\"name\":\"\",\"notched\":false,\"offsetgroup\":\"\",\"orientation\":\"h\",\"showlegend\":false,\"type\":\"box\",\"x\":[2566,2524,2706,2473,3343,2158,3380,3197,2726,2068,2080,3499,1824,2988,2506,1686,2008,1296,2228,2368,3534,1745,3572,2100,2120,3166,1800,3408,3084,1040,1966,2456,2468,3098,3122,3569,2194,2594,2114,1152,2412,2678,1724,1876,2300,3504,3583,3312,2188,1910,2264,1632,1632,3684,1744,2850,2709,2580,4355,1560,2316,1641,2740,2286,3091,3616,4154,2932,1494,3591,4446,1690,2550,2172,2445,1450,1904,1957,3536,1670,3038,2574,3126,2130,1858,3705,2244,1836,2026,1980,1040,2470,1840,3505,2610,2150,3176,1920,1293,2175,3220,2473,1535,2452,2858,3045,1688,1578,2310,3688,2849,1814,3960,4068,3348,2187,2184,2250,4895,2184,1926,1855,2160,2398,2948,1040,2036,1512,2008,2061,3081,3046,2390,2563,3182,2986,2428,3866,2856,2692,1728,3468,2295,2991,3456,2679,1590,2919,2160,2240,1938,3420,2818,2854,2400,1668,1040,2742,2938,3854,2464,4240,3082,1764,2765,1999,3484,3743,2560,3393,1574,2736,2831,2724,3257,3360,3211,2972,4450,1936,2281,2595,1340,3444,1756,4143,2405,2172,2310,3186,3580,2204,2862,2679,1728,2311,3452,4080,2613,3426,2242,2475,1927,1696,2004,2866,2836,2200,3219,2184,1728,2424,2752,1980,2081,2306,2872,2014,2752,2496,2996,3277,2265,1728,4784,1932,3723,1470,1824,2928,2388,4256,1470,1788,2820,1470,2828,2740,3388,2222,3132,1552,1980,1843,3058,3717,2948,2742,2508,3588,2034,3198,2438,2604,2628,3266,2592,3208,2755,882,2744,4056,1718,1852,1444,2844,2313,2492,1518,2256,3034,2748,3422,2872,1632,2500,3120,1728,4242,3182,2789,2524,2628,2936,3150,1875,2646,1716,1782,2094,2998,2496,2484,3058,3060,2006,2468,2925,2445,2244,2501,3480,3082,1788,4963,4000,2943,1725,1722,3840,2198,1944,1911,4172,2369,2148,3198,3047,3993,2844,3845,3604,4232,2325,3688,1523,3438,2766,2978,1788,3456,2112,4835,2716,2581,3285,3844,3072,2829,2430,2875,1562,1040,3368,1648,2549,1916,2956,2390,4576,3738,2906,1727,1344,2535,2400,2325,2284,2414,3010,1800,2388,1922,1470,2370,2016,2788,2530,2536,2350,2617,1588,1496,1927,2775,1587,1784,4046,3712,2782,2717,2594,2736,1568,3533,2525,1842,2166,2947,4014,2228,2765,882,1576,1769,2288,1788,2676,2038,2642,2548,2620,1344,3404,2378,2901,2230,2520,3235,3112,2552,2112,2948,2036,3177,2680,2072,3994,1890,2112,2688,3204,1976,4100,2392,2040,3162,1814,2416,2804,1470,2099,2130,2530,1260,2460,1766,1788,1134,1880,5496,2880,2651,2516,2823,3125,3405,2816,2156,1832,1626,3066,2628,2358,3456,2484,1968,3027,2254,1912,2767,1695,1728,2375,2080,2789,2554,2372,3260,2542,2990,2777,1619,3952,3146,1940,2971,4796,3423,2038,3683,3584,2736,2432,1998,2226,2146,2968,3368,1260,1568,2384,2184,2538,1076,1440,6428,2846,1763,1824,1890,2634,2428,3302,2177,2920,2688,2436,2067,2082,2371,2736,1728,2164,1557,4026,2808,3608,2590,3356,1294,2488,2668,7814,3777,2523,1856,4165,1133,4550,2970,1973,827,334,2121,2464,2604,1728,2210,3182,3676,3254,3330,1490,2150,3387,2700,1536,1650,3006,2138,1856,3426,1126,3044,2041,2184,1973,2175,2931,2784,2778,1992,2837,3390,2453,3626,3052,3628,1886,3456,1728,2538,1814,1481,2048,2338,2484,2081,2845,2573,4084,1632,4012,2457,3896,1654,1700,2910,1521,2352,4018,1632,1696,1848,3640,2052,2660,3077,2272,2962,2155,2823,1800,2988,2754,2080,2904,4159,2058,3593,2064,3171,2240,1260,1990,2292,1664,3650,3744,1728,4136,1960,2268,2522,2232,2400,2676,3120,2598,2386,3108,2797,2112,2112,4320,1064,2198,1592,3087,3036,2986,4656,2400,3532,1962,1048,2188,2595,1260,2478,2265,2596,2225,4222,1617,2106,2278,2370,2972,2728,4077,2784,2319,4174,3342,3401,3087,2625,1880,2214,2041,2416,3316,2272,2296,2869,1560,4092,1976,1846,2313,2582,3294,3034,3280,2635,1653,2838,2724,1696,6760,3729,2146,2466,2249,1232,2128,1788,2782,3600,2328,3810,2172,2957,1092,3467,2648,2184,1780,999,2037,2456,1920,2204,2414,3272,2354,3729,1942,3484,1696,1728,2411,3396,1728,2560,2464,3360,1628,3211,2014,3184,2008,1896,2648,1040,2694,2400,2592,1696,1824,2698,1984,2674,3857,3208,3880,3440,1529,1716,1980,2973,3128,2052,2200,2634,2058,2245,3849,1728,2446,2303,3617,2988,3004,2694,2733,3696,4929,1716,2056,2146,1824,3908,2408,3228,1758,2020,1979,2490,2364,2843,2207,2226,2714,2338,3040,1802,2919,2290,2091,3130,2992,2607,2214,1945,1546,5066,2499,2304,2392,2184,4556,2064,2845,1960,2900,2110,2987,2349,1696,1584,2884,1936,3310,2016,3257,2062,2716,2438,1872,2580,2267,2978,4162,1568,2888,3139,1743,2784,1720,2770,3032,2288,2134,3118,1470,2198,1968,2154,2189,2292,3600,2292,3091,2515,1728,3265,2383,1696,2729,2564,2572,3542,2080,1966,2183,2460,3708,2338,2078,2137,2296,2744,2004,3284,2160,2267,2999,1788,2486,1015,1868,1807,3794,2104,3686,2264,1728,2180,2873,2401,2544,1784,3407,3338,2209,4434,3010,1596,2601,2127,2766,1535,2576,1902,2240,4694,2148,1716,2298,2292,3340,1778,2119,3259,3074,1766,2226,3379,2536,1783,3003,1836,1638,960,2363,3231,2598,2649,3472,2632,3221,3372,2252,3555,2810,3541,3200,2932,1850,3810,3000,2654,1347,2376,3084,3353,3435,3456,3052,2880,3264,2163,2837,2288,3245,2712,2542,1728,1793,1536,2752,1925,2937,1790,2114,2674,2112,1716,4202,2352,3600,2711,2267,2036,2196,1568,1683,1912,2390,1836,2856,2747,2055,1309,2482,1788,2242,1943,3837,2532,3418,1734,2328,2120,3870,2878,2346,3788,2658,2673,2250,3418,1977,2100,2884,2084,2395,944,1382,3148,3360,2850,1970,3314,1638,3420,2016,1991,1664,2104,2044,2164,2475,3008,2580,1856,2868,2264,2419,2160,2850,4463,1764,2532,3284,2144,1890,2614,3509,3858,3308,1874,845,3240,3318,1890,1260,2937,2432,2612,3804,5048,1733,4860,1980,1771,930,2604,2632,2793,2742,3054,2716,2728,2823,3288,2845,2676,1788,2999,2206,2308,3566,2370,2391,3463,1738,2096,2283,2266,2116,2480,2540,2262,2192,1696,1980,2516,2080,2918,2502,2189,1932,1638,3035,2679,2494,1040,1852,2875,2064,1872,2628,2039,2162,1996,2872,728,1900,2144,1849,1932,4085,2352,2889,2614,3672,2431,2767,1632,2016,1666,3468,1827,1788,2134,2080,2024,3104,1632,1396,1866,2010,2928,3060,2806,1872,3103,1948,3218,3148,2516,1946,2284,1800,3134,2082,1904,2648,4294,2012,1596,2618,2596,2268,1683,2132,1864,2932,2884,1632,2684,2874,2484,2628,3160,2777,2311,2936,1788,2456,2792,3004,3388,2630,3235,5557,2214,2522,1875,4205,3297,4555,1799,2042,2074,1124,3730,3252,6872,2250,3144,2005,2677,3248,2491,2798,2871,2217,2174,2448,2015,2184,2742,2505,2424,2433,1728,2645,2232,3260,2130,4354,2112,3382,2214,3320,2900,2311,1344,1608,1924,1788,1902,2614,912,1890,1824,2163,2886,4272,2278,1726,2827,1824,3404,2582,3981,2296,1224,2376,2904,2531,2390,2795,2282,2960,2652,3378,2226,4152,2309,2453,2309,2046,2793,1864,4220,2810,1738,3359,2402,2251,3973,1728,2022,2108,2516,2100,2892,2588,2742,2143,2814,4020,4175,2398,2856,2978,1870,2376,1911,2848,2118,3404,3159,1826,3146,2648,2080,2736,3251,2192,2656,3206,3160,3055,2304,1932,3366,2496,1728,2104,2248,1619,11752,2492,2961,2265,3691,3232,2684,3304,2736,1980,2046,2572,3804,2548,4263,3992,1896,3064,3252,2704,3540,1812,2956,720,2673,1128,3590,1592,1318,1632,4302,2567,3176,1865,1632,2163,2130,2684,3312,1386,2777,1728,1730,2228,3453,2809,2184,1920,3724,3508,2976,2837,3882,2574,1874,5271,2857,2490,1756,2156,2329,3960,3213,3060,2453,2028,1720,2488,2663,2232,1696,3325,2214,2653,3205,5266,2984,3142,1558,2588,1470,1778,1728,3322,2358,2232,1818,1950,4176,3240,3492,1953,3050,3168,1764,2394,2856,3576,2434,2452,3112,2584,2020,2432,2580,2949,1886,3240,1536,1666,1985,2884,2784,2524,1040,3688,2681,2955,3067,3734,2288,3688,2124,2138,1696,2898,2368,2504,3350,2471,1592,2880,2570,1916,1624,2728,2252,2856,1728,3864,2148,2264,2759,1696,3024,1904,2844,1727,2376,3310,1906,1260,2688,3151,1619,2280,2442,2600,3615,3492,2156,2512],\"x0\":\" \",\"xaxis\":\"x\",\"y0\":\" \",\"yaxis\":\"y\"}],                        {\"boxmode\":\"group\",\"legend\":{\"tracegroupgap\":0},\"margin\":{\"t\":60},\"template\":{\"data\":{\"bar\":[{\"error_x\":{\"color\":\"#2a3f5f\"},\"error_y\":{\"color\":\"#2a3f5f\"},\"marker\":{\"line\":{\"color\":\"#E5ECF6\",\"width\":0.5},\"pattern\":{\"fillmode\":\"overlay\",\"size\":10,\"solidity\":0.2}},\"type\":\"bar\"}],\"barpolar\":[{\"marker\":{\"line\":{\"color\":\"#E5ECF6\",\"width\":0.5},\"pattern\":{\"fillmode\":\"overlay\",\"size\":10,\"solidity\":0.2}},\"type\":\"barpolar\"}],\"carpet\":[{\"aaxis\":{\"endlinecolor\":\"#2a3f5f\",\"gridcolor\":\"white\",\"linecolor\":\"white\",\"minorgridcolor\":\"white\",\"startlinecolor\":\"#2a3f5f\"},\"baxis\":{\"endlinecolor\":\"#2a3f5f\",\"gridcolor\":\"white\",\"linecolor\":\"white\",\"minorgridcolor\":\"white\",\"startlinecolor\":\"#2a3f5f\"},\"type\":\"carpet\"}],\"choropleth\":[{\"colorbar\":{\"outlinewidth\":0,\"ticks\":\"\"},\"type\":\"choropleth\"}],\"contour\":[{\"colorbar\":{\"outlinewidth\":0,\"ticks\":\"\"},\"colorscale\":[[0.0,\"#0d0887\"],[0.1111111111111111,\"#46039f\"],[0.2222222222222222,\"#7201a8\"],[0.3333333333333333,\"#9c179e\"],[0.4444444444444444,\"#bd3786\"],[0.5555555555555556,\"#d8576b\"],[0.6666666666666666,\"#ed7953\"],[0.7777777777777778,\"#fb9f3a\"],[0.8888888888888888,\"#fdca26\"],[1.0,\"#f0f921\"]],\"type\":\"contour\"}],\"contourcarpet\":[{\"colorbar\":{\"outlinewidth\":0,\"ticks\":\"\"},\"type\":\"contourcarpet\"}],\"heatmap\":[{\"colorbar\":{\"outlinewidth\":0,\"ticks\":\"\"},\"colorscale\":[[0.0,\"#0d0887\"],[0.1111111111111111,\"#46039f\"],[0.2222222222222222,\"#7201a8\"],[0.3333333333333333,\"#9c179e\"],[0.4444444444444444,\"#bd3786\"],[0.5555555555555556,\"#d8576b\"],[0.6666666666666666,\"#ed7953\"],[0.7777777777777778,\"#fb9f3a\"],[0.8888888888888888,\"#fdca26\"],[1.0,\"#f0f921\"]],\"type\":\"heatmap\"}],\"heatmapgl\":[{\"colorbar\":{\"outlinewidth\":0,\"ticks\":\"\"},\"colorscale\":[[0.0,\"#0d0887\"],[0.1111111111111111,\"#46039f\"],[0.2222222222222222,\"#7201a8\"],[0.3333333333333333,\"#9c179e\"],[0.4444444444444444,\"#bd3786\"],[0.5555555555555556,\"#d8576b\"],[0.6666666666666666,\"#ed7953\"],[0.7777777777777778,\"#fb9f3a\"],[0.8888888888888888,\"#fdca26\"],[1.0,\"#f0f921\"]],\"type\":\"heatmapgl\"}],\"histogram\":[{\"marker\":{\"pattern\":{\"fillmode\":\"overlay\",\"size\":10,\"solidity\":0.2}},\"type\":\"histogram\"}],\"histogram2d\":[{\"colorbar\":{\"outlinewidth\":0,\"ticks\":\"\"},\"colorscale\":[[0.0,\"#0d0887\"],[0.1111111111111111,\"#46039f\"],[0.2222222222222222,\"#7201a8\"],[0.3333333333333333,\"#9c179e\"],[0.4444444444444444,\"#bd3786\"],[0.5555555555555556,\"#d8576b\"],[0.6666666666666666,\"#ed7953\"],[0.7777777777777778,\"#fb9f3a\"],[0.8888888888888888,\"#fdca26\"],[1.0,\"#f0f921\"]],\"type\":\"histogram2d\"}],\"histogram2dcontour\":[{\"colorbar\":{\"outlinewidth\":0,\"ticks\":\"\"},\"colorscale\":[[0.0,\"#0d0887\"],[0.1111111111111111,\"#46039f\"],[0.2222222222222222,\"#7201a8\"],[0.3333333333333333,\"#9c179e\"],[0.4444444444444444,\"#bd3786\"],[0.5555555555555556,\"#d8576b\"],[0.6666666666666666,\"#ed7953\"],[0.7777777777777778,\"#fb9f3a\"],[0.8888888888888888,\"#fdca26\"],[1.0,\"#f0f921\"]],\"type\":\"histogram2dcontour\"}],\"mesh3d\":[{\"colorbar\":{\"outlinewidth\":0,\"ticks\":\"\"},\"type\":\"mesh3d\"}],\"parcoords\":[{\"line\":{\"colorbar\":{\"outlinewidth\":0,\"ticks\":\"\"}},\"type\":\"parcoords\"}],\"pie\":[{\"automargin\":true,\"type\":\"pie\"}],\"scatter\":[{\"marker\":{\"colorbar\":{\"outlinewidth\":0,\"ticks\":\"\"}},\"type\":\"scatter\"}],\"scatter3d\":[{\"line\":{\"colorbar\":{\"outlinewidth\":0,\"ticks\":\"\"}},\"marker\":{\"colorbar\":{\"outlinewidth\":0,\"ticks\":\"\"}},\"type\":\"scatter3d\"}],\"scattercarpet\":[{\"marker\":{\"colorbar\":{\"outlinewidth\":0,\"ticks\":\"\"}},\"type\":\"scattercarpet\"}],\"scattergeo\":[{\"marker\":{\"colorbar\":{\"outlinewidth\":0,\"ticks\":\"\"}},\"type\":\"scattergeo\"}],\"scattergl\":[{\"marker\":{\"colorbar\":{\"outlinewidth\":0,\"ticks\":\"\"}},\"type\":\"scattergl\"}],\"scattermapbox\":[{\"marker\":{\"colorbar\":{\"outlinewidth\":0,\"ticks\":\"\"}},\"type\":\"scattermapbox\"}],\"scatterpolar\":[{\"marker\":{\"colorbar\":{\"outlinewidth\":0,\"ticks\":\"\"}},\"type\":\"scatterpolar\"}],\"scatterpolargl\":[{\"marker\":{\"colorbar\":{\"outlinewidth\":0,\"ticks\":\"\"}},\"type\":\"scatterpolargl\"}],\"scatterternary\":[{\"marker\":{\"colorbar\":{\"outlinewidth\":0,\"ticks\":\"\"}},\"type\":\"scatterternary\"}],\"surface\":[{\"colorbar\":{\"outlinewidth\":0,\"ticks\":\"\"},\"colorscale\":[[0.0,\"#0d0887\"],[0.1111111111111111,\"#46039f\"],[0.2222222222222222,\"#7201a8\"],[0.3333333333333333,\"#9c179e\"],[0.4444444444444444,\"#bd3786\"],[0.5555555555555556,\"#d8576b\"],[0.6666666666666666,\"#ed7953\"],[0.7777777777777778,\"#fb9f3a\"],[0.8888888888888888,\"#fdca26\"],[1.0,\"#f0f921\"]],\"type\":\"surface\"}],\"table\":[{\"cells\":{\"fill\":{\"color\":\"#EBF0F8\"},\"line\":{\"color\":\"white\"}},\"header\":{\"fill\":{\"color\":\"#C8D4E3\"},\"line\":{\"color\":\"white\"}},\"type\":\"table\"}]},\"layout\":{\"annotationdefaults\":{\"arrowcolor\":\"#2a3f5f\",\"arrowhead\":0,\"arrowwidth\":1},\"autotypenumbers\":\"strict\",\"coloraxis\":{\"colorbar\":{\"outlinewidth\":0,\"ticks\":\"\"}},\"colorscale\":{\"diverging\":[[0,\"#8e0152\"],[0.1,\"#c51b7d\"],[0.2,\"#de77ae\"],[0.3,\"#f1b6da\"],[0.4,\"#fde0ef\"],[0.5,\"#f7f7f7\"],[0.6,\"#e6f5d0\"],[0.7,\"#b8e186\"],[0.8,\"#7fbc41\"],[0.9,\"#4d9221\"],[1,\"#276419\"]],\"sequential\":[[0.0,\"#0d0887\"],[0.1111111111111111,\"#46039f\"],[0.2222222222222222,\"#7201a8\"],[0.3333333333333333,\"#9c179e\"],[0.4444444444444444,\"#bd3786\"],[0.5555555555555556,\"#d8576b\"],[0.6666666666666666,\"#ed7953\"],[0.7777777777777778,\"#fb9f3a\"],[0.8888888888888888,\"#fdca26\"],[1.0,\"#f0f921\"]],\"sequentialminus\":[[0.0,\"#0d0887\"],[0.1111111111111111,\"#46039f\"],[0.2222222222222222,\"#7201a8\"],[0.3333333333333333,\"#9c179e\"],[0.4444444444444444,\"#bd3786\"],[0.5555555555555556,\"#d8576b\"],[0.6666666666666666,\"#ed7953\"],[0.7777777777777778,\"#fb9f3a\"],[0.8888888888888888,\"#fdca26\"],[1.0,\"#f0f921\"]]},\"colorway\":[\"#636efa\",\"#EF553B\",\"#00cc96\",\"#ab63fa\",\"#FFA15A\",\"#19d3f3\",\"#FF6692\",\"#B6E880\",\"#FF97FF\",\"#FECB52\"],\"font\":{\"color\":\"#2a3f5f\"},\"geo\":{\"bgcolor\":\"white\",\"lakecolor\":\"white\",\"landcolor\":\"#E5ECF6\",\"showlakes\":true,\"showland\":true,\"subunitcolor\":\"white\"},\"hoverlabel\":{\"align\":\"left\"},\"hovermode\":\"closest\",\"mapbox\":{\"style\":\"light\"},\"paper_bgcolor\":\"white\",\"plot_bgcolor\":\"#E5ECF6\",\"polar\":{\"angularaxis\":{\"gridcolor\":\"white\",\"linecolor\":\"white\",\"ticks\":\"\"},\"bgcolor\":\"#E5ECF6\",\"radialaxis\":{\"gridcolor\":\"white\",\"linecolor\":\"white\",\"ticks\":\"\"}},\"scene\":{\"xaxis\":{\"backgroundcolor\":\"#E5ECF6\",\"gridcolor\":\"white\",\"gridwidth\":2,\"linecolor\":\"white\",\"showbackground\":true,\"ticks\":\"\",\"zerolinecolor\":\"white\"},\"yaxis\":{\"backgroundcolor\":\"#E5ECF6\",\"gridcolor\":\"white\",\"gridwidth\":2,\"linecolor\":\"white\",\"showbackground\":true,\"ticks\":\"\",\"zerolinecolor\":\"white\"},\"zaxis\":{\"backgroundcolor\":\"#E5ECF6\",\"gridcolor\":\"white\",\"gridwidth\":2,\"linecolor\":\"white\",\"showbackground\":true,\"ticks\":\"\",\"zerolinecolor\":\"white\"}},\"shapedefaults\":{\"line\":{\"color\":\"#2a3f5f\"}},\"ternary\":{\"aaxis\":{\"gridcolor\":\"white\",\"linecolor\":\"white\",\"ticks\":\"\"},\"baxis\":{\"gridcolor\":\"white\",\"linecolor\":\"white\",\"ticks\":\"\"},\"bgcolor\":\"#E5ECF6\",\"caxis\":{\"gridcolor\":\"white\",\"linecolor\":\"white\",\"ticks\":\"\"}},\"title\":{\"x\":0.05},\"xaxis\":{\"automargin\":true,\"gridcolor\":\"white\",\"linecolor\":\"white\",\"ticks\":\"\",\"title\":{\"standoff\":15},\"zerolinecolor\":\"white\",\"zerolinewidth\":2},\"yaxis\":{\"automargin\":true,\"gridcolor\":\"white\",\"linecolor\":\"white\",\"ticks\":\"\",\"title\":{\"standoff\":15},\"zerolinecolor\":\"white\",\"zerolinewidth\":2}}},\"xaxis\":{\"anchor\":\"y\",\"domain\":[0.0,1.0],\"title\":{\"text\":\"total_sqft\"}},\"yaxis\":{\"anchor\":\"x\",\"domain\":[0.0,1.0]}},                        {\"responsive\": true}                    ).then(function(){\n",
       "                            \n",
       "var gd = document.getElementById('7538ca2a-88bd-49cf-8a17-be3cadeba4d8');\n",
       "var x = new MutationObserver(function (mutations, observer) {{\n",
       "        var display = window.getComputedStyle(gd).display;\n",
       "        if (!display || display === 'none') {{\n",
       "            console.log([gd, 'removed!']);\n",
       "            Plotly.purge(gd);\n",
       "            observer.disconnect();\n",
       "        }}\n",
       "}});\n",
       "\n",
       "// Listen for the removal of the full notebook cells\n",
       "var notebookContainer = gd.closest('#notebook-container');\n",
       "if (notebookContainer) {{\n",
       "    x.observe(notebookContainer, {childList: true});\n",
       "}}\n",
       "\n",
       "// Listen for the clearing of the current output cell\n",
       "var outputEl = gd.closest('.output');\n",
       "if (outputEl) {{\n",
       "    x.observe(outputEl, {childList: true});\n",
       "}}\n",
       "\n",
       "                        })                };                });            </script>        </div>"
      ]
     },
     "metadata": {},
     "output_type": "display_data"
    }
   ],
   "source": [
    "# square footage\n",
    "df['total_finished_basement_sqft'] = df['BsmtFinSF1'] + df[\"BsmtFinSF2\"]\n",
    "df['total_living_sqft'] = df['total_finished_basement_sqft'] + df['GrLivArea']\n",
    "df['total_sqft'] = df['TotalBsmtSF'] + df['1stFlrSF'] + df['2ndFlrSF']\n",
    "\n",
    "sqft_ref_features = ['BsmtFinSF1', \"BsmtFinSF2\", 'GrLivArea', 'TotalBsmtSF', '1stFlrSF', '2ndFlrSF']\n",
    "sqft_features = ['total_finished_basement_sqft', 'total_living_sqft', 'total_sqft']\n",
    "\n",
    "transfer_info[\"sqftGroup\"] = {\n",
    "    \"newSQFT\": sqft_features,\n",
    "    \"referenceSQFT\": bath_ref_features,\n",
    "}\n",
    "\n",
    "viz_data(sqft_features)"
   ]
  },
  {
   "cell_type": "code",
   "execution_count": 145,
   "id": "ae839753",
   "metadata": {},
   "outputs": [
    {
     "data": {
      "application/vnd.plotly.v1+json": {
       "config": {
        "plotlyServerURL": "https://plot.ly"
       },
       "data": [
        {
         "alignmentgroup": "True",
         "hovertemplate": "outdoor_living_sqft=%{x}<extra></extra>",
         "legendgroup": "",
         "marker": {
          "color": "#636efa"
         },
         "name": "",
         "notched": false,
         "offsetgroup": "",
         "orientation": "h",
         "showlegend": false,
         "type": "box",
         "x": [
          61,
          298,
          42,
          307,
          276,
          390,
          312,
          667,
          295,
          4,
          0,
          168,
          316,
          193,
          389,
          160,
          0,
          0,
          102,
          0,
          394,
          205,
          330,
          210,
          496,
          56,
          254,
          50,
          546,
          136,
          226,
          65,
          30,
          38,
          250,
          145,
          456,
          0,
          52,
          0,
          138,
          104,
          240,
          145,
          0,
          278,
          409,
          146,
          102,
          0,
          75,
          112,
          106,
          929,
          50,
          407,
          115,
          70,
          229,
          196,
          50,
          144,
          169,
          87,
          612,
          343,
          301,
          173,
          0,
          135,
          300,
          0,
          385,
          0,
          202,
          221,
          0,
          0,
          0,
          202,
          324,
          199,
          243,
          74,
          192,
          209,
          138,
          234,
          156,
          0,
          29,
          0,
          44,
          99,
          162,
          295,
          187,
          120,
          77,
          352,
          236,
          238,
          0,
          36,
          184,
          185,
          0,
          0,
          144,
          122,
          182,
          180,
          472,
          478,
          224,
          32,
          164,
          144,
          367,
          24,
          260,
          140,
          130,
          63,
          192,
          53,
          205,
          0,
          296,
          260,
          171,
          72,
          0,
          217,
          276,
          98,
          111,
          0,
          330,
          375,
          0,
          184,
          0,
          173,
          0,
          40,
          48,
          192,
          0,
          314,
          0,
          102,
          66,
          409,
          228,
          136,
          0,
          75,
          136,
          539,
          0,
          400,
          70,
          0,
          183,
          140,
          618,
          298,
          148,
          638,
          237,
          272,
          476,
          20,
          192,
          68,
          420,
          0,
          60,
          184,
          0,
          40,
          296,
          518,
          104,
          670,
          195,
          140,
          120,
          344,
          74,
          32,
          35,
          40,
          0,
          87,
          575,
          568,
          228,
          196,
          196,
          321,
          126,
          149,
          35,
          542,
          30,
          355,
          269,
          0,
          96,
          122,
          276,
          224,
          36,
          0,
          237,
          232,
          269,
          108,
          384,
          166,
          417,
          216,
          353,
          0,
          338,
          0,
          0,
          163,
          120,
          348,
          0,
          365,
          336,
          0,
          237,
          678,
          396,
          140,
          312,
          100,
          77,
          28,
          130,
          236,
          172,
          30,
          212,
          98,
          263,
          276,
          183,
          333,
          250,
          192,
          272,
          233,
          341,
          45,
          252,
          148,
          304,
          0,
          0,
          276,
          170,
          286,
          25,
          400,
          243,
          81,
          189,
          289,
          168,
          218,
          250,
          0,
          364,
          405,
          280,
          120,
          234,
          360,
          52,
          54,
          128,
          0,
          0,
          259,
          51,
          184,
          160,
          250,
          110,
          120,
          289,
          208,
          224,
          36,
          0,
          258,
          549,
          256,
          302,
          168,
          395,
          144,
          158,
          383,
          253,
          0,
          271,
          0,
          234,
          151,
          483,
          254,
          544,
          281,
          394,
          338,
          297,
          240,
          240,
          244,
          152,
          45,
          328,
          137,
          155,
          0,
          0,
          222,
          138,
          670,
          229,
          266,
          153,
          234,
          135,
          274,
          0,
          567,
          182,
          0,
          0,
          40,
          27,
          0,
          264,
          264,
          48,
          106,
          108,
          26,
          146,
          626,
          462,
          657,
          192,
          0,
          177,
          250,
          417,
          346,
          261,
          174,
          98,
          563,
          140,
          59,
          443,
          66,
          148,
          0,
          0,
          373,
          113,
          163,
          242,
          337,
          197,
          91,
          447,
          310,
          151,
          296,
          145,
          330,
          242,
          317,
          0,
          0,
          39,
          44,
          215,
          168,
          0,
          168,
          374,
          0,
          168,
          267,
          40,
          198,
          0,
          160,
          254,
          102,
          0,
          264,
          144,
          130,
          383,
          130,
          0,
          0,
          0,
          269,
          0,
          240,
          0,
          66,
          44,
          126,
          476,
          0,
          159,
          169,
          0,
          98,
          276,
          36,
          88,
          219,
          0,
          105,
          34,
          46,
          242,
          0,
          0,
          160,
          277,
          0,
          0,
          89,
          0,
          176,
          113,
          254,
          266,
          30,
          0,
          0,
          96,
          361,
          255,
          248,
          150,
          256,
          236,
          0,
          0,
          164,
          176,
          168,
          44,
          214,
          194,
          276,
          28,
          313,
          144,
          216,
          179,
          498,
          252,
          72,
          631,
          255,
          0,
          125,
          132,
          200,
          0,
          404,
          142,
          0,
          165,
          32,
          0,
          0,
          244,
          638,
          630,
          100,
          64,
          297,
          172,
          108,
          184,
          215,
          260,
          0,
          263,
          102,
          116,
          312,
          534,
          167,
          0,
          278,
          112,
          210,
          104,
          220,
          36,
          145,
          544,
          40,
          60,
          614,
          299,
          182,
          417,
          192,
          144,
          200,
          224,
          84,
          0,
          0,
          135,
          233,
          275,
          216,
          466,
          180,
          338,
          56,
          151,
          160,
          124,
          0,
          182,
          104,
          190,
          364,
          255,
          0,
          208,
          96,
          382,
          116,
          390,
          167,
          286,
          163,
          95,
          278,
          144,
          252,
          40,
          202,
          183,
          0,
          389,
          42,
          0,
          168,
          322,
          100,
          35,
          260,
          50,
          468,
          102,
          0,
          326,
          90,
          32,
          607,
          174,
          392,
          112,
          0,
          108,
          0,
          45,
          656,
          0,
          140,
          0,
          375,
          158,
          136,
          0,
          161,
          239,
          288,
          270,
          172,
          228,
          231,
          168,
          103,
          0,
          103,
          395,
          0,
          282,
          30,
          120,
          120,
          175,
          0,
          368,
          168,
          100,
          281,
          192,
          32,
          295,
          385,
          36,
          189,
          335,
          176,
          293,
          229,
          192,
          390,
          320,
          110,
          0,
          0,
          492,
          312,
          325,
          235,
          380,
          208,
          325,
          352,
          27,
          287,
          340,
          0,
          0,
          120,
          120,
          296,
          282,
          0,
          0,
          112,
          192,
          0,
          365,
          593,
          240,
          180,
          459,
          312,
          265,
          266,
          304,
          67,
          135,
          147,
          240,
          287,
          426,
          28,
          90,
          436,
          404,
          0,
          80,
          56,
          307,
          302,
          81,
          219,
          249,
          60,
          140,
          220,
          149,
          432,
          347,
          112,
          112,
          125,
          129,
          0,
          560,
          314,
          348,
          0,
          424,
          384,
          179,
          0,
          428,
          230,
          124,
          0,
          0,
          166,
          288,
          288,
          44,
          0,
          191,
          224,
          620,
          0,
          376,
          160,
          0,
          156,
          391,
          96,
          518,
          132,
          25,
          135,
          389,
          182,
          276,
          165,
          147,
          341,
          0,
          116,
          120,
          243,
          382,
          168,
          175,
          402,
          334,
          204,
          278,
          567,
          450,
          277,
          160,
          48,
          195,
          244,
          219,
          24,
          249,
          335,
          0,
          320,
          0,
          0,
          214,
          308,
          246,
          174,
          450,
          401,
          153,
          749,
          120,
          0,
          144,
          0,
          360,
          247,
          203,
          241,
          0,
          0,
          241,
          124,
          33,
          333,
          425,
          197,
          196,
          45,
          0,
          301,
          116,
          120,
          310,
          298,
          189,
          254,
          138,
          0,
          222,
          264,
          702,
          0,
          54,
          414,
          0,
          60,
          68,
          312,
          0,
          196,
          265,
          140,
          0,
          275,
          303,
          34,
          120,
          209,
          0,
          227,
          45,
          144,
          148,
          335,
          140,
          233,
          116,
          329,
          711,
          166,
          192,
          166,
          231,
          152,
          0,
          290,
          346,
          0,
          278,
          0,
          254,
          216,
          129,
          0,
          612,
          0,
          498,
          0,
          701,
          213,
          140,
          163,
          126,
          180,
          730,
          104,
          34,
          36,
          0,
          287,
          240,
          0,
          0,
          0,
          140,
          0,
          272,
          168,
          264,
          246,
          0,
          77,
          346,
          28,
          26,
          572,
          0,
          184,
          192,
          0,
          49,
          204,
          382,
          188,
          0,
          162,
          326,
          386,
          512,
          162,
          0,
          243,
          192,
          627,
          0,
          50,
          28,
          154,
          67,
          0,
          0,
          0,
          75,
          204,
          0,
          164,
          60,
          322,
          164,
          60,
          0,
          173,
          232,
          0,
          234,
          0,
          0,
          0,
          488,
          241,
          387,
          70,
          123,
          69,
          515,
          180,
          204,
          43,
          353,
          0,
          118,
          0,
          191,
          228,
          0,
          32,
          41,
          48,
          90,
          374,
          40,
          168,
          321,
          0,
          351,
          292,
          86,
          252,
          240,
          0,
          194,
          421,
          192,
          494,
          0,
          0,
          150,
          0,
          39,
          44,
          117,
          832,
          48,
          424,
          40,
          72,
          70,
          0,
          0,
          0,
          0,
          27,
          28,
          120,
          644,
          203,
          0,
          116,
          0,
          80,
          220,
          250,
          116,
          0,
          0,
          48,
          394,
          263,
          224,
          50,
          70,
          169,
          281,
          35,
          264,
          120,
          319,
          371,
          148,
          166,
          0,
          114,
          248,
          0,
          156,
          210,
          147,
          238,
          328,
          138,
          108,
          0,
          261,
          256,
          130,
          45,
          181,
          63,
          164,
          162,
          316,
          159,
          192,
          176,
          246,
          96,
          143,
          236,
          0,
          28,
          228,
          199,
          264,
          136,
          0,
          186,
          228,
          234,
          0,
          0,
          0,
          40,
          233,
          313,
          594,
          0,
          322,
          0,
          0,
          0,
          22,
          20,
          52,
          194,
          259,
          189,
          228,
          266,
          102,
          19,
          170,
          20,
          57,
          286,
          58,
          340,
          40,
          645,
          748,
          0,
          212,
          0,
          0,
          252,
          233,
          0,
          457,
          272,
          140,
          64,
          271,
          220,
          231,
          116,
          359,
          120,
          216,
          210,
          40,
          84,
          0,
          48,
          470,
          64,
          240,
          22,
          251,
          211,
          0,
          0,
          0,
          0,
          16,
          192,
          0,
          218,
          244,
          100,
          148,
          310,
          308,
          69,
          0,
          18,
          0,
          0,
          120,
          0,
          314,
          392,
          134,
          164,
          224,
          200,
          125,
          0,
          163,
          180,
          148,
          49,
          475,
          28,
          48,
          155,
          138,
          128,
          96,
          176,
          296,
          342,
          0,
          544,
          269,
          24,
          0,
          0,
          191,
          0,
          176,
          0,
          214,
          240,
          280,
          96,
          417,
          201,
          188,
          234,
          24,
          69,
          26,
          324,
          0,
          120,
          348,
          114,
          193,
          38,
          90,
          437,
          203,
          288,
          54,
          122,
          0,
          33,
          362,
          116,
          294,
          226,
          0,
          368,
          249,
          229,
          526,
          236,
          74,
          306,
          212,
          200,
          439,
          206,
          84,
          304,
          415,
          124,
          117,
          330,
          356,
          82,
          0,
          234,
          208,
          308,
          88,
          154,
          42,
          215,
          0,
          372,
          739,
          337,
          113,
          88,
          222,
          0,
          0,
          247,
          0,
          201,
          0,
          63,
          0,
          30,
          175,
          224,
          118,
          240,
          296,
          0,
          324,
          18,
          0,
          0,
          192,
          243,
          27,
          148,
          0,
          153,
          63,
          56,
          120,
          445,
          0,
          527,
          45,
          0,
          259,
          80,
          0,
          184,
          33,
          267,
          306,
          120,
          298,
          96,
          212,
          260,
          103,
          0,
          120,
          126,
          212,
          34,
          264,
          220,
          326,
          0,
          268,
          0,
          180,
          163,
          323,
          0,
          410,
          0,
          211,
          194,
          72,
          148,
          288,
          128,
          430,
          45,
          26,
          366,
          271,
          251,
          227,
          185,
          287,
          287,
          0,
          356,
          335,
          44,
          506,
          218,
          0,
          224,
          387,
          267,
          40,
          506,
          167,
          64,
          36,
          163,
          369,
          362,
          500,
          698,
          36,
          280,
          214,
          241,
          348,
          0,
          330,
          0,
          279,
          164,
          49,
          100,
          286,
          0,
          1027,
          28,
          189,
          0,
          0,
          255,
          36,
          16,
          211,
          20,
          237,
          0,
          0,
          78,
          279,
          0,
          0,
          168,
          370,
          0,
          427,
          74,
          0,
          204,
          210,
          369,
          184,
          98,
          0,
          0,
          32,
          239,
          484,
          204,
          55,
          36,
          166,
          96,
          88,
          130,
          140,
          262,
          198,
          206,
          423,
          454,
          364,
          136,
          141,
          68,
          72,
          100,
          96,
          42,
          257,
          112,
          0,
          96,
          552,
          103,
          240,
          0,
          255,
          152,
          319,
          237,
          181,
          183,
          50,
          174,
          168,
          163,
          112,
          175,
          223,
          328,
          376,
          336,
          58,
          0,
          168,
          427,
          45,
          0,
          0,
          209,
          220,
          163,
          114,
          126,
          88,
          289,
          288,
          220,
          140,
          822,
          344,
          39,
          303,
          0,
          154,
          99,
          140,
          60,
          0,
          0,
          336,
          36,
          0,
          370,
          316,
          304,
          431,
          149,
          220,
          138,
          252,
          252,
          300,
          65,
          192,
          0,
          77,
          36,
          28,
          92,
          113,
          40,
          349,
          60,
          478,
          804
         ],
         "x0": " ",
         "xaxis": "x",
         "y0": " ",
         "yaxis": "y"
        }
       ],
       "layout": {
        "boxmode": "group",
        "legend": {
         "tracegroupgap": 0
        },
        "margin": {
         "t": 60
        },
        "template": {
         "data": {
          "bar": [
           {
            "error_x": {
             "color": "#2a3f5f"
            },
            "error_y": {
             "color": "#2a3f5f"
            },
            "marker": {
             "line": {
              "color": "#E5ECF6",
              "width": 0.5
             },
             "pattern": {
              "fillmode": "overlay",
              "size": 10,
              "solidity": 0.2
             }
            },
            "type": "bar"
           }
          ],
          "barpolar": [
           {
            "marker": {
             "line": {
              "color": "#E5ECF6",
              "width": 0.5
             },
             "pattern": {
              "fillmode": "overlay",
              "size": 10,
              "solidity": 0.2
             }
            },
            "type": "barpolar"
           }
          ],
          "carpet": [
           {
            "aaxis": {
             "endlinecolor": "#2a3f5f",
             "gridcolor": "white",
             "linecolor": "white",
             "minorgridcolor": "white",
             "startlinecolor": "#2a3f5f"
            },
            "baxis": {
             "endlinecolor": "#2a3f5f",
             "gridcolor": "white",
             "linecolor": "white",
             "minorgridcolor": "white",
             "startlinecolor": "#2a3f5f"
            },
            "type": "carpet"
           }
          ],
          "choropleth": [
           {
            "colorbar": {
             "outlinewidth": 0,
             "ticks": ""
            },
            "type": "choropleth"
           }
          ],
          "contour": [
           {
            "colorbar": {
             "outlinewidth": 0,
             "ticks": ""
            },
            "colorscale": [
             [
              0,
              "#0d0887"
             ],
             [
              0.1111111111111111,
              "#46039f"
             ],
             [
              0.2222222222222222,
              "#7201a8"
             ],
             [
              0.3333333333333333,
              "#9c179e"
             ],
             [
              0.4444444444444444,
              "#bd3786"
             ],
             [
              0.5555555555555556,
              "#d8576b"
             ],
             [
              0.6666666666666666,
              "#ed7953"
             ],
             [
              0.7777777777777778,
              "#fb9f3a"
             ],
             [
              0.8888888888888888,
              "#fdca26"
             ],
             [
              1,
              "#f0f921"
             ]
            ],
            "type": "contour"
           }
          ],
          "contourcarpet": [
           {
            "colorbar": {
             "outlinewidth": 0,
             "ticks": ""
            },
            "type": "contourcarpet"
           }
          ],
          "heatmap": [
           {
            "colorbar": {
             "outlinewidth": 0,
             "ticks": ""
            },
            "colorscale": [
             [
              0,
              "#0d0887"
             ],
             [
              0.1111111111111111,
              "#46039f"
             ],
             [
              0.2222222222222222,
              "#7201a8"
             ],
             [
              0.3333333333333333,
              "#9c179e"
             ],
             [
              0.4444444444444444,
              "#bd3786"
             ],
             [
              0.5555555555555556,
              "#d8576b"
             ],
             [
              0.6666666666666666,
              "#ed7953"
             ],
             [
              0.7777777777777778,
              "#fb9f3a"
             ],
             [
              0.8888888888888888,
              "#fdca26"
             ],
             [
              1,
              "#f0f921"
             ]
            ],
            "type": "heatmap"
           }
          ],
          "heatmapgl": [
           {
            "colorbar": {
             "outlinewidth": 0,
             "ticks": ""
            },
            "colorscale": [
             [
              0,
              "#0d0887"
             ],
             [
              0.1111111111111111,
              "#46039f"
             ],
             [
              0.2222222222222222,
              "#7201a8"
             ],
             [
              0.3333333333333333,
              "#9c179e"
             ],
             [
              0.4444444444444444,
              "#bd3786"
             ],
             [
              0.5555555555555556,
              "#d8576b"
             ],
             [
              0.6666666666666666,
              "#ed7953"
             ],
             [
              0.7777777777777778,
              "#fb9f3a"
             ],
             [
              0.8888888888888888,
              "#fdca26"
             ],
             [
              1,
              "#f0f921"
             ]
            ],
            "type": "heatmapgl"
           }
          ],
          "histogram": [
           {
            "marker": {
             "pattern": {
              "fillmode": "overlay",
              "size": 10,
              "solidity": 0.2
             }
            },
            "type": "histogram"
           }
          ],
          "histogram2d": [
           {
            "colorbar": {
             "outlinewidth": 0,
             "ticks": ""
            },
            "colorscale": [
             [
              0,
              "#0d0887"
             ],
             [
              0.1111111111111111,
              "#46039f"
             ],
             [
              0.2222222222222222,
              "#7201a8"
             ],
             [
              0.3333333333333333,
              "#9c179e"
             ],
             [
              0.4444444444444444,
              "#bd3786"
             ],
             [
              0.5555555555555556,
              "#d8576b"
             ],
             [
              0.6666666666666666,
              "#ed7953"
             ],
             [
              0.7777777777777778,
              "#fb9f3a"
             ],
             [
              0.8888888888888888,
              "#fdca26"
             ],
             [
              1,
              "#f0f921"
             ]
            ],
            "type": "histogram2d"
           }
          ],
          "histogram2dcontour": [
           {
            "colorbar": {
             "outlinewidth": 0,
             "ticks": ""
            },
            "colorscale": [
             [
              0,
              "#0d0887"
             ],
             [
              0.1111111111111111,
              "#46039f"
             ],
             [
              0.2222222222222222,
              "#7201a8"
             ],
             [
              0.3333333333333333,
              "#9c179e"
             ],
             [
              0.4444444444444444,
              "#bd3786"
             ],
             [
              0.5555555555555556,
              "#d8576b"
             ],
             [
              0.6666666666666666,
              "#ed7953"
             ],
             [
              0.7777777777777778,
              "#fb9f3a"
             ],
             [
              0.8888888888888888,
              "#fdca26"
             ],
             [
              1,
              "#f0f921"
             ]
            ],
            "type": "histogram2dcontour"
           }
          ],
          "mesh3d": [
           {
            "colorbar": {
             "outlinewidth": 0,
             "ticks": ""
            },
            "type": "mesh3d"
           }
          ],
          "parcoords": [
           {
            "line": {
             "colorbar": {
              "outlinewidth": 0,
              "ticks": ""
             }
            },
            "type": "parcoords"
           }
          ],
          "pie": [
           {
            "automargin": true,
            "type": "pie"
           }
          ],
          "scatter": [
           {
            "marker": {
             "colorbar": {
              "outlinewidth": 0,
              "ticks": ""
             }
            },
            "type": "scatter"
           }
          ],
          "scatter3d": [
           {
            "line": {
             "colorbar": {
              "outlinewidth": 0,
              "ticks": ""
             }
            },
            "marker": {
             "colorbar": {
              "outlinewidth": 0,
              "ticks": ""
             }
            },
            "type": "scatter3d"
           }
          ],
          "scattercarpet": [
           {
            "marker": {
             "colorbar": {
              "outlinewidth": 0,
              "ticks": ""
             }
            },
            "type": "scattercarpet"
           }
          ],
          "scattergeo": [
           {
            "marker": {
             "colorbar": {
              "outlinewidth": 0,
              "ticks": ""
             }
            },
            "type": "scattergeo"
           }
          ],
          "scattergl": [
           {
            "marker": {
             "colorbar": {
              "outlinewidth": 0,
              "ticks": ""
             }
            },
            "type": "scattergl"
           }
          ],
          "scattermapbox": [
           {
            "marker": {
             "colorbar": {
              "outlinewidth": 0,
              "ticks": ""
             }
            },
            "type": "scattermapbox"
           }
          ],
          "scatterpolar": [
           {
            "marker": {
             "colorbar": {
              "outlinewidth": 0,
              "ticks": ""
             }
            },
            "type": "scatterpolar"
           }
          ],
          "scatterpolargl": [
           {
            "marker": {
             "colorbar": {
              "outlinewidth": 0,
              "ticks": ""
             }
            },
            "type": "scatterpolargl"
           }
          ],
          "scatterternary": [
           {
            "marker": {
             "colorbar": {
              "outlinewidth": 0,
              "ticks": ""
             }
            },
            "type": "scatterternary"
           }
          ],
          "surface": [
           {
            "colorbar": {
             "outlinewidth": 0,
             "ticks": ""
            },
            "colorscale": [
             [
              0,
              "#0d0887"
             ],
             [
              0.1111111111111111,
              "#46039f"
             ],
             [
              0.2222222222222222,
              "#7201a8"
             ],
             [
              0.3333333333333333,
              "#9c179e"
             ],
             [
              0.4444444444444444,
              "#bd3786"
             ],
             [
              0.5555555555555556,
              "#d8576b"
             ],
             [
              0.6666666666666666,
              "#ed7953"
             ],
             [
              0.7777777777777778,
              "#fb9f3a"
             ],
             [
              0.8888888888888888,
              "#fdca26"
             ],
             [
              1,
              "#f0f921"
             ]
            ],
            "type": "surface"
           }
          ],
          "table": [
           {
            "cells": {
             "fill": {
              "color": "#EBF0F8"
             },
             "line": {
              "color": "white"
             }
            },
            "header": {
             "fill": {
              "color": "#C8D4E3"
             },
             "line": {
              "color": "white"
             }
            },
            "type": "table"
           }
          ]
         },
         "layout": {
          "annotationdefaults": {
           "arrowcolor": "#2a3f5f",
           "arrowhead": 0,
           "arrowwidth": 1
          },
          "autotypenumbers": "strict",
          "coloraxis": {
           "colorbar": {
            "outlinewidth": 0,
            "ticks": ""
           }
          },
          "colorscale": {
           "diverging": [
            [
             0,
             "#8e0152"
            ],
            [
             0.1,
             "#c51b7d"
            ],
            [
             0.2,
             "#de77ae"
            ],
            [
             0.3,
             "#f1b6da"
            ],
            [
             0.4,
             "#fde0ef"
            ],
            [
             0.5,
             "#f7f7f7"
            ],
            [
             0.6,
             "#e6f5d0"
            ],
            [
             0.7,
             "#b8e186"
            ],
            [
             0.8,
             "#7fbc41"
            ],
            [
             0.9,
             "#4d9221"
            ],
            [
             1,
             "#276419"
            ]
           ],
           "sequential": [
            [
             0,
             "#0d0887"
            ],
            [
             0.1111111111111111,
             "#46039f"
            ],
            [
             0.2222222222222222,
             "#7201a8"
            ],
            [
             0.3333333333333333,
             "#9c179e"
            ],
            [
             0.4444444444444444,
             "#bd3786"
            ],
            [
             0.5555555555555556,
             "#d8576b"
            ],
            [
             0.6666666666666666,
             "#ed7953"
            ],
            [
             0.7777777777777778,
             "#fb9f3a"
            ],
            [
             0.8888888888888888,
             "#fdca26"
            ],
            [
             1,
             "#f0f921"
            ]
           ],
           "sequentialminus": [
            [
             0,
             "#0d0887"
            ],
            [
             0.1111111111111111,
             "#46039f"
            ],
            [
             0.2222222222222222,
             "#7201a8"
            ],
            [
             0.3333333333333333,
             "#9c179e"
            ],
            [
             0.4444444444444444,
             "#bd3786"
            ],
            [
             0.5555555555555556,
             "#d8576b"
            ],
            [
             0.6666666666666666,
             "#ed7953"
            ],
            [
             0.7777777777777778,
             "#fb9f3a"
            ],
            [
             0.8888888888888888,
             "#fdca26"
            ],
            [
             1,
             "#f0f921"
            ]
           ]
          },
          "colorway": [
           "#636efa",
           "#EF553B",
           "#00cc96",
           "#ab63fa",
           "#FFA15A",
           "#19d3f3",
           "#FF6692",
           "#B6E880",
           "#FF97FF",
           "#FECB52"
          ],
          "font": {
           "color": "#2a3f5f"
          },
          "geo": {
           "bgcolor": "white",
           "lakecolor": "white",
           "landcolor": "#E5ECF6",
           "showlakes": true,
           "showland": true,
           "subunitcolor": "white"
          },
          "hoverlabel": {
           "align": "left"
          },
          "hovermode": "closest",
          "mapbox": {
           "style": "light"
          },
          "paper_bgcolor": "white",
          "plot_bgcolor": "#E5ECF6",
          "polar": {
           "angularaxis": {
            "gridcolor": "white",
            "linecolor": "white",
            "ticks": ""
           },
           "bgcolor": "#E5ECF6",
           "radialaxis": {
            "gridcolor": "white",
            "linecolor": "white",
            "ticks": ""
           }
          },
          "scene": {
           "xaxis": {
            "backgroundcolor": "#E5ECF6",
            "gridcolor": "white",
            "gridwidth": 2,
            "linecolor": "white",
            "showbackground": true,
            "ticks": "",
            "zerolinecolor": "white"
           },
           "yaxis": {
            "backgroundcolor": "#E5ECF6",
            "gridcolor": "white",
            "gridwidth": 2,
            "linecolor": "white",
            "showbackground": true,
            "ticks": "",
            "zerolinecolor": "white"
           },
           "zaxis": {
            "backgroundcolor": "#E5ECF6",
            "gridcolor": "white",
            "gridwidth": 2,
            "linecolor": "white",
            "showbackground": true,
            "ticks": "",
            "zerolinecolor": "white"
           }
          },
          "shapedefaults": {
           "line": {
            "color": "#2a3f5f"
           }
          },
          "ternary": {
           "aaxis": {
            "gridcolor": "white",
            "linecolor": "white",
            "ticks": ""
           },
           "baxis": {
            "gridcolor": "white",
            "linecolor": "white",
            "ticks": ""
           },
           "bgcolor": "#E5ECF6",
           "caxis": {
            "gridcolor": "white",
            "linecolor": "white",
            "ticks": ""
           }
          },
          "title": {
           "x": 0.05
          },
          "xaxis": {
           "automargin": true,
           "gridcolor": "white",
           "linecolor": "white",
           "ticks": "",
           "title": {
            "standoff": 15
           },
           "zerolinecolor": "white",
           "zerolinewidth": 2
          },
          "yaxis": {
           "automargin": true,
           "gridcolor": "white",
           "linecolor": "white",
           "ticks": "",
           "title": {
            "standoff": 15
           },
           "zerolinecolor": "white",
           "zerolinewidth": 2
          }
         }
        },
        "xaxis": {
         "anchor": "y",
         "domain": [
          0,
          1
         ],
         "title": {
          "text": "outdoor_living_sqft"
         }
        },
        "yaxis": {
         "anchor": "x",
         "domain": [
          0,
          1
         ]
        }
       }
      },
      "text/html": [
       "<div>                            <div id=\"2d60b326-7529-4665-a427-8faf271369b2\" class=\"plotly-graph-div\" style=\"height:525px; width:100%;\"></div>            <script type=\"text/javascript\">                require([\"plotly\"], function(Plotly) {                    window.PLOTLYENV=window.PLOTLYENV || {};                                    if (document.getElementById(\"2d60b326-7529-4665-a427-8faf271369b2\")) {                    Plotly.newPlot(                        \"2d60b326-7529-4665-a427-8faf271369b2\",                        [{\"alignmentgroup\":\"True\",\"hovertemplate\":\"outdoor_living_sqft=%{x}<extra></extra>\",\"legendgroup\":\"\",\"marker\":{\"color\":\"#636efa\"},\"name\":\"\",\"notched\":false,\"offsetgroup\":\"\",\"orientation\":\"h\",\"showlegend\":false,\"type\":\"box\",\"x\":[61,298,42,307,276,390,312,667,295,4,0,168,316,193,389,160,0,0,102,0,394,205,330,210,496,56,254,50,546,136,226,65,30,38,250,145,456,0,52,0,138,104,240,145,0,278,409,146,102,0,75,112,106,929,50,407,115,70,229,196,50,144,169,87,612,343,301,173,0,135,300,0,385,0,202,221,0,0,0,202,324,199,243,74,192,209,138,234,156,0,29,0,44,99,162,295,187,120,77,352,236,238,0,36,184,185,0,0,144,122,182,180,472,478,224,32,164,144,367,24,260,140,130,63,192,53,205,0,296,260,171,72,0,217,276,98,111,0,330,375,0,184,0,173,0,40,48,192,0,314,0,102,66,409,228,136,0,75,136,539,0,400,70,0,183,140,618,298,148,638,237,272,476,20,192,68,420,0,60,184,0,40,296,518,104,670,195,140,120,344,74,32,35,40,0,87,575,568,228,196,196,321,126,149,35,542,30,355,269,0,96,122,276,224,36,0,237,232,269,108,384,166,417,216,353,0,338,0,0,163,120,348,0,365,336,0,237,678,396,140,312,100,77,28,130,236,172,30,212,98,263,276,183,333,250,192,272,233,341,45,252,148,304,0,0,276,170,286,25,400,243,81,189,289,168,218,250,0,364,405,280,120,234,360,52,54,128,0,0,259,51,184,160,250,110,120,289,208,224,36,0,258,549,256,302,168,395,144,158,383,253,0,271,0,234,151,483,254,544,281,394,338,297,240,240,244,152,45,328,137,155,0,0,222,138,670,229,266,153,234,135,274,0,567,182,0,0,40,27,0,264,264,48,106,108,26,146,626,462,657,192,0,177,250,417,346,261,174,98,563,140,59,443,66,148,0,0,373,113,163,242,337,197,91,447,310,151,296,145,330,242,317,0,0,39,44,215,168,0,168,374,0,168,267,40,198,0,160,254,102,0,264,144,130,383,130,0,0,0,269,0,240,0,66,44,126,476,0,159,169,0,98,276,36,88,219,0,105,34,46,242,0,0,160,277,0,0,89,0,176,113,254,266,30,0,0,96,361,255,248,150,256,236,0,0,164,176,168,44,214,194,276,28,313,144,216,179,498,252,72,631,255,0,125,132,200,0,404,142,0,165,32,0,0,244,638,630,100,64,297,172,108,184,215,260,0,263,102,116,312,534,167,0,278,112,210,104,220,36,145,544,40,60,614,299,182,417,192,144,200,224,84,0,0,135,233,275,216,466,180,338,56,151,160,124,0,182,104,190,364,255,0,208,96,382,116,390,167,286,163,95,278,144,252,40,202,183,0,389,42,0,168,322,100,35,260,50,468,102,0,326,90,32,607,174,392,112,0,108,0,45,656,0,140,0,375,158,136,0,161,239,288,270,172,228,231,168,103,0,103,395,0,282,30,120,120,175,0,368,168,100,281,192,32,295,385,36,189,335,176,293,229,192,390,320,110,0,0,492,312,325,235,380,208,325,352,27,287,340,0,0,120,120,296,282,0,0,112,192,0,365,593,240,180,459,312,265,266,304,67,135,147,240,287,426,28,90,436,404,0,80,56,307,302,81,219,249,60,140,220,149,432,347,112,112,125,129,0,560,314,348,0,424,384,179,0,428,230,124,0,0,166,288,288,44,0,191,224,620,0,376,160,0,156,391,96,518,132,25,135,389,182,276,165,147,341,0,116,120,243,382,168,175,402,334,204,278,567,450,277,160,48,195,244,219,24,249,335,0,320,0,0,214,308,246,174,450,401,153,749,120,0,144,0,360,247,203,241,0,0,241,124,33,333,425,197,196,45,0,301,116,120,310,298,189,254,138,0,222,264,702,0,54,414,0,60,68,312,0,196,265,140,0,275,303,34,120,209,0,227,45,144,148,335,140,233,116,329,711,166,192,166,231,152,0,290,346,0,278,0,254,216,129,0,612,0,498,0,701,213,140,163,126,180,730,104,34,36,0,287,240,0,0,0,140,0,272,168,264,246,0,77,346,28,26,572,0,184,192,0,49,204,382,188,0,162,326,386,512,162,0,243,192,627,0,50,28,154,67,0,0,0,75,204,0,164,60,322,164,60,0,173,232,0,234,0,0,0,488,241,387,70,123,69,515,180,204,43,353,0,118,0,191,228,0,32,41,48,90,374,40,168,321,0,351,292,86,252,240,0,194,421,192,494,0,0,150,0,39,44,117,832,48,424,40,72,70,0,0,0,0,27,28,120,644,203,0,116,0,80,220,250,116,0,0,48,394,263,224,50,70,169,281,35,264,120,319,371,148,166,0,114,248,0,156,210,147,238,328,138,108,0,261,256,130,45,181,63,164,162,316,159,192,176,246,96,143,236,0,28,228,199,264,136,0,186,228,234,0,0,0,40,233,313,594,0,322,0,0,0,22,20,52,194,259,189,228,266,102,19,170,20,57,286,58,340,40,645,748,0,212,0,0,252,233,0,457,272,140,64,271,220,231,116,359,120,216,210,40,84,0,48,470,64,240,22,251,211,0,0,0,0,16,192,0,218,244,100,148,310,308,69,0,18,0,0,120,0,314,392,134,164,224,200,125,0,163,180,148,49,475,28,48,155,138,128,96,176,296,342,0,544,269,24,0,0,191,0,176,0,214,240,280,96,417,201,188,234,24,69,26,324,0,120,348,114,193,38,90,437,203,288,54,122,0,33,362,116,294,226,0,368,249,229,526,236,74,306,212,200,439,206,84,304,415,124,117,330,356,82,0,234,208,308,88,154,42,215,0,372,739,337,113,88,222,0,0,247,0,201,0,63,0,30,175,224,118,240,296,0,324,18,0,0,192,243,27,148,0,153,63,56,120,445,0,527,45,0,259,80,0,184,33,267,306,120,298,96,212,260,103,0,120,126,212,34,264,220,326,0,268,0,180,163,323,0,410,0,211,194,72,148,288,128,430,45,26,366,271,251,227,185,287,287,0,356,335,44,506,218,0,224,387,267,40,506,167,64,36,163,369,362,500,698,36,280,214,241,348,0,330,0,279,164,49,100,286,0,1027,28,189,0,0,255,36,16,211,20,237,0,0,78,279,0,0,168,370,0,427,74,0,204,210,369,184,98,0,0,32,239,484,204,55,36,166,96,88,130,140,262,198,206,423,454,364,136,141,68,72,100,96,42,257,112,0,96,552,103,240,0,255,152,319,237,181,183,50,174,168,163,112,175,223,328,376,336,58,0,168,427,45,0,0,209,220,163,114,126,88,289,288,220,140,822,344,39,303,0,154,99,140,60,0,0,336,36,0,370,316,304,431,149,220,138,252,252,300,65,192,0,77,36,28,92,113,40,349,60,478,804],\"x0\":\" \",\"xaxis\":\"x\",\"y0\":\" \",\"yaxis\":\"y\"}],                        {\"boxmode\":\"group\",\"legend\":{\"tracegroupgap\":0},\"margin\":{\"t\":60},\"template\":{\"data\":{\"bar\":[{\"error_x\":{\"color\":\"#2a3f5f\"},\"error_y\":{\"color\":\"#2a3f5f\"},\"marker\":{\"line\":{\"color\":\"#E5ECF6\",\"width\":0.5},\"pattern\":{\"fillmode\":\"overlay\",\"size\":10,\"solidity\":0.2}},\"type\":\"bar\"}],\"barpolar\":[{\"marker\":{\"line\":{\"color\":\"#E5ECF6\",\"width\":0.5},\"pattern\":{\"fillmode\":\"overlay\",\"size\":10,\"solidity\":0.2}},\"type\":\"barpolar\"}],\"carpet\":[{\"aaxis\":{\"endlinecolor\":\"#2a3f5f\",\"gridcolor\":\"white\",\"linecolor\":\"white\",\"minorgridcolor\":\"white\",\"startlinecolor\":\"#2a3f5f\"},\"baxis\":{\"endlinecolor\":\"#2a3f5f\",\"gridcolor\":\"white\",\"linecolor\":\"white\",\"minorgridcolor\":\"white\",\"startlinecolor\":\"#2a3f5f\"},\"type\":\"carpet\"}],\"choropleth\":[{\"colorbar\":{\"outlinewidth\":0,\"ticks\":\"\"},\"type\":\"choropleth\"}],\"contour\":[{\"colorbar\":{\"outlinewidth\":0,\"ticks\":\"\"},\"colorscale\":[[0.0,\"#0d0887\"],[0.1111111111111111,\"#46039f\"],[0.2222222222222222,\"#7201a8\"],[0.3333333333333333,\"#9c179e\"],[0.4444444444444444,\"#bd3786\"],[0.5555555555555556,\"#d8576b\"],[0.6666666666666666,\"#ed7953\"],[0.7777777777777778,\"#fb9f3a\"],[0.8888888888888888,\"#fdca26\"],[1.0,\"#f0f921\"]],\"type\":\"contour\"}],\"contourcarpet\":[{\"colorbar\":{\"outlinewidth\":0,\"ticks\":\"\"},\"type\":\"contourcarpet\"}],\"heatmap\":[{\"colorbar\":{\"outlinewidth\":0,\"ticks\":\"\"},\"colorscale\":[[0.0,\"#0d0887\"],[0.1111111111111111,\"#46039f\"],[0.2222222222222222,\"#7201a8\"],[0.3333333333333333,\"#9c179e\"],[0.4444444444444444,\"#bd3786\"],[0.5555555555555556,\"#d8576b\"],[0.6666666666666666,\"#ed7953\"],[0.7777777777777778,\"#fb9f3a\"],[0.8888888888888888,\"#fdca26\"],[1.0,\"#f0f921\"]],\"type\":\"heatmap\"}],\"heatmapgl\":[{\"colorbar\":{\"outlinewidth\":0,\"ticks\":\"\"},\"colorscale\":[[0.0,\"#0d0887\"],[0.1111111111111111,\"#46039f\"],[0.2222222222222222,\"#7201a8\"],[0.3333333333333333,\"#9c179e\"],[0.4444444444444444,\"#bd3786\"],[0.5555555555555556,\"#d8576b\"],[0.6666666666666666,\"#ed7953\"],[0.7777777777777778,\"#fb9f3a\"],[0.8888888888888888,\"#fdca26\"],[1.0,\"#f0f921\"]],\"type\":\"heatmapgl\"}],\"histogram\":[{\"marker\":{\"pattern\":{\"fillmode\":\"overlay\",\"size\":10,\"solidity\":0.2}},\"type\":\"histogram\"}],\"histogram2d\":[{\"colorbar\":{\"outlinewidth\":0,\"ticks\":\"\"},\"colorscale\":[[0.0,\"#0d0887\"],[0.1111111111111111,\"#46039f\"],[0.2222222222222222,\"#7201a8\"],[0.3333333333333333,\"#9c179e\"],[0.4444444444444444,\"#bd3786\"],[0.5555555555555556,\"#d8576b\"],[0.6666666666666666,\"#ed7953\"],[0.7777777777777778,\"#fb9f3a\"],[0.8888888888888888,\"#fdca26\"],[1.0,\"#f0f921\"]],\"type\":\"histogram2d\"}],\"histogram2dcontour\":[{\"colorbar\":{\"outlinewidth\":0,\"ticks\":\"\"},\"colorscale\":[[0.0,\"#0d0887\"],[0.1111111111111111,\"#46039f\"],[0.2222222222222222,\"#7201a8\"],[0.3333333333333333,\"#9c179e\"],[0.4444444444444444,\"#bd3786\"],[0.5555555555555556,\"#d8576b\"],[0.6666666666666666,\"#ed7953\"],[0.7777777777777778,\"#fb9f3a\"],[0.8888888888888888,\"#fdca26\"],[1.0,\"#f0f921\"]],\"type\":\"histogram2dcontour\"}],\"mesh3d\":[{\"colorbar\":{\"outlinewidth\":0,\"ticks\":\"\"},\"type\":\"mesh3d\"}],\"parcoords\":[{\"line\":{\"colorbar\":{\"outlinewidth\":0,\"ticks\":\"\"}},\"type\":\"parcoords\"}],\"pie\":[{\"automargin\":true,\"type\":\"pie\"}],\"scatter\":[{\"marker\":{\"colorbar\":{\"outlinewidth\":0,\"ticks\":\"\"}},\"type\":\"scatter\"}],\"scatter3d\":[{\"line\":{\"colorbar\":{\"outlinewidth\":0,\"ticks\":\"\"}},\"marker\":{\"colorbar\":{\"outlinewidth\":0,\"ticks\":\"\"}},\"type\":\"scatter3d\"}],\"scattercarpet\":[{\"marker\":{\"colorbar\":{\"outlinewidth\":0,\"ticks\":\"\"}},\"type\":\"scattercarpet\"}],\"scattergeo\":[{\"marker\":{\"colorbar\":{\"outlinewidth\":0,\"ticks\":\"\"}},\"type\":\"scattergeo\"}],\"scattergl\":[{\"marker\":{\"colorbar\":{\"outlinewidth\":0,\"ticks\":\"\"}},\"type\":\"scattergl\"}],\"scattermapbox\":[{\"marker\":{\"colorbar\":{\"outlinewidth\":0,\"ticks\":\"\"}},\"type\":\"scattermapbox\"}],\"scatterpolar\":[{\"marker\":{\"colorbar\":{\"outlinewidth\":0,\"ticks\":\"\"}},\"type\":\"scatterpolar\"}],\"scatterpolargl\":[{\"marker\":{\"colorbar\":{\"outlinewidth\":0,\"ticks\":\"\"}},\"type\":\"scatterpolargl\"}],\"scatterternary\":[{\"marker\":{\"colorbar\":{\"outlinewidth\":0,\"ticks\":\"\"}},\"type\":\"scatterternary\"}],\"surface\":[{\"colorbar\":{\"outlinewidth\":0,\"ticks\":\"\"},\"colorscale\":[[0.0,\"#0d0887\"],[0.1111111111111111,\"#46039f\"],[0.2222222222222222,\"#7201a8\"],[0.3333333333333333,\"#9c179e\"],[0.4444444444444444,\"#bd3786\"],[0.5555555555555556,\"#d8576b\"],[0.6666666666666666,\"#ed7953\"],[0.7777777777777778,\"#fb9f3a\"],[0.8888888888888888,\"#fdca26\"],[1.0,\"#f0f921\"]],\"type\":\"surface\"}],\"table\":[{\"cells\":{\"fill\":{\"color\":\"#EBF0F8\"},\"line\":{\"color\":\"white\"}},\"header\":{\"fill\":{\"color\":\"#C8D4E3\"},\"line\":{\"color\":\"white\"}},\"type\":\"table\"}]},\"layout\":{\"annotationdefaults\":{\"arrowcolor\":\"#2a3f5f\",\"arrowhead\":0,\"arrowwidth\":1},\"autotypenumbers\":\"strict\",\"coloraxis\":{\"colorbar\":{\"outlinewidth\":0,\"ticks\":\"\"}},\"colorscale\":{\"diverging\":[[0,\"#8e0152\"],[0.1,\"#c51b7d\"],[0.2,\"#de77ae\"],[0.3,\"#f1b6da\"],[0.4,\"#fde0ef\"],[0.5,\"#f7f7f7\"],[0.6,\"#e6f5d0\"],[0.7,\"#b8e186\"],[0.8,\"#7fbc41\"],[0.9,\"#4d9221\"],[1,\"#276419\"]],\"sequential\":[[0.0,\"#0d0887\"],[0.1111111111111111,\"#46039f\"],[0.2222222222222222,\"#7201a8\"],[0.3333333333333333,\"#9c179e\"],[0.4444444444444444,\"#bd3786\"],[0.5555555555555556,\"#d8576b\"],[0.6666666666666666,\"#ed7953\"],[0.7777777777777778,\"#fb9f3a\"],[0.8888888888888888,\"#fdca26\"],[1.0,\"#f0f921\"]],\"sequentialminus\":[[0.0,\"#0d0887\"],[0.1111111111111111,\"#46039f\"],[0.2222222222222222,\"#7201a8\"],[0.3333333333333333,\"#9c179e\"],[0.4444444444444444,\"#bd3786\"],[0.5555555555555556,\"#d8576b\"],[0.6666666666666666,\"#ed7953\"],[0.7777777777777778,\"#fb9f3a\"],[0.8888888888888888,\"#fdca26\"],[1.0,\"#f0f921\"]]},\"colorway\":[\"#636efa\",\"#EF553B\",\"#00cc96\",\"#ab63fa\",\"#FFA15A\",\"#19d3f3\",\"#FF6692\",\"#B6E880\",\"#FF97FF\",\"#FECB52\"],\"font\":{\"color\":\"#2a3f5f\"},\"geo\":{\"bgcolor\":\"white\",\"lakecolor\":\"white\",\"landcolor\":\"#E5ECF6\",\"showlakes\":true,\"showland\":true,\"subunitcolor\":\"white\"},\"hoverlabel\":{\"align\":\"left\"},\"hovermode\":\"closest\",\"mapbox\":{\"style\":\"light\"},\"paper_bgcolor\":\"white\",\"plot_bgcolor\":\"#E5ECF6\",\"polar\":{\"angularaxis\":{\"gridcolor\":\"white\",\"linecolor\":\"white\",\"ticks\":\"\"},\"bgcolor\":\"#E5ECF6\",\"radialaxis\":{\"gridcolor\":\"white\",\"linecolor\":\"white\",\"ticks\":\"\"}},\"scene\":{\"xaxis\":{\"backgroundcolor\":\"#E5ECF6\",\"gridcolor\":\"white\",\"gridwidth\":2,\"linecolor\":\"white\",\"showbackground\":true,\"ticks\":\"\",\"zerolinecolor\":\"white\"},\"yaxis\":{\"backgroundcolor\":\"#E5ECF6\",\"gridcolor\":\"white\",\"gridwidth\":2,\"linecolor\":\"white\",\"showbackground\":true,\"ticks\":\"\",\"zerolinecolor\":\"white\"},\"zaxis\":{\"backgroundcolor\":\"#E5ECF6\",\"gridcolor\":\"white\",\"gridwidth\":2,\"linecolor\":\"white\",\"showbackground\":true,\"ticks\":\"\",\"zerolinecolor\":\"white\"}},\"shapedefaults\":{\"line\":{\"color\":\"#2a3f5f\"}},\"ternary\":{\"aaxis\":{\"gridcolor\":\"white\",\"linecolor\":\"white\",\"ticks\":\"\"},\"baxis\":{\"gridcolor\":\"white\",\"linecolor\":\"white\",\"ticks\":\"\"},\"bgcolor\":\"#E5ECF6\",\"caxis\":{\"gridcolor\":\"white\",\"linecolor\":\"white\",\"ticks\":\"\"}},\"title\":{\"x\":0.05},\"xaxis\":{\"automargin\":true,\"gridcolor\":\"white\",\"linecolor\":\"white\",\"ticks\":\"\",\"title\":{\"standoff\":15},\"zerolinecolor\":\"white\",\"zerolinewidth\":2},\"yaxis\":{\"automargin\":true,\"gridcolor\":\"white\",\"linecolor\":\"white\",\"ticks\":\"\",\"title\":{\"standoff\":15},\"zerolinecolor\":\"white\",\"zerolinewidth\":2}}},\"xaxis\":{\"anchor\":\"y\",\"domain\":[0.0,1.0],\"title\":{\"text\":\"outdoor_living_sqft\"}},\"yaxis\":{\"anchor\":\"x\",\"domain\":[0.0,1.0]}},                        {\"responsive\": true}                    ).then(function(){\n",
       "                            \n",
       "var gd = document.getElementById('2d60b326-7529-4665-a427-8faf271369b2');\n",
       "var x = new MutationObserver(function (mutations, observer) {{\n",
       "        var display = window.getComputedStyle(gd).display;\n",
       "        if (!display || display === 'none') {{\n",
       "            console.log([gd, 'removed!']);\n",
       "            Plotly.purge(gd);\n",
       "            observer.disconnect();\n",
       "        }}\n",
       "}});\n",
       "\n",
       "// Listen for the removal of the full notebook cells\n",
       "var notebookContainer = gd.closest('#notebook-container');\n",
       "if (notebookContainer) {{\n",
       "    x.observe(notebookContainer, {childList: true});\n",
       "}}\n",
       "\n",
       "// Listen for the clearing of the current output cell\n",
       "var outputEl = gd.closest('.output');\n",
       "if (outputEl) {{\n",
       "    x.observe(outputEl, {childList: true});\n",
       "}}\n",
       "\n",
       "                        })                };                });            </script>        </div>"
      ]
     },
     "metadata": {},
     "output_type": "display_data"
    }
   ],
   "source": [
    "# porch/deck \n",
    "df['outdoor_living_sqft'] = df['WoodDeckSF'] + df['OpenPorchSF'] + df['EnclosedPorch'] + df['3SsnPorch'] + df['ScreenPorch']\n",
    "\n",
    "outdoor_ref_features =  ['WoodDeckSF', 'OpenPorchSF', 'EnclosedPorch', '3SsnPorch', 'ScreenPorch']\n",
    "outdoor_features = ['outdoor_living_sqft']\n",
    "\n",
    "transfer_info[\"outdoorGroup\"] = {\n",
    "    \"newOutdoor\": outdoor_features,\n",
    "    \"referenceOutdoor\": outdoor_ref_features,\n",
    "}\n",
    "\n",
    "viz_data(outdoor_features)"
   ]
  },
  {
   "cell_type": "code",
   "execution_count": 146,
   "id": "8ed0e86f",
   "metadata": {
    "scrolled": true
   },
   "outputs": [],
   "source": [
    "# simplify dummies (\"NA\", \"None\")\n",
    "dummies_ref_features = ['Alley', 'MasVnrType', \"BsmtQual\", \"FireplaceQu\", \"GarageType\", \"PoolQC\", \"Fence\", \"MiscFeature\"]\n",
    "\n",
    "simple_dummies = []\n",
    "for dummies in dummies_ref_features:\n",
    "    new_name = \"{}_simple_dummy\".format(dummies)\n",
    "    df[new_name] = df[dummies].map(lambda x: 0 if x == \"Missing\" else 1)\n",
    "    simple_dummies.append(new_name)\n",
    "    \n",
    "transfer_info[\"missingGroup\"][\"newMissing\"] = simple_dummies"
   ]
  },
  {
   "cell_type": "code",
   "execution_count": 147,
   "id": "e0708f03",
   "metadata": {},
   "outputs": [],
   "source": [
    "def normalize(df, col):\n",
    "    \"\"\"\n",
    "    This function will normalize a give column.\n",
    "    \"\"\"\n",
    "    col_min = df[col].min()\n",
    "    col_max = df[col].max()\n",
    "    \n",
    "    new_col = []\n",
    "    for value in df[col]:\n",
    "        try:\n",
    "            new_value = (value - col_min)/(col_max - col_min)\n",
    "        except ZeroDivisionError:\n",
    "            new_value = 0\n",
    "            \n",
    "        new_col.append(new_value)\n",
    "            \n",
    "    return new_col"
   ]
  },
  {
   "cell_type": "code",
   "execution_count": 148,
   "id": "219c4ada",
   "metadata": {},
   "outputs": [],
   "source": [
    "def normalize_df(df):\n",
    "    \"\"\"\n",
    "    this function will convert some numeric features to strings then normalize the entire submitted dataframe.\n",
    "    \"\"\"\n",
    "    num_feat = list(df.select_dtypes(exclude='object'))\n",
    "\n",
    "    for feature in num_feat:\n",
    "        df[feature] = normalize(df, feature)\n",
    "\n",
    "    return df"
   ]
  },
  {
   "cell_type": "code",
   "execution_count": 149,
   "id": "d72b7dc9",
   "metadata": {},
   "outputs": [
    {
     "name": "stdout",
     "output_type": "stream",
     "text": [
      "(1198, 97)\n"
     ]
    },
    {
     "data": {
      "text/html": [
       "<div>\n",
       "<style scoped>\n",
       "    .dataframe tbody tr th:only-of-type {\n",
       "        vertical-align: middle;\n",
       "    }\n",
       "\n",
       "    .dataframe tbody tr th {\n",
       "        vertical-align: top;\n",
       "    }\n",
       "\n",
       "    .dataframe thead th {\n",
       "        text-align: right;\n",
       "    }\n",
       "</style>\n",
       "<table border=\"1\" class=\"dataframe\">\n",
       "  <thead>\n",
       "    <tr style=\"text-align: right;\">\n",
       "      <th></th>\n",
       "      <th>Id</th>\n",
       "      <th>MSSubClass</th>\n",
       "      <th>MSZoning</th>\n",
       "      <th>LotFrontage</th>\n",
       "      <th>LotArea</th>\n",
       "      <th>Street</th>\n",
       "      <th>Alley</th>\n",
       "      <th>LotShape</th>\n",
       "      <th>LandContour</th>\n",
       "      <th>Utilities</th>\n",
       "      <th>...</th>\n",
       "      <th>total_sqft</th>\n",
       "      <th>outdoor_living_sqft</th>\n",
       "      <th>Alley_simple_dummy</th>\n",
       "      <th>MasVnrType_simple_dummy</th>\n",
       "      <th>BsmtQual_simple_dummy</th>\n",
       "      <th>FireplaceQu_simple_dummy</th>\n",
       "      <th>GarageType_simple_dummy</th>\n",
       "      <th>PoolQC_simple_dummy</th>\n",
       "      <th>Fence_simple_dummy</th>\n",
       "      <th>MiscFeature_simple_dummy</th>\n",
       "    </tr>\n",
       "  </thead>\n",
       "  <tbody>\n",
       "    <tr>\n",
       "      <th>0</th>\n",
       "      <td>0.000000</td>\n",
       "      <td>2-STORY 1946 &amp; NEWER</td>\n",
       "      <td>RL</td>\n",
       "      <td>0.207668</td>\n",
       "      <td>0.033420</td>\n",
       "      <td>Pave</td>\n",
       "      <td>Missing</td>\n",
       "      <td>Reg</td>\n",
       "      <td>Lvl</td>\n",
       "      <td>AllPub</td>\n",
       "      <td>...</td>\n",
       "      <td>0.347339</td>\n",
       "      <td>0.059396</td>\n",
       "      <td>0.0</td>\n",
       "      <td>1.0</td>\n",
       "      <td>1.0</td>\n",
       "      <td>0.0</td>\n",
       "      <td>1.0</td>\n",
       "      <td>0.0</td>\n",
       "      <td>0.0</td>\n",
       "      <td>0.0</td>\n",
       "    </tr>\n",
       "    <tr>\n",
       "      <th>1</th>\n",
       "      <td>0.000685</td>\n",
       "      <td>1-STORY 1946 &amp; NEWER ALL STYLES</td>\n",
       "      <td>RL</td>\n",
       "      <td>0.255591</td>\n",
       "      <td>0.038795</td>\n",
       "      <td>Pave</td>\n",
       "      <td>Missing</td>\n",
       "      <td>Reg</td>\n",
       "      <td>Lvl</td>\n",
       "      <td>AllPub</td>\n",
       "      <td>...</td>\n",
       "      <td>0.340803</td>\n",
       "      <td>0.290166</td>\n",
       "      <td>0.0</td>\n",
       "      <td>0.0</td>\n",
       "      <td>1.0</td>\n",
       "      <td>1.0</td>\n",
       "      <td>1.0</td>\n",
       "      <td>0.0</td>\n",
       "      <td>0.0</td>\n",
       "      <td>0.0</td>\n",
       "    </tr>\n",
       "    <tr>\n",
       "      <th>2</th>\n",
       "      <td>0.001371</td>\n",
       "      <td>2-STORY 1946 &amp; NEWER</td>\n",
       "      <td>RL</td>\n",
       "      <td>0.217252</td>\n",
       "      <td>0.046507</td>\n",
       "      <td>Pave</td>\n",
       "      <td>Missing</td>\n",
       "      <td>IR1</td>\n",
       "      <td>Lvl</td>\n",
       "      <td>AllPub</td>\n",
       "      <td>...</td>\n",
       "      <td>0.369125</td>\n",
       "      <td>0.040896</td>\n",
       "      <td>0.0</td>\n",
       "      <td>1.0</td>\n",
       "      <td>1.0</td>\n",
       "      <td>1.0</td>\n",
       "      <td>1.0</td>\n",
       "      <td>0.0</td>\n",
       "      <td>0.0</td>\n",
       "      <td>0.0</td>\n",
       "    </tr>\n",
       "    <tr>\n",
       "      <th>4</th>\n",
       "      <td>0.002742</td>\n",
       "      <td>2-STORY 1946 &amp; NEWER</td>\n",
       "      <td>RL</td>\n",
       "      <td>0.268371</td>\n",
       "      <td>0.060576</td>\n",
       "      <td>Pave</td>\n",
       "      <td>Missing</td>\n",
       "      <td>IR1</td>\n",
       "      <td>Lvl</td>\n",
       "      <td>AllPub</td>\n",
       "      <td>...</td>\n",
       "      <td>0.468254</td>\n",
       "      <td>0.268744</td>\n",
       "      <td>0.0</td>\n",
       "      <td>1.0</td>\n",
       "      <td>1.0</td>\n",
       "      <td>1.0</td>\n",
       "      <td>1.0</td>\n",
       "      <td>0.0</td>\n",
       "      <td>0.0</td>\n",
       "      <td>0.0</td>\n",
       "    </tr>\n",
       "    <tr>\n",
       "      <th>5</th>\n",
       "      <td>0.003427</td>\n",
       "      <td>1-1/2 STORY FINISHED ALL AGES</td>\n",
       "      <td>RL</td>\n",
       "      <td>0.271565</td>\n",
       "      <td>0.059899</td>\n",
       "      <td>Pave</td>\n",
       "      <td>Missing</td>\n",
       "      <td>IR1</td>\n",
       "      <td>Lvl</td>\n",
       "      <td>AllPub</td>\n",
       "      <td>...</td>\n",
       "      <td>0.283847</td>\n",
       "      <td>0.379747</td>\n",
       "      <td>0.0</td>\n",
       "      <td>0.0</td>\n",
       "      <td>1.0</td>\n",
       "      <td>0.0</td>\n",
       "      <td>1.0</td>\n",
       "      <td>0.0</td>\n",
       "      <td>1.0</td>\n",
       "      <td>1.0</td>\n",
       "    </tr>\n",
       "  </tbody>\n",
       "</table>\n",
       "<p>5 rows × 97 columns</p>\n",
       "</div>"
      ],
      "text/plain": [
       "         Id                       MSSubClass MSZoning  LotFrontage   LotArea  \\\n",
       "0  0.000000             2-STORY 1946 & NEWER       RL     0.207668  0.033420   \n",
       "1  0.000685  1-STORY 1946 & NEWER ALL STYLES       RL     0.255591  0.038795   \n",
       "2  0.001371             2-STORY 1946 & NEWER       RL     0.217252  0.046507   \n",
       "4  0.002742             2-STORY 1946 & NEWER       RL     0.268371  0.060576   \n",
       "5  0.003427    1-1/2 STORY FINISHED ALL AGES       RL     0.271565  0.059899   \n",
       "\n",
       "  Street    Alley LotShape LandContour Utilities  ... total_sqft  \\\n",
       "0   Pave  Missing      Reg         Lvl    AllPub  ...   0.347339   \n",
       "1   Pave  Missing      Reg         Lvl    AllPub  ...   0.340803   \n",
       "2   Pave  Missing      IR1         Lvl    AllPub  ...   0.369125   \n",
       "4   Pave  Missing      IR1         Lvl    AllPub  ...   0.468254   \n",
       "5   Pave  Missing      IR1         Lvl    AllPub  ...   0.283847   \n",
       "\n",
       "  outdoor_living_sqft Alley_simple_dummy MasVnrType_simple_dummy  \\\n",
       "0            0.059396                0.0                     1.0   \n",
       "1            0.290166                0.0                     0.0   \n",
       "2            0.040896                0.0                     1.0   \n",
       "4            0.268744                0.0                     1.0   \n",
       "5            0.379747                0.0                     0.0   \n",
       "\n",
       "  BsmtQual_simple_dummy FireplaceQu_simple_dummy GarageType_simple_dummy  \\\n",
       "0                   1.0                      0.0                     1.0   \n",
       "1                   1.0                      1.0                     1.0   \n",
       "2                   1.0                      1.0                     1.0   \n",
       "4                   1.0                      1.0                     1.0   \n",
       "5                   1.0                      0.0                     1.0   \n",
       "\n",
       "   PoolQC_simple_dummy  Fence_simple_dummy  MiscFeature_simple_dummy  \n",
       "0                  0.0                 0.0                       0.0  \n",
       "1                  0.0                 0.0                       0.0  \n",
       "2                  0.0                 0.0                       0.0  \n",
       "4                  0.0                 0.0                       0.0  \n",
       "5                  0.0                 1.0                       1.0  \n",
       "\n",
       "[5 rows x 97 columns]"
      ]
     },
     "execution_count": 149,
     "metadata": {},
     "output_type": "execute_result"
    }
   ],
   "source": [
    "# Data Cleaning\n",
    "\n",
    "# filter to \"normal sales\"\n",
    "df = df[df[\"SaleCondition\"] == 'Normal']\n",
    "df.drop(columns=\"SaleCondition\", inplace=True)\n",
    "\n",
    "# filter to only Residential homes\n",
    "df = df[(df['MSZoning'] != 'A') |\n",
    "       (df['MSZoning'] != 'C') |\n",
    "       (df['MSZoning'] != 'FV') |\n",
    "       (df['MSZoning'] != 'I')]\n",
    "\n",
    "# convert to string so these features do not get normalized\n",
    "df['MoSold'] = df['MoSold'].astype(str)\n",
    "df['YrSold'] = df['YrSold'].astype(str)\n",
    "\n",
    "# normalize data\n",
    "df = normalize_df(df)\n",
    "\n",
    "print(df.shape)\n",
    "df.head()"
   ]
  },
  {
   "cell_type": "code",
   "execution_count": 150,
   "id": "cf0b6f60",
   "metadata": {},
   "outputs": [],
   "source": [
    "transfer_info[\"fullList\"] = list(df)"
   ]
  },
  {
   "cell_type": "code",
   "execution_count": 151,
   "id": "58e91492",
   "metadata": {},
   "outputs": [
    {
     "name": "stdout",
     "output_type": "stream",
     "text": [
      "{\n",
      "    \"fullList\": [\n",
      "        \"Id\",\n",
      "        \"MSSubClass\",\n",
      "        \"MSZoning\",\n",
      "        \"LotFrontage\",\n",
      "        \"LotArea\",\n",
      "        \"Street\",\n",
      "        \"Alley\",\n",
      "        \"LotShape\",\n",
      "        \"LandContour\",\n",
      "        \"Utilities\",\n",
      "        \"LotConfig\",\n",
      "        \"LandSlope\",\n",
      "        \"Neighborhood\",\n",
      "        \"Condition1\",\n",
      "        \"Condition2\",\n",
      "        \"BldgType\",\n",
      "        \"HouseStyle\",\n",
      "        \"OverallQual\",\n",
      "        \"OverallCond\",\n",
      "        \"YearBuilt\",\n",
      "        \"YearRemodAdd\",\n",
      "        \"RoofStyle\",\n",
      "        \"RoofMatl\",\n",
      "        \"Exterior1st\",\n",
      "        \"Exterior2nd\",\n",
      "        \"MasVnrType\",\n",
      "        \"MasVnrArea\",\n",
      "        \"ExterQual\",\n",
      "        \"ExterCond\",\n",
      "        \"Foundation\",\n",
      "        \"BsmtQual\",\n",
      "        \"BsmtCond\",\n",
      "        \"BsmtExposure\",\n",
      "        \"BsmtFinType1\",\n",
      "        \"BsmtFinSF1\",\n",
      "        \"BsmtFinType2\",\n",
      "        \"BsmtFinSF2\",\n",
      "        \"BsmtUnfSF\",\n",
      "        \"TotalBsmtSF\",\n",
      "        \"Heating\",\n",
      "        \"HeatingQC\",\n",
      "        \"CentralAir\",\n",
      "        \"Electrical\",\n",
      "        \"1stFlrSF\",\n",
      "        \"2ndFlrSF\",\n",
      "        \"LowQualFinSF\",\n",
      "        \"GrLivArea\",\n",
      "        \"BsmtFullBath\",\n",
      "        \"BsmtHalfBath\",\n",
      "        \"FullBath\",\n",
      "        \"HalfBath\",\n",
      "        \"BedroomAbvGr\",\n",
      "        \"KitchenAbvGr\",\n",
      "        \"KitchenQual\",\n",
      "        \"TotRmsAbvGrd\",\n",
      "        \"Functional\",\n",
      "        \"Fireplaces\",\n",
      "        \"FireplaceQu\",\n",
      "        \"GarageType\",\n",
      "        \"GarageYrBlt\",\n",
      "        \"GarageFinish\",\n",
      "        \"GarageCars\",\n",
      "        \"GarageArea\",\n",
      "        \"GarageQual\",\n",
      "        \"GarageCond\",\n",
      "        \"PavedDrive\",\n",
      "        \"WoodDeckSF\",\n",
      "        \"OpenPorchSF\",\n",
      "        \"EnclosedPorch\",\n",
      "        \"3SsnPorch\",\n",
      "        \"ScreenPorch\",\n",
      "        \"PoolArea\",\n",
      "        \"PoolQC\",\n",
      "        \"Fence\",\n",
      "        \"MiscFeature\",\n",
      "        \"MiscVal\",\n",
      "        \"MoSold\",\n",
      "        \"YrSold\",\n",
      "        \"SaleType\",\n",
      "        \"SalePrice\",\n",
      "        \"home_age_at_sale\",\n",
      "        \"remodel_age_at_sale\",\n",
      "        \"garage_age_at_sale\",\n",
      "        \"total_full_bathrooms\",\n",
      "        \"total_half_bathrooms\",\n",
      "        \"total_finished_basement_sqft\",\n",
      "        \"total_living_sqft\",\n",
      "        \"total_sqft\",\n",
      "        \"outdoor_living_sqft\",\n",
      "        \"Alley_simple_dummy\",\n",
      "        \"MasVnrType_simple_dummy\",\n",
      "        \"BsmtQual_simple_dummy\",\n",
      "        \"FireplaceQu_simple_dummy\",\n",
      "        \"GarageType_simple_dummy\",\n",
      "        \"PoolQC_simple_dummy\",\n",
      "        \"Fence_simple_dummy\",\n",
      "        \"MiscFeature_simple_dummy\"\n",
      "    ],\n",
      "    \"missingGroup\": {\n",
      "        \"referenceMissing\": [\n",
      "            \"Alley\",\n",
      "            \"MasVnrType\",\n",
      "            \"BsmtQual\",\n",
      "            \"BsmtCond\",\n",
      "            \"BsmtExposure\",\n",
      "            \"BsmtFinType1\",\n",
      "            \"BsmtFinType2\",\n",
      "            \"Electrical\",\n",
      "            \"FireplaceQu\",\n",
      "            \"GarageType\",\n",
      "            \"GarageFinish\",\n",
      "            \"GarageQual\",\n",
      "            \"GarageCond\",\n",
      "            \"PoolQC\",\n",
      "            \"Fence\",\n",
      "            \"MiscFeature\"\n",
      "        ],\n",
      "        \"newMissing\": [\n",
      "            \"Alley_simple_dummy\",\n",
      "            \"MasVnrType_simple_dummy\",\n",
      "            \"BsmtQual_simple_dummy\",\n",
      "            \"FireplaceQu_simple_dummy\",\n",
      "            \"GarageType_simple_dummy\",\n",
      "            \"PoolQC_simple_dummy\",\n",
      "            \"Fence_simple_dummy\",\n",
      "            \"MiscFeature_simple_dummy\"\n",
      "        ]\n",
      "    },\n",
      "    \"removables\": [\n",
      "        \"Street\",\n",
      "        \"Utilities\",\n",
      "        \"LandContour\",\n",
      "        \"LandSlope\",\n",
      "        \"Condition1\",\n",
      "        \"Condition2\",\n",
      "        \"RoofMatl\",\n",
      "        \"Heating\",\n",
      "        \"Functional\",\n",
      "        \"GarageQual\",\n",
      "        \"GarageCond\",\n",
      "        \"PoolQC\",\n",
      "        \"MiscFeature\",\n",
      "        \"OverallCond\",\n",
      "        \"MiscVal\",\n",
      "        \"GarageYrBlt\",\n",
      "        \"Exterior2nd\",\n",
      "        \"MSSubClass\"\n",
      "    ],\n",
      "    \"qualities\": [\n",
      "        \"OverallQual\",\n",
      "        \"ExterQual\",\n",
      "        \"BsmtFinType1\",\n",
      "        \"BsmtFinType2\",\n",
      "        \"KitchenQual\",\n",
      "        \"GarageQual\"\n",
      "    ],\n",
      "    \"condistions\": [\n",
      "        \"OverallCond\",\n",
      "        \"ExterCond\",\n",
      "        \"BsmtCond\",\n",
      "        \"GarageCond\",\n",
      "        \"PoolQC\"\n",
      "    ],\n",
      "    \"ageGroup\": {\n",
      "        \"newAge\": [\n",
      "            \"home_age_at_sale\",\n",
      "            \"remodel_age_at_sale\",\n",
      "            \"garage_age_at_sale\"\n",
      "        ],\n",
      "        \"referenceAge\": [\n",
      "            \"YearBuilt\",\n",
      "            \"YearRemodAdd\",\n",
      "            \"GarageYrBlt\"\n",
      "        ]\n",
      "    },\n",
      "    \"bathGroup\": {\n",
      "        \"newBaths\": [\n",
      "            \"total_full_bathrooms\",\n",
      "            \"total_half_bathrooms\"\n",
      "        ],\n",
      "        \"referenceBaths\": [\n",
      "            \"BsmtFullBath\",\n",
      "            \"FullBath\",\n",
      "            \"BsmtHalfBath\",\n",
      "            \"HalfBath\"\n",
      "        ]\n",
      "    },\n",
      "    \"sqftGroup\": {\n",
      "        \"newSQFT\": [\n",
      "            \"total_finished_basement_sqft\",\n",
      "            \"total_living_sqft\",\n",
      "            \"total_sqft\"\n",
      "        ],\n",
      "        \"referenceSQFT\": [\n",
      "            \"BsmtFullBath\",\n",
      "            \"FullBath\",\n",
      "            \"BsmtHalfBath\",\n",
      "            \"HalfBath\"\n",
      "        ]\n",
      "    },\n",
      "    \"outdoorGroup\": {\n",
      "        \"newOutdoor\": [\n",
      "            \"outdoor_living_sqft\"\n",
      "        ],\n",
      "        \"referenceOutdoor\": [\n",
      "            \"WoodDeckSF\",\n",
      "            \"OpenPorchSF\",\n",
      "            \"EnclosedPorch\",\n",
      "            \"3SsnPorch\",\n",
      "            \"ScreenPorch\"\n",
      "        ]\n",
      "    }\n",
      "}\n"
     ]
    }
   ],
   "source": [
    "# convert to JSON\n",
    "transfer_info_json = json.dumps(transfer_info, indent=4)\n",
    "print(transfer_info_json)"
   ]
  },
  {
   "cell_type": "code",
   "execution_count": 152,
   "id": "c6211a91",
   "metadata": {},
   "outputs": [],
   "source": [
    "# save json\n",
    "json_file = open(\"feature_lists_updated.json\", \"w\")\n",
    "json_file.write(transfer_info_json)\n",
    "json_file.close()"
   ]
  },
  {
   "cell_type": "code",
   "execution_count": 153,
   "id": "2a6590cf",
   "metadata": {},
   "outputs": [],
   "source": [
    "# export data for modeling\n",
    "df.to_csv(\"Housing_Prices_Modeling.csv\", index=False)"
   ]
  },
  {
   "cell_type": "code",
   "execution_count": null,
   "id": "5f0a3897",
   "metadata": {},
   "outputs": [],
   "source": []
  }
 ],
 "metadata": {
  "kernelspec": {
   "display_name": "conda_python3",
   "language": "python",
   "name": "conda_python3"
  },
  "language_info": {
   "codemirror_mode": {
    "name": "ipython",
    "version": 3
   },
   "file_extension": ".py",
   "mimetype": "text/x-python",
   "name": "python",
   "nbconvert_exporter": "python",
   "pygments_lexer": "ipython3",
   "version": "3.6.13"
  }
 },
 "nbformat": 4,
 "nbformat_minor": 5
}
